{
 "cells": [
  {
   "cell_type": "markdown",
   "id": "f4095ae4-7294-4b28-853e-88d235002c97",
   "metadata": {},
   "source": [
    "# Инициализация"
   ]
  },
  {
   "cell_type": "markdown",
   "id": "2f2318d2-9df8-4911-915e-15b725c44f8a",
   "metadata": {},
   "source": [
    "Загружаем библиотеки необходимые для выполнения кода ноутбука."
   ]
  },
  {
   "cell_type": "code",
   "execution_count": 1,
   "id": "662d04e7-1b0b-4e4a-9ddf-4526d7fef119",
   "metadata": {},
   "outputs": [],
   "source": [
    "from datetime import datetime\n",
    "import multiprocessing as mp\n",
    "import pandas as pd\n",
    "import numpy as np\n",
    "import scipy\n",
    "import sklearn.preprocessing\n",
    "import sklearn.metrics\n",
    "from implicit.als import AlternatingLeastSquares\n",
    "from catboost import CatBoostClassifier, Pool\n"
   ]
  },
  {
   "cell_type": "markdown",
   "source": [
    "s3 bucket: `s3-student-mle-20240325-3ac233b55a`"
   ],
   "metadata": {
    "collapsed": false
   }
  },
  {
   "cell_type": "markdown",
   "id": "bf80fbc5-b660-4fac-8fbb-a5cae77313b3",
   "metadata": {},
   "source": [
    "# === ЭТАП 1 ==="
   ]
  },
  {
   "cell_type": "markdown",
   "id": "5263a8b3-fe99-4204-8a2e-105182792c11",
   "metadata": {},
   "source": [
    "# Загрузка первичных данных"
   ]
  },
  {
   "cell_type": "markdown",
   "id": "1b54a6a5-1656-4e3c-99d1-49dc39451d33",
   "metadata": {},
   "source": [
    "Загружаем первичные данные из файлов:\n",
    "- tracks.parquet\n",
    "- catalog_names.parquet\n",
    "- interactions.parquet"
   ]
  },
  {
   "cell_type": "code",
   "execution_count": 2,
   "id": "5d4b8961-3f35-4e58-9d6b-3e2dbd2c4224",
   "metadata": {},
   "outputs": [],
   "source": [
    "tracks = pd.read_parquet('tracks.parquet')\n",
    "catalog_names = pd.read_parquet('catalog_names.parquet')\n",
    "interactions = pd.read_parquet('interactions.parquet')"
   ]
  },
  {
   "cell_type": "markdown",
   "source": [
    "# Обзор данных\n",
    "Проверяем данные, есть ли с ними явные проблемы."
   ],
   "metadata": {
    "collapsed": false
   }
  },
  {
   "cell_type": "code",
   "execution_count": 3,
   "id": "70f7bdfe-175c-45c1-a2e9-d99f0f33be2e",
   "metadata": {},
   "outputs": [
    {
     "data": {
      "text/plain": "        track_id                   albums    artists     genres\n72023     656472         [70753, 1834848]     [3968]       [35]\n434436  30109520                [3637418]  [3881178]   [2, 102]\n25769     168725  [16736, 16737, 1001793]    [64419]  [47, 158]\n236558  13918567                [1514126]   [352942]    [3, 75]\n381451  25695492                [3037711]   [426177]       [68]",
      "text/html": "<div>\n<style scoped>\n    .dataframe tbody tr th:only-of-type {\n        vertical-align: middle;\n    }\n\n    .dataframe tbody tr th {\n        vertical-align: top;\n    }\n\n    .dataframe thead th {\n        text-align: right;\n    }\n</style>\n<table border=\"1\" class=\"dataframe\">\n  <thead>\n    <tr style=\"text-align: right;\">\n      <th></th>\n      <th>track_id</th>\n      <th>albums</th>\n      <th>artists</th>\n      <th>genres</th>\n    </tr>\n  </thead>\n  <tbody>\n    <tr>\n      <th>72023</th>\n      <td>656472</td>\n      <td>[70753, 1834848]</td>\n      <td>[3968]</td>\n      <td>[35]</td>\n    </tr>\n    <tr>\n      <th>434436</th>\n      <td>30109520</td>\n      <td>[3637418]</td>\n      <td>[3881178]</td>\n      <td>[2, 102]</td>\n    </tr>\n    <tr>\n      <th>25769</th>\n      <td>168725</td>\n      <td>[16736, 16737, 1001793]</td>\n      <td>[64419]</td>\n      <td>[47, 158]</td>\n    </tr>\n    <tr>\n      <th>236558</th>\n      <td>13918567</td>\n      <td>[1514126]</td>\n      <td>[352942]</td>\n      <td>[3, 75]</td>\n    </tr>\n    <tr>\n      <th>381451</th>\n      <td>25695492</td>\n      <td>[3037711]</td>\n      <td>[426177]</td>\n      <td>[68]</td>\n    </tr>\n  </tbody>\n</table>\n</div>"
     },
     "metadata": {},
     "output_type": "display_data"
    },
    {
     "data": {
      "text/plain": "track_id     int64\nalbums      object\nartists     object\ngenres      object\ndtype: object"
     },
     "execution_count": 3,
     "metadata": {},
     "output_type": "execute_result"
    }
   ],
   "source": [
    "display(tracks.sample(5))\n",
    "tracks.dtypes"
   ]
  },
  {
   "cell_type": "code",
   "execution_count": 4,
   "outputs": [
    {
     "data": {
      "text/plain": "               id   type                         name\n548955   13082415  album        Кисло-Сладкий & Bonah\n494235   10886271  album           God of Sick Dreams\n489625   10700992  album  Yoga Fitness Music Playlist\n1609189  62242635  track                 Беспризорник\n1806913  97836149  track          Paradisus-Paradoxum",
      "text/html": "<div>\n<style scoped>\n    .dataframe tbody tr th:only-of-type {\n        vertical-align: middle;\n    }\n\n    .dataframe tbody tr th {\n        vertical-align: top;\n    }\n\n    .dataframe thead th {\n        text-align: right;\n    }\n</style>\n<table border=\"1\" class=\"dataframe\">\n  <thead>\n    <tr style=\"text-align: right;\">\n      <th></th>\n      <th>id</th>\n      <th>type</th>\n      <th>name</th>\n    </tr>\n  </thead>\n  <tbody>\n    <tr>\n      <th>548955</th>\n      <td>13082415</td>\n      <td>album</td>\n      <td>Кисло-Сладкий &amp; Bonah</td>\n    </tr>\n    <tr>\n      <th>494235</th>\n      <td>10886271</td>\n      <td>album</td>\n      <td>God of Sick Dreams</td>\n    </tr>\n    <tr>\n      <th>489625</th>\n      <td>10700992</td>\n      <td>album</td>\n      <td>Yoga Fitness Music Playlist</td>\n    </tr>\n    <tr>\n      <th>1609189</th>\n      <td>62242635</td>\n      <td>track</td>\n      <td>Беспризорник</td>\n    </tr>\n    <tr>\n      <th>1806913</th>\n      <td>97836149</td>\n      <td>track</td>\n      <td>Paradisus-Paradoxum</td>\n    </tr>\n  </tbody>\n</table>\n</div>"
     },
     "metadata": {},
     "output_type": "display_data"
    },
    {
     "data": {
      "text/plain": "id       int64\ntype    object\nname    object\ndtype: object"
     },
     "metadata": {},
     "output_type": "display_data"
    },
    {
     "data": {
      "text/plain": "type\ntrack     1000000\nalbum      658724\nartist     153581\ngenre         166\nName: count, dtype: int64"
     },
     "execution_count": 4,
     "metadata": {},
     "output_type": "execute_result"
    }
   ],
   "source": [
    "display(catalog_names.sample(5))\n",
    "display(catalog_names.dtypes)\n",
    "catalog_names.type.value_counts()"
   ],
   "metadata": {
    "collapsed": false
   }
  },
  {
   "cell_type": "code",
   "execution_count": 5,
   "outputs": [
    {
     "data": {
      "text/plain": "id         int64\ntype    category\nname      object\ndtype: object"
     },
     "execution_count": 5,
     "metadata": {},
     "output_type": "execute_result"
    }
   ],
   "source": [
    "catalog_names.type = catalog_names.type.astype('category')\n",
    "catalog_names.dtypes"
   ],
   "metadata": {
    "collapsed": false
   }
  },
  {
   "cell_type": "code",
   "execution_count": 6,
   "outputs": [
    {
     "data": {
      "text/plain": "      user_id  track_id  track_seq started_at\n22     882752    178624         23 2022-07-15\n82    1156452  83675201         83 2022-11-15\n14     331154     59673         15 2022-02-12\n5      547265    783272          6 2022-10-09\n4246   818232  43505841       4247 2022-11-07",
      "text/html": "<div>\n<style scoped>\n    .dataframe tbody tr th:only-of-type {\n        vertical-align: middle;\n    }\n\n    .dataframe tbody tr th {\n        vertical-align: top;\n    }\n\n    .dataframe thead th {\n        text-align: right;\n    }\n</style>\n<table border=\"1\" class=\"dataframe\">\n  <thead>\n    <tr style=\"text-align: right;\">\n      <th></th>\n      <th>user_id</th>\n      <th>track_id</th>\n      <th>track_seq</th>\n      <th>started_at</th>\n    </tr>\n  </thead>\n  <tbody>\n    <tr>\n      <th>22</th>\n      <td>882752</td>\n      <td>178624</td>\n      <td>23</td>\n      <td>2022-07-15</td>\n    </tr>\n    <tr>\n      <th>82</th>\n      <td>1156452</td>\n      <td>83675201</td>\n      <td>83</td>\n      <td>2022-11-15</td>\n    </tr>\n    <tr>\n      <th>14</th>\n      <td>331154</td>\n      <td>59673</td>\n      <td>15</td>\n      <td>2022-02-12</td>\n    </tr>\n    <tr>\n      <th>5</th>\n      <td>547265</td>\n      <td>783272</td>\n      <td>6</td>\n      <td>2022-10-09</td>\n    </tr>\n    <tr>\n      <th>4246</th>\n      <td>818232</td>\n      <td>43505841</td>\n      <td>4247</td>\n      <td>2022-11-07</td>\n    </tr>\n  </tbody>\n</table>\n</div>"
     },
     "metadata": {},
     "output_type": "display_data"
    },
    {
     "data": {
      "text/plain": "user_id                int32\ntrack_id               int32\ntrack_seq              int16\nstarted_at    datetime64[ns]\ndtype: object"
     },
     "execution_count": 6,
     "metadata": {},
     "output_type": "execute_result"
    }
   ],
   "source": [
    "display(interactions.sample(5))\n",
    "interactions.dtypes"
   ],
   "metadata": {
    "collapsed": false
   }
  },
  {
   "cell_type": "code",
   "execution_count": 7,
   "id": "c9f8f17e-9b56-4f5a-a463-f694a993effb",
   "metadata": {},
   "outputs": [
    {
     "data": {
      "text/plain": "1"
     },
     "execution_count": 7,
     "metadata": {},
     "output_type": "execute_result"
    }
   ],
   "source": [
    "# все трэки есть в catalog_names\n",
    "tracks.track_id.isin(catalog_names[catalog_names.type=='track'].id).nunique()"
   ]
  },
  {
   "cell_type": "markdown",
   "source": [
    "Есть ли треки с неизвестными исполнителями, альбомами, жанрами?"
   ],
   "metadata": {
    "collapsed": false
   }
  },
  {
   "cell_type": "code",
   "execution_count": 8,
   "id": "efd2e2eb-3bec-4ce1-87ac-232bab8bc0d0",
   "metadata": {},
   "outputs": [
    {
     "name": "stdout",
     "output_type": "stream",
     "text": [
      "CPU times: user 3.03 s, sys: 1.79 s, total: 4.82 s\n",
      "Wall time: 38.8 s\n"
     ]
    },
    {
     "data": {
      "text/plain": "albums_ok\nTrue     999982\nFalse        18\nName: count, dtype: int64"
     },
     "execution_count": 8,
     "metadata": {},
     "output_type": "execute_result"
    }
   ],
   "source": [
    "%%time\n",
    "albums = catalog_names[catalog_names.type=='album']\n",
    "albums_ids = np.array(albums.id.values.tolist())\n",
    "def check_albums(track_items):\n",
    "    return True in [item_id in albums_ids for item_id in track_items]\n",
    "with mp.Pool(mp.cpu_count()) as pool:\n",
    "    tracks['albums_ok'] = pool.map(check_albums, tracks.albums)\n",
    "tracks.albums_ok.value_counts()"
   ]
  },
  {
   "cell_type": "code",
   "execution_count": 9,
   "outputs": [
    {
     "name": "stdout",
     "output_type": "stream",
     "text": [
      "CPU times: user 1.9 s, sys: 1.6 s, total: 3.5 s\n",
      "Wall time: 4.2 s\n"
     ]
    },
    {
     "data": {
      "text/plain": "genres_ok\nTrue     996306\nFalse      3694\nName: count, dtype: int64"
     },
     "execution_count": 9,
     "metadata": {},
     "output_type": "execute_result"
    }
   ],
   "source": [
    "%%time\n",
    "genres = catalog_names[catalog_names.type=='genre']\n",
    "genres_ids = np.array(genres.id.values.tolist())\n",
    "def check_genres(track_items):\n",
    "    return True in [item_id in genres_ids for item_id in track_items]\n",
    "with mp.Pool(mp.cpu_count()) as pool:\n",
    "    tracks['genres_ok'] = pool.map(check_genres, tracks.genres)\n",
    "tracks.genres_ok.value_counts()"
   ],
   "metadata": {
    "collapsed": false
   }
  },
  {
   "cell_type": "code",
   "execution_count": 10,
   "outputs": [
    {
     "name": "stdout",
     "output_type": "stream",
     "text": [
      "CPU times: user 2.15 s, sys: 2.14 s, total: 4.29 s\n",
      "Wall time: 5.12 s\n"
     ]
    },
    {
     "data": {
      "text/plain": "artists_ok\nTrue     984631\nFalse     15369\nName: count, dtype: int64"
     },
     "execution_count": 10,
     "metadata": {},
     "output_type": "execute_result"
    }
   ],
   "source": [
    "%%time\n",
    "artists = catalog_names[catalog_names.type=='artist']\n",
    "artists_ids = np.array(artists.id.values.tolist())\n",
    "def check_artists(track_items):\n",
    "    return True in [item_id in artists_ids for item_id in track_items]\n",
    "with mp.Pool(mp.cpu_count()) as pool:\n",
    "    tracks['artists_ok'] = pool.map(check_artists, tracks.artists)\n",
    "tracks.artists_ok.value_counts()"
   ],
   "metadata": {
    "collapsed": false
   }
  },
  {
   "cell_type": "code",
   "execution_count": 11,
   "outputs": [
    {
     "name": "stdout",
     "output_type": "stream",
     "text": [
      "CPU times: user 4 s, sys: 635 ms, total: 4.63 s\n",
      "Wall time: 4.63 s\n"
     ]
    }
   ],
   "source": [
    "%%time\n",
    "# Удаление\n",
    "tracks = tracks.query(\"artists_ok==True and albums_ok==True and genres_ok==True\")\n",
    "interactions = interactions[interactions.track_id.isin(tracks.track_id)]"
   ],
   "metadata": {
    "collapsed": false
   }
  },
  {
   "cell_type": "markdown",
   "id": "318b573a-9e2d-4808-95db-60cfb8bbdb73",
   "metadata": {
    "editable": true,
    "slideshow": {
     "slide_type": ""
    },
    "tags": []
   },
   "source": [
    "# Выводы"
   ]
  },
  {
   "cell_type": "markdown",
   "id": "caa96e12-36a8-4401-8f11-98627a49ae9d",
   "metadata": {},
   "source": [
    "Приведём выводы по первому знакомству с данными:\n",
    "- есть ли с данными явные проблемы,\n",
    "- какие корректирующие действия (в целом) были предприняты."
   ]
  },
  {
   "cell_type": "markdown",
   "source": [
    "В catalog_names поле type было преобразовано в категорию;\n",
    "Найдено 18 трэков у которых ни один из альбомов не присутствует в catalog_names;\n",
    "Найдено 3694 трэка у которых ни один из жанров не присутствует в catalog_names;\n",
    "Найдено 15369 трэков у которых ни один из артистов не присутствует в catalog_names;\n",
    "\n",
    "Удалять их необязательно?"
   ],
   "metadata": {
    "collapsed": false
   }
  },
  {
   "cell_type": "markdown",
   "id": "7bc3296b-eba6-4333-a78d-b9304aa87e3d",
   "metadata": {},
   "source": [
    "# === ЭТАП 2 ==="
   ]
  },
  {
   "cell_type": "markdown",
   "id": "68e73960-fd38-4e15-8db0-9a25c35dfd25",
   "metadata": {},
   "source": [
    "# EDA"
   ]
  },
  {
   "cell_type": "markdown",
   "id": "a30e823e-8e0f-4a76-a02e-8d1ba8bf0f8a",
   "metadata": {},
   "source": [
    "Распределение количества прослушанных треков."
   ]
  },
  {
   "cell_type": "code",
   "execution_count": 12,
   "id": "9bf5eaba-35f7-4da7-be59-9ab4a34b2423",
   "metadata": {},
   "outputs": [
    {
     "data": {
      "text/plain": "array([[<Axes: title={'center': 'track_id'}>]], dtype=object)"
     },
     "execution_count": 12,
     "metadata": {},
     "output_type": "execute_result"
    },
    {
     "data": {
      "text/plain": "<Figure size 1500x400 with 1 Axes>",
      "image/png": "[encoded data removed]"
     },
     "metadata": {},
     "output_type": "display_data"
    }
   ],
   "source": [
    "interactions.hist(column='track_id', bins=1000, figsize=(15,4))"
   ]
  },
  {
   "cell_type": "code",
   "execution_count": 13,
   "outputs": [],
   "source": [
    "top100tracks = tracks[tracks.track_id.isin(interactions.track_id.value_counts()[:100].index)]"
   ],
   "metadata": {
    "collapsed": false
   }
  },
  {
   "cell_type": "markdown",
   "id": "d765519a-18dd-4d30-9e29-cc2d84cacd79",
   "metadata": {},
   "source": [
    "Наиболее популярные треки"
   ]
  },
  {
   "cell_type": "code",
   "execution_count": 14,
   "id": "aecaf630-fde0-4860-b84a-42c933a9606e",
   "metadata": {},
   "outputs": [
    {
     "name": "stderr",
     "output_type": "stream",
     "text": [
      "/tmp/ipykernel_404172/3775954581.py:6: SettingWithCopyWarning: \n",
      "A value is trying to be set on a copy of a slice from a DataFrame.\n",
      "Try using .loc[row_indexer,col_indexer] = value instead\n",
      "\n",
      "See the caveats in the documentation: https://pandas.pydata.org/pandas-docs/stable/user_guide/indexing.html#returning-a-view-versus-a-copy\n",
      "  top100tracks['artists_names'] = top100tracks.apply(lambda row: get_list(artists, row.artists), axis=1)\n",
      "/tmp/ipykernel_404172/3775954581.py:7: SettingWithCopyWarning: \n",
      "A value is trying to be set on a copy of a slice from a DataFrame.\n",
      "Try using .loc[row_indexer,col_indexer] = value instead\n",
      "\n",
      "See the caveats in the documentation: https://pandas.pydata.org/pandas-docs/stable/user_guide/indexing.html#returning-a-view-versus-a-copy\n",
      "  top100tracks['genres_names'] = top100tracks.apply(lambda row: get_list(genres, row.genres), axis=1)\n"
     ]
    },
    {
     "data": {
      "text/plain": "    track_id     artists_names                     name  \\\n0      10216         Scorpions           Wind Of Change   \n1      37384   The Cranberries                   Zombie   \n2      48951          Bon Jovi             It's My Life   \n3      52100          No Doubt              Don't Speak   \n4      53404           Nirvana  Smells Like Teen Spirit   \n..       ...               ...                      ...   \n95  78426489           Minelli                Rampampam   \n96  81848875   Galibri & Mavik         Федерико Феллини   \n97  83063895   HammAli & Navai                   Птичка   \n98  84382282  Markul, Джарахов              Я в моменте   \n99  93126179     Люся Чеботина            Солнце Монако   \n\n                  genres_names  \n0            hardrock, allrock  \n1                rock, allrock  \n2      rock, hardrock, allrock  \n3                          pop  \n4   alternative, rock, allrock  \n..                         ...  \n95                       dance  \n96                 pop, ruspop  \n97                 pop, ruspop  \n98                 rusrap, rap  \n99                 pop, ruspop  \n\n[100 rows x 4 columns]",
      "text/html": "<div>\n<style scoped>\n    .dataframe tbody tr th:only-of-type {\n        vertical-align: middle;\n    }\n\n    .dataframe tbody tr th {\n        vertical-align: top;\n    }\n\n    .dataframe thead th {\n        text-align: right;\n    }\n</style>\n<table border=\"1\" class=\"dataframe\">\n  <thead>\n    <tr style=\"text-align: right;\">\n      <th></th>\n      <th>track_id</th>\n      <th>artists_names</th>\n      <th>name</th>\n      <th>genres_names</th>\n    </tr>\n  </thead>\n  <tbody>\n    <tr>\n      <th>0</th>\n      <td>10216</td>\n      <td>Scorpions</td>\n      <td>Wind Of Change</td>\n      <td>hardrock, allrock</td>\n    </tr>\n    <tr>\n      <th>1</th>\n      <td>37384</td>\n      <td>The Cranberries</td>\n      <td>Zombie</td>\n      <td>rock, allrock</td>\n    </tr>\n    <tr>\n      <th>2</th>\n      <td>48951</td>\n      <td>Bon Jovi</td>\n      <td>It's My Life</td>\n      <td>rock, hardrock, allrock</td>\n    </tr>\n    <tr>\n      <th>3</th>\n      <td>52100</td>\n      <td>No Doubt</td>\n      <td>Don't Speak</td>\n      <td>pop</td>\n    </tr>\n    <tr>\n      <th>4</th>\n      <td>53404</td>\n      <td>Nirvana</td>\n      <td>Smells Like Teen Spirit</td>\n      <td>alternative, rock, allrock</td>\n    </tr>\n    <tr>\n      <th>...</th>\n      <td>...</td>\n      <td>...</td>\n      <td>...</td>\n      <td>...</td>\n    </tr>\n    <tr>\n      <th>95</th>\n      <td>78426489</td>\n      <td>Minelli</td>\n      <td>Rampampam</td>\n      <td>dance</td>\n    </tr>\n    <tr>\n      <th>96</th>\n      <td>81848875</td>\n      <td>Galibri &amp; Mavik</td>\n      <td>Федерико Феллини</td>\n      <td>pop, ruspop</td>\n    </tr>\n    <tr>\n      <th>97</th>\n      <td>83063895</td>\n      <td>HammAli &amp; Navai</td>\n      <td>Птичка</td>\n      <td>pop, ruspop</td>\n    </tr>\n    <tr>\n      <th>98</th>\n      <td>84382282</td>\n      <td>Markul, Джарахов</td>\n      <td>Я в моменте</td>\n      <td>rusrap, rap</td>\n    </tr>\n    <tr>\n      <th>99</th>\n      <td>93126179</td>\n      <td>Люся Чеботина</td>\n      <td>Солнце Монако</td>\n      <td>pop, ruspop</td>\n    </tr>\n  </tbody>\n</table>\n<p>100 rows × 4 columns</p>\n</div>"
     },
     "execution_count": 14,
     "metadata": {},
     "output_type": "execute_result"
    }
   ],
   "source": [
    "tracks_catalog = catalog_names[catalog_names.type=='track']\n",
    "top100tracks_catalog = tracks_catalog[tracks_catalog.id.isin(top100tracks.track_id)]\n",
    "top100tracks_catalog = top100tracks_catalog.rename({'id': 'track_id'}, axis=1)\n",
    "def get_list(df, ids):\n",
    "    return ', '.join(df[df.id.isin(ids)].name)\n",
    "top100tracks['artists_names'] = top100tracks.apply(lambda row: get_list(artists, row.artists), axis=1)\n",
    "top100tracks['genres_names'] = top100tracks.apply(lambda row: get_list(genres, row.genres), axis=1)\n",
    "top100tracks.merge(top100tracks_catalog, on='track_id')[['track_id', 'artists_names', 'name', 'genres_names']]"
   ]
  },
  {
   "cell_type": "markdown",
   "id": "b1c32a5a-d3be-4f96-8dd9-f7860951020c",
   "metadata": {},
   "source": [
    "Наиболее популярные жанры"
   ]
  },
  {
   "cell_type": "code",
   "execution_count": 15,
   "id": "1bc50491-9235-4d3c-a6c2-297f7c05a959",
   "metadata": {},
   "outputs": [],
   "source": [
    "# cм выше"
   ]
  },
  {
   "cell_type": "markdown",
   "id": "15254e66-e80e-473b-ba24-abebea5ccac7",
   "metadata": {},
   "source": [
    "Треки, которые никто не прослушал"
   ]
  },
  {
   "cell_type": "code",
   "execution_count": 16,
   "id": "50bc50c6-2d83-4c7e-97fa-3e7627978438",
   "metadata": {},
   "outputs": [
    {
     "data": {
      "text/plain": "Empty DataFrame\nColumns: [track_id, albums, artists, genres, albums_ok, genres_ok, artists_ok]\nIndex: []",
      "text/html": "<div>\n<style scoped>\n    .dataframe tbody tr th:only-of-type {\n        vertical-align: middle;\n    }\n\n    .dataframe tbody tr th {\n        vertical-align: top;\n    }\n\n    .dataframe thead th {\n        text-align: right;\n    }\n</style>\n<table border=\"1\" class=\"dataframe\">\n  <thead>\n    <tr style=\"text-align: right;\">\n      <th></th>\n      <th>track_id</th>\n      <th>albums</th>\n      <th>artists</th>\n      <th>genres</th>\n      <th>albums_ok</th>\n      <th>genres_ok</th>\n      <th>artists_ok</th>\n    </tr>\n  </thead>\n  <tbody>\n  </tbody>\n</table>\n</div>"
     },
     "execution_count": 16,
     "metadata": {},
     "output_type": "execute_result"
    }
   ],
   "source": [
    "tracks[~tracks.track_id.isin(interactions.track_id)]\n",
    "# таких нет"
   ]
  },
  {
   "cell_type": "code",
   "execution_count": 17,
   "outputs": [
    {
     "data": {
      "text/plain": "1"
     },
     "execution_count": 17,
     "metadata": {},
     "output_type": "execute_result"
    }
   ],
   "source": [
    "interactions.groupby(['user_id', 'track_id'])['track_seq'].count().nunique()"
   ],
   "metadata": {
    "collapsed": false
   }
  },
  {
   "cell_type": "markdown",
   "id": "0d850a07-ef1e-462f-891a-1cf89f2e24ef",
   "metadata": {},
   "source": [
    "# Преобразование данных"
   ]
  },
  {
   "cell_type": "markdown",
   "id": "fabcf8d2-1192-4df5-b20b-fbb84689f57a",
   "metadata": {},
   "source": [
    "Преобразуем данные в формат, более пригодный для дальнейшего использования в расчётах рекомендаций."
   ]
  },
  {
   "cell_type": "code",
   "execution_count": 18,
   "id": "a425556a-9382-45ca-a04e-f1981a522126",
   "metadata": {},
   "outputs": [],
   "source": [
    "tracks_catalog = tracks_catalog.rename({'id': 'track_id'}, axis=1)"
   ]
  },
  {
   "cell_type": "code",
   "execution_count": 19,
   "outputs": [
    {
     "data": {
      "text/plain": "         track_id                                             albums  \\\n0              26                                       [3, 2490753]   \n1              38                                       [3, 2490753]   \n2             135                                 [12, 214, 2490809]   \n3             136                                 [12, 214, 2490809]   \n4             138  [12, 214, 322, 72275, 72292, 91199, 213505, 24...   \n...           ...                                                ...   \n980965  101478482                                         [21399811]   \n980966  101490148                                         [21403052]   \n980967  101493057                                         [21403883]   \n980968  101495927                                         [21404975]   \n980969  101521819                                         [21414638]   \n\n           artists    genres  albums_ok  genres_ok  artists_ok   type  \\\n0             [16]  [11, 21]       True       True        True  track   \n1             [16]  [11, 21]       True       True        True  track   \n2             [84]      [11]       True       True        True  track   \n3             [84]      [11]       True       True        True  track   \n4             [84]      [11]       True       True        True  track   \n...            ...       ...        ...        ...         ...    ...   \n980965   [5540395]   [3, 75]       True       True        True  track   \n980966   [9078726]  [11, 20]       True       True        True  track   \n980967  [11865715]  [44, 75]       True       True        True  track   \n980968   [4462686]   [3, 75]       True       True        True  track   \n980969   [5056591]   [3, 75]       True       True        True  track   \n\n                                       name  \n0                          Complimentary Me  \n1                               Momma's Boy  \n2                                   Atticus  \n3                                  24 Hours  \n4       Don't Upset The Rhythm (Go Baby Go)  \n...                                     ...  \n980965                              На лицо  \n980966                      Без капли мысли  \n980967                             SKITTLES  \n980968                               Москва  \n980969                               Вокзал  \n\n[980970 rows x 9 columns]",
      "text/html": "<div>\n<style scoped>\n    .dataframe tbody tr th:only-of-type {\n        vertical-align: middle;\n    }\n\n    .dataframe tbody tr th {\n        vertical-align: top;\n    }\n\n    .dataframe thead th {\n        text-align: right;\n    }\n</style>\n<table border=\"1\" class=\"dataframe\">\n  <thead>\n    <tr style=\"text-align: right;\">\n      <th></th>\n      <th>track_id</th>\n      <th>albums</th>\n      <th>artists</th>\n      <th>genres</th>\n      <th>albums_ok</th>\n      <th>genres_ok</th>\n      <th>artists_ok</th>\n      <th>type</th>\n      <th>name</th>\n    </tr>\n  </thead>\n  <tbody>\n    <tr>\n      <th>0</th>\n      <td>26</td>\n      <td>[3, 2490753]</td>\n      <td>[16]</td>\n      <td>[11, 21]</td>\n      <td>True</td>\n      <td>True</td>\n      <td>True</td>\n      <td>track</td>\n      <td>Complimentary Me</td>\n    </tr>\n    <tr>\n      <th>1</th>\n      <td>38</td>\n      <td>[3, 2490753]</td>\n      <td>[16]</td>\n      <td>[11, 21]</td>\n      <td>True</td>\n      <td>True</td>\n      <td>True</td>\n      <td>track</td>\n      <td>Momma's Boy</td>\n    </tr>\n    <tr>\n      <th>2</th>\n      <td>135</td>\n      <td>[12, 214, 2490809]</td>\n      <td>[84]</td>\n      <td>[11]</td>\n      <td>True</td>\n      <td>True</td>\n      <td>True</td>\n      <td>track</td>\n      <td>Atticus</td>\n    </tr>\n    <tr>\n      <th>3</th>\n      <td>136</td>\n      <td>[12, 214, 2490809]</td>\n      <td>[84]</td>\n      <td>[11]</td>\n      <td>True</td>\n      <td>True</td>\n      <td>True</td>\n      <td>track</td>\n      <td>24 Hours</td>\n    </tr>\n    <tr>\n      <th>4</th>\n      <td>138</td>\n      <td>[12, 214, 322, 72275, 72292, 91199, 213505, 24...</td>\n      <td>[84]</td>\n      <td>[11]</td>\n      <td>True</td>\n      <td>True</td>\n      <td>True</td>\n      <td>track</td>\n      <td>Don't Upset The Rhythm (Go Baby Go)</td>\n    </tr>\n    <tr>\n      <th>...</th>\n      <td>...</td>\n      <td>...</td>\n      <td>...</td>\n      <td>...</td>\n      <td>...</td>\n      <td>...</td>\n      <td>...</td>\n      <td>...</td>\n      <td>...</td>\n    </tr>\n    <tr>\n      <th>980965</th>\n      <td>101478482</td>\n      <td>[21399811]</td>\n      <td>[5540395]</td>\n      <td>[3, 75]</td>\n      <td>True</td>\n      <td>True</td>\n      <td>True</td>\n      <td>track</td>\n      <td>На лицо</td>\n    </tr>\n    <tr>\n      <th>980966</th>\n      <td>101490148</td>\n      <td>[21403052]</td>\n      <td>[9078726]</td>\n      <td>[11, 20]</td>\n      <td>True</td>\n      <td>True</td>\n      <td>True</td>\n      <td>track</td>\n      <td>Без капли мысли</td>\n    </tr>\n    <tr>\n      <th>980967</th>\n      <td>101493057</td>\n      <td>[21403883]</td>\n      <td>[11865715]</td>\n      <td>[44, 75]</td>\n      <td>True</td>\n      <td>True</td>\n      <td>True</td>\n      <td>track</td>\n      <td>SKITTLES</td>\n    </tr>\n    <tr>\n      <th>980968</th>\n      <td>101495927</td>\n      <td>[21404975]</td>\n      <td>[4462686]</td>\n      <td>[3, 75]</td>\n      <td>True</td>\n      <td>True</td>\n      <td>True</td>\n      <td>track</td>\n      <td>Москва</td>\n    </tr>\n    <tr>\n      <th>980969</th>\n      <td>101521819</td>\n      <td>[21414638]</td>\n      <td>[5056591]</td>\n      <td>[3, 75]</td>\n      <td>True</td>\n      <td>True</td>\n      <td>True</td>\n      <td>track</td>\n      <td>Вокзал</td>\n    </tr>\n  </tbody>\n</table>\n<p>980970 rows × 9 columns</p>\n</div>"
     },
     "execution_count": 19,
     "metadata": {},
     "output_type": "execute_result"
    }
   ],
   "source": [
    "tracks.merge(tracks_catalog, on='track_id')"
   ],
   "metadata": {
    "collapsed": false
   }
  },
  {
   "cell_type": "code",
   "execution_count": 20,
   "outputs": [
    {
     "name": "stdout",
     "output_type": "stream",
     "text": [
      "CPU times: user 6.24 s, sys: 1.63 s, total: 7.86 s\n",
      "Wall time: 47.4 s\n"
     ]
    }
   ],
   "source": [
    "%%time\n",
    "# tracks['artists_names'] = tracks.apply(lambda row: get_list(artists, row.artists), axis=1)\n",
    "# tracks['genres_names'] = tracks.apply(lambda row: get_list(genres, row.genres), axis=1)\n",
    "def apply_artists(artists_id):\n",
    "    return  get_list(artists, artists_id)\n",
    "def apply_genres(genres_id):\n",
    "    return get_list(genres, genres_id)\n",
    "with mp.Pool(mp.cpu_count()) as pool:\n",
    "    tracks['artists_names'] = pool.map(apply_artists, tracks.artists)\n",
    "    tracks['genres_names'] = pool.map(apply_genres, tracks.genres)\n",
    "items = tracks.merge(tracks_catalog, on='track_id')"
   ],
   "metadata": {
    "collapsed": false
   }
  },
  {
   "cell_type": "code",
   "execution_count": 21,
   "outputs": [],
   "source": [
    "items = items.drop(['albums_ok', 'genres_ok', 'artists_ok', 'type'], axis=1)"
   ],
   "metadata": {
    "collapsed": false
   }
  },
  {
   "cell_type": "code",
   "execution_count": 22,
   "outputs": [
    {
     "data": {
      "text/plain": "        track_id              albums             artists    genres  \\\n807164  64440710           [7896506]           [6987644]   [3, 75]   \n463545  32423255           [3950994]           [3673697]      [11]   \n486410  33754070  [4130032, 4179021]            [798473]  [38, 47]   \n793775  63079152          [10005053]   [698658, 8089135]      [16]   \n587570  40826705           [5320162]  [3454418, 3606849]  [44, 75]   \n\n                 artists_names         genres_names            name  \n807164                  ВНЕМОЙ          rusrap, rap           4EVER  \n463545        Регина Тодоренко                  pop    Ты мне нужен  \n486410                 X Japan  classicmetal, metal    Forever Love  \n793775  Oğuzhan, Alican Sandık                dance            Stay  \n587570   Post Malone, Swae Lee      foreignrap, rap  Spoil My Night  ",
      "text/html": "<div>\n<style scoped>\n    .dataframe tbody tr th:only-of-type {\n        vertical-align: middle;\n    }\n\n    .dataframe tbody tr th {\n        vertical-align: top;\n    }\n\n    .dataframe thead th {\n        text-align: right;\n    }\n</style>\n<table border=\"1\" class=\"dataframe\">\n  <thead>\n    <tr style=\"text-align: right;\">\n      <th></th>\n      <th>track_id</th>\n      <th>albums</th>\n      <th>artists</th>\n      <th>genres</th>\n      <th>artists_names</th>\n      <th>genres_names</th>\n      <th>name</th>\n    </tr>\n  </thead>\n  <tbody>\n    <tr>\n      <th>807164</th>\n      <td>64440710</td>\n      <td>[7896506]</td>\n      <td>[6987644]</td>\n      <td>[3, 75]</td>\n      <td>ВНЕМОЙ</td>\n      <td>rusrap, rap</td>\n      <td>4EVER</td>\n    </tr>\n    <tr>\n      <th>463545</th>\n      <td>32423255</td>\n      <td>[3950994]</td>\n      <td>[3673697]</td>\n      <td>[11]</td>\n      <td>Регина Тодоренко</td>\n      <td>pop</td>\n      <td>Ты мне нужен</td>\n    </tr>\n    <tr>\n      <th>486410</th>\n      <td>33754070</td>\n      <td>[4130032, 4179021]</td>\n      <td>[798473]</td>\n      <td>[38, 47]</td>\n      <td>X Japan</td>\n      <td>classicmetal, metal</td>\n      <td>Forever Love</td>\n    </tr>\n    <tr>\n      <th>793775</th>\n      <td>63079152</td>\n      <td>[10005053]</td>\n      <td>[698658, 8089135]</td>\n      <td>[16]</td>\n      <td>Oğuzhan, Alican Sandık</td>\n      <td>dance</td>\n      <td>Stay</td>\n    </tr>\n    <tr>\n      <th>587570</th>\n      <td>40826705</td>\n      <td>[5320162]</td>\n      <td>[3454418, 3606849]</td>\n      <td>[44, 75]</td>\n      <td>Post Malone, Swae Lee</td>\n      <td>foreignrap, rap</td>\n      <td>Spoil My Night</td>\n    </tr>\n  </tbody>\n</table>\n</div>"
     },
     "execution_count": 22,
     "metadata": {},
     "output_type": "execute_result"
    }
   ],
   "source": [
    "items.sample(5)"
   ],
   "metadata": {
    "collapsed": false
   }
  },
  {
   "cell_type": "code",
   "execution_count": 23,
   "outputs": [
    {
     "name": "stdout",
     "output_type": "stream",
     "text": [
      "CPU times: user 2min, sys: 7.47 s, total: 2min 7s\n",
      "Wall time: 2min 7s\n"
     ]
    }
   ],
   "source": [
    "%%time\n",
    "interactions.started_at = interactions.started_at.apply(lambda ts: ts.date())"
   ],
   "metadata": {
    "collapsed": false
   }
  },
  {
   "cell_type": "markdown",
   "id": "4d1be653-eed8-4fa0-a9c5-3811b080d71d",
   "metadata": {},
   "source": [
    "# Сохранение данных"
   ]
  },
  {
   "cell_type": "markdown",
   "id": "36f1314a-3af3-4faf-a0b1-3045173d1500",
   "metadata": {},
   "source": [
    "Сохраним данные в двух файлах в персональном S3-бакете по пути `recsys/data/`:\n",
    "- `items.parquet` — все данные о музыкальных треках,\n",
    "- `events.parquet` — все данные о взаимодействиях."
   ]
  },
  {
   "cell_type": "code",
   "execution_count": 24,
   "id": "9f77af17-7705-4fae-9aad-db579b39faad",
   "metadata": {},
   "outputs": [],
   "source": [
    "genres.to_parquet('genres.parquet')\n",
    "artists.to_parquet('artists.parquet')\n",
    "albums.to_parquet('albums.parquet')\n",
    "events = interactions\n",
    "events.to_parquet('events.parquet')\n",
    "items.to_parquet('items.parquet')\n",
    "top100tracks.to_parquet('top100.parquet')"
   ]
  },
  {
   "cell_type": "markdown",
   "id": "72ecbbed-c560-44d9-9c14-86c7dc76f399",
   "metadata": {},
   "source": [
    "# Очистка памяти"
   ]
  },
  {
   "cell_type": "markdown",
   "id": "b5358ede-ba6e-4c4f-bd73-5b9344f0ba79",
   "metadata": {},
   "source": [
    "Здесь, может понадобится очистка памяти для высвобождения ресурсов для выполнения кода ниже. \n",
    "\n",
    "Приведите соответствующие код, комментарии, например:\n",
    "- код для удаление более ненужных переменных,\n",
    "- комментарий, что следует перезапустить kernel, выполнить такие-то начальные секции и продолжить с этапа 3."
   ]
  },
  {
   "cell_type": "markdown",
   "source": [
    "Если есть желание можно перезапустить ядро, затем раскомментировать и выполнить ячейку ниже"
   ],
   "metadata": {
    "collapsed": false
   }
  },
  {
   "cell_type": "markdown",
   "id": "708503df-ee89-4cf3-8489-093dc478e2a8",
   "metadata": {},
   "source": [
    "# === ЭТАП 3 ==="
   ]
  },
  {
   "cell_type": "markdown",
   "id": "fd77de22-e10f-4b42-85c1-8fb6f805fe68",
   "metadata": {},
   "source": [
    "# Загрузка данных"
   ]
  },
  {
   "cell_type": "markdown",
   "id": "780a4241-1ecd-4a3e-bbb3-fc2f6ca94f68",
   "metadata": {},
   "source": [
    "Если необходимо, то загружаем items.parquet, events.parquet."
   ]
  },
  {
   "cell_type": "code",
   "execution_count": 25,
   "id": "f19fc8a5-bd2c-40d7-864a-ee75aca6d512",
   "metadata": {},
   "outputs": [],
   "source": [
    "# from datetime import datetime\n",
    "# import multiprocessing as mp\n",
    "# import pandas as pd\n",
    "# import numpy as np\n",
    "# import scipy\n",
    "# import sklearn.preprocessing\n",
    "# import sklearn.metrics\n",
    "# from implicit.als import AlternatingLeastSquares\n",
    "# from catboost import CatBoostClassifier, Pool\n",
    "#\n",
    "# genres = pd.read_parquet('genres.parquet')\n",
    "# artists = pd.read_parquet('artists.parquet')\n",
    "# albums = pd.read_parquet('albums.parquet')\n",
    "# events = pd.read_parquet('events.parquet')\n",
    "# items = pd.read_parquet('items.parquet')"
   ]
  },
  {
   "cell_type": "markdown",
   "id": "a694c023-6477-490b-939d-1cfa6f5f1b72",
   "metadata": {},
   "source": [
    "# Разбиение данных"
   ]
  },
  {
   "cell_type": "markdown",
   "id": "fbd5f6e0-54e7-4428-8678-eabce505d82c",
   "metadata": {},
   "source": [
    "Разбиваем данные на тренировочную, тестовую выборки."
   ]
  },
  {
   "cell_type": "code",
   "execution_count": 26,
   "id": "00c2dfa5-d8a2-47d1-922e-6eefee2c62d1",
   "metadata": {},
   "outputs": [
    {
     "name": "stdout",
     "output_type": "stream",
     "text": [
      "1342107 782025 751365\n"
     ]
    }
   ],
   "source": [
    "train_test_global_time_split_date = pd.to_datetime('2022-12-16').date()  # this will not work with cudf\n",
    "train_test_global_time_split_idx = events[\"started_at\"] < train_test_global_time_split_date\n",
    "events_train = events[train_test_global_time_split_idx]\n",
    "events_test = events[~train_test_global_time_split_idx]\n",
    "\n",
    "# пользователи в train и test\n",
    "users_train = events_train[\"user_id\"].drop_duplicates()\n",
    "users_test = events_test[\"user_id\"].drop_duplicates()\n",
    "# пользователи, которые есть и в train и в test\n",
    "common_users = set(users_train) & set(users_test)  # this will not work with cudf\n",
    "print(len(users_train), len(users_test), len(common_users))"
   ]
  },
  {
   "cell_type": "code",
   "execution_count": 27,
   "id": "26fe3e3c-8c5f-4437-bf13-9191adef08bb",
   "metadata": {},
   "outputs": [
    {
     "name": "stdout",
     "output_type": "stream",
     "text": [
      "30660\n"
     ]
    }
   ],
   "source": [
    "cold_users = set(users_test) - common_users\n",
    "print(len(cold_users))"
   ]
  },
  {
   "cell_type": "markdown",
   "id": "9131c7e6-8852-4556-b510-51f7253cc299",
   "metadata": {},
   "source": [
    "# Топ популярных"
   ]
  },
  {
   "cell_type": "markdown",
   "id": "dd70d43a-88cc-4719-b291-feaed7136f30",
   "metadata": {},
   "source": [
    "Рассчитаем рекомендации как топ популярных."
   ]
  },
  {
   "cell_type": "code",
   "execution_count": 28,
   "id": "ee45e200-b7d6-4f56-9077-aad431689b96",
   "metadata": {},
   "outputs": [],
   "source": [
    "item_popularity = events_train.groupby([\"track_id\"]).agg(users=(\"user_id\", \"nunique\")).reset_index().sort_values(by='users', ascending=False)\n",
    "top_popular = item_popularity[:100]\n",
    "top_popular.to_parquet('top_popular.parquet')\n",
    "item_popularity.head(10)"
   ]
  },
  {
   "cell_type": "code",
   "execution_count": 29,
   "id": "7690c86f-7aa9-46ed-bba5-2c837626411e",
   "metadata": {},
   "outputs": [
    {
     "data": {
      "text/plain": "100"
     },
     "execution_count": 29,
     "metadata": {},
     "output_type": "execute_result"
    }
   ],
   "source": [
    "cold_users_events = events_test[events_test.user_id.isin(cold_users)]\n",
    "len(set(cold_users_events[cold_users_events.track_id.isin(top_popular.track_id)].track_id) & set(top_popular.track_id))"
   ]
  },
  {
   "cell_type": "markdown",
   "id": "2ad231f2-6158-421a-b7fa-01d8bc3ed572",
   "metadata": {},
   "source": [
    "# Персональные"
   ]
  },
  {
   "cell_type": "markdown",
   "id": "86159460-cd9d-4b63-8248-604ea3c9aebf",
   "metadata": {},
   "source": [
    "Рассчитаем персональные рекомендации."
   ]
  },
  {
   "cell_type": "code",
   "execution_count": 30,
   "id": "d2944822-569c-4f9b-82dc-70a7fa2d542e",
   "metadata": {},
   "outputs": [
    {
     "name": "stderr",
     "output_type": "stream",
     "text": [
      "<timed exec>:5: SettingWithCopyWarning: \n",
      "A value is trying to be set on a copy of a slice from a DataFrame.\n",
      "Try using .loc[row_indexer,col_indexer] = value instead\n",
      "\n",
      "See the caveats in the documentation: https://pandas.pydata.org/pandas-docs/stable/user_guide/indexing.html#returning-a-view-versus-a-copy\n",
      "<timed exec>:6: SettingWithCopyWarning: \n",
      "A value is trying to be set on a copy of a slice from a DataFrame.\n",
      "Try using .loc[row_indexer,col_indexer] = value instead\n",
      "\n",
      "See the caveats in the documentation: https://pandas.pydata.org/pandas-docs/stable/user_guide/indexing.html#returning-a-view-versus-a-copy\n",
      "<timed exec>:11: SettingWithCopyWarning: \n",
      "A value is trying to be set on a copy of a slice from a DataFrame.\n",
      "Try using .loc[row_indexer,col_indexer] = value instead\n",
      "\n",
      "See the caveats in the documentation: https://pandas.pydata.org/pandas-docs/stable/user_guide/indexing.html#returning-a-view-versus-a-copy\n"
     ]
    },
    {
     "name": "stdout",
     "output_type": "stream",
     "text": [
      "CPU times: user 1min 22s, sys: 742 ms, total: 1min 23s\n",
      "Wall time: 1min 23s\n"
     ]
    },
    {
     "name": "stderr",
     "output_type": "stream",
     "text": [
      "<timed exec>:12: SettingWithCopyWarning: \n",
      "A value is trying to be set on a copy of a slice from a DataFrame.\n",
      "Try using .loc[row_indexer,col_indexer] = value instead\n",
      "\n",
      "See the caveats in the documentation: https://pandas.pydata.org/pandas-docs/stable/user_guide/indexing.html#returning-a-view-versus-a-copy\n"
     ]
    }
   ],
   "source": [
    "%%time\n",
    "# перекодирование идентификаторов пользователей:\n",
    "user_encoder = sklearn.preprocessing.LabelEncoder()\n",
    "user_encoder.fit(events[\"user_id\"])\n",
    "events[\"user_id_enc\"] = user_encoder.transform(events[\"user_id\"])\n",
    "events_train[\"user_id_enc\"] = user_encoder.transform(events_train[\"user_id\"])\n",
    "events_test[\"user_id_enc\"] = user_encoder.transform(events_test[\"user_id\"])\n",
    "# перекодирование идентификаторов трэков:\n",
    "item_encoder = sklearn.preprocessing.LabelEncoder()\n",
    "item_encoder.fit(items[\"track_id\"])\n",
    "items[\"track_id_enc\"] = item_encoder.transform(items[\"track_id\"])\n",
    "events_train[\"track_id_enc\"] = item_encoder.transform(events_train[\"track_id\"])\n",
    "events_test[\"track_id_enc\"] =  item_encoder.transform(events_test[\"track_id\"])"
   ]
  },
  {
   "cell_type": "code",
   "execution_count": 31,
   "id": "1e8cdb58-3a8c-45ad-8e5f-7f950314aa56",
   "metadata": {},
   "outputs": [],
   "source": [
    "# создание разряжённой матрицы формата CSR\n",
    "user_item_matrix_train = scipy.sparse.csr_matrix((\n",
    "    [1] * len(events_train),\n",
    "    (events_train['user_id_enc'], events_train['track_id_enc'])),\n",
    "    dtype=np.int8)\n"
   ]
  },
  {
   "cell_type": "code",
   "execution_count": 32,
   "outputs": [
    {
     "data": {
      "text/plain": "  0%|          | 0/50 [00:00<?, ?it/s]",
      "application/vnd.jupyter.widget-view+json": {
       "version_major": 2,
       "version_minor": 0,
       "model_id": "0b8b67c078154ff8b2601b1c8997b649"
      }
     },
     "metadata": {},
     "output_type": "display_data"
    },
    {
     "name": "stdout",
     "output_type": "stream",
     "text": [
      "CPU times: user 28.8 s, sys: 386 ms, total: 29.2 s\n",
      "Wall time: 29.3 s\n"
     ]
    }
   ],
   "source": [
    "%%time\n",
    "als_model = AlternatingLeastSquares(factors=50, iterations=50, regularization=0.05, random_state=0)\n",
    "als_model.fit(user_item_matrix_train)"
   ],
   "metadata": {
    "collapsed": false
   }
  },
  {
   "cell_type": "code",
   "execution_count": 33,
   "outputs": [
    {
     "name": "stdout",
     "output_type": "stream",
     "text": [
      "История (последние события, recent)\n"
     ]
    },
    {
     "data": {
      "text/plain": "     track_id                   artists_names                   name  \\\n412  44305804                       The Score               The Fear   \n413  44317468                    Piotr Musiał        Frostpunk Theme   \n414  44317539                    Piotr Musiał  The City Must Survive   \n415  44790565  Jesse Scott, Shannon Jae Prior              The Usual   \n416  45087960                 Ibrahim Maalouf             True Sorry   \n417  45139110                       Manu Chao             Bongo Bong   \n418  45971728                 Cosmo Sheldrake             Come Along   \n419  46560190                The Tech Thieves                 Forget   \n420  46922327                  Our Last Night    Reality Without You   \n421  46922328                  Our Last Night                Sunrise   \n\n                  genres_names  started_at  \n412                alternative  2022-12-13  \n413      videogame, soundtrack  2022-12-13  \n414      videogame, soundtrack  2022-12-14  \n415                        pop  2022-12-14  \n416              jazz, conjazz  2022-12-14  \n417            folk, latinfolk  2022-12-14  \n418                      indie  2022-12-15  \n419                electronics  2022-12-15  \n420  alternative, posthardcore  2022-12-15  \n421  alternative, posthardcore  2022-12-15  ",
      "text/html": "<div>\n<style scoped>\n    .dataframe tbody tr th:only-of-type {\n        vertical-align: middle;\n    }\n\n    .dataframe tbody tr th {\n        vertical-align: top;\n    }\n\n    .dataframe thead th {\n        text-align: right;\n    }\n</style>\n<table border=\"1\" class=\"dataframe\">\n  <thead>\n    <tr style=\"text-align: right;\">\n      <th></th>\n      <th>track_id</th>\n      <th>artists_names</th>\n      <th>name</th>\n      <th>genres_names</th>\n      <th>started_at</th>\n    </tr>\n  </thead>\n  <tbody>\n    <tr>\n      <th>412</th>\n      <td>44305804</td>\n      <td>The Score</td>\n      <td>The Fear</td>\n      <td>alternative</td>\n      <td>2022-12-13</td>\n    </tr>\n    <tr>\n      <th>413</th>\n      <td>44317468</td>\n      <td>Piotr Musiał</td>\n      <td>Frostpunk Theme</td>\n      <td>videogame, soundtrack</td>\n      <td>2022-12-13</td>\n    </tr>\n    <tr>\n      <th>414</th>\n      <td>44317539</td>\n      <td>Piotr Musiał</td>\n      <td>The City Must Survive</td>\n      <td>videogame, soundtrack</td>\n      <td>2022-12-14</td>\n    </tr>\n    <tr>\n      <th>415</th>\n      <td>44790565</td>\n      <td>Jesse Scott, Shannon Jae Prior</td>\n      <td>The Usual</td>\n      <td>pop</td>\n      <td>2022-12-14</td>\n    </tr>\n    <tr>\n      <th>416</th>\n      <td>45087960</td>\n      <td>Ibrahim Maalouf</td>\n      <td>True Sorry</td>\n      <td>jazz, conjazz</td>\n      <td>2022-12-14</td>\n    </tr>\n    <tr>\n      <th>417</th>\n      <td>45139110</td>\n      <td>Manu Chao</td>\n      <td>Bongo Bong</td>\n      <td>folk, latinfolk</td>\n      <td>2022-12-14</td>\n    </tr>\n    <tr>\n      <th>418</th>\n      <td>45971728</td>\n      <td>Cosmo Sheldrake</td>\n      <td>Come Along</td>\n      <td>indie</td>\n      <td>2022-12-15</td>\n    </tr>\n    <tr>\n      <th>419</th>\n      <td>46560190</td>\n      <td>The Tech Thieves</td>\n      <td>Forget</td>\n      <td>electronics</td>\n      <td>2022-12-15</td>\n    </tr>\n    <tr>\n      <th>420</th>\n      <td>46922327</td>\n      <td>Our Last Night</td>\n      <td>Reality Without You</td>\n      <td>alternative, posthardcore</td>\n      <td>2022-12-15</td>\n    </tr>\n    <tr>\n      <th>421</th>\n      <td>46922328</td>\n      <td>Our Last Night</td>\n      <td>Sunrise</td>\n      <td>alternative, posthardcore</td>\n      <td>2022-12-15</td>\n    </tr>\n  </tbody>\n</table>\n</div>"
     },
     "metadata": {},
     "output_type": "display_data"
    },
    {
     "name": "stdout",
     "output_type": "stream",
     "text": [
      "Рекомендации\n"
     ]
    },
    {
     "data": {
      "text/plain": "   track_id_enc     score  track_id      artists_names  \\\n0         82891  0.453143    732401            Земфира   \n1         16819  0.439567    105324               КИНО   \n2        121218  0.433434   2192826       Мумий Тролль   \n3          8547  0.400062     48951           Bon Jovi   \n4         10735  0.396801     65765      Amy Macdonald   \n5        196529  0.378272   6705392  The White Stripes   \n6         18663  0.367459    109647               КИНО   \n7         26638  0.364384    178529        Linkin Park   \n8        138850  0.341636   2786721         Nickelback   \n9         39344  0.337803    328683        Evanescence   \n\n                     name                genres_names  \n0                  ИСКАЛА            rusrock, allrock  \n1  Звезда по имени Солнце            rusrock, allrock  \n2        Владивосток 2000            rusrock, allrock  \n3            It's My Life     rock, hardrock, allrock  \n4        This Is The Life                         pop  \n5       Seven Nation Army                 alternative  \n6            Хочу перемен            rusrock, allrock  \n7                    Numb              numetal, metal  \n8  When We Stand Together               rock, allrock  \n9        Bring Me To Life  alternative, rock, allrock  ",
      "text/html": "<div>\n<style scoped>\n    .dataframe tbody tr th:only-of-type {\n        vertical-align: middle;\n    }\n\n    .dataframe tbody tr th {\n        vertical-align: top;\n    }\n\n    .dataframe thead th {\n        text-align: right;\n    }\n</style>\n<table border=\"1\" class=\"dataframe\">\n  <thead>\n    <tr style=\"text-align: right;\">\n      <th></th>\n      <th>track_id_enc</th>\n      <th>score</th>\n      <th>track_id</th>\n      <th>artists_names</th>\n      <th>name</th>\n      <th>genres_names</th>\n    </tr>\n  </thead>\n  <tbody>\n    <tr>\n      <th>0</th>\n      <td>82891</td>\n      <td>0.453143</td>\n      <td>732401</td>\n      <td>Земфира</td>\n      <td>ИСКАЛА</td>\n      <td>rusrock, allrock</td>\n    </tr>\n    <tr>\n      <th>1</th>\n      <td>16819</td>\n      <td>0.439567</td>\n      <td>105324</td>\n      <td>КИНО</td>\n      <td>Звезда по имени Солнце</td>\n      <td>rusrock, allrock</td>\n    </tr>\n    <tr>\n      <th>2</th>\n      <td>121218</td>\n      <td>0.433434</td>\n      <td>2192826</td>\n      <td>Мумий Тролль</td>\n      <td>Владивосток 2000</td>\n      <td>rusrock, allrock</td>\n    </tr>\n    <tr>\n      <th>3</th>\n      <td>8547</td>\n      <td>0.400062</td>\n      <td>48951</td>\n      <td>Bon Jovi</td>\n      <td>It's My Life</td>\n      <td>rock, hardrock, allrock</td>\n    </tr>\n    <tr>\n      <th>4</th>\n      <td>10735</td>\n      <td>0.396801</td>\n      <td>65765</td>\n      <td>Amy Macdonald</td>\n      <td>This Is The Life</td>\n      <td>pop</td>\n    </tr>\n    <tr>\n      <th>5</th>\n      <td>196529</td>\n      <td>0.378272</td>\n      <td>6705392</td>\n      <td>The White Stripes</td>\n      <td>Seven Nation Army</td>\n      <td>alternative</td>\n    </tr>\n    <tr>\n      <th>6</th>\n      <td>18663</td>\n      <td>0.367459</td>\n      <td>109647</td>\n      <td>КИНО</td>\n      <td>Хочу перемен</td>\n      <td>rusrock, allrock</td>\n    </tr>\n    <tr>\n      <th>7</th>\n      <td>26638</td>\n      <td>0.364384</td>\n      <td>178529</td>\n      <td>Linkin Park</td>\n      <td>Numb</td>\n      <td>numetal, metal</td>\n    </tr>\n    <tr>\n      <th>8</th>\n      <td>138850</td>\n      <td>0.341636</td>\n      <td>2786721</td>\n      <td>Nickelback</td>\n      <td>When We Stand Together</td>\n      <td>rock, allrock</td>\n    </tr>\n    <tr>\n      <th>9</th>\n      <td>39344</td>\n      <td>0.337803</td>\n      <td>328683</td>\n      <td>Evanescence</td>\n      <td>Bring Me To Life</td>\n      <td>alternative, rock, allrock</td>\n    </tr>\n  </tbody>\n</table>\n</div>"
     },
     "metadata": {},
     "output_type": "display_data"
    }
   ],
   "source": [
    "def get_recommendations_als(user_item_matrix, model, user_id, user_encoder, item_encoder, include_seen=False, n=10):\n",
    "    \"\"\"\n",
    "    Возвращает отранжированные рекомендации для заданного пользователя\n",
    "    \"\"\"\n",
    "    user_id_enc = user_encoder.transform([user_id])[0]\n",
    "    recommendations = model.recommend(\n",
    "        user_id_enc,\n",
    "        user_item_matrix[user_id_enc],\n",
    "        filter_already_liked_items=not include_seen,\n",
    "        N=n)\n",
    "    recommendations = pd.DataFrame({\"track_id_enc\": recommendations[0], \"score\": recommendations[1]})\n",
    "    recommendations[\"track_id\"] = item_encoder.inverse_transform(recommendations[\"track_id_enc\"])\n",
    "\n",
    "    return recommendations\n",
    "\n",
    "user_id = events_train['user_id'].sample().iat[0]\n",
    "user_id_enc = user_encoder.transform([user_id])[0]\n",
    "print(\"История (последние события, recent)\")\n",
    "user_history = (\n",
    "    events_train\n",
    "    .query(\"user_id == @user_id\")\n",
    "    .merge(items.set_index(\"track_id\"), on=\"track_id\")\n",
    ")\n",
    "user_history_to_print = user_history[[\"track_id\", \"artists_names\", \"name\", \"genres_names\", \"started_at\"]].tail(10)\n",
    "display(user_history_to_print)\n",
    "\n",
    "print(\"Рекомендации\")\n",
    "user_recommendations = get_recommendations_als(user_item_matrix_train, als_model, user_id, user_encoder, item_encoder)\n",
    "user_recommendations = user_recommendations.merge(items[[\"track_id\", \"artists_names\", \"name\", \"genres_names\", ]], on=\"track_id\")\n",
    "display(user_recommendations)"
   ],
   "metadata": {
    "collapsed": false
   }
  },
  {
   "cell_type": "code",
   "execution_count": 34,
   "outputs": [
    {
     "name": "stdout",
     "output_type": "stream",
     "text": [
      "3.762998104095459\n",
      "CPU times: user 6min 36s, sys: 1min 34s, total: 8min 11s\n",
      "Wall time: 8min 11s\n"
     ]
    },
    {
     "data": {
      "text/plain": "           user_id   item_id     score\n79675909    815931  50685843  0.038956\n56087165    574399  65851540  0.170714\n19745770    202152  49961817  0.058948\n131419348  1345996  74611690  0.054312\n2576729      26396    340904  0.004396",
      "text/html": "<div>\n<style scoped>\n    .dataframe tbody tr th:only-of-type {\n        vertical-align: middle;\n    }\n\n    .dataframe tbody tr th {\n        vertical-align: top;\n    }\n\n    .dataframe thead th {\n        text-align: right;\n    }\n</style>\n<table border=\"1\" class=\"dataframe\">\n  <thead>\n    <tr style=\"text-align: right;\">\n      <th></th>\n      <th>user_id</th>\n      <th>item_id</th>\n      <th>score</th>\n    </tr>\n  </thead>\n  <tbody>\n    <tr>\n      <th>79675909</th>\n      <td>815931</td>\n      <td>50685843</td>\n      <td>0.038956</td>\n    </tr>\n    <tr>\n      <th>56087165</th>\n      <td>574399</td>\n      <td>65851540</td>\n      <td>0.170714</td>\n    </tr>\n    <tr>\n      <th>19745770</th>\n      <td>202152</td>\n      <td>49961817</td>\n      <td>0.058948</td>\n    </tr>\n    <tr>\n      <th>131419348</th>\n      <td>1345996</td>\n      <td>74611690</td>\n      <td>0.054312</td>\n    </tr>\n    <tr>\n      <th>2576729</th>\n      <td>26396</td>\n      <td>340904</td>\n      <td>0.004396</td>\n    </tr>\n  </tbody>\n</table>\n</div>"
     },
     "execution_count": 34,
     "metadata": {},
     "output_type": "execute_result"
    }
   ],
   "source": [
    "%%time\n",
    "# получаем список всех возможных user_id (перекодированных)\n",
    "user_ids_encoded = events_train['user_id_enc'].unique()  # range(len(user_encoder.classes_))\n",
    "\n",
    "# получаем рекомендации для всех пользователей\n",
    "als_recommendations = als_model.recommend(\n",
    "    user_ids_encoded,\n",
    "    user_item_matrix_train[user_ids_encoded],\n",
    "    filter_already_liked_items=False, N=100)\n",
    "\n",
    "\n",
    "# преобразуем полученные рекомендации в табличный формат\n",
    "item_ids_enc = als_recommendations[0]\n",
    "als_scores = als_recommendations[1]\n",
    "\n",
    "als_recommendations = pd.DataFrame({\n",
    "    \"user_id_enc\": user_ids_encoded,\n",
    "    \"item_id_enc\": item_ids_enc.tolist(),\n",
    "    \"score\": als_scores.tolist()})\n",
    "als_recommendations = als_recommendations.explode([\"item_id_enc\", \"score\"], ignore_index=True)\n",
    "\n",
    "# приводим типы данных\n",
    "als_recommendations[\"item_id_enc\"] = als_recommendations[\"item_id_enc\"].astype(\"int\")\n",
    "als_recommendations[\"score\"] = als_recommendations[\"score\"].astype(\"float\")\n",
    "\n",
    "# получаем изначальные идентификаторы\n",
    "als_recommendations[\"user_id\"] = user_encoder.inverse_transform(als_recommendations[\"user_id_enc\"])\n",
    "als_recommendations[\"item_id\"] = item_encoder.inverse_transform(als_recommendations[\"item_id_enc\"])\n",
    "als_recommendations = als_recommendations.drop(columns=[\"user_id_enc\", \"item_id_enc\"])\n",
    "\n",
    "als_recommendations = als_recommendations[[\"user_id\", \"item_id\", \"score\"]]\n",
    "als_recommendations.to_parquet(\"personal_als.parquet\")\n",
    "max_als_score = max(als_recommendations.score)\n",
    "print(max_als_score)\n",
    "als_recommendations.sample(5)"
   ],
   "metadata": {
    "collapsed": false
   }
  },
  {
   "cell_type": "markdown",
   "id": "5f09dc7e-7c91-4355-860a-b9cfb9f33f15",
   "metadata": {},
   "source": [
    "# Похожие"
   ]
  },
  {
   "cell_type": "markdown",
   "id": "1dfcb683-b440-40a8-9975-894156a53872",
   "metadata": {},
   "source": [
    "Рассчитаем похожие, они позже пригодятся для онлайн-рекомендаций."
   ]
  },
  {
   "cell_type": "code",
   "execution_count": 35,
   "id": "a75d07ee-4b12-4ce5-aa85-e45cb7a7a4f0",
   "metadata": {},
   "outputs": [
    {
     "name": "stdout",
     "output_type": "stream",
     "text": [
      "CPU times: user 22.8 s, sys: 774 ms, total: 23.6 s\n",
      "Wall time: 23.7 s\n"
     ]
    },
    {
     "data": {
      "text/plain": "            score  track_id_1  track_id_2\n4816045  0.980098    35445997    36800728\n1483126  0.804104    20858587    20432682\n7889859  0.765436      662816      629249\n3738937  0.999769    16320048    16320139\n5161757  0.954698    27071448     3652657",
      "text/html": "<div>\n<style scoped>\n    .dataframe tbody tr th:only-of-type {\n        vertical-align: middle;\n    }\n\n    .dataframe tbody tr th {\n        vertical-align: top;\n    }\n\n    .dataframe thead th {\n        text-align: right;\n    }\n</style>\n<table border=\"1\" class=\"dataframe\">\n  <thead>\n    <tr style=\"text-align: right;\">\n      <th></th>\n      <th>score</th>\n      <th>track_id_1</th>\n      <th>track_id_2</th>\n    </tr>\n  </thead>\n  <tbody>\n    <tr>\n      <th>4816045</th>\n      <td>0.980098</td>\n      <td>35445997</td>\n      <td>36800728</td>\n    </tr>\n    <tr>\n      <th>1483126</th>\n      <td>0.804104</td>\n      <td>20858587</td>\n      <td>20432682</td>\n    </tr>\n    <tr>\n      <th>7889859</th>\n      <td>0.765436</td>\n      <td>662816</td>\n      <td>629249</td>\n    </tr>\n    <tr>\n      <th>3738937</th>\n      <td>0.999769</td>\n      <td>16320048</td>\n      <td>16320139</td>\n    </tr>\n    <tr>\n      <th>5161757</th>\n      <td>0.954698</td>\n      <td>27071448</td>\n      <td>3652657</td>\n    </tr>\n  </tbody>\n</table>\n</div>"
     },
     "execution_count": 35,
     "metadata": {},
     "output_type": "execute_result"
    }
   ],
   "source": [
    "%%time\n",
    "# получим энкодированные идентификаторы всех объектов, известных нам из events_train\n",
    "train_track_ids_enc = events_train['track_id_enc'].unique()\n",
    "\n",
    "max_similar_items = 10\n",
    "\n",
    "# получаем списки похожих объектов, используя ранее полученную ALS-модель\n",
    "# метод similar_items возвращает и сам объект, как наиболее похожий\n",
    "# этот объект мы позже отфильтруем, но сейчас запросим на 1 больше\n",
    "similar_items = als_model.similar_items(train_track_ids_enc, N=max_similar_items+1)\n",
    "\n",
    "# преобразуем полученные списки в табличный формат\n",
    "sim_item_track_ids_enc = similar_items[0]\n",
    "sim_item_scores = similar_items[1]\n",
    "\n",
    "similar_items = pd.DataFrame({\n",
    "    \"track_id_enc\": train_track_ids_enc,\n",
    "    \"sim_track_id_enc\": sim_item_track_ids_enc.tolist(),\n",
    "    \"score\": sim_item_scores.tolist()})\n",
    "\n",
    "similar_items = similar_items.explode([\"sim_track_id_enc\", \"score\"], ignore_index=True)\n",
    "\n",
    "# приводим типы данных\n",
    "similar_items[\"sim_track_id_enc\"] = similar_items[\"sim_track_id_enc\"].astype(\"int\")\n",
    "similar_items[\"score\"] = similar_items[\"score\"].astype(\"float\")\n",
    "\n",
    "# получаем изначальные идентификаторы\n",
    "similar_items[\"track_id_1\"] = item_encoder.inverse_transform(similar_items[\"track_id_enc\"])\n",
    "similar_items[\"track_id_2\"] = item_encoder.inverse_transform(similar_items[\"sim_track_id_enc\"])\n",
    "similar_items = similar_items.drop(columns=[\"track_id_enc\", \"sim_track_id_enc\"])\n",
    "\n",
    "# убираем пары с одинаковыми объектами\n",
    "similar_items = similar_items.query(\"track_id_1 != track_id_2\")\n",
    "\n",
    "similar_items.to_parquet('similar.parquet')\n",
    "similar_items.sample(5)"
   ]
  },
  {
   "cell_type": "markdown",
   "id": "0087a3e7-ca9f-42cd-944c-944222c1baef",
   "metadata": {},
   "source": [
    "# Построение признаков"
   ]
  },
  {
   "cell_type": "markdown",
   "id": "e82a32e1-b90b-4eaf-9439-fc8deab9f34b",
   "metadata": {},
   "source": [
    "Построим три признака, можно больше, для ранжирующей модели."
   ]
  },
  {
   "cell_type": "code",
   "execution_count": 36,
   "outputs": [
    {
     "name": "stdout",
     "output_type": "stream",
     "text": [
      "CPU times: user 1min 12s, sys: 3.31 s, total: 1min 16s\n",
      "Wall time: 1min 16s\n"
     ]
    }
   ],
   "source": [
    "%%time\n",
    "def get_user_features(events):\n",
    "    user_features = events.groupby('user_id').agg(\n",
    "        tracks_total=('track_id', 'nunique'),\n",
    "        hearing_days=('started_at', lambda x: (x.max() - x.min()).days),\n",
    "    )\n",
    "    user_features['tracks_per_day'] = user_features['tracks_total'] / user_features['hearing_days']\n",
    "    return user_features\n",
    "\n",
    "user_features_for_train = get_user_features(events_train)"
   ],
   "metadata": {
    "collapsed": false
   }
  },
  {
   "cell_type": "code",
   "execution_count": 37,
   "outputs": [],
   "source": [
    "events = events.rename(columns={'track_id': 'item_id'})\n",
    "events_train = events_train.rename(columns={'track_id': 'item_id'})\n",
    "events_test = events_test.rename(columns={'track_id': 'item_id'})"
   ],
   "metadata": {
    "collapsed": false
   }
  },
  {
   "cell_type": "code",
   "execution_count": 38,
   "outputs": [
    {
     "name": "stdout",
     "output_type": "stream",
     "text": [
      "CPU times: user 36.4 s, sys: 2.14 s, total: 38.5 s\n",
      "Wall time: 38.6 s\n"
     ]
    }
   ],
   "source": [
    "%%time\n",
    "def get_item_features(events):\n",
    "    items_features = events.groupby('item_id').agg(\n",
    "        nusers=('user_id', 'nunique'),\n",
    "    )\n",
    "    return items_features\n",
    "\n",
    "item_features_for_train = get_item_features(events_train)\n"
   ],
   "metadata": {
    "collapsed": false
   }
  },
  {
   "cell_type": "code",
   "execution_count": 39,
   "outputs": [],
   "source": [
    "# genre_names_to_id = genres.reset_index().set_index(\"name\")[\"id\"].to_dict()\n",
    "# genre_names_to_id"
   ],
   "metadata": {
    "collapsed": false
   }
  },
  {
   "cell_type": "markdown",
   "id": "47bcf88d-b236-46f0-a6f3-38ddd64895fe",
   "metadata": {},
   "source": [
    "# Ранжирование рекомендаций"
   ]
  },
  {
   "cell_type": "markdown",
   "id": "e8cd8223-3418-4493-8c87-1f76286ebda0",
   "metadata": {},
   "source": [
    "Построим ранжирующую модель, чтобы сделать рекомендации более точными. Отранжируем рекомендации."
   ]
  },
  {
   "cell_type": "code",
   "execution_count": 40,
   "id": "79f1dd92-32a9-463d-827e-8bb9ee5bbb54",
   "metadata": {},
   "outputs": [
    {
     "data": {
      "text/plain": "user_id         697473\nitem_id         502028\ntrack_seq        12850\nstarted_at           8\nuser_id_enc     697473\ntrack_id_enc    502028\ndtype: int64"
     },
     "execution_count": 40,
     "metadata": {},
     "output_type": "execute_result"
    }
   ],
   "source": [
    "split_date_for_labels = pd.to_datetime('2022-12-24').date()\n",
    "split_date_for_labels_idx = events_test[\"started_at\"] < split_date_for_labels\n",
    "events_labels = events_test[split_date_for_labels_idx].copy()\n",
    "events_test_2 = events_test[~split_date_for_labels_idx].copy()\n",
    "events_labels.nunique()"
   ]
  },
  {
   "cell_type": "code",
   "execution_count": 41,
   "id": "6dbe4db4-1ac5-44da-a13c-8e7f9768ab73",
   "metadata": {},
   "outputs": [],
   "source": [
    "candidates = als_recommendations[[\"user_id\", \"item_id\", \"score\"]]\n"
   ]
  },
  {
   "cell_type": "code",
   "execution_count": 42,
   "outputs": [
    {
     "name": "stdout",
     "output_type": "stream",
     "text": [
      "CPU times: user 1min 22s, sys: 6.23 s, total: 1min 29s\n",
      "Wall time: 1min 28s\n"
     ]
    },
    {
     "name": "stderr",
     "output_type": "stream",
     "text": [
      "<timed exec>:21: DeprecationWarning: DataFrameGroupBy.apply operated on the grouping columns. This behavior is deprecated, and in a future version of pandas the grouping columns will be excluded from the operation. Either pass `include_groups=False` to exclude the groupings or explicitly select the grouping columns after groupby to silence this warning.\n"
     ]
    },
    {
     "data": {
      "text/plain": "(1167565, 4)"
     },
     "execution_count": 42,
     "metadata": {},
     "output_type": "execute_result"
    }
   ],
   "source": [
    "%%time\n",
    "# добавляем таргет к кандидатам со значением:\n",
    "# — 1 для тех item_id, которые пользователь прочитал\n",
    "# — 0, для всех остальных\n",
    "\n",
    "events_labels[\"target\"] = 1\n",
    "\n",
    "candidates = candidates.merge(events_labels[[\"user_id\", \"item_id\", \"target\"]],\n",
    "                              on=[\"user_id\", \"item_id\"], how='left')\n",
    "\n",
    "candidates[\"target\"] = candidates[\"target\"].fillna(0).astype(\"int\")\n",
    "#\n",
    "# в кандидатах оставляем только тех пользователей, у которых есть хотя бы один положительный таргет\n",
    "candidates_to_sample = candidates.groupby(\"user_id\").filter(lambda x: x[\"target\"].sum() > 0)\n",
    "#\n",
    "# для каждого пользователя оставляем только 4 негативных примера\n",
    "negatives_per_user = 4\n",
    "candidates_for_train = pd.concat([\n",
    "    candidates[candidates.target==1],\n",
    "    candidates_to_sample.query(\"target == 0\") \\\n",
    "        .groupby(\"user_id\") \\\n",
    "        .apply(lambda x: x.sample(negatives_per_user, random_state=0))\n",
    "])\n",
    "candidates_for_train.shape"
   ],
   "metadata": {
    "collapsed": false
   }
  },
  {
   "cell_type": "code",
   "execution_count": 43,
   "outputs": [],
   "source": [
    "candidates_for_train = candidates_for_train.merge(user_features_for_train, on=\"user_id\", how=\"left\")\n",
    "candidates_for_train = candidates_for_train.merge(item_features_for_train, on=\"item_id\", how=\"left\")"
   ],
   "metadata": {
    "collapsed": false
   }
  },
  {
   "cell_type": "code",
   "execution_count": 44,
   "outputs": [
    {
     "data": {
      "text/plain": "        user_id   item_id     score  target  tracks_total  hearing_days  \\\n749685   633851  21709010  0.055507       0            15            89   \n249563   875138  34726523  0.041310       1            28             6   \n852834   816871  48592062  0.133691       0           190           229   \n686333   521309  19326805  0.097350       0            74            15   \n208326   728613  83063895  0.062785       1            24           157   \n\n        tracks_per_day  nusers  \n749685        0.168539   22939  \n249563        4.666667   25446  \n852834        0.829694   24241  \n686333        4.933333   22572  \n208326        0.152866   52469  ",
      "text/html": "<div>\n<style scoped>\n    .dataframe tbody tr th:only-of-type {\n        vertical-align: middle;\n    }\n\n    .dataframe tbody tr th {\n        vertical-align: top;\n    }\n\n    .dataframe thead th {\n        text-align: right;\n    }\n</style>\n<table border=\"1\" class=\"dataframe\">\n  <thead>\n    <tr style=\"text-align: right;\">\n      <th></th>\n      <th>user_id</th>\n      <th>item_id</th>\n      <th>score</th>\n      <th>target</th>\n      <th>tracks_total</th>\n      <th>hearing_days</th>\n      <th>tracks_per_day</th>\n      <th>nusers</th>\n    </tr>\n  </thead>\n  <tbody>\n    <tr>\n      <th>749685</th>\n      <td>633851</td>\n      <td>21709010</td>\n      <td>0.055507</td>\n      <td>0</td>\n      <td>15</td>\n      <td>89</td>\n      <td>0.168539</td>\n      <td>22939</td>\n    </tr>\n    <tr>\n      <th>249563</th>\n      <td>875138</td>\n      <td>34726523</td>\n      <td>0.041310</td>\n      <td>1</td>\n      <td>28</td>\n      <td>6</td>\n      <td>4.666667</td>\n      <td>25446</td>\n    </tr>\n    <tr>\n      <th>852834</th>\n      <td>816871</td>\n      <td>48592062</td>\n      <td>0.133691</td>\n      <td>0</td>\n      <td>190</td>\n      <td>229</td>\n      <td>0.829694</td>\n      <td>24241</td>\n    </tr>\n    <tr>\n      <th>686333</th>\n      <td>521309</td>\n      <td>19326805</td>\n      <td>0.097350</td>\n      <td>0</td>\n      <td>74</td>\n      <td>15</td>\n      <td>4.933333</td>\n      <td>22572</td>\n    </tr>\n    <tr>\n      <th>208326</th>\n      <td>728613</td>\n      <td>83063895</td>\n      <td>0.062785</td>\n      <td>1</td>\n      <td>24</td>\n      <td>157</td>\n      <td>0.152866</td>\n      <td>52469</td>\n    </tr>\n  </tbody>\n</table>\n</div>"
     },
     "execution_count": 44,
     "metadata": {},
     "output_type": "execute_result"
    }
   ],
   "source": [
    "candidates_for_train.sample(5)\n"
   ],
   "metadata": {
    "collapsed": false
   }
  },
  {
   "cell_type": "code",
   "execution_count": 45,
   "outputs": [
    {
     "name": "stderr",
     "output_type": "stream",
     "text": [
      "Warning: less than 75% gpu memory available for training. Free: 11356.9375 Total: 24210.3125\n"
     ]
    },
    {
     "name": "stdout",
     "output_type": "stream",
     "text": [
      "0:\tlearn: 0.6769972\ttotal: 31.6ms\tremaining: 31.6s\n",
      "1:\tlearn: 0.6640559\ttotal: 34.9ms\tremaining: 17.4s\n",
      "2:\tlearn: 0.6534858\ttotal: 38.1ms\tremaining: 12.7s\n",
      "3:\tlearn: 0.6450476\ttotal: 41.2ms\tremaining: 10.3s\n",
      "4:\tlearn: 0.6381866\ttotal: 44.4ms\tremaining: 8.84s\n",
      "5:\tlearn: 0.6326253\ttotal: 47.6ms\tremaining: 7.88s\n",
      "6:\tlearn: 0.6279043\ttotal: 50.7ms\tremaining: 7.19s\n",
      "7:\tlearn: 0.6241681\ttotal: 54ms\tremaining: 6.7s\n",
      "8:\tlearn: 0.6210241\ttotal: 57.2ms\tremaining: 6.3s\n",
      "9:\tlearn: 0.6183554\ttotal: 60.7ms\tremaining: 6.01s\n",
      "10:\tlearn: 0.6162153\ttotal: 63.9ms\tremaining: 5.74s\n",
      "11:\tlearn: 0.6144478\ttotal: 67.1ms\tremaining: 5.52s\n",
      "12:\tlearn: 0.6129493\ttotal: 70.2ms\tremaining: 5.33s\n",
      "13:\tlearn: 0.6112593\ttotal: 73.4ms\tremaining: 5.17s\n",
      "14:\tlearn: 0.6098613\ttotal: 76.8ms\tremaining: 5.04s\n",
      "15:\tlearn: 0.6089355\ttotal: 80ms\tremaining: 4.92s\n",
      "16:\tlearn: 0.6081081\ttotal: 83.4ms\tremaining: 4.82s\n",
      "17:\tlearn: 0.6074040\ttotal: 86.6ms\tremaining: 4.72s\n",
      "18:\tlearn: 0.6067259\ttotal: 90ms\tremaining: 4.65s\n",
      "19:\tlearn: 0.6059186\ttotal: 93.4ms\tremaining: 4.58s\n",
      "20:\tlearn: 0.6052315\ttotal: 96.7ms\tremaining: 4.51s\n",
      "21:\tlearn: 0.6048475\ttotal: 99.9ms\tremaining: 4.44s\n",
      "22:\tlearn: 0.6041818\ttotal: 103ms\tremaining: 4.39s\n",
      "23:\tlearn: 0.6035484\ttotal: 106ms\tremaining: 4.33s\n",
      "24:\tlearn: 0.6032562\ttotal: 110ms\tremaining: 4.28s\n",
      "25:\tlearn: 0.6028021\ttotal: 113ms\tremaining: 4.23s\n",
      "26:\tlearn: 0.6024508\ttotal: 116ms\tremaining: 4.19s\n",
      "27:\tlearn: 0.6022240\ttotal: 120ms\tremaining: 4.16s\n",
      "28:\tlearn: 0.6018598\ttotal: 123ms\tremaining: 4.12s\n",
      "29:\tlearn: 0.6015097\ttotal: 127ms\tremaining: 4.09s\n",
      "30:\tlearn: 0.6013225\ttotal: 130ms\tremaining: 4.06s\n",
      "31:\tlearn: 0.6010125\ttotal: 133ms\tremaining: 4.03s\n",
      "32:\tlearn: 0.6008420\ttotal: 137ms\tremaining: 4s\n",
      "33:\tlearn: 0.6004443\ttotal: 140ms\tremaining: 3.97s\n",
      "34:\tlearn: 0.6000292\ttotal: 143ms\tremaining: 3.95s\n",
      "35:\tlearn: 0.5998944\ttotal: 146ms\tremaining: 3.92s\n",
      "36:\tlearn: 0.5994538\ttotal: 150ms\tremaining: 3.89s\n",
      "37:\tlearn: 0.5993241\ttotal: 153ms\tremaining: 3.87s\n",
      "38:\tlearn: 0.5989906\ttotal: 156ms\tremaining: 3.85s\n",
      "39:\tlearn: 0.5988730\ttotal: 160ms\tremaining: 3.84s\n",
      "40:\tlearn: 0.5987132\ttotal: 163ms\tremaining: 3.82s\n",
      "41:\tlearn: 0.5985919\ttotal: 167ms\tremaining: 3.8s\n",
      "42:\tlearn: 0.5983293\ttotal: 170ms\tremaining: 3.78s\n",
      "43:\tlearn: 0.5980767\ttotal: 173ms\tremaining: 3.77s\n",
      "44:\tlearn: 0.5978419\ttotal: 177ms\tremaining: 3.75s\n",
      "45:\tlearn: 0.5975560\ttotal: 180ms\tremaining: 3.73s\n",
      "46:\tlearn: 0.5972481\ttotal: 183ms\tremaining: 3.71s\n",
      "47:\tlearn: 0.5971764\ttotal: 187ms\tremaining: 3.7s\n",
      "48:\tlearn: 0.5968540\ttotal: 190ms\tremaining: 3.68s\n",
      "49:\tlearn: 0.5966855\ttotal: 193ms\tremaining: 3.67s\n",
      "50:\tlearn: 0.5965627\ttotal: 196ms\tremaining: 3.65s\n",
      "51:\tlearn: 0.5963383\ttotal: 200ms\tremaining: 3.64s\n",
      "52:\tlearn: 0.5961399\ttotal: 203ms\tremaining: 3.62s\n",
      "53:\tlearn: 0.5960620\ttotal: 206ms\tremaining: 3.61s\n",
      "54:\tlearn: 0.5957979\ttotal: 209ms\tremaining: 3.6s\n",
      "55:\tlearn: 0.5956994\ttotal: 212ms\tremaining: 3.58s\n",
      "56:\tlearn: 0.5955412\ttotal: 216ms\tremaining: 3.57s\n",
      "57:\tlearn: 0.5954400\ttotal: 220ms\tremaining: 3.56s\n",
      "58:\tlearn: 0.5953383\ttotal: 223ms\tremaining: 3.55s\n",
      "59:\tlearn: 0.5951241\ttotal: 226ms\tremaining: 3.54s\n",
      "60:\tlearn: 0.5950013\ttotal: 229ms\tremaining: 3.53s\n",
      "61:\tlearn: 0.5948466\ttotal: 233ms\tremaining: 3.52s\n",
      "62:\tlearn: 0.5947385\ttotal: 236ms\tremaining: 3.51s\n",
      "63:\tlearn: 0.5946818\ttotal: 239ms\tremaining: 3.5s\n",
      "64:\tlearn: 0.5945837\ttotal: 243ms\tremaining: 3.49s\n",
      "65:\tlearn: 0.5943795\ttotal: 246ms\tremaining: 3.48s\n",
      "66:\tlearn: 0.5943219\ttotal: 249ms\tremaining: 3.47s\n",
      "67:\tlearn: 0.5942775\ttotal: 253ms\tremaining: 3.46s\n",
      "68:\tlearn: 0.5942318\ttotal: 256ms\tremaining: 3.45s\n",
      "69:\tlearn: 0.5941307\ttotal: 259ms\tremaining: 3.44s\n",
      "70:\tlearn: 0.5939526\ttotal: 263ms\tremaining: 3.44s\n",
      "71:\tlearn: 0.5939032\ttotal: 266ms\tremaining: 3.43s\n",
      "72:\tlearn: 0.5937486\ttotal: 269ms\tremaining: 3.42s\n",
      "73:\tlearn: 0.5936315\ttotal: 273ms\tremaining: 3.41s\n",
      "74:\tlearn: 0.5934884\ttotal: 276ms\tremaining: 3.4s\n",
      "75:\tlearn: 0.5932972\ttotal: 279ms\tremaining: 3.4s\n",
      "76:\tlearn: 0.5931677\ttotal: 283ms\tremaining: 3.39s\n",
      "77:\tlearn: 0.5931083\ttotal: 286ms\tremaining: 3.38s\n",
      "78:\tlearn: 0.5929543\ttotal: 289ms\tremaining: 3.37s\n",
      "79:\tlearn: 0.5928672\ttotal: 292ms\tremaining: 3.36s\n",
      "80:\tlearn: 0.5928212\ttotal: 295ms\tremaining: 3.35s\n",
      "81:\tlearn: 0.5926847\ttotal: 299ms\tremaining: 3.34s\n",
      "82:\tlearn: 0.5925776\ttotal: 302ms\tremaining: 3.33s\n",
      "83:\tlearn: 0.5924773\ttotal: 305ms\tremaining: 3.33s\n",
      "84:\tlearn: 0.5923429\ttotal: 308ms\tremaining: 3.32s\n",
      "85:\tlearn: 0.5922561\ttotal: 311ms\tremaining: 3.31s\n",
      "86:\tlearn: 0.5921652\ttotal: 314ms\tremaining: 3.3s\n",
      "87:\tlearn: 0.5919998\ttotal: 317ms\tremaining: 3.29s\n",
      "88:\tlearn: 0.5918904\ttotal: 320ms\tremaining: 3.28s\n",
      "89:\tlearn: 0.5918501\ttotal: 324ms\tremaining: 3.27s\n",
      "90:\tlearn: 0.5917689\ttotal: 327ms\tremaining: 3.26s\n",
      "91:\tlearn: 0.5916914\ttotal: 330ms\tremaining: 3.25s\n",
      "92:\tlearn: 0.5915208\ttotal: 333ms\tremaining: 3.25s\n",
      "93:\tlearn: 0.5914588\ttotal: 336ms\tremaining: 3.24s\n",
      "94:\tlearn: 0.5913358\ttotal: 339ms\tremaining: 3.23s\n",
      "95:\tlearn: 0.5912774\ttotal: 342ms\tremaining: 3.22s\n",
      "96:\tlearn: 0.5911940\ttotal: 345ms\tremaining: 3.21s\n",
      "97:\tlearn: 0.5911093\ttotal: 348ms\tremaining: 3.21s\n",
      "98:\tlearn: 0.5910491\ttotal: 351ms\tremaining: 3.2s\n",
      "99:\tlearn: 0.5909737\ttotal: 354ms\tremaining: 3.19s\n",
      "100:\tlearn: 0.5909325\ttotal: 358ms\tremaining: 3.18s\n",
      "101:\tlearn: 0.5908167\ttotal: 361ms\tremaining: 3.18s\n",
      "102:\tlearn: 0.5907171\ttotal: 364ms\tremaining: 3.17s\n",
      "103:\tlearn: 0.5906673\ttotal: 367ms\tremaining: 3.16s\n",
      "104:\tlearn: 0.5905587\ttotal: 370ms\tremaining: 3.15s\n",
      "105:\tlearn: 0.5903898\ttotal: 373ms\tremaining: 3.15s\n",
      "106:\tlearn: 0.5902959\ttotal: 376ms\tremaining: 3.14s\n",
      "107:\tlearn: 0.5902174\ttotal: 379ms\tremaining: 3.13s\n",
      "108:\tlearn: 0.5901487\ttotal: 382ms\tremaining: 3.13s\n",
      "109:\tlearn: 0.5900885\ttotal: 385ms\tremaining: 3.12s\n",
      "110:\tlearn: 0.5900433\ttotal: 389ms\tremaining: 3.11s\n",
      "111:\tlearn: 0.5900092\ttotal: 392ms\tremaining: 3.11s\n",
      "112:\tlearn: 0.5899528\ttotal: 395ms\tremaining: 3.1s\n",
      "113:\tlearn: 0.5899092\ttotal: 398ms\tremaining: 3.09s\n",
      "114:\tlearn: 0.5898555\ttotal: 401ms\tremaining: 3.09s\n",
      "115:\tlearn: 0.5897132\ttotal: 404ms\tremaining: 3.08s\n",
      "116:\tlearn: 0.5895747\ttotal: 407ms\tremaining: 3.07s\n",
      "117:\tlearn: 0.5895120\ttotal: 410ms\tremaining: 3.07s\n",
      "118:\tlearn: 0.5894784\ttotal: 413ms\tremaining: 3.06s\n",
      "119:\tlearn: 0.5893935\ttotal: 417ms\tremaining: 3.05s\n",
      "120:\tlearn: 0.5893113\ttotal: 420ms\tremaining: 3.05s\n",
      "121:\tlearn: 0.5892767\ttotal: 423ms\tremaining: 3.04s\n",
      "122:\tlearn: 0.5892015\ttotal: 426ms\tremaining: 3.04s\n",
      "123:\tlearn: 0.5891697\ttotal: 429ms\tremaining: 3.03s\n",
      "124:\tlearn: 0.5890788\ttotal: 432ms\tremaining: 3.02s\n",
      "125:\tlearn: 0.5890199\ttotal: 435ms\tremaining: 3.02s\n",
      "126:\tlearn: 0.5889582\ttotal: 438ms\tremaining: 3.01s\n",
      "127:\tlearn: 0.5888814\ttotal: 441ms\tremaining: 3.01s\n",
      "128:\tlearn: 0.5888228\ttotal: 445ms\tremaining: 3s\n",
      "129:\tlearn: 0.5887899\ttotal: 448ms\tremaining: 3s\n",
      "130:\tlearn: 0.5887430\ttotal: 451ms\tremaining: 2.99s\n",
      "131:\tlearn: 0.5886902\ttotal: 454ms\tremaining: 2.98s\n",
      "132:\tlearn: 0.5886694\ttotal: 457ms\tremaining: 2.98s\n",
      "133:\tlearn: 0.5885777\ttotal: 460ms\tremaining: 2.97s\n",
      "134:\tlearn: 0.5885107\ttotal: 463ms\tremaining: 2.97s\n",
      "135:\tlearn: 0.5884300\ttotal: 466ms\tremaining: 2.96s\n",
      "136:\tlearn: 0.5884026\ttotal: 469ms\tremaining: 2.96s\n",
      "137:\tlearn: 0.5883082\ttotal: 472ms\tremaining: 2.95s\n",
      "138:\tlearn: 0.5882757\ttotal: 476ms\tremaining: 2.94s\n",
      "139:\tlearn: 0.5881598\ttotal: 479ms\tremaining: 2.94s\n",
      "140:\tlearn: 0.5880789\ttotal: 482ms\tremaining: 2.93s\n",
      "141:\tlearn: 0.5880357\ttotal: 485ms\tremaining: 2.93s\n",
      "142:\tlearn: 0.5880180\ttotal: 488ms\tremaining: 2.92s\n",
      "143:\tlearn: 0.5879388\ttotal: 491ms\tremaining: 2.92s\n",
      "144:\tlearn: 0.5878525\ttotal: 494ms\tremaining: 2.91s\n",
      "145:\tlearn: 0.5877979\ttotal: 497ms\tremaining: 2.91s\n",
      "146:\tlearn: 0.5877090\ttotal: 500ms\tremaining: 2.9s\n",
      "147:\tlearn: 0.5876339\ttotal: 503ms\tremaining: 2.9s\n",
      "148:\tlearn: 0.5876206\ttotal: 507ms\tremaining: 2.89s\n",
      "149:\tlearn: 0.5875654\ttotal: 510ms\tremaining: 2.89s\n",
      "150:\tlearn: 0.5875255\ttotal: 513ms\tremaining: 2.88s\n",
      "151:\tlearn: 0.5874858\ttotal: 516ms\tremaining: 2.88s\n",
      "152:\tlearn: 0.5874154\ttotal: 519ms\tremaining: 2.87s\n",
      "153:\tlearn: 0.5873717\ttotal: 522ms\tremaining: 2.87s\n",
      "154:\tlearn: 0.5873143\ttotal: 525ms\tremaining: 2.86s\n",
      "155:\tlearn: 0.5872901\ttotal: 528ms\tremaining: 2.86s\n",
      "156:\tlearn: 0.5872509\ttotal: 531ms\tremaining: 2.85s\n",
      "157:\tlearn: 0.5871837\ttotal: 534ms\tremaining: 2.85s\n",
      "158:\tlearn: 0.5871254\ttotal: 537ms\tremaining: 2.84s\n",
      "159:\tlearn: 0.5870788\ttotal: 541ms\tremaining: 2.84s\n",
      "160:\tlearn: 0.5870553\ttotal: 544ms\tremaining: 2.83s\n",
      "161:\tlearn: 0.5870023\ttotal: 547ms\tremaining: 2.83s\n",
      "162:\tlearn: 0.5869058\ttotal: 550ms\tremaining: 2.82s\n",
      "163:\tlearn: 0.5868783\ttotal: 553ms\tremaining: 2.82s\n",
      "164:\tlearn: 0.5867851\ttotal: 556ms\tremaining: 2.81s\n",
      "165:\tlearn: 0.5867056\ttotal: 559ms\tremaining: 2.81s\n",
      "166:\tlearn: 0.5866750\ttotal: 562ms\tremaining: 2.8s\n",
      "167:\tlearn: 0.5866153\ttotal: 565ms\tremaining: 2.8s\n",
      "168:\tlearn: 0.5865552\ttotal: 568ms\tremaining: 2.79s\n",
      "169:\tlearn: 0.5864894\ttotal: 571ms\tremaining: 2.79s\n",
      "170:\tlearn: 0.5864496\ttotal: 575ms\tremaining: 2.79s\n",
      "171:\tlearn: 0.5863579\ttotal: 578ms\tremaining: 2.78s\n",
      "172:\tlearn: 0.5862760\ttotal: 581ms\tremaining: 2.77s\n",
      "173:\tlearn: 0.5862280\ttotal: 584ms\tremaining: 2.77s\n",
      "174:\tlearn: 0.5861836\ttotal: 587ms\tremaining: 2.77s\n",
      "175:\tlearn: 0.5861447\ttotal: 590ms\tremaining: 2.76s\n",
      "176:\tlearn: 0.5861259\ttotal: 593ms\tremaining: 2.76s\n",
      "177:\tlearn: 0.5860824\ttotal: 596ms\tremaining: 2.75s\n",
      "178:\tlearn: 0.5860424\ttotal: 599ms\tremaining: 2.75s\n",
      "179:\tlearn: 0.5860011\ttotal: 602ms\tremaining: 2.74s\n",
      "180:\tlearn: 0.5859441\ttotal: 605ms\tremaining: 2.74s\n",
      "181:\tlearn: 0.5859204\ttotal: 608ms\tremaining: 2.73s\n",
      "182:\tlearn: 0.5859100\ttotal: 612ms\tremaining: 2.73s\n",
      "183:\tlearn: 0.5858561\ttotal: 615ms\tremaining: 2.73s\n",
      "184:\tlearn: 0.5858092\ttotal: 618ms\tremaining: 2.72s\n",
      "185:\tlearn: 0.5857322\ttotal: 621ms\tremaining: 2.72s\n",
      "186:\tlearn: 0.5856721\ttotal: 624ms\tremaining: 2.71s\n",
      "187:\tlearn: 0.5856240\ttotal: 627ms\tremaining: 2.71s\n",
      "188:\tlearn: 0.5855689\ttotal: 630ms\tremaining: 2.7s\n",
      "189:\tlearn: 0.5855556\ttotal: 633ms\tremaining: 2.7s\n",
      "190:\tlearn: 0.5855186\ttotal: 637ms\tremaining: 2.69s\n",
      "191:\tlearn: 0.5854597\ttotal: 640ms\tremaining: 2.69s\n",
      "192:\tlearn: 0.5854265\ttotal: 643ms\tremaining: 2.69s\n",
      "193:\tlearn: 0.5853776\ttotal: 646ms\tremaining: 2.68s\n",
      "194:\tlearn: 0.5853348\ttotal: 649ms\tremaining: 2.68s\n",
      "195:\tlearn: 0.5852978\ttotal: 652ms\tremaining: 2.67s\n",
      "196:\tlearn: 0.5852648\ttotal: 655ms\tremaining: 2.67s\n",
      "197:\tlearn: 0.5852355\ttotal: 658ms\tremaining: 2.67s\n",
      "198:\tlearn: 0.5851943\ttotal: 661ms\tremaining: 2.66s\n",
      "199:\tlearn: 0.5851607\ttotal: 664ms\tremaining: 2.66s\n",
      "200:\tlearn: 0.5851132\ttotal: 668ms\tremaining: 2.65s\n",
      "201:\tlearn: 0.5850702\ttotal: 671ms\tremaining: 2.65s\n",
      "202:\tlearn: 0.5850512\ttotal: 674ms\tremaining: 2.65s\n",
      "203:\tlearn: 0.5850009\ttotal: 677ms\tremaining: 2.64s\n",
      "204:\tlearn: 0.5849534\ttotal: 680ms\tremaining: 2.64s\n",
      "205:\tlearn: 0.5849228\ttotal: 683ms\tremaining: 2.63s\n",
      "206:\tlearn: 0.5849003\ttotal: 686ms\tremaining: 2.63s\n",
      "207:\tlearn: 0.5848882\ttotal: 689ms\tremaining: 2.62s\n",
      "208:\tlearn: 0.5848496\ttotal: 693ms\tremaining: 2.62s\n",
      "209:\tlearn: 0.5847934\ttotal: 696ms\tremaining: 2.62s\n",
      "210:\tlearn: 0.5847663\ttotal: 699ms\tremaining: 2.61s\n",
      "211:\tlearn: 0.5847409\ttotal: 702ms\tremaining: 2.61s\n",
      "212:\tlearn: 0.5847200\ttotal: 705ms\tremaining: 2.6s\n",
      "213:\tlearn: 0.5846646\ttotal: 708ms\tremaining: 2.6s\n",
      "214:\tlearn: 0.5846318\ttotal: 711ms\tremaining: 2.6s\n",
      "215:\tlearn: 0.5846197\ttotal: 714ms\tremaining: 2.59s\n",
      "216:\tlearn: 0.5845980\ttotal: 718ms\tremaining: 2.59s\n",
      "217:\tlearn: 0.5845630\ttotal: 721ms\tremaining: 2.58s\n",
      "218:\tlearn: 0.5845292\ttotal: 724ms\tremaining: 2.58s\n",
      "219:\tlearn: 0.5845116\ttotal: 727ms\tremaining: 2.58s\n",
      "220:\tlearn: 0.5844769\ttotal: 730ms\tremaining: 2.57s\n",
      "221:\tlearn: 0.5844407\ttotal: 733ms\tremaining: 2.57s\n",
      "222:\tlearn: 0.5844129\ttotal: 736ms\tremaining: 2.56s\n",
      "223:\tlearn: 0.5843771\ttotal: 739ms\tremaining: 2.56s\n",
      "224:\tlearn: 0.5843357\ttotal: 742ms\tremaining: 2.56s\n",
      "225:\tlearn: 0.5843239\ttotal: 745ms\tremaining: 2.55s\n",
      "226:\tlearn: 0.5842872\ttotal: 748ms\tremaining: 2.55s\n",
      "227:\tlearn: 0.5842362\ttotal: 751ms\tremaining: 2.54s\n",
      "228:\tlearn: 0.5842135\ttotal: 755ms\tremaining: 2.54s\n",
      "229:\tlearn: 0.5841936\ttotal: 758ms\tremaining: 2.54s\n",
      "230:\tlearn: 0.5841664\ttotal: 761ms\tremaining: 2.53s\n",
      "231:\tlearn: 0.5841571\ttotal: 764ms\tremaining: 2.53s\n",
      "232:\tlearn: 0.5841343\ttotal: 767ms\tremaining: 2.52s\n",
      "233:\tlearn: 0.5841174\ttotal: 770ms\tremaining: 2.52s\n",
      "234:\tlearn: 0.5840955\ttotal: 773ms\tremaining: 2.52s\n",
      "235:\tlearn: 0.5840571\ttotal: 777ms\tremaining: 2.51s\n",
      "236:\tlearn: 0.5840005\ttotal: 780ms\tremaining: 2.51s\n",
      "237:\tlearn: 0.5839651\ttotal: 783ms\tremaining: 2.51s\n",
      "238:\tlearn: 0.5839274\ttotal: 786ms\tremaining: 2.5s\n",
      "239:\tlearn: 0.5839198\ttotal: 790ms\tremaining: 2.5s\n",
      "240:\tlearn: 0.5838982\ttotal: 793ms\tremaining: 2.5s\n",
      "241:\tlearn: 0.5838299\ttotal: 796ms\tremaining: 2.49s\n",
      "242:\tlearn: 0.5838040\ttotal: 799ms\tremaining: 2.49s\n",
      "243:\tlearn: 0.5837665\ttotal: 803ms\tremaining: 2.49s\n",
      "244:\tlearn: 0.5837383\ttotal: 806ms\tremaining: 2.48s\n",
      "245:\tlearn: 0.5836959\ttotal: 809ms\tremaining: 2.48s\n",
      "246:\tlearn: 0.5836768\ttotal: 812ms\tremaining: 2.48s\n",
      "247:\tlearn: 0.5836524\ttotal: 815ms\tremaining: 2.47s\n",
      "248:\tlearn: 0.5836309\ttotal: 818ms\tremaining: 2.47s\n",
      "249:\tlearn: 0.5836046\ttotal: 821ms\tremaining: 2.46s\n",
      "250:\tlearn: 0.5835702\ttotal: 824ms\tremaining: 2.46s\n",
      "251:\tlearn: 0.5835425\ttotal: 828ms\tremaining: 2.46s\n",
      "252:\tlearn: 0.5835327\ttotal: 831ms\tremaining: 2.45s\n",
      "253:\tlearn: 0.5835000\ttotal: 834ms\tremaining: 2.45s\n",
      "254:\tlearn: 0.5834734\ttotal: 837ms\tremaining: 2.44s\n",
      "255:\tlearn: 0.5834457\ttotal: 840ms\tremaining: 2.44s\n",
      "256:\tlearn: 0.5834246\ttotal: 843ms\tremaining: 2.44s\n",
      "257:\tlearn: 0.5834100\ttotal: 846ms\tremaining: 2.43s\n",
      "258:\tlearn: 0.5833790\ttotal: 849ms\tremaining: 2.43s\n",
      "259:\tlearn: 0.5833546\ttotal: 853ms\tremaining: 2.43s\n",
      "260:\tlearn: 0.5833324\ttotal: 856ms\tremaining: 2.42s\n",
      "261:\tlearn: 0.5833122\ttotal: 859ms\tremaining: 2.42s\n",
      "262:\tlearn: 0.5832762\ttotal: 862ms\tremaining: 2.42s\n",
      "263:\tlearn: 0.5832454\ttotal: 865ms\tremaining: 2.41s\n",
      "264:\tlearn: 0.5832143\ttotal: 868ms\tremaining: 2.41s\n",
      "265:\tlearn: 0.5831909\ttotal: 871ms\tremaining: 2.4s\n",
      "266:\tlearn: 0.5831601\ttotal: 874ms\tremaining: 2.4s\n",
      "267:\tlearn: 0.5831323\ttotal: 877ms\tremaining: 2.4s\n",
      "268:\tlearn: 0.5831000\ttotal: 881ms\tremaining: 2.39s\n",
      "269:\tlearn: 0.5830819\ttotal: 884ms\tremaining: 2.39s\n",
      "270:\tlearn: 0.5830601\ttotal: 887ms\tremaining: 2.38s\n",
      "271:\tlearn: 0.5830312\ttotal: 890ms\tremaining: 2.38s\n",
      "272:\tlearn: 0.5830030\ttotal: 893ms\tremaining: 2.38s\n",
      "273:\tlearn: 0.5829850\ttotal: 896ms\tremaining: 2.37s\n",
      "274:\tlearn: 0.5829721\ttotal: 899ms\tremaining: 2.37s\n",
      "275:\tlearn: 0.5829473\ttotal: 902ms\tremaining: 2.37s\n",
      "276:\tlearn: 0.5829231\ttotal: 905ms\tremaining: 2.36s\n",
      "277:\tlearn: 0.5829012\ttotal: 908ms\tremaining: 2.36s\n",
      "278:\tlearn: 0.5828793\ttotal: 911ms\tremaining: 2.35s\n",
      "279:\tlearn: 0.5828648\ttotal: 915ms\tremaining: 2.35s\n",
      "280:\tlearn: 0.5828419\ttotal: 918ms\tremaining: 2.35s\n",
      "281:\tlearn: 0.5828201\ttotal: 921ms\tremaining: 2.34s\n",
      "282:\tlearn: 0.5827913\ttotal: 924ms\tremaining: 2.34s\n",
      "283:\tlearn: 0.5827556\ttotal: 927ms\tremaining: 2.34s\n",
      "284:\tlearn: 0.5827344\ttotal: 930ms\tremaining: 2.33s\n",
      "285:\tlearn: 0.5827031\ttotal: 933ms\tremaining: 2.33s\n",
      "286:\tlearn: 0.5826929\ttotal: 936ms\tremaining: 2.33s\n",
      "287:\tlearn: 0.5826786\ttotal: 939ms\tremaining: 2.32s\n",
      "288:\tlearn: 0.5826688\ttotal: 942ms\tremaining: 2.32s\n",
      "289:\tlearn: 0.5826523\ttotal: 945ms\tremaining: 2.31s\n",
      "290:\tlearn: 0.5826390\ttotal: 949ms\tremaining: 2.31s\n",
      "291:\tlearn: 0.5826009\ttotal: 952ms\tremaining: 2.31s\n",
      "292:\tlearn: 0.5825851\ttotal: 955ms\tremaining: 2.3s\n",
      "293:\tlearn: 0.5825754\ttotal: 958ms\tremaining: 2.3s\n",
      "294:\tlearn: 0.5825521\ttotal: 961ms\tremaining: 2.3s\n",
      "295:\tlearn: 0.5825365\ttotal: 964ms\tremaining: 2.29s\n",
      "296:\tlearn: 0.5825278\ttotal: 967ms\tremaining: 2.29s\n",
      "297:\tlearn: 0.5825169\ttotal: 970ms\tremaining: 2.29s\n",
      "298:\tlearn: 0.5824921\ttotal: 973ms\tremaining: 2.28s\n",
      "299:\tlearn: 0.5824796\ttotal: 977ms\tremaining: 2.28s\n",
      "300:\tlearn: 0.5824611\ttotal: 980ms\tremaining: 2.27s\n",
      "301:\tlearn: 0.5824336\ttotal: 983ms\tremaining: 2.27s\n",
      "302:\tlearn: 0.5824282\ttotal: 986ms\tremaining: 2.27s\n",
      "303:\tlearn: 0.5824070\ttotal: 989ms\tremaining: 2.26s\n",
      "304:\tlearn: 0.5823900\ttotal: 992ms\tremaining: 2.26s\n",
      "305:\tlearn: 0.5823623\ttotal: 995ms\tremaining: 2.26s\n",
      "306:\tlearn: 0.5823416\ttotal: 998ms\tremaining: 2.25s\n",
      "307:\tlearn: 0.5823224\ttotal: 1s\tremaining: 2.25s\n",
      "308:\tlearn: 0.5823066\ttotal: 1s\tremaining: 2.25s\n",
      "309:\tlearn: 0.5822881\ttotal: 1.01s\tremaining: 2.24s\n",
      "310:\tlearn: 0.5822605\ttotal: 1.01s\tremaining: 2.24s\n",
      "311:\tlearn: 0.5822233\ttotal: 1.01s\tremaining: 2.23s\n",
      "312:\tlearn: 0.5822115\ttotal: 1.02s\tremaining: 2.23s\n",
      "313:\tlearn: 0.5821967\ttotal: 1.02s\tremaining: 2.23s\n",
      "314:\tlearn: 0.5821846\ttotal: 1.02s\tremaining: 2.22s\n",
      "315:\tlearn: 0.5821593\ttotal: 1.03s\tremaining: 2.22s\n",
      "316:\tlearn: 0.5821446\ttotal: 1.03s\tremaining: 2.22s\n",
      "317:\tlearn: 0.5821193\ttotal: 1.03s\tremaining: 2.21s\n",
      "318:\tlearn: 0.5820930\ttotal: 1.03s\tremaining: 2.21s\n",
      "319:\tlearn: 0.5820762\ttotal: 1.04s\tremaining: 2.21s\n",
      "320:\tlearn: 0.5820467\ttotal: 1.04s\tremaining: 2.2s\n",
      "321:\tlearn: 0.5820304\ttotal: 1.04s\tremaining: 2.2s\n",
      "322:\tlearn: 0.5820072\ttotal: 1.05s\tremaining: 2.2s\n",
      "323:\tlearn: 0.5819780\ttotal: 1.05s\tremaining: 2.19s\n",
      "324:\tlearn: 0.5819663\ttotal: 1.05s\tremaining: 2.19s\n",
      "325:\tlearn: 0.5819604\ttotal: 1.06s\tremaining: 2.19s\n",
      "326:\tlearn: 0.5819273\ttotal: 1.06s\tremaining: 2.18s\n",
      "327:\tlearn: 0.5819022\ttotal: 1.06s\tremaining: 2.18s\n",
      "328:\tlearn: 0.5818798\ttotal: 1.07s\tremaining: 2.17s\n",
      "329:\tlearn: 0.5818636\ttotal: 1.07s\tremaining: 2.17s\n",
      "330:\tlearn: 0.5818372\ttotal: 1.07s\tremaining: 2.17s\n",
      "331:\tlearn: 0.5818307\ttotal: 1.07s\tremaining: 2.16s\n",
      "332:\tlearn: 0.5818236\ttotal: 1.08s\tremaining: 2.16s\n",
      "333:\tlearn: 0.5817966\ttotal: 1.08s\tremaining: 2.16s\n",
      "334:\tlearn: 0.5817537\ttotal: 1.08s\tremaining: 2.15s\n",
      "335:\tlearn: 0.5817363\ttotal: 1.09s\tremaining: 2.15s\n",
      "336:\tlearn: 0.5817275\ttotal: 1.09s\tremaining: 2.15s\n",
      "337:\tlearn: 0.5816978\ttotal: 1.09s\tremaining: 2.14s\n",
      "338:\tlearn: 0.5816874\ttotal: 1.1s\tremaining: 2.14s\n",
      "339:\tlearn: 0.5816624\ttotal: 1.1s\tremaining: 2.14s\n",
      "340:\tlearn: 0.5816434\ttotal: 1.1s\tremaining: 2.13s\n",
      "341:\tlearn: 0.5816332\ttotal: 1.11s\tremaining: 2.13s\n",
      "342:\tlearn: 0.5816166\ttotal: 1.11s\tremaining: 2.13s\n",
      "343:\tlearn: 0.5815910\ttotal: 1.11s\tremaining: 2.12s\n",
      "344:\tlearn: 0.5815622\ttotal: 1.12s\tremaining: 2.12s\n",
      "345:\tlearn: 0.5815455\ttotal: 1.12s\tremaining: 2.12s\n",
      "346:\tlearn: 0.5815297\ttotal: 1.12s\tremaining: 2.11s\n",
      "347:\tlearn: 0.5815154\ttotal: 1.13s\tremaining: 2.11s\n",
      "348:\tlearn: 0.5814978\ttotal: 1.13s\tremaining: 2.1s\n",
      "349:\tlearn: 0.5814761\ttotal: 1.13s\tremaining: 2.1s\n",
      "350:\tlearn: 0.5814198\ttotal: 1.13s\tremaining: 2.1s\n",
      "351:\tlearn: 0.5814076\ttotal: 1.14s\tremaining: 2.09s\n",
      "352:\tlearn: 0.5814024\ttotal: 1.14s\tremaining: 2.09s\n",
      "353:\tlearn: 0.5813826\ttotal: 1.14s\tremaining: 2.09s\n",
      "354:\tlearn: 0.5813702\ttotal: 1.15s\tremaining: 2.08s\n",
      "355:\tlearn: 0.5813427\ttotal: 1.15s\tremaining: 2.08s\n",
      "356:\tlearn: 0.5813321\ttotal: 1.15s\tremaining: 2.08s\n",
      "357:\tlearn: 0.5813191\ttotal: 1.16s\tremaining: 2.07s\n",
      "358:\tlearn: 0.5813115\ttotal: 1.16s\tremaining: 2.07s\n",
      "359:\tlearn: 0.5813021\ttotal: 1.16s\tremaining: 2.07s\n",
      "360:\tlearn: 0.5812920\ttotal: 1.17s\tremaining: 2.06s\n",
      "361:\tlearn: 0.5812705\ttotal: 1.17s\tremaining: 2.06s\n",
      "362:\tlearn: 0.5812479\ttotal: 1.17s\tremaining: 2.06s\n",
      "363:\tlearn: 0.5812187\ttotal: 1.18s\tremaining: 2.05s\n",
      "364:\tlearn: 0.5812105\ttotal: 1.18s\tremaining: 2.05s\n",
      "365:\tlearn: 0.5811928\ttotal: 1.18s\tremaining: 2.05s\n",
      "366:\tlearn: 0.5811751\ttotal: 1.19s\tremaining: 2.04s\n",
      "367:\tlearn: 0.5811642\ttotal: 1.19s\tremaining: 2.04s\n",
      "368:\tlearn: 0.5811437\ttotal: 1.19s\tremaining: 2.04s\n",
      "369:\tlearn: 0.5811305\ttotal: 1.19s\tremaining: 2.03s\n",
      "370:\tlearn: 0.5811205\ttotal: 1.2s\tremaining: 2.03s\n",
      "371:\tlearn: 0.5811005\ttotal: 1.2s\tremaining: 2.03s\n",
      "372:\tlearn: 0.5810940\ttotal: 1.2s\tremaining: 2.02s\n",
      "373:\tlearn: 0.5810832\ttotal: 1.21s\tremaining: 2.02s\n",
      "374:\tlearn: 0.5810736\ttotal: 1.21s\tremaining: 2.02s\n",
      "375:\tlearn: 0.5810620\ttotal: 1.21s\tremaining: 2.01s\n",
      "376:\tlearn: 0.5810573\ttotal: 1.22s\tremaining: 2.01s\n",
      "377:\tlearn: 0.5810436\ttotal: 1.22s\tremaining: 2.01s\n",
      "378:\tlearn: 0.5810369\ttotal: 1.22s\tremaining: 2s\n",
      "379:\tlearn: 0.5810273\ttotal: 1.23s\tremaining: 2s\n",
      "380:\tlearn: 0.5809999\ttotal: 1.23s\tremaining: 2s\n",
      "381:\tlearn: 0.5809886\ttotal: 1.23s\tremaining: 1.99s\n",
      "382:\tlearn: 0.5809819\ttotal: 1.24s\tremaining: 1.99s\n",
      "383:\tlearn: 0.5809725\ttotal: 1.24s\tremaining: 1.99s\n",
      "384:\tlearn: 0.5809490\ttotal: 1.24s\tremaining: 1.98s\n",
      "385:\tlearn: 0.5809397\ttotal: 1.25s\tremaining: 1.98s\n",
      "386:\tlearn: 0.5809283\ttotal: 1.25s\tremaining: 1.98s\n",
      "387:\tlearn: 0.5809176\ttotal: 1.25s\tremaining: 1.97s\n",
      "388:\tlearn: 0.5809049\ttotal: 1.25s\tremaining: 1.97s\n",
      "389:\tlearn: 0.5808941\ttotal: 1.26s\tremaining: 1.97s\n",
      "390:\tlearn: 0.5808845\ttotal: 1.26s\tremaining: 1.96s\n",
      "391:\tlearn: 0.5808757\ttotal: 1.26s\tremaining: 1.96s\n",
      "392:\tlearn: 0.5808603\ttotal: 1.27s\tremaining: 1.96s\n",
      "393:\tlearn: 0.5808440\ttotal: 1.27s\tremaining: 1.95s\n",
      "394:\tlearn: 0.5808284\ttotal: 1.27s\tremaining: 1.95s\n",
      "395:\tlearn: 0.5808123\ttotal: 1.28s\tremaining: 1.95s\n",
      "396:\tlearn: 0.5808004\ttotal: 1.28s\tremaining: 1.94s\n",
      "397:\tlearn: 0.5807700\ttotal: 1.28s\tremaining: 1.94s\n",
      "398:\tlearn: 0.5807494\ttotal: 1.29s\tremaining: 1.94s\n",
      "399:\tlearn: 0.5807428\ttotal: 1.29s\tremaining: 1.93s\n",
      "400:\tlearn: 0.5807405\ttotal: 1.29s\tremaining: 1.93s\n",
      "401:\tlearn: 0.5807233\ttotal: 1.29s\tremaining: 1.93s\n",
      "402:\tlearn: 0.5807102\ttotal: 1.3s\tremaining: 1.92s\n",
      "403:\tlearn: 0.5806897\ttotal: 1.3s\tremaining: 1.92s\n",
      "404:\tlearn: 0.5806712\ttotal: 1.3s\tremaining: 1.92s\n",
      "405:\tlearn: 0.5806584\ttotal: 1.31s\tremaining: 1.91s\n",
      "406:\tlearn: 0.5806331\ttotal: 1.31s\tremaining: 1.91s\n",
      "407:\tlearn: 0.5806265\ttotal: 1.31s\tremaining: 1.91s\n",
      "408:\tlearn: 0.5806214\ttotal: 1.32s\tremaining: 1.9s\n",
      "409:\tlearn: 0.5805980\ttotal: 1.32s\tremaining: 1.9s\n",
      "410:\tlearn: 0.5805890\ttotal: 1.32s\tremaining: 1.9s\n",
      "411:\tlearn: 0.5805647\ttotal: 1.33s\tremaining: 1.89s\n",
      "412:\tlearn: 0.5805598\ttotal: 1.33s\tremaining: 1.89s\n",
      "413:\tlearn: 0.5805505\ttotal: 1.33s\tremaining: 1.89s\n",
      "414:\tlearn: 0.5805322\ttotal: 1.34s\tremaining: 1.88s\n",
      "415:\tlearn: 0.5805136\ttotal: 1.34s\tremaining: 1.88s\n",
      "416:\tlearn: 0.5805085\ttotal: 1.34s\tremaining: 1.88s\n",
      "417:\tlearn: 0.5805046\ttotal: 1.34s\tremaining: 1.87s\n",
      "418:\tlearn: 0.5804987\ttotal: 1.35s\tremaining: 1.87s\n",
      "419:\tlearn: 0.5804891\ttotal: 1.35s\tremaining: 1.87s\n",
      "420:\tlearn: 0.5804797\ttotal: 1.35s\tremaining: 1.86s\n",
      "421:\tlearn: 0.5804720\ttotal: 1.36s\tremaining: 1.86s\n",
      "422:\tlearn: 0.5804438\ttotal: 1.36s\tremaining: 1.86s\n",
      "423:\tlearn: 0.5804147\ttotal: 1.36s\tremaining: 1.85s\n",
      "424:\tlearn: 0.5803991\ttotal: 1.37s\tremaining: 1.85s\n",
      "425:\tlearn: 0.5803755\ttotal: 1.37s\tremaining: 1.85s\n",
      "426:\tlearn: 0.5803453\ttotal: 1.37s\tremaining: 1.84s\n",
      "427:\tlearn: 0.5803204\ttotal: 1.38s\tremaining: 1.84s\n",
      "428:\tlearn: 0.5803116\ttotal: 1.38s\tremaining: 1.84s\n",
      "429:\tlearn: 0.5802946\ttotal: 1.38s\tremaining: 1.83s\n",
      "430:\tlearn: 0.5802835\ttotal: 1.39s\tremaining: 1.83s\n",
      "431:\tlearn: 0.5802686\ttotal: 1.39s\tremaining: 1.83s\n",
      "432:\tlearn: 0.5802601\ttotal: 1.39s\tremaining: 1.82s\n",
      "433:\tlearn: 0.5802462\ttotal: 1.4s\tremaining: 1.82s\n",
      "434:\tlearn: 0.5802273\ttotal: 1.4s\tremaining: 1.82s\n",
      "435:\tlearn: 0.5802199\ttotal: 1.4s\tremaining: 1.81s\n",
      "436:\tlearn: 0.5802043\ttotal: 1.41s\tremaining: 1.81s\n",
      "437:\tlearn: 0.5801781\ttotal: 1.41s\tremaining: 1.81s\n",
      "438:\tlearn: 0.5801567\ttotal: 1.41s\tremaining: 1.8s\n",
      "439:\tlearn: 0.5801422\ttotal: 1.41s\tremaining: 1.8s\n",
      "440:\tlearn: 0.5801258\ttotal: 1.42s\tremaining: 1.8s\n",
      "441:\tlearn: 0.5801209\ttotal: 1.42s\tremaining: 1.79s\n",
      "442:\tlearn: 0.5801054\ttotal: 1.42s\tremaining: 1.79s\n",
      "443:\tlearn: 0.5801018\ttotal: 1.43s\tremaining: 1.79s\n",
      "444:\tlearn: 0.5800692\ttotal: 1.43s\tremaining: 1.78s\n",
      "445:\tlearn: 0.5800484\ttotal: 1.43s\tremaining: 1.78s\n",
      "446:\tlearn: 0.5800434\ttotal: 1.44s\tremaining: 1.78s\n",
      "447:\tlearn: 0.5800370\ttotal: 1.44s\tremaining: 1.77s\n",
      "448:\tlearn: 0.5800170\ttotal: 1.44s\tremaining: 1.77s\n",
      "449:\tlearn: 0.5800073\ttotal: 1.45s\tremaining: 1.77s\n",
      "450:\tlearn: 0.5799989\ttotal: 1.45s\tremaining: 1.76s\n",
      "451:\tlearn: 0.5799896\ttotal: 1.45s\tremaining: 1.76s\n",
      "452:\tlearn: 0.5799722\ttotal: 1.45s\tremaining: 1.76s\n",
      "453:\tlearn: 0.5799521\ttotal: 1.46s\tremaining: 1.75s\n",
      "454:\tlearn: 0.5799359\ttotal: 1.46s\tremaining: 1.75s\n",
      "455:\tlearn: 0.5799280\ttotal: 1.46s\tremaining: 1.75s\n",
      "456:\tlearn: 0.5799011\ttotal: 1.47s\tremaining: 1.74s\n",
      "457:\tlearn: 0.5798863\ttotal: 1.47s\tremaining: 1.74s\n",
      "458:\tlearn: 0.5798791\ttotal: 1.47s\tremaining: 1.74s\n",
      "459:\tlearn: 0.5798615\ttotal: 1.48s\tremaining: 1.73s\n",
      "460:\tlearn: 0.5798406\ttotal: 1.48s\tremaining: 1.73s\n",
      "461:\tlearn: 0.5798214\ttotal: 1.48s\tremaining: 1.73s\n",
      "462:\tlearn: 0.5798169\ttotal: 1.49s\tremaining: 1.72s\n",
      "463:\tlearn: 0.5797954\ttotal: 1.49s\tremaining: 1.72s\n",
      "464:\tlearn: 0.5797839\ttotal: 1.49s\tremaining: 1.72s\n",
      "465:\tlearn: 0.5797708\ttotal: 1.5s\tremaining: 1.71s\n",
      "466:\tlearn: 0.5797662\ttotal: 1.5s\tremaining: 1.71s\n",
      "467:\tlearn: 0.5797532\ttotal: 1.5s\tremaining: 1.71s\n",
      "468:\tlearn: 0.5797455\ttotal: 1.5s\tremaining: 1.7s\n",
      "469:\tlearn: 0.5797343\ttotal: 1.51s\tremaining: 1.7s\n",
      "470:\tlearn: 0.5797187\ttotal: 1.51s\tremaining: 1.7s\n",
      "471:\tlearn: 0.5797055\ttotal: 1.51s\tremaining: 1.69s\n",
      "472:\tlearn: 0.5796926\ttotal: 1.52s\tremaining: 1.69s\n",
      "473:\tlearn: 0.5796824\ttotal: 1.52s\tremaining: 1.69s\n",
      "474:\tlearn: 0.5796725\ttotal: 1.52s\tremaining: 1.68s\n",
      "475:\tlearn: 0.5796504\ttotal: 1.53s\tremaining: 1.68s\n",
      "476:\tlearn: 0.5796408\ttotal: 1.53s\tremaining: 1.68s\n",
      "477:\tlearn: 0.5796336\ttotal: 1.53s\tremaining: 1.67s\n",
      "478:\tlearn: 0.5796184\ttotal: 1.53s\tremaining: 1.67s\n",
      "479:\tlearn: 0.5796113\ttotal: 1.54s\tremaining: 1.67s\n",
      "480:\tlearn: 0.5796030\ttotal: 1.54s\tremaining: 1.66s\n",
      "481:\tlearn: 0.5795886\ttotal: 1.54s\tremaining: 1.66s\n",
      "482:\tlearn: 0.5795708\ttotal: 1.55s\tremaining: 1.66s\n",
      "483:\tlearn: 0.5795553\ttotal: 1.55s\tremaining: 1.65s\n",
      "484:\tlearn: 0.5795447\ttotal: 1.55s\tremaining: 1.65s\n",
      "485:\tlearn: 0.5795351\ttotal: 1.56s\tremaining: 1.65s\n",
      "486:\tlearn: 0.5795277\ttotal: 1.56s\tremaining: 1.64s\n",
      "487:\tlearn: 0.5795171\ttotal: 1.56s\tremaining: 1.64s\n",
      "488:\tlearn: 0.5795007\ttotal: 1.57s\tremaining: 1.64s\n",
      "489:\tlearn: 0.5794898\ttotal: 1.57s\tremaining: 1.63s\n",
      "490:\tlearn: 0.5794826\ttotal: 1.57s\tremaining: 1.63s\n",
      "491:\tlearn: 0.5794759\ttotal: 1.57s\tremaining: 1.63s\n",
      "492:\tlearn: 0.5794629\ttotal: 1.58s\tremaining: 1.62s\n",
      "493:\tlearn: 0.5794511\ttotal: 1.58s\tremaining: 1.62s\n",
      "494:\tlearn: 0.5794384\ttotal: 1.58s\tremaining: 1.62s\n",
      "495:\tlearn: 0.5794271\ttotal: 1.59s\tremaining: 1.61s\n",
      "496:\tlearn: 0.5794163\ttotal: 1.59s\tremaining: 1.61s\n",
      "497:\tlearn: 0.5793976\ttotal: 1.59s\tremaining: 1.61s\n",
      "498:\tlearn: 0.5793848\ttotal: 1.6s\tremaining: 1.6s\n",
      "499:\tlearn: 0.5793771\ttotal: 1.6s\tremaining: 1.6s\n",
      "500:\tlearn: 0.5793706\ttotal: 1.6s\tremaining: 1.6s\n",
      "501:\tlearn: 0.5793671\ttotal: 1.61s\tremaining: 1.59s\n",
      "502:\tlearn: 0.5793629\ttotal: 1.61s\tremaining: 1.59s\n",
      "503:\tlearn: 0.5793415\ttotal: 1.61s\tremaining: 1.59s\n",
      "504:\tlearn: 0.5793377\ttotal: 1.61s\tremaining: 1.58s\n",
      "505:\tlearn: 0.5793294\ttotal: 1.62s\tremaining: 1.58s\n",
      "506:\tlearn: 0.5793131\ttotal: 1.62s\tremaining: 1.58s\n",
      "507:\tlearn: 0.5793039\ttotal: 1.63s\tremaining: 1.57s\n",
      "508:\tlearn: 0.5792947\ttotal: 1.63s\tremaining: 1.57s\n",
      "509:\tlearn: 0.5792918\ttotal: 1.63s\tremaining: 1.57s\n",
      "510:\tlearn: 0.5792803\ttotal: 1.63s\tremaining: 1.56s\n",
      "511:\tlearn: 0.5792743\ttotal: 1.64s\tremaining: 1.56s\n",
      "512:\tlearn: 0.5792616\ttotal: 1.64s\tremaining: 1.56s\n",
      "513:\tlearn: 0.5792520\ttotal: 1.64s\tremaining: 1.55s\n",
      "514:\tlearn: 0.5792397\ttotal: 1.65s\tremaining: 1.55s\n",
      "515:\tlearn: 0.5792351\ttotal: 1.65s\tremaining: 1.55s\n",
      "516:\tlearn: 0.5792204\ttotal: 1.65s\tremaining: 1.54s\n",
      "517:\tlearn: 0.5792114\ttotal: 1.66s\tremaining: 1.54s\n",
      "518:\tlearn: 0.5792076\ttotal: 1.66s\tremaining: 1.54s\n",
      "519:\tlearn: 0.5792030\ttotal: 1.66s\tremaining: 1.53s\n",
      "520:\tlearn: 0.5791905\ttotal: 1.67s\tremaining: 1.53s\n",
      "521:\tlearn: 0.5791794\ttotal: 1.67s\tremaining: 1.53s\n",
      "522:\tlearn: 0.5791766\ttotal: 1.67s\tremaining: 1.52s\n",
      "523:\tlearn: 0.5791636\ttotal: 1.68s\tremaining: 1.52s\n",
      "524:\tlearn: 0.5791581\ttotal: 1.68s\tremaining: 1.52s\n",
      "525:\tlearn: 0.5791412\ttotal: 1.68s\tremaining: 1.51s\n",
      "526:\tlearn: 0.5791278\ttotal: 1.68s\tremaining: 1.51s\n",
      "527:\tlearn: 0.5791203\ttotal: 1.69s\tremaining: 1.51s\n",
      "528:\tlearn: 0.5790951\ttotal: 1.69s\tremaining: 1.5s\n",
      "529:\tlearn: 0.5790907\ttotal: 1.69s\tremaining: 1.5s\n",
      "530:\tlearn: 0.5790818\ttotal: 1.7s\tremaining: 1.5s\n",
      "531:\tlearn: 0.5790705\ttotal: 1.7s\tremaining: 1.5s\n",
      "532:\tlearn: 0.5790629\ttotal: 1.7s\tremaining: 1.49s\n",
      "533:\tlearn: 0.5790502\ttotal: 1.71s\tremaining: 1.49s\n",
      "534:\tlearn: 0.5790425\ttotal: 1.71s\tremaining: 1.49s\n",
      "535:\tlearn: 0.5790315\ttotal: 1.71s\tremaining: 1.48s\n",
      "536:\tlearn: 0.5790148\ttotal: 1.72s\tremaining: 1.48s\n",
      "537:\tlearn: 0.5790065\ttotal: 1.72s\tremaining: 1.48s\n",
      "538:\tlearn: 0.5789950\ttotal: 1.72s\tremaining: 1.47s\n",
      "539:\tlearn: 0.5789869\ttotal: 1.73s\tremaining: 1.47s\n",
      "540:\tlearn: 0.5789820\ttotal: 1.73s\tremaining: 1.47s\n",
      "541:\tlearn: 0.5789688\ttotal: 1.73s\tremaining: 1.46s\n",
      "542:\tlearn: 0.5789635\ttotal: 1.73s\tremaining: 1.46s\n",
      "543:\tlearn: 0.5789475\ttotal: 1.74s\tremaining: 1.46s\n",
      "544:\tlearn: 0.5789421\ttotal: 1.74s\tremaining: 1.45s\n",
      "545:\tlearn: 0.5789313\ttotal: 1.74s\tremaining: 1.45s\n",
      "546:\tlearn: 0.5789225\ttotal: 1.75s\tremaining: 1.45s\n",
      "547:\tlearn: 0.5789088\ttotal: 1.75s\tremaining: 1.44s\n",
      "548:\tlearn: 0.5788967\ttotal: 1.75s\tremaining: 1.44s\n",
      "549:\tlearn: 0.5788873\ttotal: 1.76s\tremaining: 1.44s\n",
      "550:\tlearn: 0.5788818\ttotal: 1.76s\tremaining: 1.43s\n",
      "551:\tlearn: 0.5788724\ttotal: 1.76s\tremaining: 1.43s\n",
      "552:\tlearn: 0.5788634\ttotal: 1.76s\tremaining: 1.43s\n",
      "553:\tlearn: 0.5788543\ttotal: 1.77s\tremaining: 1.42s\n",
      "554:\tlearn: 0.5788445\ttotal: 1.77s\tremaining: 1.42s\n",
      "555:\tlearn: 0.5788365\ttotal: 1.77s\tremaining: 1.42s\n",
      "556:\tlearn: 0.5788324\ttotal: 1.78s\tremaining: 1.41s\n",
      "557:\tlearn: 0.5788227\ttotal: 1.78s\tremaining: 1.41s\n",
      "558:\tlearn: 0.5788182\ttotal: 1.78s\tremaining: 1.41s\n",
      "559:\tlearn: 0.5788061\ttotal: 1.79s\tremaining: 1.4s\n",
      "560:\tlearn: 0.5788000\ttotal: 1.79s\tremaining: 1.4s\n",
      "561:\tlearn: 0.5787654\ttotal: 1.79s\tremaining: 1.4s\n",
      "562:\tlearn: 0.5787473\ttotal: 1.8s\tremaining: 1.4s\n",
      "563:\tlearn: 0.5787411\ttotal: 1.8s\tremaining: 1.39s\n",
      "564:\tlearn: 0.5787330\ttotal: 1.8s\tremaining: 1.39s\n",
      "565:\tlearn: 0.5787226\ttotal: 1.81s\tremaining: 1.39s\n",
      "566:\tlearn: 0.5787154\ttotal: 1.81s\tremaining: 1.38s\n",
      "567:\tlearn: 0.5787025\ttotal: 1.81s\tremaining: 1.38s\n",
      "568:\tlearn: 0.5786958\ttotal: 1.82s\tremaining: 1.38s\n",
      "569:\tlearn: 0.5786809\ttotal: 1.82s\tremaining: 1.37s\n",
      "570:\tlearn: 0.5786680\ttotal: 1.82s\tremaining: 1.37s\n",
      "571:\tlearn: 0.5786518\ttotal: 1.82s\tremaining: 1.37s\n",
      "572:\tlearn: 0.5786437\ttotal: 1.83s\tremaining: 1.36s\n",
      "573:\tlearn: 0.5786366\ttotal: 1.83s\tremaining: 1.36s\n",
      "574:\tlearn: 0.5786285\ttotal: 1.83s\tremaining: 1.36s\n",
      "575:\tlearn: 0.5786260\ttotal: 1.84s\tremaining: 1.35s\n",
      "576:\tlearn: 0.5786126\ttotal: 1.84s\tremaining: 1.35s\n",
      "577:\tlearn: 0.5786073\ttotal: 1.84s\tremaining: 1.35s\n",
      "578:\tlearn: 0.5785996\ttotal: 1.85s\tremaining: 1.34s\n",
      "579:\tlearn: 0.5785941\ttotal: 1.85s\tremaining: 1.34s\n",
      "580:\tlearn: 0.5785903\ttotal: 1.85s\tremaining: 1.34s\n",
      "581:\tlearn: 0.5785872\ttotal: 1.86s\tremaining: 1.33s\n",
      "582:\tlearn: 0.5785801\ttotal: 1.86s\tremaining: 1.33s\n",
      "583:\tlearn: 0.5785690\ttotal: 1.86s\tremaining: 1.33s\n",
      "584:\tlearn: 0.5785548\ttotal: 1.87s\tremaining: 1.32s\n",
      "585:\tlearn: 0.5785439\ttotal: 1.87s\tremaining: 1.32s\n",
      "586:\tlearn: 0.5785301\ttotal: 1.87s\tremaining: 1.32s\n",
      "587:\tlearn: 0.5785257\ttotal: 1.88s\tremaining: 1.31s\n",
      "588:\tlearn: 0.5785131\ttotal: 1.88s\tremaining: 1.31s\n",
      "589:\tlearn: 0.5785089\ttotal: 1.88s\tremaining: 1.31s\n",
      "590:\tlearn: 0.5784989\ttotal: 1.89s\tremaining: 1.3s\n",
      "591:\tlearn: 0.5784862\ttotal: 1.89s\tremaining: 1.3s\n",
      "592:\tlearn: 0.5784822\ttotal: 1.89s\tremaining: 1.3s\n",
      "593:\tlearn: 0.5784730\ttotal: 1.9s\tremaining: 1.3s\n",
      "594:\tlearn: 0.5784661\ttotal: 1.9s\tremaining: 1.29s\n",
      "595:\tlearn: 0.5784549\ttotal: 1.9s\tremaining: 1.29s\n",
      "596:\tlearn: 0.5784354\ttotal: 1.91s\tremaining: 1.29s\n",
      "597:\tlearn: 0.5784307\ttotal: 1.91s\tremaining: 1.28s\n",
      "598:\tlearn: 0.5784033\ttotal: 1.91s\tremaining: 1.28s\n",
      "599:\tlearn: 0.5783981\ttotal: 1.92s\tremaining: 1.28s\n",
      "600:\tlearn: 0.5783939\ttotal: 1.92s\tremaining: 1.27s\n",
      "601:\tlearn: 0.5783776\ttotal: 1.92s\tremaining: 1.27s\n",
      "602:\tlearn: 0.5783635\ttotal: 1.93s\tremaining: 1.27s\n",
      "603:\tlearn: 0.5783434\ttotal: 1.93s\tremaining: 1.26s\n",
      "604:\tlearn: 0.5783326\ttotal: 1.93s\tremaining: 1.26s\n",
      "605:\tlearn: 0.5783295\ttotal: 1.94s\tremaining: 1.26s\n",
      "606:\tlearn: 0.5783209\ttotal: 1.94s\tremaining: 1.25s\n",
      "607:\tlearn: 0.5783195\ttotal: 1.94s\tremaining: 1.25s\n",
      "608:\tlearn: 0.5783138\ttotal: 1.95s\tremaining: 1.25s\n",
      "609:\tlearn: 0.5783001\ttotal: 1.95s\tremaining: 1.25s\n",
      "610:\tlearn: 0.5782946\ttotal: 1.95s\tremaining: 1.24s\n",
      "611:\tlearn: 0.5782750\ttotal: 1.96s\tremaining: 1.24s\n",
      "612:\tlearn: 0.5782726\ttotal: 1.96s\tremaining: 1.24s\n",
      "613:\tlearn: 0.5782696\ttotal: 1.96s\tremaining: 1.23s\n",
      "614:\tlearn: 0.5782614\ttotal: 1.96s\tremaining: 1.23s\n",
      "615:\tlearn: 0.5782523\ttotal: 1.97s\tremaining: 1.23s\n",
      "616:\tlearn: 0.5782449\ttotal: 1.97s\tremaining: 1.22s\n",
      "617:\tlearn: 0.5782400\ttotal: 1.97s\tremaining: 1.22s\n",
      "618:\tlearn: 0.5782281\ttotal: 1.98s\tremaining: 1.22s\n",
      "619:\tlearn: 0.5782224\ttotal: 1.98s\tremaining: 1.21s\n",
      "620:\tlearn: 0.5782123\ttotal: 1.98s\tremaining: 1.21s\n",
      "621:\tlearn: 0.5782004\ttotal: 1.99s\tremaining: 1.21s\n",
      "622:\tlearn: 0.5781903\ttotal: 1.99s\tremaining: 1.2s\n",
      "623:\tlearn: 0.5781869\ttotal: 1.99s\tremaining: 1.2s\n",
      "624:\tlearn: 0.5781854\ttotal: 2s\tremaining: 1.2s\n",
      "625:\tlearn: 0.5781818\ttotal: 2s\tremaining: 1.2s\n",
      "626:\tlearn: 0.5781728\ttotal: 2s\tremaining: 1.19s\n",
      "627:\tlearn: 0.5781591\ttotal: 2.01s\tremaining: 1.19s\n",
      "628:\tlearn: 0.5781536\ttotal: 2.01s\tremaining: 1.19s\n",
      "629:\tlearn: 0.5781362\ttotal: 2.01s\tremaining: 1.18s\n",
      "630:\tlearn: 0.5781307\ttotal: 2.02s\tremaining: 1.18s\n",
      "631:\tlearn: 0.5781227\ttotal: 2.02s\tremaining: 1.18s\n",
      "632:\tlearn: 0.5780976\ttotal: 2.02s\tremaining: 1.17s\n",
      "633:\tlearn: 0.5780944\ttotal: 2.03s\tremaining: 1.17s\n",
      "634:\tlearn: 0.5780883\ttotal: 2.03s\tremaining: 1.17s\n",
      "635:\tlearn: 0.5780829\ttotal: 2.03s\tremaining: 1.16s\n",
      "636:\tlearn: 0.5780700\ttotal: 2.04s\tremaining: 1.16s\n",
      "637:\tlearn: 0.5780632\ttotal: 2.04s\tremaining: 1.16s\n",
      "638:\tlearn: 0.5780564\ttotal: 2.04s\tremaining: 1.15s\n",
      "639:\tlearn: 0.5780537\ttotal: 2.04s\tremaining: 1.15s\n",
      "640:\tlearn: 0.5780437\ttotal: 2.05s\tremaining: 1.15s\n",
      "641:\tlearn: 0.5780393\ttotal: 2.05s\tremaining: 1.14s\n",
      "642:\tlearn: 0.5780314\ttotal: 2.06s\tremaining: 1.14s\n",
      "643:\tlearn: 0.5780254\ttotal: 2.06s\tremaining: 1.14s\n",
      "644:\tlearn: 0.5780132\ttotal: 2.06s\tremaining: 1.14s\n",
      "645:\tlearn: 0.5780091\ttotal: 2.06s\tremaining: 1.13s\n",
      "646:\tlearn: 0.5779977\ttotal: 2.07s\tremaining: 1.13s\n",
      "647:\tlearn: 0.5779931\ttotal: 2.07s\tremaining: 1.13s\n",
      "648:\tlearn: 0.5779909\ttotal: 2.08s\tremaining: 1.12s\n",
      "649:\tlearn: 0.5779835\ttotal: 2.08s\tremaining: 1.12s\n",
      "650:\tlearn: 0.5779787\ttotal: 2.08s\tremaining: 1.11s\n",
      "651:\tlearn: 0.5779675\ttotal: 2.08s\tremaining: 1.11s\n",
      "652:\tlearn: 0.5779582\ttotal: 2.09s\tremaining: 1.11s\n",
      "653:\tlearn: 0.5779542\ttotal: 2.09s\tremaining: 1.11s\n",
      "654:\tlearn: 0.5779482\ttotal: 2.09s\tremaining: 1.1s\n",
      "655:\tlearn: 0.5779373\ttotal: 2.1s\tremaining: 1.1s\n",
      "656:\tlearn: 0.5779293\ttotal: 2.1s\tremaining: 1.1s\n",
      "657:\tlearn: 0.5779192\ttotal: 2.1s\tremaining: 1.09s\n",
      "658:\tlearn: 0.5779054\ttotal: 2.11s\tremaining: 1.09s\n",
      "659:\tlearn: 0.5779018\ttotal: 2.11s\tremaining: 1.09s\n",
      "660:\tlearn: 0.5778906\ttotal: 2.11s\tremaining: 1.08s\n",
      "661:\tlearn: 0.5778851\ttotal: 2.12s\tremaining: 1.08s\n",
      "662:\tlearn: 0.5778794\ttotal: 2.12s\tremaining: 1.08s\n",
      "663:\tlearn: 0.5778666\ttotal: 2.12s\tremaining: 1.07s\n",
      "664:\tlearn: 0.5778643\ttotal: 2.13s\tremaining: 1.07s\n",
      "665:\tlearn: 0.5778618\ttotal: 2.13s\tremaining: 1.07s\n",
      "666:\tlearn: 0.5778527\ttotal: 2.13s\tremaining: 1.06s\n",
      "667:\tlearn: 0.5778383\ttotal: 2.14s\tremaining: 1.06s\n",
      "668:\tlearn: 0.5778331\ttotal: 2.14s\tremaining: 1.06s\n",
      "669:\tlearn: 0.5778253\ttotal: 2.14s\tremaining: 1.05s\n",
      "670:\tlearn: 0.5778207\ttotal: 2.15s\tremaining: 1.05s\n",
      "671:\tlearn: 0.5778160\ttotal: 2.15s\tremaining: 1.05s\n",
      "672:\tlearn: 0.5778067\ttotal: 2.15s\tremaining: 1.04s\n",
      "673:\tlearn: 0.5778024\ttotal: 2.15s\tremaining: 1.04s\n",
      "674:\tlearn: 0.5777959\ttotal: 2.16s\tremaining: 1.04s\n",
      "675:\tlearn: 0.5777933\ttotal: 2.16s\tremaining: 1.04s\n",
      "676:\tlearn: 0.5777869\ttotal: 2.17s\tremaining: 1.03s\n",
      "677:\tlearn: 0.5777834\ttotal: 2.17s\tremaining: 1.03s\n",
      "678:\tlearn: 0.5777727\ttotal: 2.17s\tremaining: 1.03s\n",
      "679:\tlearn: 0.5777672\ttotal: 2.17s\tremaining: 1.02s\n",
      "680:\tlearn: 0.5777597\ttotal: 2.18s\tremaining: 1.02s\n",
      "681:\tlearn: 0.5777526\ttotal: 2.18s\tremaining: 1.02s\n",
      "682:\tlearn: 0.5777415\ttotal: 2.18s\tremaining: 1.01s\n",
      "683:\tlearn: 0.5777382\ttotal: 2.19s\tremaining: 1.01s\n",
      "684:\tlearn: 0.5777290\ttotal: 2.19s\tremaining: 1.01s\n",
      "685:\tlearn: 0.5777189\ttotal: 2.19s\tremaining: 1s\n",
      "686:\tlearn: 0.5777154\ttotal: 2.2s\tremaining: 1s\n",
      "687:\tlearn: 0.5777116\ttotal: 2.2s\tremaining: 998ms\n",
      "688:\tlearn: 0.5777084\ttotal: 2.2s\tremaining: 995ms\n",
      "689:\tlearn: 0.5776969\ttotal: 2.21s\tremaining: 992ms\n",
      "690:\tlearn: 0.5776883\ttotal: 2.21s\tremaining: 989ms\n",
      "691:\tlearn: 0.5776790\ttotal: 2.21s\tremaining: 986ms\n",
      "692:\tlearn: 0.5776720\ttotal: 2.22s\tremaining: 982ms\n",
      "693:\tlearn: 0.5776679\ttotal: 2.22s\tremaining: 979ms\n",
      "694:\tlearn: 0.5776497\ttotal: 2.22s\tremaining: 976ms\n",
      "695:\tlearn: 0.5776479\ttotal: 2.23s\tremaining: 973ms\n",
      "696:\tlearn: 0.5776446\ttotal: 2.23s\tremaining: 970ms\n",
      "697:\tlearn: 0.5776366\ttotal: 2.23s\tremaining: 966ms\n",
      "698:\tlearn: 0.5776345\ttotal: 2.24s\tremaining: 963ms\n",
      "699:\tlearn: 0.5776276\ttotal: 2.24s\tremaining: 960ms\n",
      "700:\tlearn: 0.5776080\ttotal: 2.24s\tremaining: 957ms\n",
      "701:\tlearn: 0.5775995\ttotal: 2.25s\tremaining: 954ms\n",
      "702:\tlearn: 0.5775927\ttotal: 2.25s\tremaining: 951ms\n",
      "703:\tlearn: 0.5775896\ttotal: 2.25s\tremaining: 947ms\n",
      "704:\tlearn: 0.5775866\ttotal: 2.26s\tremaining: 944ms\n",
      "705:\tlearn: 0.5775701\ttotal: 2.26s\tremaining: 941ms\n",
      "706:\tlearn: 0.5775667\ttotal: 2.26s\tremaining: 938ms\n",
      "707:\tlearn: 0.5775578\ttotal: 2.27s\tremaining: 935ms\n",
      "708:\tlearn: 0.5775526\ttotal: 2.27s\tremaining: 931ms\n",
      "709:\tlearn: 0.5775466\ttotal: 2.27s\tremaining: 928ms\n",
      "710:\tlearn: 0.5775432\ttotal: 2.27s\tremaining: 925ms\n",
      "711:\tlearn: 0.5775350\ttotal: 2.28s\tremaining: 922ms\n",
      "712:\tlearn: 0.5775301\ttotal: 2.28s\tremaining: 919ms\n",
      "713:\tlearn: 0.5775223\ttotal: 2.29s\tremaining: 916ms\n",
      "714:\tlearn: 0.5775135\ttotal: 2.29s\tremaining: 912ms\n",
      "715:\tlearn: 0.5774953\ttotal: 2.29s\tremaining: 909ms\n",
      "716:\tlearn: 0.5774866\ttotal: 2.29s\tremaining: 906ms\n",
      "717:\tlearn: 0.5774842\ttotal: 2.3s\tremaining: 903ms\n",
      "718:\tlearn: 0.5774770\ttotal: 2.3s\tremaining: 900ms\n",
      "719:\tlearn: 0.5774688\ttotal: 2.31s\tremaining: 896ms\n",
      "720:\tlearn: 0.5774599\ttotal: 2.31s\tremaining: 893ms\n",
      "721:\tlearn: 0.5774525\ttotal: 2.31s\tremaining: 890ms\n",
      "722:\tlearn: 0.5774481\ttotal: 2.31s\tremaining: 887ms\n",
      "723:\tlearn: 0.5774424\ttotal: 2.32s\tremaining: 884ms\n",
      "724:\tlearn: 0.5774358\ttotal: 2.32s\tremaining: 880ms\n",
      "725:\tlearn: 0.5774295\ttotal: 2.32s\tremaining: 877ms\n",
      "726:\tlearn: 0.5774220\ttotal: 2.33s\tremaining: 874ms\n",
      "727:\tlearn: 0.5774079\ttotal: 2.33s\tremaining: 871ms\n",
      "728:\tlearn: 0.5774041\ttotal: 2.33s\tremaining: 868ms\n",
      "729:\tlearn: 0.5774006\ttotal: 2.34s\tremaining: 865ms\n",
      "730:\tlearn: 0.5773889\ttotal: 2.34s\tremaining: 861ms\n",
      "731:\tlearn: 0.5773836\ttotal: 2.34s\tremaining: 858ms\n",
      "732:\tlearn: 0.5773737\ttotal: 2.35s\tremaining: 855ms\n",
      "733:\tlearn: 0.5773648\ttotal: 2.35s\tremaining: 852ms\n",
      "734:\tlearn: 0.5773606\ttotal: 2.35s\tremaining: 849ms\n",
      "735:\tlearn: 0.5773579\ttotal: 2.36s\tremaining: 845ms\n",
      "736:\tlearn: 0.5773529\ttotal: 2.36s\tremaining: 842ms\n",
      "737:\tlearn: 0.5773498\ttotal: 2.36s\tremaining: 839ms\n",
      "738:\tlearn: 0.5773486\ttotal: 2.37s\tremaining: 836ms\n",
      "739:\tlearn: 0.5773394\ttotal: 2.37s\tremaining: 833ms\n",
      "740:\tlearn: 0.5773303\ttotal: 2.37s\tremaining: 829ms\n",
      "741:\tlearn: 0.5773232\ttotal: 2.38s\tremaining: 826ms\n",
      "742:\tlearn: 0.5773124\ttotal: 2.38s\tremaining: 823ms\n",
      "743:\tlearn: 0.5773094\ttotal: 2.38s\tremaining: 820ms\n",
      "744:\tlearn: 0.5773046\ttotal: 2.39s\tremaining: 817ms\n",
      "745:\tlearn: 0.5772948\ttotal: 2.39s\tremaining: 814ms\n",
      "746:\tlearn: 0.5772862\ttotal: 2.39s\tremaining: 810ms\n",
      "747:\tlearn: 0.5772757\ttotal: 2.4s\tremaining: 807ms\n",
      "748:\tlearn: 0.5772731\ttotal: 2.4s\tremaining: 804ms\n",
      "749:\tlearn: 0.5772698\ttotal: 2.4s\tremaining: 801ms\n",
      "750:\tlearn: 0.5772670\ttotal: 2.4s\tremaining: 798ms\n",
      "751:\tlearn: 0.5772571\ttotal: 2.41s\tremaining: 794ms\n",
      "752:\tlearn: 0.5772536\ttotal: 2.41s\tremaining: 791ms\n",
      "753:\tlearn: 0.5772519\ttotal: 2.42s\tremaining: 788ms\n",
      "754:\tlearn: 0.5772444\ttotal: 2.42s\tremaining: 785ms\n",
      "755:\tlearn: 0.5772381\ttotal: 2.42s\tremaining: 782ms\n",
      "756:\tlearn: 0.5772299\ttotal: 2.42s\tremaining: 778ms\n",
      "757:\tlearn: 0.5772199\ttotal: 2.43s\tremaining: 775ms\n",
      "758:\tlearn: 0.5772159\ttotal: 2.43s\tremaining: 772ms\n",
      "759:\tlearn: 0.5772087\ttotal: 2.43s\tremaining: 769ms\n",
      "760:\tlearn: 0.5772071\ttotal: 2.44s\tremaining: 766ms\n",
      "761:\tlearn: 0.5772015\ttotal: 2.44s\tremaining: 763ms\n",
      "762:\tlearn: 0.5771880\ttotal: 2.44s\tremaining: 759ms\n",
      "763:\tlearn: 0.5771759\ttotal: 2.45s\tremaining: 756ms\n",
      "764:\tlearn: 0.5771711\ttotal: 2.45s\tremaining: 753ms\n",
      "765:\tlearn: 0.5771617\ttotal: 2.45s\tremaining: 750ms\n",
      "766:\tlearn: 0.5771481\ttotal: 2.46s\tremaining: 747ms\n",
      "767:\tlearn: 0.5771447\ttotal: 2.46s\tremaining: 743ms\n",
      "768:\tlearn: 0.5771423\ttotal: 2.46s\tremaining: 740ms\n",
      "769:\tlearn: 0.5771381\ttotal: 2.47s\tremaining: 737ms\n",
      "770:\tlearn: 0.5771342\ttotal: 2.47s\tremaining: 734ms\n",
      "771:\tlearn: 0.5771292\ttotal: 2.47s\tremaining: 731ms\n",
      "772:\tlearn: 0.5771268\ttotal: 2.48s\tremaining: 727ms\n",
      "773:\tlearn: 0.5771237\ttotal: 2.48s\tremaining: 724ms\n",
      "774:\tlearn: 0.5771213\ttotal: 2.48s\tremaining: 721ms\n",
      "775:\tlearn: 0.5771158\ttotal: 2.49s\tremaining: 718ms\n",
      "776:\tlearn: 0.5771080\ttotal: 2.49s\tremaining: 715ms\n",
      "777:\tlearn: 0.5771058\ttotal: 2.49s\tremaining: 711ms\n",
      "778:\tlearn: 0.5770982\ttotal: 2.5s\tremaining: 708ms\n",
      "779:\tlearn: 0.5770828\ttotal: 2.5s\tremaining: 705ms\n",
      "780:\tlearn: 0.5770777\ttotal: 2.5s\tremaining: 702ms\n",
      "781:\tlearn: 0.5770713\ttotal: 2.51s\tremaining: 699ms\n",
      "782:\tlearn: 0.5770630\ttotal: 2.51s\tremaining: 695ms\n",
      "783:\tlearn: 0.5770558\ttotal: 2.51s\tremaining: 692ms\n",
      "784:\tlearn: 0.5770436\ttotal: 2.52s\tremaining: 689ms\n",
      "785:\tlearn: 0.5770356\ttotal: 2.52s\tremaining: 686ms\n",
      "786:\tlearn: 0.5770273\ttotal: 2.52s\tremaining: 683ms\n",
      "787:\tlearn: 0.5770259\ttotal: 2.52s\tremaining: 679ms\n",
      "788:\tlearn: 0.5770212\ttotal: 2.53s\tremaining: 676ms\n",
      "789:\tlearn: 0.5770170\ttotal: 2.53s\tremaining: 673ms\n",
      "790:\tlearn: 0.5770119\ttotal: 2.54s\tremaining: 670ms\n",
      "791:\tlearn: 0.5770003\ttotal: 2.54s\tremaining: 667ms\n",
      "792:\tlearn: 0.5769969\ttotal: 2.54s\tremaining: 664ms\n",
      "793:\tlearn: 0.5769923\ttotal: 2.54s\tremaining: 660ms\n",
      "794:\tlearn: 0.5769827\ttotal: 2.55s\tremaining: 657ms\n",
      "795:\tlearn: 0.5769792\ttotal: 2.55s\tremaining: 654ms\n",
      "796:\tlearn: 0.5769713\ttotal: 2.55s\tremaining: 651ms\n",
      "797:\tlearn: 0.5769631\ttotal: 2.56s\tremaining: 648ms\n",
      "798:\tlearn: 0.5769511\ttotal: 2.56s\tremaining: 644ms\n",
      "799:\tlearn: 0.5769480\ttotal: 2.56s\tremaining: 641ms\n",
      "800:\tlearn: 0.5769400\ttotal: 2.57s\tremaining: 638ms\n",
      "801:\tlearn: 0.5769376\ttotal: 2.57s\tremaining: 635ms\n",
      "802:\tlearn: 0.5769272\ttotal: 2.57s\tremaining: 631ms\n",
      "803:\tlearn: 0.5769222\ttotal: 2.58s\tremaining: 628ms\n",
      "804:\tlearn: 0.5769137\ttotal: 2.58s\tremaining: 625ms\n",
      "805:\tlearn: 0.5769111\ttotal: 2.58s\tremaining: 622ms\n",
      "806:\tlearn: 0.5769086\ttotal: 2.59s\tremaining: 619ms\n",
      "807:\tlearn: 0.5768971\ttotal: 2.59s\tremaining: 616ms\n",
      "808:\tlearn: 0.5768953\ttotal: 2.59s\tremaining: 612ms\n",
      "809:\tlearn: 0.5768873\ttotal: 2.6s\tremaining: 609ms\n",
      "810:\tlearn: 0.5768826\ttotal: 2.6s\tremaining: 606ms\n",
      "811:\tlearn: 0.5768802\ttotal: 2.6s\tremaining: 603ms\n",
      "812:\tlearn: 0.5768726\ttotal: 2.61s\tremaining: 600ms\n",
      "813:\tlearn: 0.5768616\ttotal: 2.61s\tremaining: 596ms\n",
      "814:\tlearn: 0.5768587\ttotal: 2.61s\tremaining: 593ms\n",
      "815:\tlearn: 0.5768556\ttotal: 2.62s\tremaining: 590ms\n",
      "816:\tlearn: 0.5768480\ttotal: 2.62s\tremaining: 587ms\n",
      "817:\tlearn: 0.5768318\ttotal: 2.62s\tremaining: 584ms\n",
      "818:\tlearn: 0.5768294\ttotal: 2.63s\tremaining: 580ms\n",
      "819:\tlearn: 0.5768275\ttotal: 2.63s\tremaining: 577ms\n",
      "820:\tlearn: 0.5768246\ttotal: 2.63s\tremaining: 574ms\n",
      "821:\tlearn: 0.5768074\ttotal: 2.63s\tremaining: 571ms\n",
      "822:\tlearn: 0.5768027\ttotal: 2.64s\tremaining: 568ms\n",
      "823:\tlearn: 0.5768005\ttotal: 2.64s\tremaining: 564ms\n",
      "824:\tlearn: 0.5767953\ttotal: 2.65s\tremaining: 561ms\n",
      "825:\tlearn: 0.5767915\ttotal: 2.65s\tremaining: 558ms\n",
      "826:\tlearn: 0.5767789\ttotal: 2.65s\tremaining: 555ms\n",
      "827:\tlearn: 0.5767744\ttotal: 2.65s\tremaining: 552ms\n",
      "828:\tlearn: 0.5767709\ttotal: 2.66s\tremaining: 548ms\n",
      "829:\tlearn: 0.5767659\ttotal: 2.66s\tremaining: 545ms\n",
      "830:\tlearn: 0.5767591\ttotal: 2.67s\tremaining: 542ms\n",
      "831:\tlearn: 0.5767525\ttotal: 2.67s\tremaining: 539ms\n",
      "832:\tlearn: 0.5767476\ttotal: 2.67s\tremaining: 536ms\n",
      "833:\tlearn: 0.5767444\ttotal: 2.67s\tremaining: 532ms\n",
      "834:\tlearn: 0.5767390\ttotal: 2.68s\tremaining: 529ms\n",
      "835:\tlearn: 0.5767345\ttotal: 2.68s\tremaining: 526ms\n",
      "836:\tlearn: 0.5767303\ttotal: 2.68s\tremaining: 523ms\n",
      "837:\tlearn: 0.5767237\ttotal: 2.69s\tremaining: 520ms\n",
      "838:\tlearn: 0.5767165\ttotal: 2.69s\tremaining: 516ms\n",
      "839:\tlearn: 0.5767090\ttotal: 2.69s\tremaining: 513ms\n",
      "840:\tlearn: 0.5766968\ttotal: 2.7s\tremaining: 510ms\n",
      "841:\tlearn: 0.5766933\ttotal: 2.7s\tremaining: 507ms\n",
      "842:\tlearn: 0.5766890\ttotal: 2.7s\tremaining: 504ms\n",
      "843:\tlearn: 0.5766856\ttotal: 2.71s\tremaining: 500ms\n",
      "844:\tlearn: 0.5766720\ttotal: 2.71s\tremaining: 497ms\n",
      "845:\tlearn: 0.5766673\ttotal: 2.71s\tremaining: 494ms\n",
      "846:\tlearn: 0.5766580\ttotal: 2.72s\tremaining: 491ms\n",
      "847:\tlearn: 0.5766534\ttotal: 2.72s\tremaining: 488ms\n",
      "848:\tlearn: 0.5766503\ttotal: 2.72s\tremaining: 484ms\n",
      "849:\tlearn: 0.5766440\ttotal: 2.73s\tremaining: 481ms\n",
      "850:\tlearn: 0.5766265\ttotal: 2.73s\tremaining: 478ms\n",
      "851:\tlearn: 0.5766234\ttotal: 2.73s\tremaining: 475ms\n",
      "852:\tlearn: 0.5766163\ttotal: 2.74s\tremaining: 472ms\n",
      "853:\tlearn: 0.5766095\ttotal: 2.74s\tremaining: 468ms\n",
      "854:\tlearn: 0.5766056\ttotal: 2.74s\tremaining: 465ms\n",
      "855:\tlearn: 0.5765984\ttotal: 2.75s\tremaining: 462ms\n",
      "856:\tlearn: 0.5765933\ttotal: 2.75s\tremaining: 459ms\n",
      "857:\tlearn: 0.5765884\ttotal: 2.75s\tremaining: 456ms\n",
      "858:\tlearn: 0.5765850\ttotal: 2.75s\tremaining: 452ms\n",
      "859:\tlearn: 0.5765755\ttotal: 2.76s\tremaining: 449ms\n",
      "860:\tlearn: 0.5765712\ttotal: 2.76s\tremaining: 446ms\n",
      "861:\tlearn: 0.5765691\ttotal: 2.77s\tremaining: 443ms\n",
      "862:\tlearn: 0.5765659\ttotal: 2.77s\tremaining: 440ms\n",
      "863:\tlearn: 0.5765631\ttotal: 2.77s\tremaining: 436ms\n",
      "864:\tlearn: 0.5765582\ttotal: 2.77s\tremaining: 433ms\n",
      "865:\tlearn: 0.5765444\ttotal: 2.78s\tremaining: 430ms\n",
      "866:\tlearn: 0.5765361\ttotal: 2.78s\tremaining: 427ms\n",
      "867:\tlearn: 0.5765343\ttotal: 2.78s\tremaining: 424ms\n",
      "868:\tlearn: 0.5765266\ttotal: 2.79s\tremaining: 420ms\n",
      "869:\tlearn: 0.5765169\ttotal: 2.79s\tremaining: 417ms\n",
      "870:\tlearn: 0.5765144\ttotal: 2.79s\tremaining: 414ms\n",
      "871:\tlearn: 0.5765115\ttotal: 2.8s\tremaining: 411ms\n",
      "872:\tlearn: 0.5765079\ttotal: 2.8s\tremaining: 407ms\n",
      "873:\tlearn: 0.5765053\ttotal: 2.8s\tremaining: 404ms\n",
      "874:\tlearn: 0.5765008\ttotal: 2.81s\tremaining: 401ms\n",
      "875:\tlearn: 0.5764980\ttotal: 2.81s\tremaining: 398ms\n",
      "876:\tlearn: 0.5764940\ttotal: 2.81s\tremaining: 395ms\n",
      "877:\tlearn: 0.5764888\ttotal: 2.82s\tremaining: 391ms\n",
      "878:\tlearn: 0.5764734\ttotal: 2.82s\tremaining: 388ms\n",
      "879:\tlearn: 0.5764645\ttotal: 2.82s\tremaining: 385ms\n",
      "880:\tlearn: 0.5764530\ttotal: 2.83s\tremaining: 382ms\n",
      "881:\tlearn: 0.5764396\ttotal: 2.83s\tremaining: 379ms\n",
      "882:\tlearn: 0.5764346\ttotal: 2.83s\tremaining: 375ms\n",
      "883:\tlearn: 0.5764315\ttotal: 2.84s\tremaining: 372ms\n",
      "884:\tlearn: 0.5764273\ttotal: 2.84s\tremaining: 369ms\n",
      "885:\tlearn: 0.5764200\ttotal: 2.84s\tremaining: 366ms\n",
      "886:\tlearn: 0.5764187\ttotal: 2.85s\tremaining: 363ms\n",
      "887:\tlearn: 0.5764125\ttotal: 2.85s\tremaining: 359ms\n",
      "888:\tlearn: 0.5764096\ttotal: 2.85s\tremaining: 356ms\n",
      "889:\tlearn: 0.5764065\ttotal: 2.85s\tremaining: 353ms\n",
      "890:\tlearn: 0.5764027\ttotal: 2.86s\tremaining: 350ms\n",
      "891:\tlearn: 0.5763992\ttotal: 2.86s\tremaining: 347ms\n",
      "892:\tlearn: 0.5763959\ttotal: 2.87s\tremaining: 343ms\n",
      "893:\tlearn: 0.5763926\ttotal: 2.87s\tremaining: 340ms\n",
      "894:\tlearn: 0.5763863\ttotal: 2.87s\tremaining: 337ms\n",
      "895:\tlearn: 0.5763750\ttotal: 2.88s\tremaining: 334ms\n",
      "896:\tlearn: 0.5763677\ttotal: 2.88s\tremaining: 331ms\n",
      "897:\tlearn: 0.5763625\ttotal: 2.88s\tremaining: 327ms\n",
      "898:\tlearn: 0.5763544\ttotal: 2.88s\tremaining: 324ms\n",
      "899:\tlearn: 0.5763514\ttotal: 2.89s\tremaining: 321ms\n",
      "900:\tlearn: 0.5763462\ttotal: 2.89s\tremaining: 318ms\n",
      "901:\tlearn: 0.5763416\ttotal: 2.89s\tremaining: 314ms\n",
      "902:\tlearn: 0.5763364\ttotal: 2.9s\tremaining: 311ms\n",
      "903:\tlearn: 0.5763327\ttotal: 2.9s\tremaining: 308ms\n",
      "904:\tlearn: 0.5763302\ttotal: 2.9s\tremaining: 305ms\n",
      "905:\tlearn: 0.5763265\ttotal: 2.91s\tremaining: 302ms\n",
      "906:\tlearn: 0.5763244\ttotal: 2.91s\tremaining: 298ms\n",
      "907:\tlearn: 0.5763222\ttotal: 2.91s\tremaining: 295ms\n",
      "908:\tlearn: 0.5763122\ttotal: 2.92s\tremaining: 292ms\n",
      "909:\tlearn: 0.5763099\ttotal: 2.92s\tremaining: 289ms\n",
      "910:\tlearn: 0.5763079\ttotal: 2.92s\tremaining: 286ms\n",
      "911:\tlearn: 0.5763032\ttotal: 2.93s\tremaining: 282ms\n",
      "912:\tlearn: 0.5762944\ttotal: 2.93s\tremaining: 279ms\n",
      "913:\tlearn: 0.5762870\ttotal: 2.93s\tremaining: 276ms\n",
      "914:\tlearn: 0.5762801\ttotal: 2.94s\tremaining: 273ms\n",
      "915:\tlearn: 0.5762746\ttotal: 2.94s\tremaining: 270ms\n",
      "916:\tlearn: 0.5762680\ttotal: 2.94s\tremaining: 266ms\n",
      "917:\tlearn: 0.5762632\ttotal: 2.95s\tremaining: 263ms\n",
      "918:\tlearn: 0.5762526\ttotal: 2.95s\tremaining: 260ms\n",
      "919:\tlearn: 0.5762466\ttotal: 2.95s\tremaining: 257ms\n",
      "920:\tlearn: 0.5762298\ttotal: 2.96s\tremaining: 254ms\n",
      "921:\tlearn: 0.5762272\ttotal: 2.96s\tremaining: 250ms\n",
      "922:\tlearn: 0.5762216\ttotal: 2.96s\tremaining: 247ms\n",
      "923:\tlearn: 0.5762190\ttotal: 2.97s\tremaining: 244ms\n",
      "924:\tlearn: 0.5762083\ttotal: 2.97s\tremaining: 241ms\n",
      "925:\tlearn: 0.5762028\ttotal: 2.97s\tremaining: 238ms\n",
      "926:\tlearn: 0.5761996\ttotal: 2.98s\tremaining: 234ms\n",
      "927:\tlearn: 0.5761959\ttotal: 2.98s\tremaining: 231ms\n",
      "928:\tlearn: 0.5761942\ttotal: 2.98s\tremaining: 228ms\n",
      "929:\tlearn: 0.5761924\ttotal: 2.98s\tremaining: 225ms\n",
      "930:\tlearn: 0.5761832\ttotal: 2.99s\tremaining: 222ms\n",
      "931:\tlearn: 0.5761774\ttotal: 2.99s\tremaining: 218ms\n",
      "932:\tlearn: 0.5761754\ttotal: 3s\tremaining: 215ms\n",
      "933:\tlearn: 0.5761715\ttotal: 3s\tremaining: 212ms\n",
      "934:\tlearn: 0.5761666\ttotal: 3s\tremaining: 209ms\n",
      "935:\tlearn: 0.5761513\ttotal: 3s\tremaining: 205ms\n",
      "936:\tlearn: 0.5761465\ttotal: 3.01s\tremaining: 202ms\n",
      "937:\tlearn: 0.5761431\ttotal: 3.01s\tremaining: 199ms\n",
      "938:\tlearn: 0.5761413\ttotal: 3.01s\tremaining: 196ms\n",
      "939:\tlearn: 0.5761359\ttotal: 3.02s\tremaining: 193ms\n",
      "940:\tlearn: 0.5761323\ttotal: 3.02s\tremaining: 189ms\n",
      "941:\tlearn: 0.5761254\ttotal: 3.02s\tremaining: 186ms\n",
      "942:\tlearn: 0.5761169\ttotal: 3.03s\tremaining: 183ms\n",
      "943:\tlearn: 0.5761090\ttotal: 3.03s\tremaining: 180ms\n",
      "944:\tlearn: 0.5761002\ttotal: 3.03s\tremaining: 177ms\n",
      "945:\tlearn: 0.5760946\ttotal: 3.04s\tremaining: 173ms\n",
      "946:\tlearn: 0.5760829\ttotal: 3.04s\tremaining: 170ms\n",
      "947:\tlearn: 0.5760775\ttotal: 3.04s\tremaining: 167ms\n",
      "948:\tlearn: 0.5760752\ttotal: 3.05s\tremaining: 164ms\n",
      "949:\tlearn: 0.5760717\ttotal: 3.05s\tremaining: 161ms\n",
      "950:\tlearn: 0.5760591\ttotal: 3.05s\tremaining: 157ms\n",
      "951:\tlearn: 0.5760524\ttotal: 3.06s\tremaining: 154ms\n",
      "952:\tlearn: 0.5760512\ttotal: 3.06s\tremaining: 151ms\n",
      "953:\tlearn: 0.5760452\ttotal: 3.06s\tremaining: 148ms\n",
      "954:\tlearn: 0.5760375\ttotal: 3.07s\tremaining: 144ms\n",
      "955:\tlearn: 0.5760309\ttotal: 3.07s\tremaining: 141ms\n",
      "956:\tlearn: 0.5760252\ttotal: 3.07s\tremaining: 138ms\n",
      "957:\tlearn: 0.5760220\ttotal: 3.08s\tremaining: 135ms\n",
      "958:\tlearn: 0.5760138\ttotal: 3.08s\tremaining: 132ms\n",
      "959:\tlearn: 0.5760087\ttotal: 3.08s\tremaining: 128ms\n",
      "960:\tlearn: 0.5760063\ttotal: 3.08s\tremaining: 125ms\n",
      "961:\tlearn: 0.5760036\ttotal: 3.09s\tremaining: 122ms\n",
      "962:\tlearn: 0.5759987\ttotal: 3.09s\tremaining: 119ms\n",
      "963:\tlearn: 0.5759952\ttotal: 3.1s\tremaining: 116ms\n",
      "964:\tlearn: 0.5759926\ttotal: 3.1s\tremaining: 112ms\n",
      "965:\tlearn: 0.5759858\ttotal: 3.1s\tremaining: 109ms\n",
      "966:\tlearn: 0.5759783\ttotal: 3.1s\tremaining: 106ms\n",
      "967:\tlearn: 0.5759704\ttotal: 3.11s\tremaining: 103ms\n",
      "968:\tlearn: 0.5759673\ttotal: 3.11s\tremaining: 99.5ms\n",
      "969:\tlearn: 0.5759646\ttotal: 3.11s\tremaining: 96.3ms\n",
      "970:\tlearn: 0.5759590\ttotal: 3.12s\tremaining: 93.1ms\n",
      "971:\tlearn: 0.5759482\ttotal: 3.12s\tremaining: 89.9ms\n",
      "972:\tlearn: 0.5759326\ttotal: 3.12s\tremaining: 86.7ms\n",
      "973:\tlearn: 0.5759291\ttotal: 3.13s\tremaining: 83.5ms\n",
      "974:\tlearn: 0.5759187\ttotal: 3.13s\tremaining: 80.3ms\n",
      "975:\tlearn: 0.5759169\ttotal: 3.13s\tremaining: 77.1ms\n",
      "976:\tlearn: 0.5759115\ttotal: 3.14s\tremaining: 73.9ms\n",
      "977:\tlearn: 0.5759087\ttotal: 3.14s\tremaining: 70.6ms\n",
      "978:\tlearn: 0.5759054\ttotal: 3.14s\tremaining: 67.4ms\n",
      "979:\tlearn: 0.5759021\ttotal: 3.15s\tremaining: 64.2ms\n",
      "980:\tlearn: 0.5758938\ttotal: 3.15s\tremaining: 61ms\n",
      "981:\tlearn: 0.5758898\ttotal: 3.15s\tremaining: 57.8ms\n",
      "982:\tlearn: 0.5758839\ttotal: 3.16s\tremaining: 54.6ms\n",
      "983:\tlearn: 0.5758800\ttotal: 3.16s\tremaining: 51.4ms\n",
      "984:\tlearn: 0.5758682\ttotal: 3.16s\tremaining: 48.2ms\n",
      "985:\tlearn: 0.5758637\ttotal: 3.17s\tremaining: 45ms\n",
      "986:\tlearn: 0.5758539\ttotal: 3.17s\tremaining: 41.7ms\n",
      "987:\tlearn: 0.5758485\ttotal: 3.17s\tremaining: 38.5ms\n",
      "988:\tlearn: 0.5758467\ttotal: 3.18s\tremaining: 35.3ms\n",
      "989:\tlearn: 0.5758436\ttotal: 3.18s\tremaining: 32.1ms\n",
      "990:\tlearn: 0.5758377\ttotal: 3.18s\tremaining: 28.9ms\n",
      "991:\tlearn: 0.5758318\ttotal: 3.19s\tremaining: 25.7ms\n",
      "992:\tlearn: 0.5758280\ttotal: 3.19s\tremaining: 22.5ms\n",
      "993:\tlearn: 0.5758204\ttotal: 3.19s\tremaining: 19.3ms\n",
      "994:\tlearn: 0.5758185\ttotal: 3.19s\tremaining: 16.1ms\n",
      "995:\tlearn: 0.5758152\ttotal: 3.2s\tremaining: 12.8ms\n",
      "996:\tlearn: 0.5757972\ttotal: 3.2s\tremaining: 9.63ms\n",
      "997:\tlearn: 0.5757921\ttotal: 3.21s\tremaining: 6.42ms\n",
      "998:\tlearn: 0.5757868\ttotal: 3.21s\tremaining: 3.21ms\n",
      "999:\tlearn: 0.5757807\ttotal: 3.21s\tremaining: 0us\n",
      "CPU times: user 8.44 s, sys: 2.24 s, total: 10.7 s\n",
      "Wall time: 3.54 s\n"
     ]
    },
    {
     "data": {
      "text/plain": "<catboost.core.CatBoostClassifier at 0x7b9348d40640>"
     },
     "execution_count": 45,
     "metadata": {},
     "output_type": "execute_result"
    }
   ],
   "source": [
    "%%time\n",
    "# задаём имена колонок признаков и таргета\n",
    "features = ['score',\n",
    "            'tracks_total', 'hearing_days', 'tracks_per_day',\n",
    "            'nusers']\n",
    "target = 'target'\n",
    "\n",
    "# создаём Pool\n",
    "train_data = Pool(\n",
    "    data=candidates_for_train[features],\n",
    "    label=candidates_for_train[target])\n",
    "\n",
    "# инициализируем модель CatBoostClassifier\n",
    "cb_model = CatBoostClassifier(\n",
    "    iterations=1000,\n",
    "    learning_rate=0.1,\n",
    "    depth=6,\n",
    "    loss_function='Logloss',\n",
    "    verbose=True,\n",
    "    random_seed=0,\n",
    "    task_type='GPU'\n",
    ")\n",
    "\n",
    "# тренируем модель\n",
    "cb_model.fit(train_data)\n",
    "\n"
   ],
   "metadata": {
    "collapsed": false
   }
  },
  {
   "cell_type": "code",
   "execution_count": 46,
   "outputs": [
    {
     "name": "stdout",
     "output_type": "stream",
     "text": [
      "75136500\n"
     ]
    }
   ],
   "source": [
    "candidates_to_rank = als_recommendations[als_recommendations[\"user_id\"].isin(events_test[\"user_id\"].drop_duplicates())]\n",
    "print(len(candidates_to_rank))\n",
    "candidates_to_rank = candidates_to_rank.merge(user_features_for_train, on=\"user_id\", how=\"left\")\n",
    "candidates_to_rank = candidates_to_rank.merge(item_features_for_train, on=\"item_id\", how=\"left\")"
   ],
   "metadata": {
    "collapsed": false
   }
  },
  {
   "cell_type": "code",
   "execution_count": 47,
   "outputs": [
    {
     "name": "stdout",
     "output_type": "stream",
     "text": [
      "75136500 75136500\n",
      "CPU times: user 1min 44s, sys: 4.66 s, total: 1min 49s\n",
      "Wall time: 58.3 s\n"
     ]
    },
    {
     "data": {
      "text/plain": "          user_id   item_id     score  tracks_total  hearing_days  \\\n2621182     47858  16549426  0.068810          1046           132   \n42541827   778110  42943890  0.192175            75           216   \n12116811   221441  27898772  0.344839           175            25   \n63431423  1160874  43202169  0.248186            37           242   \n9364262    171179     20584  0.157752            48            82   \n\n          tracks_per_day  nusers  rank  \n2621182         7.924242   44029    97  \n42541827        0.347222   17687    91  \n12116811        7.000000   26487    79  \n63431423        0.152893   19213    39  \n9364262         0.585366   15435    42  ",
      "text/html": "<div>\n<style scoped>\n    .dataframe tbody tr th:only-of-type {\n        vertical-align: middle;\n    }\n\n    .dataframe tbody tr th {\n        vertical-align: top;\n    }\n\n    .dataframe thead th {\n        text-align: right;\n    }\n</style>\n<table border=\"1\" class=\"dataframe\">\n  <thead>\n    <tr style=\"text-align: right;\">\n      <th></th>\n      <th>user_id</th>\n      <th>item_id</th>\n      <th>score</th>\n      <th>tracks_total</th>\n      <th>hearing_days</th>\n      <th>tracks_per_day</th>\n      <th>nusers</th>\n      <th>rank</th>\n    </tr>\n  </thead>\n  <tbody>\n    <tr>\n      <th>2621182</th>\n      <td>47858</td>\n      <td>16549426</td>\n      <td>0.068810</td>\n      <td>1046</td>\n      <td>132</td>\n      <td>7.924242</td>\n      <td>44029</td>\n      <td>97</td>\n    </tr>\n    <tr>\n      <th>42541827</th>\n      <td>778110</td>\n      <td>42943890</td>\n      <td>0.192175</td>\n      <td>75</td>\n      <td>216</td>\n      <td>0.347222</td>\n      <td>17687</td>\n      <td>91</td>\n    </tr>\n    <tr>\n      <th>12116811</th>\n      <td>221441</td>\n      <td>27898772</td>\n      <td>0.344839</td>\n      <td>175</td>\n      <td>25</td>\n      <td>7.000000</td>\n      <td>26487</td>\n      <td>79</td>\n    </tr>\n    <tr>\n      <th>63431423</th>\n      <td>1160874</td>\n      <td>43202169</td>\n      <td>0.248186</td>\n      <td>37</td>\n      <td>242</td>\n      <td>0.152893</td>\n      <td>19213</td>\n      <td>39</td>\n    </tr>\n    <tr>\n      <th>9364262</th>\n      <td>171179</td>\n      <td>20584</td>\n      <td>0.157752</td>\n      <td>48</td>\n      <td>82</td>\n      <td>0.585366</td>\n      <td>15435</td>\n      <td>42</td>\n    </tr>\n  </tbody>\n</table>\n</div>"
     },
     "execution_count": 47,
     "metadata": {},
     "output_type": "execute_result"
    }
   ],
   "source": [
    "%%time\n",
    "inference_data = Pool(data=candidates_to_rank[features])\n",
    "predictions = cb_model.predict_proba(inference_data)\n",
    "\n",
    "candidates_to_rank[\"score\"] = predictions[:,1]\n",
    "\n",
    "# для каждого пользователя проставим rank, начиная с 1 — это максимальный cb_score\n",
    "candidates_to_rank = candidates_to_rank.sort_values([\"user_id\", \"score\"], ascending=[True, False])\n",
    "candidates_to_rank[\"rank\"] = candidates_to_rank.groupby('user_id').cumcount() + 1\n",
    "\n",
    "max_recommendations_per_user = 100\n",
    "# final_recommendations = candidates_to_rank.query(\"rank >= @max_recommendations_per_user\")\n",
    "final_recommendations = candidates_to_rank\n",
    "\n",
    "final_recommendations.to_parquet('recommendations.parquet')\n",
    "print(len(final_recommendations), len(candidates_to_rank))\n",
    "final_recommendations.sample(5)\n"
   ],
   "metadata": {
    "collapsed": false
   }
  },
  {
   "cell_type": "code",
   "execution_count": 48,
   "outputs": [],
   "source": [
    "def process_events_recs_for_binary_metrics(events_train, events_test, recs, top_k=None):\n",
    "\n",
    "    \"\"\"\n",
    "    размечает пары <user_id, item_id> для общего множества пользователей признаками\n",
    "    - gt (ground truth)\n",
    "    - pr (prediction)\n",
    "    top_k: расчёт ведётся только для top k-рекомендаций\n",
    "    \"\"\"\n",
    "\n",
    "    events_test[\"gt\"] = True\n",
    "    common_users = set(events_test[\"user_id\"]) & set(recs[\"user_id\"])\n",
    "\n",
    "    print(f\"Common users: {len(common_users)}\")\n",
    "\n",
    "    events_for_common_users = events_test[events_test[\"user_id\"].isin(common_users)].copy()\n",
    "    recs_for_common_users = recs[recs[\"user_id\"].isin(common_users)].copy()\n",
    "\n",
    "    recs_for_common_users = recs_for_common_users.sort_values([\"user_id\", \"score\"], ascending=[True, False])\n",
    "\n",
    "    # оставляет только те item_id, которые были в events_train,\n",
    "    # т. к. модель не имела никакой возможности давать рекомендации для новых айтемов\n",
    "    events_for_common_users = events_for_common_users[events_for_common_users[\"item_id\"].isin(events_train[\"item_id\"].unique())]\n",
    "\n",
    "    if top_k is not None:\n",
    "        recs_for_common_users = recs_for_common_users.groupby(\"user_id\").head(top_k)\n",
    "\n",
    "    events_recs_common = events_for_common_users[[\"user_id\", \"item_id\", \"gt\"]].merge(\n",
    "        recs_for_common_users[[\"user_id\", \"item_id\", \"score\"]],\n",
    "        on=[\"user_id\", \"item_id\"], how=\"outer\")\n",
    "\n",
    "    events_recs_common[\"gt\"] = events_recs_common[\"gt\"].fillna(False)\n",
    "    events_recs_common[\"pr\"] = ~events_recs_common[\"score\"].isnull()\n",
    "\n",
    "    events_recs_common[\"tp\"] = events_recs_common[\"gt\"] & events_recs_common[\"pr\"]\n",
    "    events_recs_common[\"fp\"] = ~events_recs_common[\"gt\"] & events_recs_common[\"pr\"]\n",
    "    events_recs_common[\"fn\"] = events_recs_common[\"gt\"] & ~events_recs_common[\"pr\"]\n",
    "\n",
    "    return events_recs_common\n",
    "\n",
    "\n",
    "def compute_cls_metrics(events_recs_for_binary_metric):\n",
    "\n",
    "    groupper = events_recs_for_binary_metric.groupby(\"user_id\")\n",
    "\n",
    "    # precision = tp / (tp + fp)\n",
    "    precision = groupper[\"tp\"].sum()/(groupper[\"tp\"].sum()+groupper[\"fp\"].sum())\n",
    "    precision = precision.fillna(0).mean()\n",
    "\n",
    "    # recall = tp / (tp + fn)\n",
    "    recall = groupper[\"tp\"].sum()/(groupper[\"tp\"].sum()+groupper[\"fn\"].sum())\n",
    "    recall = recall.fillna(0).mean()\n",
    "\n",
    "    return precision, recall\n"
   ],
   "metadata": {
    "collapsed": false
   }
  },
  {
   "cell_type": "markdown",
   "id": "b3c84071-45b5-4a15-a683-e0ab034a3128",
   "metadata": {},
   "source": [
    "# Оценка качества"
   ]
  },
  {
   "cell_type": "markdown",
   "id": "1b107fe4-554e-42b1-87d9-c435a52bb77a",
   "metadata": {},
   "source": [
    "Проверим оценку качества трёх типов рекомендаций: \n",
    "\n",
    "- топ популярных,\n",
    "- персональных, полученных при помощи ALS,\n",
    "- итоговых\n",
    "  \n",
    "по четырем метрикам: recall, precision, coverage, novelty."
   ]
  },
  {
   "cell_type": "code",
   "execution_count": 49,
   "outputs": [
    {
     "name": "stdout",
     "output_type": "stream",
     "text": [
      "Common users: 540276\n"
     ]
    },
    {
     "name": "stderr",
     "output_type": "stream",
     "text": [
      "/tmp/ipykernel_404172/2491400055.py:31: FutureWarning: Downcasting object dtype arrays on .fillna, .ffill, .bfill is deprecated and will change in a future version. Call result.infer_objects(copy=False) instead. To opt-in to the future behavior, set `pd.set_option('future.no_silent_downcasting', True)`\n",
      "  events_recs_common[\"gt\"] = events_recs_common[\"gt\"].fillna(False)\n"
     ]
    },
    {
     "name": "stdout",
     "output_type": "stream",
     "text": [
      "precision: 0.002, recall: 0.004\n",
      "CPU times: user 38.9 s, sys: 2.95 s, total: 41.9 s\n",
      "Wall time: 42 s\n"
     ]
    }
   ],
   "source": [
    "%%time\n",
    "#  проверка метрик рекомендаций алгоритма als\n",
    "events_inference = pd.concat([events_train, events_labels])\n",
    "events_inference.target = events_inference.target.fillna(0).astype(int)\n",
    "\n",
    "cb_events_recs_for_binary_metrics_5 = process_events_recs_for_binary_metrics(\n",
    "    events_inference,\n",
    "    events_test_2,\n",
    "    als_recommendations,\n",
    "    top_k=5)\n",
    "cb_events_recs_for_binary_metrics_5.score = cb_events_recs_for_binary_metrics_5.score.fillna(0).astype(int)\n",
    "cb_precision_5, cb_recall_5 = compute_cls_metrics(cb_events_recs_for_binary_metrics_5)\n",
    "\n",
    "print(f\"precision: {cb_precision_5:.3f}, recall: {cb_recall_5:.3f}\")"
   ],
   "metadata": {
    "collapsed": false
   }
  },
  {
   "cell_type": "code",
   "execution_count": 50,
   "outputs": [
    {
     "name": "stdout",
     "output_type": "stream",
     "text": [
      "Common users: 540276\n"
     ]
    },
    {
     "name": "stderr",
     "output_type": "stream",
     "text": [
      "/tmp/ipykernel_404172/2491400055.py:31: FutureWarning: Downcasting object dtype arrays on .fillna, .ffill, .bfill is deprecated and will change in a future version. Call result.infer_objects(copy=False) instead. To opt-in to the future behavior, set `pd.set_option('future.no_silent_downcasting', True)`\n",
      "  events_recs_common[\"gt\"] = events_recs_common[\"gt\"].fillna(False)\n"
     ]
    },
    {
     "name": "stdout",
     "output_type": "stream",
     "text": [
      "precision: 0.005, recall: 0.008\n",
      "CPU times: user 40.9 s, sys: 3.33 s, total: 44.2 s\n",
      "Wall time: 44.3 s\n"
     ]
    }
   ],
   "source": [
    "%%time\n",
    "#  проверка метрик финальных рекомендаций (als + добавленные признаки)\n",
    "events_inference = pd.concat([events_train, events_labels])\n",
    "events_inference.target = events_inference.target.fillna(0).astype(int)\n",
    "\n",
    "cb_events_recs_for_binary_metrics_5 = process_events_recs_for_binary_metrics(\n",
    "    events_inference,\n",
    "    events_test_2,\n",
    "    final_recommendations,\n",
    "    top_k=5)\n",
    "cb_events_recs_for_binary_metrics_5.score = cb_events_recs_for_binary_metrics_5.score.fillna(0).astype(int)\n",
    "cb_precision_5, cb_recall_5 = compute_cls_metrics(cb_events_recs_for_binary_metrics_5)\n",
    "\n",
    "print(f\"precision: {cb_precision_5:.3f}, recall: {cb_recall_5:.3f}\")"
   ],
   "metadata": {
    "collapsed": false
   }
  },
  {
   "cell_type": "code",
   "execution_count": 51,
   "id": "94d6f388-aecb-443e-8647-14014e932d4d",
   "metadata": {},
   "outputs": [
    {
     "data": {
      "text/plain": "100"
     },
     "execution_count": 51,
     "metadata": {},
     "output_type": "execute_result"
    }
   ],
   "source": [
    "top100tracks_train = tracks[tracks.track_id.isin(events_train.item_id.value_counts()[:100].index)]\n",
    "cold_users_events = events_test[events_test[\"user_id\"].isin(cold_users)]\n",
    "cold_users_events[cold_users_events.item_id.isin(top100tracks_train.track_id)].item_id.nunique()\n",
    "# все 100 из top100 трэков слушали \"холодные\" пользователи"
   ]
  },
  {
   "cell_type": "code",
   "execution_count": 52,
   "outputs": [
    {
     "name": "stdout",
     "output_type": "stream",
     "text": [
      "ALS:    0.010333649347074834\n",
      "Final:  0.010114478526356566\n"
     ]
    }
   ],
   "source": [
    "# покрытие\n",
    "print('ALS:   ', als_recommendations.item_id.nunique() / items.track_id.nunique())\n",
    "print('Final: ', final_recommendations.item_id.nunique() / items.track_id.nunique())"
   ],
   "metadata": {
    "collapsed": false
   }
  },
  {
   "cell_type": "markdown",
   "id": "f1c8d38c-32b0-46a4-96f0-cd01dac708bc",
   "metadata": {},
   "source": []
  },
  {
   "cell_type": "code",
   "execution_count": 53,
   "id": "6403097d-db36-46d9-8952-613c9bd51b05",
   "metadata": {},
   "outputs": [
    {
     "name": "stderr",
     "output_type": "stream",
     "text": [
      "/tmp/ipykernel_404172/3556757069.py:4: FutureWarning: Downcasting object dtype arrays on .fillna, .ffill, .bfill is deprecated and will change in a future version. Call result.infer_objects(copy=False) instead. To opt-in to the future behavior, set `pd.set_option('future.no_silent_downcasting', True)`\n",
      "  als_recommendations[\"heard\"] = als_recommendations[\"heard\"].fillna(False).astype(\"bool\")\n"
     ]
    },
    {
     "data": {
      "text/plain": "0.6240891374532731"
     },
     "execution_count": 53,
     "metadata": {},
     "output_type": "execute_result"
    }
   ],
   "source": [
    "#разметим каждую рекомендацию признаком heard\n",
    "events_train[\"heard\"] = True\n",
    "als_recommendations = als_recommendations.merge(events_train, on=[\"user_id\", \"item_id\"], how=\"left\")\n",
    "als_recommendations[\"heard\"] = als_recommendations[\"heard\"].fillna(False).astype(\"bool\")\n",
    "\n",
    "# проставим ранги\n",
    "als_recommendations = als_recommendations.sort_values(by='score', ascending=False)\n",
    "als_recommendations[\"rank\"] = als_recommendations.groupby(\"user_id\").cumcount() + 1\n",
    "\n",
    "# посчитаем novelty по пользователям\n",
    "novelty_5 = (1-als_recommendations.query(\"rank <= 5\").groupby(\"user_id\")[\"heard\"].mean())\n",
    "#\n",
    "# посчитаем средний novelty\n",
    "novelty_5 = novelty_5.mean()\n",
    "novelty_5"
   ]
  },
  {
   "cell_type": "code",
   "execution_count": 54,
   "outputs": [
    {
     "name": "stderr",
     "output_type": "stream",
     "text": [
      "/tmp/ipykernel_404172/1261424542.py:4: FutureWarning: Downcasting object dtype arrays on .fillna, .ffill, .bfill is deprecated and will change in a future version. Call result.infer_objects(copy=False) instead. To opt-in to the future behavior, set `pd.set_option('future.no_silent_downcasting', True)`\n",
      "  final_recommendations[\"heard\"] = final_recommendations[\"heard\"].fillna(False).astype(\"bool\")\n"
     ]
    },
    {
     "data": {
      "text/plain": "0.8088545513831492"
     },
     "execution_count": 54,
     "metadata": {},
     "output_type": "execute_result"
    }
   ],
   "source": [
    "#разметим каждую рекомендацию признаком heard\n",
    "events_train[\"heard\"] = True\n",
    "final_recommendations = final_recommendations.merge(events_train, on=[\"user_id\", \"item_id\"], how=\"left\")\n",
    "final_recommendations[\"heard\"] = final_recommendations[\"heard\"].fillna(False).astype(\"bool\")\n",
    "\n",
    "# проставим ранги\n",
    "final_recommendations = final_recommendations.sort_values(by='score', ascending=False)\n",
    "final_recommendations[\"rank\"] = final_recommendations.groupby(\"user_id\").cumcount() + 1\n",
    "\n",
    "# посчитаем novelty по пользователям\n",
    "novelty_5 = (1-final_recommendations.query(\"rank <= 5\").groupby(\"user_id\")[\"heard\"].mean())\n",
    "#\n",
    "# посчитаем средний novelty\n",
    "novelty_5 = novelty_5.mean()\n",
    "novelty_5"
   ],
   "metadata": {
    "collapsed": false
   }
  },
  {
   "cell_type": "code",
   "execution_count": 55,
   "outputs": [
    {
     "name": "stdout",
     "output_type": "stream",
     "text": [
      "0.4195666670300827\n"
     ]
    },
    {
     "name": "stderr",
     "output_type": "stream",
     "text": [
      "/tmp/ipykernel_404172/1184943834.py:9: DeprecationWarning: DataFrameGroupBy.apply operated on the grouping columns. This behavior is deprecated, and in a future version of pandas the grouping columns will be excluded from the operation. Either pass `include_groups=False` to exclude the groupings or explicitly select the grouping columns after groupby to silence this warning.\n",
      "  ndcg_at_5_scores = als_recommendations[rating_test_idx].groupby('user_id').apply(lambda x: compute_ndcg(x['rating'], x['score'], k=5))\n"
     ]
    }
   ],
   "source": [
    "def compute_ndcg(rating: pd.Series, score: pd.Series, k):\n",
    "    if len(rating) < 2:\n",
    "        return np.nan\n",
    "    ndcg = sklearn.metrics.ndcg_score(np.asarray([rating.to_numpy()]), np.asarray([score.to_numpy()]), k=k)\n",
    "    return ndcg\n",
    "\n",
    "rating_test_idx = ~als_recommendations['score'].isnull()\n",
    "als_recommendations['rating'] = als_recommendations.heard.apply(lambda val: max_als_score if val else 0)\n",
    "ndcg_at_5_scores = als_recommendations[rating_test_idx].groupby('user_id').apply(lambda x: compute_ndcg(x['rating'], x['score'], k=5))\n",
    "print(ndcg_at_5_scores.mean())\n"
   ],
   "metadata": {
    "collapsed": false
   }
  },
  {
   "cell_type": "code",
   "execution_count": 56,
   "outputs": [
    {
     "name": "stdout",
     "output_type": "stream",
     "text": [
      "0.9676814993958754\n",
      "0.19783019693881557\n"
     ]
    },
    {
     "name": "stderr",
     "output_type": "stream",
     "text": [
      "/tmp/ipykernel_404172/2256149172.py:5: DeprecationWarning: DataFrameGroupBy.apply operated on the grouping columns. This behavior is deprecated, and in a future version of pandas the grouping columns will be excluded from the operation. Either pass `include_groups=False` to exclude the groupings or explicitly select the grouping columns after groupby to silence this warning.\n",
      "  ndcg_at_5_scores = final_recommendations[rating_test_idx].groupby('user_id').apply(lambda x: compute_ndcg(x['rating'], x['score'], k=5))\n"
     ]
    }
   ],
   "source": [
    "max_final_score = max(final_recommendations.score)\n",
    "print(max_final_score)\n",
    "rating_test_idx = ~final_recommendations['score'].isnull()\n",
    "final_recommendations['rating'] = final_recommendations.heard.apply(lambda val: max_final_score if val else 0)\n",
    "ndcg_at_5_scores = final_recommendations[rating_test_idx].groupby('user_id').apply(lambda x: compute_ndcg(x['rating'], x['score'], k=5))\n",
    "print(ndcg_at_5_scores.mean())\n"
   ],
   "metadata": {
    "collapsed": false
   }
  },
  {
   "cell_type": "code",
   "execution_count": 57,
   "id": "986cfdd5-6f2e-4de6-8666-85804c87d04b",
   "metadata": {},
   "outputs": [
    {
     "name": "stdout",
     "output_type": "stream",
     "text": [
      "                       fi\n",
      "nusers          56.979898\n",
      "score           19.996781\n",
      "hearing_days    12.180284\n",
      "tracks_total     6.988325\n",
      "tracks_per_day   3.854712\n"
     ]
    }
   ],
   "source": [
    "# важность признаков\n",
    "feature_importance = pd.DataFrame(cb_model.get_feature_importance(), index=features, columns=[\"fi\"])\n",
    "feature_importance = feature_importance.sort_values(by='fi', ascending=False)\n",
    "print(feature_importance )\n"
   ]
  },
  {
   "cell_type": "markdown",
   "source": [
    " # === Выводы, метрики ===\n"
   ],
   "metadata": {
    "collapsed": false
   }
  },
  {
   "cell_type": "markdown",
   "source": [
    "Основные выводы при работе над расчётом рекомендаций, рассчитанные метрики.\n"
   ],
   "metadata": {
    "collapsed": false
   }
  },
  {
   "cell_type": "markdown",
   "source": [
    "TOP-100 трэков, для холодных пользователей - все оказались в истории холодных пользователей.\n"
   ],
   "metadata": {
    "collapsed": false
   }
  },
  {
   "cell_type": "markdown",
   "source": [
    "Рекомендации ALS:\n",
    "  - Точность@5: 0.002;\n",
    "  - Полнота@5: 0.004;\n",
    "  - Новизна@5:  0.62;\n",
    "  - Покрытие: 0.0103;\n",
    "  - nDCG@5: 0.42"
   ],
   "metadata": {
    "collapsed": false
   }
  },
  {
   "cell_type": "markdown",
   "source": [
    "Итоговая модель:\n",
    "  - Точность@5: 0.006;\n",
    "  - Полнота@5: 0.009;\n",
    "  - Новизна@5: 0.81;\n",
    "  - Покрытие: 0.0101;\n",
    "  - nDCG@5: 0.20"
   ],
   "metadata": {
    "collapsed": false
   }
  },
  {
   "cell_type": "markdown",
   "source": [
    "##### Выводы:\n",
    "\n",
    "Получены персональные рекомендации алгоритмом alternating less squares.\n",
    "Затем были добавлены четыре признака - три для пользователя и один для трэка;\n",
    "далее обучена модель градиентного бустинга на рекомендациях от ALS и этих признаках;\n",
    "затем получены финальные рекомендации от этой модели.\n",
    "\n",
    "У финальных рекомендаций незначительно уменьшилось покрытие,\n",
    "но существенно выше оказались значения по всем остальным метрикам, кроме nDCG.\n",
    "\n"
   ],
   "metadata": {
    "collapsed": false
   }
  }
 ],
 "metadata": {
  "kernelspec": {
   "display_name": "Python 3 (ipykernel)",
   "language": "python",
   "name": "python3"
  },
  "language_info": {
   "codemirror_mode": {
    "name": "ipython",
    "version": 3
   },
   "file_extension": ".py",
   "mimetype": "text/x-python",
   "name": "python",
   "nbconvert_exporter": "python",
   "pygments_lexer": "ipython3",
   "version": "3.9.13"
  }
 },
 "nbformat": 4,
 "nbformat_minor": 5
}
