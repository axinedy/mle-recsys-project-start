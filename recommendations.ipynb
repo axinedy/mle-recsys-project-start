{
 "cells": [
  {
   "cell_type": "markdown",
   "id": "f4095ae4-7294-4b28-853e-88d235002c97",
   "metadata": {},
   "source": [
    "# Инициализация"
   ]
  },
  {
   "cell_type": "markdown",
   "id": "2f2318d2-9df8-4911-915e-15b725c44f8a",
   "metadata": {},
   "source": [
    "Загружаем библиотеки необходимые для выполнения кода ноутбука."
   ]
  },
  {
   "cell_type": "code",
   "execution_count": 1,
   "id": "662d04e7-1b0b-4e4a-9ddf-4526d7fef119",
   "metadata": {},
   "outputs": [],
   "source": [
    "from datetime import datetime\n",
    "import multiprocessing as mp\n",
    "import pandas as pd\n",
    "import numpy as np\n",
    "import scipy\n",
    "import sklearn.preprocessing\n",
    "import sklearn.metrics\n",
    "from implicit.als import AlternatingLeastSquares\n",
    "from catboost import CatBoostClassifier, Pool\n"
   ]
  },
  {
   "cell_type": "markdown",
   "id": "bf80fbc5-b660-4fac-8fbb-a5cae77313b3",
   "metadata": {},
   "source": [
    "# === ЭТАП 1 ==="
   ]
  },
  {
   "cell_type": "markdown",
   "id": "5263a8b3-fe99-4204-8a2e-105182792c11",
   "metadata": {},
   "source": [
    "# Загрузка первичных данных"
   ]
  },
  {
   "cell_type": "markdown",
   "id": "1b54a6a5-1656-4e3c-99d1-49dc39451d33",
   "metadata": {},
   "source": [
    "Загружаем первичные данные из файлов:\n",
    "- tracks.parquet\n",
    "- catalog_names.parquet\n",
    "- interactions.parquet"
   ]
  },
  {
   "cell_type": "code",
   "execution_count": 2,
   "id": "5d4b8961-3f35-4e58-9d6b-3e2dbd2c4224",
   "metadata": {},
   "outputs": [],
   "source": [
    "tracks = pd.read_parquet('tracks.parquet')\n",
    "catalog_names = pd.read_parquet('catalog_names.parquet')\n",
    "interactions = pd.read_parquet('interactions.parquet')"
   ]
  },
  {
   "cell_type": "markdown",
   "source": [
    "# Обзор данных\n",
    "Проверяем данные, есть ли с ними явные проблемы."
   ],
   "metadata": {
    "collapsed": false
   }
  },
  {
   "cell_type": "code",
   "execution_count": 3,
   "id": "70f7bdfe-175c-45c1-a2e9-d99f0f33be2e",
   "metadata": {},
   "outputs": [
    {
     "data": {
      "text/plain": "        track_id                                             albums  \\\n646638  45460692  [6102198, 14836022, 14836800, 14837904, 14837910]   \n75161     670899                           [72831, 305069, 2493901]   \n432626  30015851                                          [3620652]   \n594265  41232063                                          [5389490]   \n718770  53276635                                          [7606919]   \n\n               artists       genres  \n646638         [46338]         [16]  \n75161   [23688, 10439]    [28, 923]  \n432626       [4269814]    [21, 138]  \n594265       [5608856]      [3, 75]  \n718770       [7425672]  [335, 1484]  ",
      "text/html": "<div>\n<style scoped>\n    .dataframe tbody tr th:only-of-type {\n        vertical-align: middle;\n    }\n\n    .dataframe tbody tr th {\n        vertical-align: top;\n    }\n\n    .dataframe thead th {\n        text-align: right;\n    }\n</style>\n<table border=\"1\" class=\"dataframe\">\n  <thead>\n    <tr style=\"text-align: right;\">\n      <th></th>\n      <th>track_id</th>\n      <th>albums</th>\n      <th>artists</th>\n      <th>genres</th>\n    </tr>\n  </thead>\n  <tbody>\n    <tr>\n      <th>646638</th>\n      <td>45460692</td>\n      <td>[6102198, 14836022, 14836800, 14837904, 14837910]</td>\n      <td>[46338]</td>\n      <td>[16]</td>\n    </tr>\n    <tr>\n      <th>75161</th>\n      <td>670899</td>\n      <td>[72831, 305069, 2493901]</td>\n      <td>[23688, 10439]</td>\n      <td>[28, 923]</td>\n    </tr>\n    <tr>\n      <th>432626</th>\n      <td>30015851</td>\n      <td>[3620652]</td>\n      <td>[4269814]</td>\n      <td>[21, 138]</td>\n    </tr>\n    <tr>\n      <th>594265</th>\n      <td>41232063</td>\n      <td>[5389490]</td>\n      <td>[5608856]</td>\n      <td>[3, 75]</td>\n    </tr>\n    <tr>\n      <th>718770</th>\n      <td>53276635</td>\n      <td>[7606919]</td>\n      <td>[7425672]</td>\n      <td>[335, 1484]</td>\n    </tr>\n  </tbody>\n</table>\n</div>"
     },
     "metadata": {},
     "output_type": "display_data"
    },
    {
     "data": {
      "text/plain": "track_id     int64\nalbums      object\nartists     object\ngenres      object\ndtype: object"
     },
     "execution_count": 3,
     "metadata": {},
     "output_type": "execute_result"
    }
   ],
   "source": [
    "display(tracks.sample(5))\n",
    "tracks.dtypes"
   ]
  },
  {
   "cell_type": "code",
   "execution_count": 4,
   "outputs": [
    {
     "data": {
      "text/plain": "               id   type                                               name\n1678487  70672451  track                                     Cherry Flowers\n9322        26912  album  Snow White And The Seven Dwarfs Original Sound...\n1192261  25578446  track                                Stay on These Roads\n270211    4295054  album                                            Котобус\n134231    2126510  album                The Classical Collections - Adagios",
      "text/html": "<div>\n<style scoped>\n    .dataframe tbody tr th:only-of-type {\n        vertical-align: middle;\n    }\n\n    .dataframe tbody tr th {\n        vertical-align: top;\n    }\n\n    .dataframe thead th {\n        text-align: right;\n    }\n</style>\n<table border=\"1\" class=\"dataframe\">\n  <thead>\n    <tr style=\"text-align: right;\">\n      <th></th>\n      <th>id</th>\n      <th>type</th>\n      <th>name</th>\n    </tr>\n  </thead>\n  <tbody>\n    <tr>\n      <th>1678487</th>\n      <td>70672451</td>\n      <td>track</td>\n      <td>Cherry Flowers</td>\n    </tr>\n    <tr>\n      <th>9322</th>\n      <td>26912</td>\n      <td>album</td>\n      <td>Snow White And The Seven Dwarfs Original Sound...</td>\n    </tr>\n    <tr>\n      <th>1192261</th>\n      <td>25578446</td>\n      <td>track</td>\n      <td>Stay on These Roads</td>\n    </tr>\n    <tr>\n      <th>270211</th>\n      <td>4295054</td>\n      <td>album</td>\n      <td>Котобус</td>\n    </tr>\n    <tr>\n      <th>134231</th>\n      <td>2126510</td>\n      <td>album</td>\n      <td>The Classical Collections - Adagios</td>\n    </tr>\n  </tbody>\n</table>\n</div>"
     },
     "metadata": {},
     "output_type": "display_data"
    },
    {
     "data": {
      "text/plain": "id       int64\ntype    object\nname    object\ndtype: object"
     },
     "metadata": {},
     "output_type": "display_data"
    },
    {
     "data": {
      "text/plain": "type\ntrack     1000000\nalbum      658724\nartist     153581\ngenre         166\nName: count, dtype: int64"
     },
     "execution_count": 4,
     "metadata": {},
     "output_type": "execute_result"
    }
   ],
   "source": [
    "display(catalog_names.sample(5))\n",
    "display(catalog_names.dtypes)\n",
    "catalog_names.type.value_counts()"
   ],
   "metadata": {
    "collapsed": false
   }
  },
  {
   "cell_type": "code",
   "execution_count": 5,
   "outputs": [
    {
     "data": {
      "text/plain": "id         int64\ntype    category\nname      object\ndtype: object"
     },
     "execution_count": 5,
     "metadata": {},
     "output_type": "execute_result"
    }
   ],
   "source": [
    "catalog_names.type = catalog_names.type.astype('category')\n",
    "catalog_names.dtypes"
   ],
   "metadata": {
    "collapsed": false
   }
  },
  {
   "cell_type": "code",
   "execution_count": 6,
   "outputs": [
    {
     "data": {
      "text/plain": "      user_id  track_id  track_seq started_at\n1904   825202  29310160       1905 2022-07-21\n119   1297736  23614805        120 2022-08-03\n22     171773    105715         23 2022-05-28\n221    845066  38469249        222 2022-06-18\n38     126711  34553456         39 2022-11-10",
      "text/html": "<div>\n<style scoped>\n    .dataframe tbody tr th:only-of-type {\n        vertical-align: middle;\n    }\n\n    .dataframe tbody tr th {\n        vertical-align: top;\n    }\n\n    .dataframe thead th {\n        text-align: right;\n    }\n</style>\n<table border=\"1\" class=\"dataframe\">\n  <thead>\n    <tr style=\"text-align: right;\">\n      <th></th>\n      <th>user_id</th>\n      <th>track_id</th>\n      <th>track_seq</th>\n      <th>started_at</th>\n    </tr>\n  </thead>\n  <tbody>\n    <tr>\n      <th>1904</th>\n      <td>825202</td>\n      <td>29310160</td>\n      <td>1905</td>\n      <td>2022-07-21</td>\n    </tr>\n    <tr>\n      <th>119</th>\n      <td>1297736</td>\n      <td>23614805</td>\n      <td>120</td>\n      <td>2022-08-03</td>\n    </tr>\n    <tr>\n      <th>22</th>\n      <td>171773</td>\n      <td>105715</td>\n      <td>23</td>\n      <td>2022-05-28</td>\n    </tr>\n    <tr>\n      <th>221</th>\n      <td>845066</td>\n      <td>38469249</td>\n      <td>222</td>\n      <td>2022-06-18</td>\n    </tr>\n    <tr>\n      <th>38</th>\n      <td>126711</td>\n      <td>34553456</td>\n      <td>39</td>\n      <td>2022-11-10</td>\n    </tr>\n  </tbody>\n</table>\n</div>"
     },
     "metadata": {},
     "output_type": "display_data"
    },
    {
     "data": {
      "text/plain": "user_id                int32\ntrack_id               int32\ntrack_seq              int16\nstarted_at    datetime64[ns]\ndtype: object"
     },
     "execution_count": 6,
     "metadata": {},
     "output_type": "execute_result"
    }
   ],
   "source": [
    "display(interactions.sample(5))\n",
    "interactions.dtypes"
   ],
   "metadata": {
    "collapsed": false
   }
  },
  {
   "cell_type": "code",
   "execution_count": 7,
   "id": "c9f8f17e-9b56-4f5a-a463-f694a993effb",
   "metadata": {},
   "outputs": [
    {
     "data": {
      "text/plain": "1"
     },
     "execution_count": 7,
     "metadata": {},
     "output_type": "execute_result"
    }
   ],
   "source": [
    "# все трэки есть в catalog_names\n",
    "tracks.track_id.isin(catalog_names[catalog_names.type=='track'].id).nunique()"
   ]
  },
  {
   "cell_type": "markdown",
   "source": [
    "Есть ли треки с неизвестными исполнителями, альбомами, жанрами?"
   ],
   "metadata": {
    "collapsed": false
   }
  },
  {
   "cell_type": "code",
   "execution_count": 8,
   "id": "efd2e2eb-3bec-4ce1-87ac-232bab8bc0d0",
   "metadata": {},
   "outputs": [
    {
     "name": "stdout",
     "output_type": "stream",
     "text": [
      "CPU times: user 2.93 s, sys: 1.96 s, total: 4.89 s\n",
      "Wall time: 40.2 s\n"
     ]
    },
    {
     "data": {
      "text/plain": "albums_ok\nTrue     999982\nFalse        18\nName: count, dtype: int64"
     },
     "execution_count": 8,
     "metadata": {},
     "output_type": "execute_result"
    }
   ],
   "source": [
    "%%time\n",
    "albums = catalog_names[catalog_names.type=='album']\n",
    "albums_ids = np.array(albums.id.values.tolist())\n",
    "def check_albums(track_items):\n",
    "    return True in [item_id in albums_ids for item_id in track_items]\n",
    "with mp.Pool(mp.cpu_count()) as pool:\n",
    "    tracks['albums_ok'] = pool.map(check_albums, tracks.albums)\n",
    "tracks.albums_ok.value_counts()"
   ]
  },
  {
   "cell_type": "code",
   "execution_count": 9,
   "outputs": [
    {
     "name": "stdout",
     "output_type": "stream",
     "text": [
      "CPU times: user 1.34 s, sys: 1.85 s, total: 3.19 s\n",
      "Wall time: 3.39 s\n"
     ]
    },
    {
     "data": {
      "text/plain": "genres_ok\nTrue     996306\nFalse      3694\nName: count, dtype: int64"
     },
     "execution_count": 9,
     "metadata": {},
     "output_type": "execute_result"
    }
   ],
   "source": [
    "%%time\n",
    "genres = catalog_names[catalog_names.type=='genre']\n",
    "genres_ids = np.array(genres.id.values.tolist())\n",
    "def check_genres(track_items):\n",
    "    return True in [item_id in genres_ids for item_id in track_items]\n",
    "with mp.Pool(mp.cpu_count()) as pool:\n",
    "    tracks['genres_ok'] = pool.map(check_genres, tracks.genres)\n",
    "tracks.genres_ok.value_counts()"
   ],
   "metadata": {
    "collapsed": false
   }
  },
  {
   "cell_type": "code",
   "execution_count": 10,
   "outputs": [
    {
     "name": "stdout",
     "output_type": "stream",
     "text": [
      "CPU times: user 2.02 s, sys: 1.98 s, total: 3.99 s\n",
      "Wall time: 4.68 s\n"
     ]
    },
    {
     "data": {
      "text/plain": "artists_ok\nTrue     984631\nFalse     15369\nName: count, dtype: int64"
     },
     "execution_count": 10,
     "metadata": {},
     "output_type": "execute_result"
    }
   ],
   "source": [
    "%%time\n",
    "artists = catalog_names[catalog_names.type=='artist']\n",
    "artists_ids = np.array(artists.id.values.tolist())\n",
    "def check_artists(track_items):\n",
    "    return True in [item_id in artists_ids for item_id in track_items]\n",
    "with mp.Pool(mp.cpu_count()) as pool:\n",
    "    tracks['artists_ok'] = pool.map(check_artists, tracks.artists)\n",
    "tracks.artists_ok.value_counts()"
   ],
   "metadata": {
    "collapsed": false
   }
  },
  {
   "cell_type": "code",
   "execution_count": 11,
   "outputs": [
    {
     "name": "stdout",
     "output_type": "stream",
     "text": [
      "CPU times: user 3.85 s, sys: 565 ms, total: 4.42 s\n",
      "Wall time: 4.42 s\n"
     ]
    }
   ],
   "source": [
    "%%time\n",
    "# Удаление\n",
    "tracks = tracks.query(\"artists_ok==True and albums_ok==True and genres_ok==True\")\n",
    "interactions = interactions[interactions.track_id.isin(tracks.track_id)]"
   ],
   "metadata": {
    "collapsed": false
   }
  },
  {
   "cell_type": "markdown",
   "id": "318b573a-9e2d-4808-95db-60cfb8bbdb73",
   "metadata": {
    "editable": true,
    "slideshow": {
     "slide_type": ""
    },
    "tags": []
   },
   "source": [
    "# Выводы"
   ]
  },
  {
   "cell_type": "markdown",
   "id": "caa96e12-36a8-4401-8f11-98627a49ae9d",
   "metadata": {},
   "source": [
    "Приведём выводы по первому знакомству с данными:\n",
    "- есть ли с данными явные проблемы,\n",
    "- какие корректирующие действия (в целом) были предприняты."
   ]
  },
  {
   "cell_type": "markdown",
   "source": [
    "В catalog_names поле type было преобразовано в категорию;\n",
    "Найдено 18 трэков у которых ни один из альбомов не присутствует в catalog_names;\n",
    "Найдено 3694 трэка у которых ни один из жанров не присутствует в catalog_names;\n",
    "Найдено 15369 трэков у которых ни один из артистов не присутствует в catalog_names;\n",
    "\n",
    "Удалять их необязательно?"
   ],
   "metadata": {
    "collapsed": false
   }
  },
  {
   "cell_type": "markdown",
   "id": "7bc3296b-eba6-4333-a78d-b9304aa87e3d",
   "metadata": {},
   "source": [
    "# === ЭТАП 2 ==="
   ]
  },
  {
   "cell_type": "markdown",
   "id": "68e73960-fd38-4e15-8db0-9a25c35dfd25",
   "metadata": {},
   "source": [
    "# EDA"
   ]
  },
  {
   "cell_type": "markdown",
   "id": "a30e823e-8e0f-4a76-a02e-8d1ba8bf0f8a",
   "metadata": {},
   "source": [
    "Распределение количества прослушанных треков."
   ]
  },
  {
   "cell_type": "code",
   "execution_count": 12,
   "id": "9bf5eaba-35f7-4da7-be59-9ab4a34b2423",
   "metadata": {},
   "outputs": [
    {
     "data": {
      "text/plain": "array([[<Axes: title={'center': 'track_id'}>]], dtype=object)"
     },
     "execution_count": 12,
     "metadata": {},
     "output_type": "execute_result"
    },
    {
     "data": {
      "text/plain": "<Figure size 1500x400 with 1 Axes>",
      "image/png": "[encoded data removed]"
     },
     "metadata": {},
     "output_type": "display_data"
    }
   ],
   "source": [
    "interactions.hist(column='track_id', bins=1000, figsize=(15,4))"
   ]
  },
  {
   "cell_type": "code",
   "execution_count": 13,
   "outputs": [],
   "source": [
    "top100tracks = tracks[tracks.track_id.isin(interactions.track_id.value_counts()[:100].index)]"
   ],
   "metadata": {
    "collapsed": false
   }
  },
  {
   "cell_type": "markdown",
   "id": "d765519a-18dd-4d30-9e29-cc2d84cacd79",
   "metadata": {},
   "source": [
    "Наиболее популярные треки"
   ]
  },
  {
   "cell_type": "code",
   "execution_count": 14,
   "id": "aecaf630-fde0-4860-b84a-42c933a9606e",
   "metadata": {},
   "outputs": [
    {
     "name": "stderr",
     "output_type": "stream",
     "text": [
      "/tmp/ipykernel_132260/3775954581.py:6: SettingWithCopyWarning: \n",
      "A value is trying to be set on a copy of a slice from a DataFrame.\n",
      "Try using .loc[row_indexer,col_indexer] = value instead\n",
      "\n",
      "See the caveats in the documentation: https://pandas.pydata.org/pandas-docs/stable/user_guide/indexing.html#returning-a-view-versus-a-copy\n",
      "  top100tracks['artists_names'] = top100tracks.apply(lambda row: get_list(artists, row.artists), axis=1)\n",
      "/tmp/ipykernel_132260/3775954581.py:7: SettingWithCopyWarning: \n",
      "A value is trying to be set on a copy of a slice from a DataFrame.\n",
      "Try using .loc[row_indexer,col_indexer] = value instead\n",
      "\n",
      "See the caveats in the documentation: https://pandas.pydata.org/pandas-docs/stable/user_guide/indexing.html#returning-a-view-versus-a-copy\n",
      "  top100tracks['genres_names'] = top100tracks.apply(lambda row: get_list(genres, row.genres), axis=1)\n"
     ]
    },
    {
     "data": {
      "text/plain": "    track_id     artists_names                     name  \\\n0      10216         Scorpions           Wind Of Change   \n1      37384   The Cranberries                   Zombie   \n2      48951          Bon Jovi             It's My Life   \n3      52100          No Doubt              Don't Speak   \n4      53404           Nirvana  Smells Like Teen Spirit   \n..       ...               ...                      ...   \n95  78426489           Minelli                Rampampam   \n96  81848875   Galibri & Mavik         Федерико Феллини   \n97  83063895   HammAli & Navai                   Птичка   \n98  84382282  Markul, Джарахов              Я в моменте   \n99  93126179     Люся Чеботина            Солнце Монако   \n\n                  genres_names  \n0            hardrock, allrock  \n1                rock, allrock  \n2      rock, hardrock, allrock  \n3                          pop  \n4   alternative, rock, allrock  \n..                         ...  \n95                       dance  \n96                 pop, ruspop  \n97                 pop, ruspop  \n98                 rusrap, rap  \n99                 pop, ruspop  \n\n[100 rows x 4 columns]",
      "text/html": "<div>\n<style scoped>\n    .dataframe tbody tr th:only-of-type {\n        vertical-align: middle;\n    }\n\n    .dataframe tbody tr th {\n        vertical-align: top;\n    }\n\n    .dataframe thead th {\n        text-align: right;\n    }\n</style>\n<table border=\"1\" class=\"dataframe\">\n  <thead>\n    <tr style=\"text-align: right;\">\n      <th></th>\n      <th>track_id</th>\n      <th>artists_names</th>\n      <th>name</th>\n      <th>genres_names</th>\n    </tr>\n  </thead>\n  <tbody>\n    <tr>\n      <th>0</th>\n      <td>10216</td>\n      <td>Scorpions</td>\n      <td>Wind Of Change</td>\n      <td>hardrock, allrock</td>\n    </tr>\n    <tr>\n      <th>1</th>\n      <td>37384</td>\n      <td>The Cranberries</td>\n      <td>Zombie</td>\n      <td>rock, allrock</td>\n    </tr>\n    <tr>\n      <th>2</th>\n      <td>48951</td>\n      <td>Bon Jovi</td>\n      <td>It's My Life</td>\n      <td>rock, hardrock, allrock</td>\n    </tr>\n    <tr>\n      <th>3</th>\n      <td>52100</td>\n      <td>No Doubt</td>\n      <td>Don't Speak</td>\n      <td>pop</td>\n    </tr>\n    <tr>\n      <th>4</th>\n      <td>53404</td>\n      <td>Nirvana</td>\n      <td>Smells Like Teen Spirit</td>\n      <td>alternative, rock, allrock</td>\n    </tr>\n    <tr>\n      <th>...</th>\n      <td>...</td>\n      <td>...</td>\n      <td>...</td>\n      <td>...</td>\n    </tr>\n    <tr>\n      <th>95</th>\n      <td>78426489</td>\n      <td>Minelli</td>\n      <td>Rampampam</td>\n      <td>dance</td>\n    </tr>\n    <tr>\n      <th>96</th>\n      <td>81848875</td>\n      <td>Galibri &amp; Mavik</td>\n      <td>Федерико Феллини</td>\n      <td>pop, ruspop</td>\n    </tr>\n    <tr>\n      <th>97</th>\n      <td>83063895</td>\n      <td>HammAli &amp; Navai</td>\n      <td>Птичка</td>\n      <td>pop, ruspop</td>\n    </tr>\n    <tr>\n      <th>98</th>\n      <td>84382282</td>\n      <td>Markul, Джарахов</td>\n      <td>Я в моменте</td>\n      <td>rusrap, rap</td>\n    </tr>\n    <tr>\n      <th>99</th>\n      <td>93126179</td>\n      <td>Люся Чеботина</td>\n      <td>Солнце Монако</td>\n      <td>pop, ruspop</td>\n    </tr>\n  </tbody>\n</table>\n<p>100 rows × 4 columns</p>\n</div>"
     },
     "execution_count": 14,
     "metadata": {},
     "output_type": "execute_result"
    }
   ],
   "source": [
    "tracks_catalog = catalog_names[catalog_names.type=='track']\n",
    "top100tracks_catalog = tracks_catalog[tracks_catalog.id.isin(top100tracks.track_id)]\n",
    "top100tracks_catalog = top100tracks_catalog.rename({'id': 'track_id'}, axis=1)\n",
    "def get_list(df, ids):\n",
    "    return ', '.join(df[df.id.isin(ids)].name)\n",
    "top100tracks['artists_names'] = top100tracks.apply(lambda row: get_list(artists, row.artists), axis=1)\n",
    "top100tracks['genres_names'] = top100tracks.apply(lambda row: get_list(genres, row.genres), axis=1)\n",
    "top100tracks.merge(top100tracks_catalog, on='track_id')[['track_id', 'artists_names', 'name', 'genres_names']]"
   ]
  },
  {
   "cell_type": "markdown",
   "id": "b1c32a5a-d3be-4f96-8dd9-f7860951020c",
   "metadata": {},
   "source": [
    "Наиболее популярные жанры"
   ]
  },
  {
   "cell_type": "code",
   "execution_count": 15,
   "id": "1bc50491-9235-4d3c-a6c2-297f7c05a959",
   "metadata": {},
   "outputs": [],
   "source": [
    "# cм выше"
   ]
  },
  {
   "cell_type": "markdown",
   "id": "15254e66-e80e-473b-ba24-abebea5ccac7",
   "metadata": {},
   "source": [
    "Треки, которые никто не прослушал"
   ]
  },
  {
   "cell_type": "code",
   "execution_count": 16,
   "id": "50bc50c6-2d83-4c7e-97fa-3e7627978438",
   "metadata": {},
   "outputs": [
    {
     "data": {
      "text/plain": "Empty DataFrame\nColumns: [track_id, albums, artists, genres, albums_ok, genres_ok, artists_ok]\nIndex: []",
      "text/html": "<div>\n<style scoped>\n    .dataframe tbody tr th:only-of-type {\n        vertical-align: middle;\n    }\n\n    .dataframe tbody tr th {\n        vertical-align: top;\n    }\n\n    .dataframe thead th {\n        text-align: right;\n    }\n</style>\n<table border=\"1\" class=\"dataframe\">\n  <thead>\n    <tr style=\"text-align: right;\">\n      <th></th>\n      <th>track_id</th>\n      <th>albums</th>\n      <th>artists</th>\n      <th>genres</th>\n      <th>albums_ok</th>\n      <th>genres_ok</th>\n      <th>artists_ok</th>\n    </tr>\n  </thead>\n  <tbody>\n  </tbody>\n</table>\n</div>"
     },
     "execution_count": 16,
     "metadata": {},
     "output_type": "execute_result"
    }
   ],
   "source": [
    "tracks[~tracks.track_id.isin(interactions.track_id)]\n",
    "# таких нет"
   ]
  },
  {
   "cell_type": "code",
   "execution_count": 17,
   "outputs": [
    {
     "data": {
      "text/plain": "1"
     },
     "execution_count": 17,
     "metadata": {},
     "output_type": "execute_result"
    }
   ],
   "source": [
    "interactions.groupby(['user_id', 'track_id'])['track_seq'].count().nunique()"
   ],
   "metadata": {
    "collapsed": false
   }
  },
  {
   "cell_type": "markdown",
   "id": "0d850a07-ef1e-462f-891a-1cf89f2e24ef",
   "metadata": {},
   "source": [
    "# Преобразование данных"
   ]
  },
  {
   "cell_type": "markdown",
   "id": "fabcf8d2-1192-4df5-b20b-fbb84689f57a",
   "metadata": {},
   "source": [
    "Преобразуем данные в формат, более пригодный для дальнейшего использования в расчётах рекомендаций."
   ]
  },
  {
   "cell_type": "code",
   "execution_count": 18,
   "id": "a425556a-9382-45ca-a04e-f1981a522126",
   "metadata": {},
   "outputs": [],
   "source": [
    "tracks_catalog = tracks_catalog.rename({'id': 'track_id'}, axis=1)"
   ]
  },
  {
   "cell_type": "code",
   "execution_count": 19,
   "outputs": [
    {
     "data": {
      "text/plain": "         track_id                                             albums  \\\n0              26                                       [3, 2490753]   \n1              38                                       [3, 2490753]   \n2             135                                 [12, 214, 2490809]   \n3             136                                 [12, 214, 2490809]   \n4             138  [12, 214, 322, 72275, 72292, 91199, 213505, 24...   \n...           ...                                                ...   \n980965  101478482                                         [21399811]   \n980966  101490148                                         [21403052]   \n980967  101493057                                         [21403883]   \n980968  101495927                                         [21404975]   \n980969  101521819                                         [21414638]   \n\n           artists    genres  albums_ok  genres_ok  artists_ok   type  \\\n0             [16]  [11, 21]       True       True        True  track   \n1             [16]  [11, 21]       True       True        True  track   \n2             [84]      [11]       True       True        True  track   \n3             [84]      [11]       True       True        True  track   \n4             [84]      [11]       True       True        True  track   \n...            ...       ...        ...        ...         ...    ...   \n980965   [5540395]   [3, 75]       True       True        True  track   \n980966   [9078726]  [11, 20]       True       True        True  track   \n980967  [11865715]  [44, 75]       True       True        True  track   \n980968   [4462686]   [3, 75]       True       True        True  track   \n980969   [5056591]   [3, 75]       True       True        True  track   \n\n                                       name  \n0                          Complimentary Me  \n1                               Momma's Boy  \n2                                   Atticus  \n3                                  24 Hours  \n4       Don't Upset The Rhythm (Go Baby Go)  \n...                                     ...  \n980965                              На лицо  \n980966                      Без капли мысли  \n980967                             SKITTLES  \n980968                               Москва  \n980969                               Вокзал  \n\n[980970 rows x 9 columns]",
      "text/html": "<div>\n<style scoped>\n    .dataframe tbody tr th:only-of-type {\n        vertical-align: middle;\n    }\n\n    .dataframe tbody tr th {\n        vertical-align: top;\n    }\n\n    .dataframe thead th {\n        text-align: right;\n    }\n</style>\n<table border=\"1\" class=\"dataframe\">\n  <thead>\n    <tr style=\"text-align: right;\">\n      <th></th>\n      <th>track_id</th>\n      <th>albums</th>\n      <th>artists</th>\n      <th>genres</th>\n      <th>albums_ok</th>\n      <th>genres_ok</th>\n      <th>artists_ok</th>\n      <th>type</th>\n      <th>name</th>\n    </tr>\n  </thead>\n  <tbody>\n    <tr>\n      <th>0</th>\n      <td>26</td>\n      <td>[3, 2490753]</td>\n      <td>[16]</td>\n      <td>[11, 21]</td>\n      <td>True</td>\n      <td>True</td>\n      <td>True</td>\n      <td>track</td>\n      <td>Complimentary Me</td>\n    </tr>\n    <tr>\n      <th>1</th>\n      <td>38</td>\n      <td>[3, 2490753]</td>\n      <td>[16]</td>\n      <td>[11, 21]</td>\n      <td>True</td>\n      <td>True</td>\n      <td>True</td>\n      <td>track</td>\n      <td>Momma's Boy</td>\n    </tr>\n    <tr>\n      <th>2</th>\n      <td>135</td>\n      <td>[12, 214, 2490809]</td>\n      <td>[84]</td>\n      <td>[11]</td>\n      <td>True</td>\n      <td>True</td>\n      <td>True</td>\n      <td>track</td>\n      <td>Atticus</td>\n    </tr>\n    <tr>\n      <th>3</th>\n      <td>136</td>\n      <td>[12, 214, 2490809]</td>\n      <td>[84]</td>\n      <td>[11]</td>\n      <td>True</td>\n      <td>True</td>\n      <td>True</td>\n      <td>track</td>\n      <td>24 Hours</td>\n    </tr>\n    <tr>\n      <th>4</th>\n      <td>138</td>\n      <td>[12, 214, 322, 72275, 72292, 91199, 213505, 24...</td>\n      <td>[84]</td>\n      <td>[11]</td>\n      <td>True</td>\n      <td>True</td>\n      <td>True</td>\n      <td>track</td>\n      <td>Don't Upset The Rhythm (Go Baby Go)</td>\n    </tr>\n    <tr>\n      <th>...</th>\n      <td>...</td>\n      <td>...</td>\n      <td>...</td>\n      <td>...</td>\n      <td>...</td>\n      <td>...</td>\n      <td>...</td>\n      <td>...</td>\n      <td>...</td>\n    </tr>\n    <tr>\n      <th>980965</th>\n      <td>101478482</td>\n      <td>[21399811]</td>\n      <td>[5540395]</td>\n      <td>[3, 75]</td>\n      <td>True</td>\n      <td>True</td>\n      <td>True</td>\n      <td>track</td>\n      <td>На лицо</td>\n    </tr>\n    <tr>\n      <th>980966</th>\n      <td>101490148</td>\n      <td>[21403052]</td>\n      <td>[9078726]</td>\n      <td>[11, 20]</td>\n      <td>True</td>\n      <td>True</td>\n      <td>True</td>\n      <td>track</td>\n      <td>Без капли мысли</td>\n    </tr>\n    <tr>\n      <th>980967</th>\n      <td>101493057</td>\n      <td>[21403883]</td>\n      <td>[11865715]</td>\n      <td>[44, 75]</td>\n      <td>True</td>\n      <td>True</td>\n      <td>True</td>\n      <td>track</td>\n      <td>SKITTLES</td>\n    </tr>\n    <tr>\n      <th>980968</th>\n      <td>101495927</td>\n      <td>[21404975]</td>\n      <td>[4462686]</td>\n      <td>[3, 75]</td>\n      <td>True</td>\n      <td>True</td>\n      <td>True</td>\n      <td>track</td>\n      <td>Москва</td>\n    </tr>\n    <tr>\n      <th>980969</th>\n      <td>101521819</td>\n      <td>[21414638]</td>\n      <td>[5056591]</td>\n      <td>[3, 75]</td>\n      <td>True</td>\n      <td>True</td>\n      <td>True</td>\n      <td>track</td>\n      <td>Вокзал</td>\n    </tr>\n  </tbody>\n</table>\n<p>980970 rows × 9 columns</p>\n</div>"
     },
     "execution_count": 19,
     "metadata": {},
     "output_type": "execute_result"
    }
   ],
   "source": [
    "tracks.merge(tracks_catalog, on='track_id')"
   ],
   "metadata": {
    "collapsed": false
   }
  },
  {
   "cell_type": "code",
   "execution_count": 20,
   "outputs": [
    {
     "name": "stdout",
     "output_type": "stream",
     "text": [
      "CPU times: user 5.71 s, sys: 1.02 s, total: 6.73 s\n",
      "Wall time: 47.5 s\n"
     ]
    }
   ],
   "source": [
    "%%time\n",
    "# tracks['artists_names'] = tracks.apply(lambda row: get_list(artists, row.artists), axis=1)\n",
    "# tracks['genres_names'] = tracks.apply(lambda row: get_list(genres, row.genres), axis=1)\n",
    "def apply_artists(artists_id):\n",
    "    return  get_list(artists, artists_id)\n",
    "def apply_genres(genres_id):\n",
    "    return get_list(genres, genres_id)\n",
    "with mp.Pool(mp.cpu_count()) as pool:\n",
    "    tracks['artists_names'] = pool.map(apply_artists, tracks.artists)\n",
    "    tracks['genres_names'] = pool.map(apply_genres, tracks.genres)\n",
    "items = tracks.merge(tracks_catalog, on='track_id')"
   ],
   "metadata": {
    "collapsed": false
   }
  },
  {
   "cell_type": "code",
   "execution_count": 21,
   "outputs": [],
   "source": [
    "items = items.drop(['albums_ok', 'genres_ok', 'artists_ok', 'type'], axis=1)"
   ],
   "metadata": {
    "collapsed": false
   }
  },
  {
   "cell_type": "code",
   "execution_count": 22,
   "outputs": [
    {
     "data": {
      "text/plain": "        track_id                albums    artists     genres  \\\n874816  73536519            [12774689]  [2423146]      [335]   \n177673   4907518              [542704]   [298412]  [14, 102]   \n928512  84285672  [15958514, 17244659]  [7064906]       [13]   \n758166  58901533             [8985825]   [159015]   [11, 20]   \n155856   3949144      [444582, 471837]   [678906]   [16, 68]   \n\n              artists_names        genres_names                name  \n874816             Hinkstep               relax  Chasing The Dragon  \n177673    Jean-Pierre Danel       rock, allrock            Misirlou  \n928512  Royal & The Serpent         alternative          fanny pack  \n758166      Елена Темникова         pop, ruspop              STRESS  \n155856       Samantha James  dance, electronics           Illusions  ",
      "text/html": "<div>\n<style scoped>\n    .dataframe tbody tr th:only-of-type {\n        vertical-align: middle;\n    }\n\n    .dataframe tbody tr th {\n        vertical-align: top;\n    }\n\n    .dataframe thead th {\n        text-align: right;\n    }\n</style>\n<table border=\"1\" class=\"dataframe\">\n  <thead>\n    <tr style=\"text-align: right;\">\n      <th></th>\n      <th>track_id</th>\n      <th>albums</th>\n      <th>artists</th>\n      <th>genres</th>\n      <th>artists_names</th>\n      <th>genres_names</th>\n      <th>name</th>\n    </tr>\n  </thead>\n  <tbody>\n    <tr>\n      <th>874816</th>\n      <td>73536519</td>\n      <td>[12774689]</td>\n      <td>[2423146]</td>\n      <td>[335]</td>\n      <td>Hinkstep</td>\n      <td>relax</td>\n      <td>Chasing The Dragon</td>\n    </tr>\n    <tr>\n      <th>177673</th>\n      <td>4907518</td>\n      <td>[542704]</td>\n      <td>[298412]</td>\n      <td>[14, 102]</td>\n      <td>Jean-Pierre Danel</td>\n      <td>rock, allrock</td>\n      <td>Misirlou</td>\n    </tr>\n    <tr>\n      <th>928512</th>\n      <td>84285672</td>\n      <td>[15958514, 17244659]</td>\n      <td>[7064906]</td>\n      <td>[13]</td>\n      <td>Royal &amp; The Serpent</td>\n      <td>alternative</td>\n      <td>fanny pack</td>\n    </tr>\n    <tr>\n      <th>758166</th>\n      <td>58901533</td>\n      <td>[8985825]</td>\n      <td>[159015]</td>\n      <td>[11, 20]</td>\n      <td>Елена Темникова</td>\n      <td>pop, ruspop</td>\n      <td>STRESS</td>\n    </tr>\n    <tr>\n      <th>155856</th>\n      <td>3949144</td>\n      <td>[444582, 471837]</td>\n      <td>[678906]</td>\n      <td>[16, 68]</td>\n      <td>Samantha James</td>\n      <td>dance, electronics</td>\n      <td>Illusions</td>\n    </tr>\n  </tbody>\n</table>\n</div>"
     },
     "execution_count": 22,
     "metadata": {},
     "output_type": "execute_result"
    }
   ],
   "source": [
    "items.sample(5)"
   ],
   "metadata": {
    "collapsed": false
   }
  },
  {
   "cell_type": "code",
   "execution_count": 23,
   "outputs": [
    {
     "name": "stdout",
     "output_type": "stream",
     "text": [
      "CPU times: user 1min 57s, sys: 7.73 s, total: 2min 5s\n",
      "Wall time: 2min 5s\n"
     ]
    }
   ],
   "source": [
    "%%time\n",
    "interactions.started_at = interactions.started_at.apply(lambda ts: ts.date())"
   ],
   "metadata": {
    "collapsed": false
   }
  },
  {
   "cell_type": "markdown",
   "id": "4d1be653-eed8-4fa0-a9c5-3811b080d71d",
   "metadata": {},
   "source": [
    "# Сохранение данных"
   ]
  },
  {
   "cell_type": "markdown",
   "id": "36f1314a-3af3-4faf-a0b1-3045173d1500",
   "metadata": {},
   "source": [
    "Сохраним данные в двух файлах в персональном S3-бакете по пути `recsys/data/`:\n",
    "- `items.parquet` — все данные о музыкальных треках,\n",
    "- `events.parquet` — все данные о взаимодействиях."
   ]
  },
  {
   "cell_type": "code",
   "execution_count": 24,
   "id": "9f77af17-7705-4fae-9aad-db579b39faad",
   "metadata": {},
   "outputs": [],
   "source": [
    "genres.to_parquet('genres.parquet')\n",
    "artists.to_parquet('artists.parquet')\n",
    "albums.to_parquet('albums.parquet')\n",
    "events = interactions\n",
    "events.to_parquet('events.parquet')\n",
    "items.to_parquet('items.parquet')\n",
    "top100tracks.to_parquet('top100.parquet')"
   ]
  },
  {
   "cell_type": "markdown",
   "id": "72ecbbed-c560-44d9-9c14-86c7dc76f399",
   "metadata": {},
   "source": [
    "# Очистка памяти"
   ]
  },
  {
   "cell_type": "markdown",
   "id": "b5358ede-ba6e-4c4f-bd73-5b9344f0ba79",
   "metadata": {},
   "source": [
    "Здесь, может понадобится очистка памяти для высвобождения ресурсов для выполнения кода ниже. \n",
    "\n",
    "Приведите соответствующие код, комментарии, например:\n",
    "- код для удаление более ненужных переменных,\n",
    "- комментарий, что следует перезапустить kernel, выполнить такие-то начальные секции и продолжить с этапа 3."
   ]
  },
  {
   "cell_type": "markdown",
   "source": [
    "Если есть желание можно перезапустить ядро, затем раскомментировать и выполнить ячейку ниже"
   ],
   "metadata": {
    "collapsed": false
   }
  },
  {
   "cell_type": "markdown",
   "id": "708503df-ee89-4cf3-8489-093dc478e2a8",
   "metadata": {},
   "source": [
    "# === ЭТАП 3 ==="
   ]
  },
  {
   "cell_type": "markdown",
   "id": "fd77de22-e10f-4b42-85c1-8fb6f805fe68",
   "metadata": {},
   "source": [
    "# Загрузка данных"
   ]
  },
  {
   "cell_type": "markdown",
   "id": "780a4241-1ecd-4a3e-bbb3-fc2f6ca94f68",
   "metadata": {},
   "source": [
    "Если необходимо, то загружаем items.parquet, events.parquet."
   ]
  },
  {
   "cell_type": "code",
   "execution_count": 25,
   "id": "f19fc8a5-bd2c-40d7-864a-ee75aca6d512",
   "metadata": {},
   "outputs": [],
   "source": [
    "# from datetime import datetime\n",
    "# import multiprocessing as mp\n",
    "# import pandas as pd\n",
    "# import numpy as np\n",
    "# import scipy\n",
    "# import sklearn.preprocessing\n",
    "# import sklearn.metrics\n",
    "# from implicit.als import AlternatingLeastSquares\n",
    "# from catboost import CatBoostClassifier, Pool\n",
    "#\n",
    "# genres = pd.read_parquet('genres.parquet')\n",
    "# artists = pd.read_parquet('artists.parquet')\n",
    "# albums = pd.read_parquet('albums.parquet')\n",
    "# events = pd.read_parquet('events.parquet')\n",
    "# items = pd.read_parquet('items.parquet')"
   ]
  },
  {
   "cell_type": "markdown",
   "id": "a694c023-6477-490b-939d-1cfa6f5f1b72",
   "metadata": {},
   "source": [
    "# Разбиение данных"
   ]
  },
  {
   "cell_type": "markdown",
   "id": "fbd5f6e0-54e7-4428-8678-eabce505d82c",
   "metadata": {},
   "source": [
    "Разбиваем данные на тренировочную, тестовую выборки."
   ]
  },
  {
   "cell_type": "code",
   "execution_count": 26,
   "id": "00c2dfa5-d8a2-47d1-922e-6eefee2c62d1",
   "metadata": {},
   "outputs": [
    {
     "name": "stdout",
     "output_type": "stream",
     "text": [
      "1342107 782025 751365\n"
     ]
    }
   ],
   "source": [
    "train_test_global_time_split_date = pd.to_datetime('2022-12-16').date()  # this will not work with cudf\n",
    "train_test_global_time_split_idx = events[\"started_at\"] < train_test_global_time_split_date\n",
    "events_train = events[train_test_global_time_split_idx]\n",
    "events_test = events[~train_test_global_time_split_idx]\n",
    "\n",
    "# пользователи в train и test\n",
    "users_train = events_train[\"user_id\"].drop_duplicates()\n",
    "users_test = events_test[\"user_id\"].drop_duplicates()\n",
    "# пользователи, которые есть и в train и в test\n",
    "common_users = set(users_train) & set(users_test)  # this will not work with cudf\n",
    "print(len(users_train), len(users_test), len(common_users))"
   ]
  },
  {
   "cell_type": "code",
   "execution_count": 27,
   "id": "26fe3e3c-8c5f-4437-bf13-9191adef08bb",
   "metadata": {},
   "outputs": [
    {
     "name": "stdout",
     "output_type": "stream",
     "text": [
      "30660\n"
     ]
    }
   ],
   "source": [
    "cold_users = set(users_test) - common_users\n",
    "print(len(cold_users))"
   ]
  },
  {
   "cell_type": "markdown",
   "id": "9131c7e6-8852-4556-b510-51f7253cc299",
   "metadata": {},
   "source": [
    "# Топ популярных"
   ]
  },
  {
   "cell_type": "markdown",
   "id": "dd70d43a-88cc-4719-b291-feaed7136f30",
   "metadata": {},
   "source": [
    "Рассчитаем рекомендации как топ популярных."
   ]
  },
  {
   "cell_type": "code",
   "execution_count": 28,
   "id": "ee45e200-b7d6-4f56-9077-aad431689b96",
   "metadata": {},
   "outputs": [],
   "source": [
    "item_popularity = events_train.groupby([\"track_id\"]).agg(users=(\"user_id\", \"nunique\")).reset_index().sort_values(by='users', ascending=False)\n",
    "item_popularity.head(10)\n",
    "top_popular = item_popularity[:100]\n",
    "top_popular.to_parquet('top_popular.parquet')"
   ]
  },
  {
   "cell_type": "code",
   "execution_count": 29,
   "id": "7690c86f-7aa9-46ed-bba5-2c837626411e",
   "metadata": {},
   "outputs": [
    {
     "data": {
      "text/plain": "100"
     },
     "execution_count": 29,
     "metadata": {},
     "output_type": "execute_result"
    }
   ],
   "source": [
    "cold_users_events = events_test[events_test.user_id.isin(cold_users)]\n",
    "len(set(cold_users_events[cold_users_events.track_id.isin(top_popular.track_id)].track_id) & set(top_popular.track_id))"
   ]
  },
  {
   "cell_type": "markdown",
   "id": "2ad231f2-6158-421a-b7fa-01d8bc3ed572",
   "metadata": {},
   "source": [
    "# Персональные"
   ]
  },
  {
   "cell_type": "markdown",
   "id": "86159460-cd9d-4b63-8248-604ea3c9aebf",
   "metadata": {},
   "source": [
    "Рассчитаем персональные рекомендации."
   ]
  },
  {
   "cell_type": "code",
   "execution_count": 30,
   "id": "d2944822-569c-4f9b-82dc-70a7fa2d542e",
   "metadata": {},
   "outputs": [
    {
     "name": "stderr",
     "output_type": "stream",
     "text": [
      "<timed exec>:5: SettingWithCopyWarning: \n",
      "A value is trying to be set on a copy of a slice from a DataFrame.\n",
      "Try using .loc[row_indexer,col_indexer] = value instead\n",
      "\n",
      "See the caveats in the documentation: https://pandas.pydata.org/pandas-docs/stable/user_guide/indexing.html#returning-a-view-versus-a-copy\n",
      "<timed exec>:6: SettingWithCopyWarning: \n",
      "A value is trying to be set on a copy of a slice from a DataFrame.\n",
      "Try using .loc[row_indexer,col_indexer] = value instead\n",
      "\n",
      "See the caveats in the documentation: https://pandas.pydata.org/pandas-docs/stable/user_guide/indexing.html#returning-a-view-versus-a-copy\n",
      "<timed exec>:11: SettingWithCopyWarning: \n",
      "A value is trying to be set on a copy of a slice from a DataFrame.\n",
      "Try using .loc[row_indexer,col_indexer] = value instead\n",
      "\n",
      "See the caveats in the documentation: https://pandas.pydata.org/pandas-docs/stable/user_guide/indexing.html#returning-a-view-versus-a-copy\n"
     ]
    },
    {
     "name": "stdout",
     "output_type": "stream",
     "text": [
      "CPU times: user 1min 24s, sys: 716 ms, total: 1min 24s\n",
      "Wall time: 1min 26s\n"
     ]
    },
    {
     "name": "stderr",
     "output_type": "stream",
     "text": [
      "<timed exec>:12: SettingWithCopyWarning: \n",
      "A value is trying to be set on a copy of a slice from a DataFrame.\n",
      "Try using .loc[row_indexer,col_indexer] = value instead\n",
      "\n",
      "See the caveats in the documentation: https://pandas.pydata.org/pandas-docs/stable/user_guide/indexing.html#returning-a-view-versus-a-copy\n"
     ]
    }
   ],
   "source": [
    "%%time\n",
    "# перекодирование идентификаторов пользователей:\n",
    "user_encoder = sklearn.preprocessing.LabelEncoder()\n",
    "user_encoder.fit(events[\"user_id\"])\n",
    "events[\"user_id_enc\"] = user_encoder.transform(events[\"user_id\"])\n",
    "events_train[\"user_id_enc\"] = user_encoder.transform(events_train[\"user_id\"])\n",
    "events_test[\"user_id_enc\"] = user_encoder.transform(events_test[\"user_id\"])\n",
    "# перекодирование идентификаторов трэков:\n",
    "item_encoder = sklearn.preprocessing.LabelEncoder()\n",
    "item_encoder.fit(items[\"track_id\"])\n",
    "items[\"track_id_enc\"] = item_encoder.transform(items[\"track_id\"])\n",
    "events_train[\"track_id_enc\"] = item_encoder.transform(events_train[\"track_id\"])\n",
    "events_test[\"track_id_enc\"] =  item_encoder.transform(events_test[\"track_id\"])"
   ]
  },
  {
   "cell_type": "code",
   "execution_count": 31,
   "id": "1e8cdb58-3a8c-45ad-8e5f-7f950314aa56",
   "metadata": {},
   "outputs": [],
   "source": [
    "# создание разряжённой матрицы формата CSR\n",
    "user_item_matrix_train = scipy.sparse.csr_matrix((\n",
    "    [1] * len(events_train),\n",
    "    (events_train['user_id_enc'], events_train['track_id_enc'])),\n",
    "    dtype=np.int8)\n"
   ]
  },
  {
   "cell_type": "code",
   "execution_count": 32,
   "outputs": [
    {
     "data": {
      "text/plain": "  0%|          | 0/50 [00:00<?, ?it/s]",
      "application/vnd.jupyter.widget-view+json": {
       "version_major": 2,
       "version_minor": 0,
       "model_id": "17d29459ca334906a7e532f34c948345"
      }
     },
     "metadata": {},
     "output_type": "display_data"
    },
    {
     "name": "stdout",
     "output_type": "stream",
     "text": [
      "CPU times: user 28.4 s, sys: 413 ms, total: 28.8 s\n",
      "Wall time: 29.6 s\n"
     ]
    }
   ],
   "source": [
    "%%time\n",
    "als_model = AlternatingLeastSquares(factors=50, iterations=50, regularization=0.05, random_state=0)\n",
    "als_model.fit(user_item_matrix_train)"
   ],
   "metadata": {
    "collapsed": false
   }
  },
  {
   "cell_type": "code",
   "execution_count": 33,
   "outputs": [
    {
     "name": "stdout",
     "output_type": "stream",
     "text": [
      "История (последние события, recent)\n"
     ]
    },
    {
     "data": {
      "text/plain": "     track_id       artists_names                 name genres_names  \\\n241  78194999        SLAVA MARLOW  ТЫ ГОРИШЬ КАК ОГОНЬ  rusrap, rap   \n242  78210025      Тайпан, Agunda         Мерцают огни  pop, ruspop   \n243  78336466              ФОГЕЛЬ        ДУРАКАМ ВЕЗЁТ  pop, ruspop   \n244  78608850               10AGE        Нету интереса  rusrap, rap   \n245  78619463  NILETTO, Анет Сай            Не люблю?  pop, ruspop   \n246  78771795              Rakhim    Синий Lamborghini  rusrap, rap   \n247  78879876                  NЮ            Я надеюсь  pop, ruspop   \n248  81848875     Galibri & Mavik     Федерико Феллини  pop, ruspop   \n249  85088913  Klaas, Mister Ruiz       Feel Only Love        dance   \n250  90660749          Клава Кока             ЛА ЛА ЛА  pop, ruspop   \n\n     started_at  \n241  2022-12-06  \n242  2022-12-07  \n243  2022-12-08  \n244  2022-12-10  \n245  2022-12-11  \n246  2022-12-11  \n247  2022-12-12  \n248  2022-12-13  \n249  2022-12-14  \n250  2022-12-15  ",
      "text/html": "<div>\n<style scoped>\n    .dataframe tbody tr th:only-of-type {\n        vertical-align: middle;\n    }\n\n    .dataframe tbody tr th {\n        vertical-align: top;\n    }\n\n    .dataframe thead th {\n        text-align: right;\n    }\n</style>\n<table border=\"1\" class=\"dataframe\">\n  <thead>\n    <tr style=\"text-align: right;\">\n      <th></th>\n      <th>track_id</th>\n      <th>artists_names</th>\n      <th>name</th>\n      <th>genres_names</th>\n      <th>started_at</th>\n    </tr>\n  </thead>\n  <tbody>\n    <tr>\n      <th>241</th>\n      <td>78194999</td>\n      <td>SLAVA MARLOW</td>\n      <td>ТЫ ГОРИШЬ КАК ОГОНЬ</td>\n      <td>rusrap, rap</td>\n      <td>2022-12-06</td>\n    </tr>\n    <tr>\n      <th>242</th>\n      <td>78210025</td>\n      <td>Тайпан, Agunda</td>\n      <td>Мерцают огни</td>\n      <td>pop, ruspop</td>\n      <td>2022-12-07</td>\n    </tr>\n    <tr>\n      <th>243</th>\n      <td>78336466</td>\n      <td>ФОГЕЛЬ</td>\n      <td>ДУРАКАМ ВЕЗЁТ</td>\n      <td>pop, ruspop</td>\n      <td>2022-12-08</td>\n    </tr>\n    <tr>\n      <th>244</th>\n      <td>78608850</td>\n      <td>10AGE</td>\n      <td>Нету интереса</td>\n      <td>rusrap, rap</td>\n      <td>2022-12-10</td>\n    </tr>\n    <tr>\n      <th>245</th>\n      <td>78619463</td>\n      <td>NILETTO, Анет Сай</td>\n      <td>Не люблю?</td>\n      <td>pop, ruspop</td>\n      <td>2022-12-11</td>\n    </tr>\n    <tr>\n      <th>246</th>\n      <td>78771795</td>\n      <td>Rakhim</td>\n      <td>Синий Lamborghini</td>\n      <td>rusrap, rap</td>\n      <td>2022-12-11</td>\n    </tr>\n    <tr>\n      <th>247</th>\n      <td>78879876</td>\n      <td>NЮ</td>\n      <td>Я надеюсь</td>\n      <td>pop, ruspop</td>\n      <td>2022-12-12</td>\n    </tr>\n    <tr>\n      <th>248</th>\n      <td>81848875</td>\n      <td>Galibri &amp; Mavik</td>\n      <td>Федерико Феллини</td>\n      <td>pop, ruspop</td>\n      <td>2022-12-13</td>\n    </tr>\n    <tr>\n      <th>249</th>\n      <td>85088913</td>\n      <td>Klaas, Mister Ruiz</td>\n      <td>Feel Only Love</td>\n      <td>dance</td>\n      <td>2022-12-14</td>\n    </tr>\n    <tr>\n      <th>250</th>\n      <td>90660749</td>\n      <td>Клава Кока</td>\n      <td>ЛА ЛА ЛА</td>\n      <td>pop, ruspop</td>\n      <td>2022-12-15</td>\n    </tr>\n  </tbody>\n</table>\n</div>"
     },
     "metadata": {},
     "output_type": "display_data"
    },
    {
     "name": "stdout",
     "output_type": "stream",
     "text": [
      "Рекомендации\n"
     ]
    },
    {
     "data": {
      "text/plain": "   track_id_enc     score  track_id              artists_names  \\\n0        754831  0.949982  58515506          GAYAZOV$ BROTHER$   \n1        816204  0.674819  65591365                  twocolors   \n2        773816  0.671645  60725745                       Мэвл   \n3        741143  0.670701  56776952                  Макс Корж   \n4        742433  0.648375  56920237                     Zivert   \n5        849932  0.606942  70274628                       Дора   \n6        748889  0.580742  57799893                  SAINt JHN   \n7        624543  0.577364  43731470              Trevor Daniel   \n8        678849  0.573772  49961817  Artik & Asti, Артём Качер   \n9        737849  0.572967  56312027                Олег Кензов   \n\n                       name          genres_names  \n0  Увезите меня на Дип-хаус           pop, ruspop  \n1                  Lovefool                 dance  \n2                 Патамушка           pop, ruspop  \n3              2 типа людей           rusrap, rap  \n4             Beverly Hills           pop, ruspop  \n5                 Втюрилась    local-indie, indie  \n6                     Roses                 dance  \n7                   Falling  pop, foreignrap, rap  \n8             Грустный дэнс           pop, ruspop  \n9                  По кайфу           pop, ruspop  ",
      "text/html": "<div>\n<style scoped>\n    .dataframe tbody tr th:only-of-type {\n        vertical-align: middle;\n    }\n\n    .dataframe tbody tr th {\n        vertical-align: top;\n    }\n\n    .dataframe thead th {\n        text-align: right;\n    }\n</style>\n<table border=\"1\" class=\"dataframe\">\n  <thead>\n    <tr style=\"text-align: right;\">\n      <th></th>\n      <th>track_id_enc</th>\n      <th>score</th>\n      <th>track_id</th>\n      <th>artists_names</th>\n      <th>name</th>\n      <th>genres_names</th>\n    </tr>\n  </thead>\n  <tbody>\n    <tr>\n      <th>0</th>\n      <td>754831</td>\n      <td>0.949982</td>\n      <td>58515506</td>\n      <td>GAYAZOV$ BROTHER$</td>\n      <td>Увезите меня на Дип-хаус</td>\n      <td>pop, ruspop</td>\n    </tr>\n    <tr>\n      <th>1</th>\n      <td>816204</td>\n      <td>0.674819</td>\n      <td>65591365</td>\n      <td>twocolors</td>\n      <td>Lovefool</td>\n      <td>dance</td>\n    </tr>\n    <tr>\n      <th>2</th>\n      <td>773816</td>\n      <td>0.671645</td>\n      <td>60725745</td>\n      <td>Мэвл</td>\n      <td>Патамушка</td>\n      <td>pop, ruspop</td>\n    </tr>\n    <tr>\n      <th>3</th>\n      <td>741143</td>\n      <td>0.670701</td>\n      <td>56776952</td>\n      <td>Макс Корж</td>\n      <td>2 типа людей</td>\n      <td>rusrap, rap</td>\n    </tr>\n    <tr>\n      <th>4</th>\n      <td>742433</td>\n      <td>0.648375</td>\n      <td>56920237</td>\n      <td>Zivert</td>\n      <td>Beverly Hills</td>\n      <td>pop, ruspop</td>\n    </tr>\n    <tr>\n      <th>5</th>\n      <td>849932</td>\n      <td>0.606942</td>\n      <td>70274628</td>\n      <td>Дора</td>\n      <td>Втюрилась</td>\n      <td>local-indie, indie</td>\n    </tr>\n    <tr>\n      <th>6</th>\n      <td>748889</td>\n      <td>0.580742</td>\n      <td>57799893</td>\n      <td>SAINt JHN</td>\n      <td>Roses</td>\n      <td>dance</td>\n    </tr>\n    <tr>\n      <th>7</th>\n      <td>624543</td>\n      <td>0.577364</td>\n      <td>43731470</td>\n      <td>Trevor Daniel</td>\n      <td>Falling</td>\n      <td>pop, foreignrap, rap</td>\n    </tr>\n    <tr>\n      <th>8</th>\n      <td>678849</td>\n      <td>0.573772</td>\n      <td>49961817</td>\n      <td>Artik &amp; Asti, Артём Качер</td>\n      <td>Грустный дэнс</td>\n      <td>pop, ruspop</td>\n    </tr>\n    <tr>\n      <th>9</th>\n      <td>737849</td>\n      <td>0.572967</td>\n      <td>56312027</td>\n      <td>Олег Кензов</td>\n      <td>По кайфу</td>\n      <td>pop, ruspop</td>\n    </tr>\n  </tbody>\n</table>\n</div>"
     },
     "metadata": {},
     "output_type": "display_data"
    }
   ],
   "source": [
    "def get_recommendations_als(user_item_matrix, model, user_id, user_encoder, item_encoder, include_seen=False, n=10):\n",
    "    \"\"\"\n",
    "    Возвращает отранжированные рекомендации для заданного пользователя\n",
    "    \"\"\"\n",
    "    user_id_enc = user_encoder.transform([user_id])[0]\n",
    "    recommendations = model.recommend(\n",
    "        user_id_enc,\n",
    "        user_item_matrix[user_id_enc],\n",
    "        filter_already_liked_items=not include_seen,\n",
    "        N=n)\n",
    "    recommendations = pd.DataFrame({\"track_id_enc\": recommendations[0], \"score\": recommendations[1]})\n",
    "    recommendations[\"track_id\"] = item_encoder.inverse_transform(recommendations[\"track_id_enc\"])\n",
    "\n",
    "    return recommendations\n",
    "\n",
    "user_id = events_train['user_id'].sample().iat[0]\n",
    "user_id_enc = user_encoder.transform([user_id])[0]\n",
    "print(\"История (последние события, recent)\")\n",
    "user_history = (\n",
    "    events_train\n",
    "    .query(\"user_id == @user_id\")\n",
    "    .merge(items.set_index(\"track_id\"), on=\"track_id\")\n",
    ")\n",
    "user_history_to_print = user_history[[\"track_id\", \"artists_names\", \"name\", \"genres_names\", \"started_at\"]].tail(10)\n",
    "display(user_history_to_print)\n",
    "\n",
    "print(\"Рекомендации\")\n",
    "user_recommendations = get_recommendations_als(user_item_matrix_train, als_model, user_id, user_encoder, item_encoder)\n",
    "user_recommendations = user_recommendations.merge(items[[\"track_id\", \"artists_names\", \"name\", \"genres_names\", ]], on=\"track_id\")\n",
    "display(user_recommendations)"
   ],
   "metadata": {
    "collapsed": false
   }
  },
  {
   "cell_type": "code",
   "execution_count": 34,
   "outputs": [
    {
     "name": "stdout",
     "output_type": "stream",
     "text": [
      "CPU times: user 6min 35s, sys: 1min 33s, total: 8min 8s\n",
      "Wall time: 8min 9s\n"
     ]
    },
    {
     "data": {
      "text/plain": "           user_id   item_id     score\n1851248      18979  24442536  0.089693\n77119202    789718  51516485  0.041511\n42591806    436161  61638507  0.188723\n101072853  1035057   2200971  0.064386\n64334774    658888     33931  0.059942",
      "text/html": "<div>\n<style scoped>\n    .dataframe tbody tr th:only-of-type {\n        vertical-align: middle;\n    }\n\n    .dataframe tbody tr th {\n        vertical-align: top;\n    }\n\n    .dataframe thead th {\n        text-align: right;\n    }\n</style>\n<table border=\"1\" class=\"dataframe\">\n  <thead>\n    <tr style=\"text-align: right;\">\n      <th></th>\n      <th>user_id</th>\n      <th>item_id</th>\n      <th>score</th>\n    </tr>\n  </thead>\n  <tbody>\n    <tr>\n      <th>1851248</th>\n      <td>18979</td>\n      <td>24442536</td>\n      <td>0.089693</td>\n    </tr>\n    <tr>\n      <th>77119202</th>\n      <td>789718</td>\n      <td>51516485</td>\n      <td>0.041511</td>\n    </tr>\n    <tr>\n      <th>42591806</th>\n      <td>436161</td>\n      <td>61638507</td>\n      <td>0.188723</td>\n    </tr>\n    <tr>\n      <th>101072853</th>\n      <td>1035057</td>\n      <td>2200971</td>\n      <td>0.064386</td>\n    </tr>\n    <tr>\n      <th>64334774</th>\n      <td>658888</td>\n      <td>33931</td>\n      <td>0.059942</td>\n    </tr>\n  </tbody>\n</table>\n</div>"
     },
     "execution_count": 34,
     "metadata": {},
     "output_type": "execute_result"
    }
   ],
   "source": [
    "%%time\n",
    "# получаем список всех возможных user_id (перекодированных)\n",
    "user_ids_encoded = events_train['user_id_enc'].unique()  # range(len(user_encoder.classes_))\n",
    "\n",
    "# получаем рекомендации для всех пользователей\n",
    "als_recommendations = als_model.recommend(\n",
    "    user_ids_encoded,\n",
    "    user_item_matrix_train[user_ids_encoded],\n",
    "    filter_already_liked_items=False, N=100)\n",
    "\n",
    "\n",
    "# преобразуем полученные рекомендации в табличный формат\n",
    "item_ids_enc = als_recommendations[0]\n",
    "als_scores = als_recommendations[1]\n",
    "\n",
    "als_recommendations = pd.DataFrame({\n",
    "    \"user_id_enc\": user_ids_encoded,\n",
    "    \"item_id_enc\": item_ids_enc.tolist(),\n",
    "    \"score\": als_scores.tolist()})\n",
    "als_recommendations = als_recommendations.explode([\"item_id_enc\", \"score\"], ignore_index=True)\n",
    "\n",
    "# приводим типы данных\n",
    "als_recommendations[\"item_id_enc\"] = als_recommendations[\"item_id_enc\"].astype(\"int\")\n",
    "als_recommendations[\"score\"] = als_recommendations[\"score\"].astype(\"float\")\n",
    "\n",
    "# получаем изначальные идентификаторы\n",
    "als_recommendations[\"user_id\"] = user_encoder.inverse_transform(als_recommendations[\"user_id_enc\"])\n",
    "als_recommendations[\"item_id\"] = item_encoder.inverse_transform(als_recommendations[\"item_id_enc\"])\n",
    "als_recommendations = als_recommendations.drop(columns=[\"user_id_enc\", \"item_id_enc\"])\n",
    "\n",
    "als_recommendations = als_recommendations[[\"user_id\", \"item_id\", \"score\"]]\n",
    "als_recommendations.to_parquet(\"als_recommendations.parquet\")\n",
    "als_recommendations.sample(5)"
   ],
   "metadata": {
    "collapsed": false
   }
  },
  {
   "cell_type": "markdown",
   "id": "5f09dc7e-7c91-4355-860a-b9cfb9f33f15",
   "metadata": {},
   "source": [
    "# Похожие"
   ]
  },
  {
   "cell_type": "markdown",
   "id": "1dfcb683-b440-40a8-9975-894156a53872",
   "metadata": {},
   "source": [
    "Рассчитаем похожие, они позже пригодятся для онлайн-рекомендаций."
   ]
  },
  {
   "cell_type": "code",
   "execution_count": 35,
   "id": "a75d07ee-4b12-4ce5-aa85-e45cb7a7a4f0",
   "metadata": {},
   "outputs": [
    {
     "name": "stdout",
     "output_type": "stream",
     "text": [
      "CPU times: user 22.6 s, sys: 627 ms, total: 23.2 s\n",
      "Wall time: 24.2 s\n"
     ]
    },
    {
     "data": {
      "text/plain": "            score  track_id_1  track_id_2\n1447723  0.901696    52156077    37522572\n1399060  0.923067    26013305    35929398\n6778083  0.943518    67823419     4211687\n2352605  0.944451    75663887    73198126\n5384133  0.867947    23142991     6597399",
      "text/html": "<div>\n<style scoped>\n    .dataframe tbody tr th:only-of-type {\n        vertical-align: middle;\n    }\n\n    .dataframe tbody tr th {\n        vertical-align: top;\n    }\n\n    .dataframe thead th {\n        text-align: right;\n    }\n</style>\n<table border=\"1\" class=\"dataframe\">\n  <thead>\n    <tr style=\"text-align: right;\">\n      <th></th>\n      <th>score</th>\n      <th>track_id_1</th>\n      <th>track_id_2</th>\n    </tr>\n  </thead>\n  <tbody>\n    <tr>\n      <th>1447723</th>\n      <td>0.901696</td>\n      <td>52156077</td>\n      <td>37522572</td>\n    </tr>\n    <tr>\n      <th>1399060</th>\n      <td>0.923067</td>\n      <td>26013305</td>\n      <td>35929398</td>\n    </tr>\n    <tr>\n      <th>6778083</th>\n      <td>0.943518</td>\n      <td>67823419</td>\n      <td>4211687</td>\n    </tr>\n    <tr>\n      <th>2352605</th>\n      <td>0.944451</td>\n      <td>75663887</td>\n      <td>73198126</td>\n    </tr>\n    <tr>\n      <th>5384133</th>\n      <td>0.867947</td>\n      <td>23142991</td>\n      <td>6597399</td>\n    </tr>\n  </tbody>\n</table>\n</div>"
     },
     "execution_count": 35,
     "metadata": {},
     "output_type": "execute_result"
    }
   ],
   "source": [
    "%%time\n",
    "# получим энкодированные идентификаторы всех объектов, известных нам из events_train\n",
    "train_track_ids_enc = events_train['track_id_enc'].unique()\n",
    "\n",
    "max_similar_items = 10\n",
    "\n",
    "# получаем списки похожих объектов, используя ранее полученную ALS-модель\n",
    "# метод similar_items возвращает и сам объект, как наиболее похожий\n",
    "# этот объект мы позже отфильтруем, но сейчас запросим на 1 больше\n",
    "similar_items = als_model.similar_items(train_track_ids_enc, N=max_similar_items+1)\n",
    "\n",
    "# преобразуем полученные списки в табличный формат\n",
    "sim_item_track_ids_enc = similar_items[0]\n",
    "sim_item_scores = similar_items[1]\n",
    "\n",
    "similar_items = pd.DataFrame({\n",
    "    \"track_id_enc\": train_track_ids_enc,\n",
    "    \"sim_track_id_enc\": sim_item_track_ids_enc.tolist(),\n",
    "    \"score\": sim_item_scores.tolist()})\n",
    "\n",
    "similar_items = similar_items.explode([\"sim_track_id_enc\", \"score\"], ignore_index=True)\n",
    "\n",
    "# приводим типы данных\n",
    "similar_items[\"sim_track_id_enc\"] = similar_items[\"sim_track_id_enc\"].astype(\"int\")\n",
    "similar_items[\"score\"] = similar_items[\"score\"].astype(\"float\")\n",
    "\n",
    "# получаем изначальные идентификаторы\n",
    "similar_items[\"track_id_1\"] = item_encoder.inverse_transform(similar_items[\"track_id_enc\"])\n",
    "similar_items[\"track_id_2\"] = item_encoder.inverse_transform(similar_items[\"sim_track_id_enc\"])\n",
    "similar_items = similar_items.drop(columns=[\"track_id_enc\", \"sim_track_id_enc\"])\n",
    "\n",
    "# убираем пары с одинаковыми объектами\n",
    "similar_items = similar_items.query(\"track_id_1 != track_id_2\")\n",
    "\n",
    "similar_items.to_parquet('similar_items.parquet')\n",
    "similar_items.sample(5)"
   ]
  },
  {
   "cell_type": "markdown",
   "id": "0087a3e7-ca9f-42cd-944c-944222c1baef",
   "metadata": {},
   "source": [
    "# Построение признаков"
   ]
  },
  {
   "cell_type": "markdown",
   "id": "e82a32e1-b90b-4eaf-9439-fc8deab9f34b",
   "metadata": {},
   "source": [
    "Построим три признака, можно больше, для ранжирующей модели."
   ]
  },
  {
   "cell_type": "code",
   "execution_count": 36,
   "outputs": [
    {
     "name": "stdout",
     "output_type": "stream",
     "text": [
      "CPU times: user 1min 15s, sys: 3.89 s, total: 1min 19s\n",
      "Wall time: 1min 20s\n"
     ]
    }
   ],
   "source": [
    "%%time\n",
    "def get_user_features(events):\n",
    "    user_features = events.groupby('user_id').agg(\n",
    "        tracks_total=('track_id', 'nunique'),\n",
    "        hearing_days=('started_at', lambda x: (x.max() - x.min()).days),\n",
    "    )\n",
    "    user_features['tracks_per_day'] = user_features['tracks_total'] / user_features['hearing_days']\n",
    "    return user_features\n",
    "\n",
    "user_features_for_train = get_user_features(events_train)"
   ],
   "metadata": {
    "collapsed": false
   }
  },
  {
   "cell_type": "code",
   "execution_count": 37,
   "outputs": [],
   "source": [
    "events = events.rename(columns={'track_id': 'item_id'})\n",
    "events_train = events_train.rename(columns={'track_id': 'item_id'})\n",
    "events_test = events_test.rename(columns={'track_id': 'item_id'})"
   ],
   "metadata": {
    "collapsed": false
   }
  },
  {
   "cell_type": "code",
   "execution_count": 38,
   "outputs": [
    {
     "name": "stdout",
     "output_type": "stream",
     "text": [
      "CPU times: user 39.2 s, sys: 2.38 s, total: 41.6 s\n",
      "Wall time: 41.8 s\n"
     ]
    }
   ],
   "source": [
    "%%time\n",
    "def get_item_features(events):\n",
    "    items_features = events.groupby('item_id').agg(\n",
    "        nusers=('user_id', 'nunique'),\n",
    "    )\n",
    "    return items_features\n",
    "\n",
    "item_features_for_train = get_item_features(events_train)\n"
   ],
   "metadata": {
    "collapsed": false
   }
  },
  {
   "cell_type": "code",
   "execution_count": 39,
   "outputs": [],
   "source": [
    "# genre_names_to_id = genres.reset_index().set_index(\"name\")[\"id\"].to_dict()\n",
    "# genre_names_to_id"
   ],
   "metadata": {
    "collapsed": false
   }
  },
  {
   "cell_type": "markdown",
   "id": "47bcf88d-b236-46f0-a6f3-38ddd64895fe",
   "metadata": {},
   "source": [
    "# Ранжирование рекомендаций"
   ]
  },
  {
   "cell_type": "markdown",
   "id": "e8cd8223-3418-4493-8c87-1f76286ebda0",
   "metadata": {},
   "source": [
    "Построим ранжирующую модель, чтобы сделать рекомендации более точными. Отранжируем рекомендации."
   ]
  },
  {
   "cell_type": "code",
   "execution_count": 40,
   "id": "79f1dd92-32a9-463d-827e-8bb9ee5bbb54",
   "metadata": {},
   "outputs": [
    {
     "data": {
      "text/plain": "user_id         697473\nitem_id         502028\ntrack_seq        12850\nstarted_at           8\nuser_id_enc     697473\ntrack_id_enc    502028\ndtype: int64"
     },
     "execution_count": 40,
     "metadata": {},
     "output_type": "execute_result"
    }
   ],
   "source": [
    "split_date_for_labels = pd.to_datetime('2022-12-24').date()\n",
    "split_date_for_labels_idx = events_test[\"started_at\"] < split_date_for_labels\n",
    "events_labels = events_test[split_date_for_labels_idx].copy()\n",
    "events_test_2 = events_test[~split_date_for_labels_idx].copy()\n",
    "events_labels.nunique()"
   ]
  },
  {
   "cell_type": "code",
   "execution_count": 41,
   "id": "6dbe4db4-1ac5-44da-a13c-8e7f9768ab73",
   "metadata": {},
   "outputs": [],
   "source": [
    "candidates = als_recommendations[[\"user_id\", \"item_id\", \"score\"]]\n"
   ]
  },
  {
   "cell_type": "code",
   "execution_count": 42,
   "outputs": [
    {
     "name": "stdout",
     "output_type": "stream",
     "text": [
      "CPU times: user 1min 23s, sys: 6.6 s, total: 1min 29s\n",
      "Wall time: 1min 28s\n"
     ]
    },
    {
     "name": "stderr",
     "output_type": "stream",
     "text": [
      "<timed exec>:21: DeprecationWarning: DataFrameGroupBy.apply operated on the grouping columns. This behavior is deprecated, and in a future version of pandas the grouping columns will be excluded from the operation. Either pass `include_groups=False` to exclude the groupings or explicitly select the grouping columns after groupby to silence this warning.\n"
     ]
    },
    {
     "data": {
      "text/plain": "(1167759, 4)"
     },
     "execution_count": 42,
     "metadata": {},
     "output_type": "execute_result"
    }
   ],
   "source": [
    "%%time\n",
    "# добавляем таргет к кандидатам со значением:\n",
    "# — 1 для тех item_id, которые пользователь прочитал\n",
    "# — 0, для всех остальных\n",
    "\n",
    "events_labels[\"target\"] = 1\n",
    "\n",
    "candidates = candidates.merge(events_labels[[\"user_id\", \"item_id\", \"target\"]],\n",
    "                              on=[\"user_id\", \"item_id\"], how='left')\n",
    "\n",
    "candidates[\"target\"] = candidates[\"target\"].fillna(0).astype(\"int\")\n",
    "#\n",
    "# в кандидатах оставляем только тех пользователей, у которых есть хотя бы один положительный таргет\n",
    "candidates_to_sample = candidates.groupby(\"user_id\").filter(lambda x: x[\"target\"].sum() > 0)\n",
    "#\n",
    "# для каждого пользователя оставляем только 4 негативных примера\n",
    "negatives_per_user = 4\n",
    "candidates_for_train = pd.concat([\n",
    "    candidates[candidates.target==1],\n",
    "    candidates_to_sample.query(\"target == 0\") \\\n",
    "        .groupby(\"user_id\") \\\n",
    "        .apply(lambda x: x.sample(negatives_per_user, random_state=0))\n",
    "])\n",
    "candidates_for_train.shape"
   ],
   "metadata": {
    "collapsed": false
   }
  },
  {
   "cell_type": "code",
   "execution_count": 43,
   "outputs": [],
   "source": [
    "candidates_for_train = candidates_for_train.merge(user_features_for_train, on=\"user_id\", how=\"left\")\n",
    "candidates_for_train = candidates_for_train.merge(item_features_for_train, on=\"item_id\", how=\"left\")"
   ],
   "metadata": {
    "collapsed": false
   }
  },
  {
   "cell_type": "code",
   "execution_count": 44,
   "outputs": [
    {
     "data": {
      "text/plain": "        user_id   item_id     score  target  tracks_total  hearing_days  \\\n701417   547689  47627256  0.382794       0            68            21   \n378578  1327678  35785893  0.181291       1            60           119   \n87669    307911  46477076  0.035880       1            45            83   \n540295   262815  32555567  0.012577       0            41            76   \n270558   949367  53281724  0.028061       1            21             4   \n\n        tracks_per_day  nusers  \n701417        3.238095   72164  \n378578        0.504202   19059  \n87669         0.542169   18244  \n540295        0.539474   11327  \n270558        5.250000   18673  ",
      "text/html": "<div>\n<style scoped>\n    .dataframe tbody tr th:only-of-type {\n        vertical-align: middle;\n    }\n\n    .dataframe tbody tr th {\n        vertical-align: top;\n    }\n\n    .dataframe thead th {\n        text-align: right;\n    }\n</style>\n<table border=\"1\" class=\"dataframe\">\n  <thead>\n    <tr style=\"text-align: right;\">\n      <th></th>\n      <th>user_id</th>\n      <th>item_id</th>\n      <th>score</th>\n      <th>target</th>\n      <th>tracks_total</th>\n      <th>hearing_days</th>\n      <th>tracks_per_day</th>\n      <th>nusers</th>\n    </tr>\n  </thead>\n  <tbody>\n    <tr>\n      <th>701417</th>\n      <td>547689</td>\n      <td>47627256</td>\n      <td>0.382794</td>\n      <td>0</td>\n      <td>68</td>\n      <td>21</td>\n      <td>3.238095</td>\n      <td>72164</td>\n    </tr>\n    <tr>\n      <th>378578</th>\n      <td>1327678</td>\n      <td>35785893</td>\n      <td>0.181291</td>\n      <td>1</td>\n      <td>60</td>\n      <td>119</td>\n      <td>0.504202</td>\n      <td>19059</td>\n    </tr>\n    <tr>\n      <th>87669</th>\n      <td>307911</td>\n      <td>46477076</td>\n      <td>0.035880</td>\n      <td>1</td>\n      <td>45</td>\n      <td>83</td>\n      <td>0.542169</td>\n      <td>18244</td>\n    </tr>\n    <tr>\n      <th>540295</th>\n      <td>262815</td>\n      <td>32555567</td>\n      <td>0.012577</td>\n      <td>0</td>\n      <td>41</td>\n      <td>76</td>\n      <td>0.539474</td>\n      <td>11327</td>\n    </tr>\n    <tr>\n      <th>270558</th>\n      <td>949367</td>\n      <td>53281724</td>\n      <td>0.028061</td>\n      <td>1</td>\n      <td>21</td>\n      <td>4</td>\n      <td>5.250000</td>\n      <td>18673</td>\n    </tr>\n  </tbody>\n</table>\n</div>"
     },
     "execution_count": 44,
     "metadata": {},
     "output_type": "execute_result"
    }
   ],
   "source": [
    "candidates_for_train.sample(5)\n"
   ],
   "metadata": {
    "collapsed": false
   }
  },
  {
   "cell_type": "code",
   "execution_count": 45,
   "outputs": [
    {
     "name": "stdout",
     "output_type": "stream",
     "text": [
      "0:\tlearn: 0.6770205\ttotal: 32.2ms\tremaining: 32.1s\n",
      "1:\tlearn: 0.6639937\ttotal: 37.4ms\tremaining: 18.7s\n",
      "2:\tlearn: 0.6533900\ttotal: 43.2ms\tremaining: 14.4s\n",
      "3:\tlearn: 0.6449556\ttotal: 49.5ms\tremaining: 12.3s\n",
      "4:\tlearn: 0.6380731\ttotal: 55.6ms\tremaining: 11.1s\n",
      "5:\tlearn: 0.6324234\ttotal: 60.8ms\tremaining: 10.1s\n",
      "6:\tlearn: 0.6278595\ttotal: 64.4ms\tremaining: 9.14s\n",
      "7:\tlearn: 0.6241284\ttotal: 68.1ms\tremaining: 8.44s\n",
      "8:\tlearn: 0.6209653\ttotal: 71.8ms\tremaining: 7.91s\n",
      "9:\tlearn: 0.6182247\ttotal: 75.4ms\tremaining: 7.47s\n",
      "10:\tlearn: 0.6161158\ttotal: 79ms\tremaining: 7.1s\n",
      "11:\tlearn: 0.6143048\ttotal: 82.7ms\tremaining: 6.8s\n",
      "12:\tlearn: 0.6127291\ttotal: 86.1ms\tremaining: 6.54s\n",
      "13:\tlearn: 0.6113424\ttotal: 89.5ms\tremaining: 6.3s\n",
      "14:\tlearn: 0.6102749\ttotal: 92.7ms\tremaining: 6.09s\n",
      "15:\tlearn: 0.6093867\ttotal: 96ms\tremaining: 5.9s\n",
      "16:\tlearn: 0.6084784\ttotal: 99.4ms\tremaining: 5.75s\n",
      "17:\tlearn: 0.6077719\ttotal: 103ms\tremaining: 5.6s\n",
      "18:\tlearn: 0.6065593\ttotal: 106ms\tremaining: 5.47s\n",
      "19:\tlearn: 0.6060385\ttotal: 109ms\tremaining: 5.36s\n",
      "20:\tlearn: 0.6055831\ttotal: 113ms\tremaining: 5.25s\n",
      "21:\tlearn: 0.6048440\ttotal: 116ms\tremaining: 5.16s\n",
      "22:\tlearn: 0.6044970\ttotal: 119ms\tremaining: 5.07s\n",
      "23:\tlearn: 0.6039907\ttotal: 123ms\tremaining: 4.99s\n",
      "24:\tlearn: 0.6036600\ttotal: 126ms\tremaining: 4.92s\n",
      "25:\tlearn: 0.6033318\ttotal: 130ms\tremaining: 4.86s\n",
      "26:\tlearn: 0.6029952\ttotal: 133ms\tremaining: 4.79s\n",
      "27:\tlearn: 0.6027797\ttotal: 136ms\tremaining: 4.73s\n",
      "28:\tlearn: 0.6024836\ttotal: 140ms\tremaining: 4.67s\n",
      "29:\tlearn: 0.6020616\ttotal: 143ms\tremaining: 4.62s\n",
      "30:\tlearn: 0.6018991\ttotal: 146ms\tremaining: 4.57s\n",
      "31:\tlearn: 0.6017436\ttotal: 150ms\tremaining: 4.53s\n",
      "32:\tlearn: 0.6014923\ttotal: 153ms\tremaining: 4.48s\n",
      "33:\tlearn: 0.6013381\ttotal: 156ms\tremaining: 4.44s\n",
      "34:\tlearn: 0.6009293\ttotal: 160ms\tremaining: 4.4s\n",
      "35:\tlearn: 0.6008161\ttotal: 163ms\tremaining: 4.37s\n",
      "36:\tlearn: 0.6004873\ttotal: 166ms\tremaining: 4.33s\n",
      "37:\tlearn: 0.6003160\ttotal: 170ms\tremaining: 4.3s\n",
      "38:\tlearn: 0.6000400\ttotal: 173ms\tremaining: 4.27s\n",
      "39:\tlearn: 0.5999259\ttotal: 177ms\tremaining: 4.24s\n",
      "40:\tlearn: 0.5996283\ttotal: 180ms\tremaining: 4.21s\n",
      "41:\tlearn: 0.5995396\ttotal: 184ms\tremaining: 4.19s\n",
      "42:\tlearn: 0.5992393\ttotal: 187ms\tremaining: 4.16s\n",
      "43:\tlearn: 0.5990284\ttotal: 190ms\tremaining: 4.13s\n",
      "44:\tlearn: 0.5983374\ttotal: 193ms\tremaining: 4.11s\n",
      "45:\tlearn: 0.5981917\ttotal: 197ms\tremaining: 4.08s\n",
      "46:\tlearn: 0.5981235\ttotal: 200ms\tremaining: 4.06s\n",
      "47:\tlearn: 0.5979326\ttotal: 204ms\tremaining: 4.04s\n",
      "48:\tlearn: 0.5976901\ttotal: 207ms\tremaining: 4.02s\n",
      "49:\tlearn: 0.5975701\ttotal: 210ms\tremaining: 4s\n",
      "50:\tlearn: 0.5974939\ttotal: 214ms\tremaining: 3.98s\n",
      "51:\tlearn: 0.5972994\ttotal: 217ms\tremaining: 3.96s\n",
      "52:\tlearn: 0.5971236\ttotal: 221ms\tremaining: 3.95s\n",
      "53:\tlearn: 0.5970379\ttotal: 225ms\tremaining: 3.94s\n",
      "54:\tlearn: 0.5969355\ttotal: 228ms\tremaining: 3.92s\n",
      "55:\tlearn: 0.5967870\ttotal: 232ms\tremaining: 3.91s\n",
      "56:\tlearn: 0.5966489\ttotal: 235ms\tremaining: 3.9s\n",
      "57:\tlearn: 0.5965858\ttotal: 239ms\tremaining: 3.88s\n",
      "58:\tlearn: 0.5963804\ttotal: 242ms\tremaining: 3.86s\n",
      "59:\tlearn: 0.5958624\ttotal: 245ms\tremaining: 3.84s\n",
      "60:\tlearn: 0.5954657\ttotal: 248ms\tremaining: 3.82s\n",
      "61:\tlearn: 0.5953960\ttotal: 251ms\tremaining: 3.8s\n",
      "62:\tlearn: 0.5951939\ttotal: 255ms\tremaining: 3.79s\n",
      "63:\tlearn: 0.5950439\ttotal: 258ms\tremaining: 3.77s\n",
      "64:\tlearn: 0.5949702\ttotal: 261ms\tremaining: 3.76s\n",
      "65:\tlearn: 0.5948431\ttotal: 264ms\tremaining: 3.74s\n",
      "66:\tlearn: 0.5947701\ttotal: 268ms\tremaining: 3.73s\n",
      "67:\tlearn: 0.5946584\ttotal: 271ms\tremaining: 3.71s\n",
      "68:\tlearn: 0.5945022\ttotal: 274ms\tremaining: 3.7s\n",
      "69:\tlearn: 0.5944559\ttotal: 278ms\tremaining: 3.69s\n",
      "70:\tlearn: 0.5943422\ttotal: 281ms\tremaining: 3.67s\n",
      "71:\tlearn: 0.5942185\ttotal: 284ms\tremaining: 3.66s\n",
      "72:\tlearn: 0.5938774\ttotal: 287ms\tremaining: 3.65s\n",
      "73:\tlearn: 0.5937407\ttotal: 290ms\tremaining: 3.63s\n",
      "74:\tlearn: 0.5936350\ttotal: 293ms\tremaining: 3.62s\n",
      "75:\tlearn: 0.5935923\ttotal: 297ms\tremaining: 3.61s\n",
      "76:\tlearn: 0.5935537\ttotal: 300ms\tremaining: 3.6s\n",
      "77:\tlearn: 0.5934772\ttotal: 303ms\tremaining: 3.58s\n",
      "78:\tlearn: 0.5931602\ttotal: 306ms\tremaining: 3.57s\n",
      "79:\tlearn: 0.5930350\ttotal: 309ms\tremaining: 3.56s\n",
      "80:\tlearn: 0.5929568\ttotal: 313ms\tremaining: 3.55s\n",
      "81:\tlearn: 0.5929104\ttotal: 316ms\tremaining: 3.54s\n",
      "82:\tlearn: 0.5926316\ttotal: 319ms\tremaining: 3.52s\n",
      "83:\tlearn: 0.5925217\ttotal: 322ms\tremaining: 3.51s\n",
      "84:\tlearn: 0.5924977\ttotal: 325ms\tremaining: 3.5s\n",
      "85:\tlearn: 0.5924335\ttotal: 329ms\tremaining: 3.49s\n",
      "86:\tlearn: 0.5923130\ttotal: 332ms\tremaining: 3.48s\n",
      "87:\tlearn: 0.5922619\ttotal: 335ms\tremaining: 3.47s\n",
      "88:\tlearn: 0.5921751\ttotal: 338ms\tremaining: 3.46s\n",
      "89:\tlearn: 0.5920745\ttotal: 341ms\tremaining: 3.45s\n",
      "90:\tlearn: 0.5920365\ttotal: 345ms\tremaining: 3.44s\n",
      "91:\tlearn: 0.5919757\ttotal: 348ms\tremaining: 3.43s\n",
      "92:\tlearn: 0.5919163\ttotal: 351ms\tremaining: 3.42s\n",
      "93:\tlearn: 0.5918760\ttotal: 354ms\tremaining: 3.41s\n",
      "94:\tlearn: 0.5917677\ttotal: 357ms\tremaining: 3.4s\n",
      "95:\tlearn: 0.5915656\ttotal: 360ms\tremaining: 3.39s\n",
      "96:\tlearn: 0.5915254\ttotal: 364ms\tremaining: 3.38s\n",
      "97:\tlearn: 0.5914332\ttotal: 367ms\tremaining: 3.38s\n",
      "98:\tlearn: 0.5913476\ttotal: 370ms\tremaining: 3.37s\n",
      "99:\tlearn: 0.5912488\ttotal: 373ms\tremaining: 3.36s\n",
      "100:\tlearn: 0.5911955\ttotal: 377ms\tremaining: 3.35s\n",
      "101:\tlearn: 0.5911181\ttotal: 380ms\tremaining: 3.34s\n",
      "102:\tlearn: 0.5910519\ttotal: 383ms\tremaining: 3.33s\n",
      "103:\tlearn: 0.5909624\ttotal: 386ms\tremaining: 3.33s\n",
      "104:\tlearn: 0.5909102\ttotal: 389ms\tremaining: 3.32s\n",
      "105:\tlearn: 0.5908500\ttotal: 393ms\tremaining: 3.31s\n",
      "106:\tlearn: 0.5907612\ttotal: 396ms\tremaining: 3.3s\n",
      "107:\tlearn: 0.5906860\ttotal: 399ms\tremaining: 3.29s\n",
      "108:\tlearn: 0.5906050\ttotal: 402ms\tremaining: 3.29s\n",
      "109:\tlearn: 0.5905154\ttotal: 405ms\tremaining: 3.28s\n",
      "110:\tlearn: 0.5903333\ttotal: 409ms\tremaining: 3.27s\n",
      "111:\tlearn: 0.5903092\ttotal: 412ms\tremaining: 3.26s\n",
      "112:\tlearn: 0.5902600\ttotal: 415ms\tremaining: 3.26s\n",
      "113:\tlearn: 0.5901864\ttotal: 418ms\tremaining: 3.25s\n",
      "114:\tlearn: 0.5901285\ttotal: 421ms\tremaining: 3.24s\n",
      "115:\tlearn: 0.5900333\ttotal: 424ms\tremaining: 3.23s\n",
      "116:\tlearn: 0.5899936\ttotal: 428ms\tremaining: 3.23s\n",
      "117:\tlearn: 0.5899494\ttotal: 431ms\tremaining: 3.22s\n",
      "118:\tlearn: 0.5898844\ttotal: 434ms\tremaining: 3.21s\n",
      "119:\tlearn: 0.5898115\ttotal: 437ms\tremaining: 3.21s\n",
      "120:\tlearn: 0.5897546\ttotal: 441ms\tremaining: 3.2s\n",
      "121:\tlearn: 0.5896974\ttotal: 444ms\tremaining: 3.19s\n",
      "122:\tlearn: 0.5896652\ttotal: 447ms\tremaining: 3.19s\n",
      "123:\tlearn: 0.5896374\ttotal: 450ms\tremaining: 3.18s\n",
      "124:\tlearn: 0.5896075\ttotal: 453ms\tremaining: 3.17s\n",
      "125:\tlearn: 0.5895798\ttotal: 457ms\tremaining: 3.17s\n",
      "126:\tlearn: 0.5895297\ttotal: 460ms\tremaining: 3.16s\n",
      "127:\tlearn: 0.5894602\ttotal: 463ms\tremaining: 3.15s\n",
      "128:\tlearn: 0.5893414\ttotal: 466ms\tremaining: 3.15s\n",
      "129:\tlearn: 0.5892806\ttotal: 469ms\tremaining: 3.14s\n",
      "130:\tlearn: 0.5892615\ttotal: 472ms\tremaining: 3.13s\n",
      "131:\tlearn: 0.5891799\ttotal: 476ms\tremaining: 3.13s\n",
      "132:\tlearn: 0.5890819\ttotal: 479ms\tremaining: 3.12s\n",
      "133:\tlearn: 0.5890389\ttotal: 482ms\tremaining: 3.12s\n",
      "134:\tlearn: 0.5890207\ttotal: 485ms\tremaining: 3.11s\n",
      "135:\tlearn: 0.5889792\ttotal: 488ms\tremaining: 3.1s\n",
      "136:\tlearn: 0.5889141\ttotal: 492ms\tremaining: 3.1s\n",
      "137:\tlearn: 0.5887864\ttotal: 495ms\tremaining: 3.09s\n",
      "138:\tlearn: 0.5887447\ttotal: 498ms\tremaining: 3.08s\n",
      "139:\tlearn: 0.5886976\ttotal: 501ms\tremaining: 3.08s\n",
      "140:\tlearn: 0.5886349\ttotal: 504ms\tremaining: 3.07s\n",
      "141:\tlearn: 0.5885477\ttotal: 508ms\tremaining: 3.07s\n",
      "142:\tlearn: 0.5885047\ttotal: 511ms\tremaining: 3.06s\n",
      "143:\tlearn: 0.5884692\ttotal: 514ms\tremaining: 3.06s\n",
      "144:\tlearn: 0.5884262\ttotal: 517ms\tremaining: 3.05s\n",
      "145:\tlearn: 0.5883909\ttotal: 520ms\tremaining: 3.04s\n",
      "146:\tlearn: 0.5883517\ttotal: 523ms\tremaining: 3.04s\n",
      "147:\tlearn: 0.5882934\ttotal: 527ms\tremaining: 3.03s\n",
      "148:\tlearn: 0.5882196\ttotal: 530ms\tremaining: 3.03s\n",
      "149:\tlearn: 0.5881655\ttotal: 533ms\tremaining: 3.02s\n",
      "150:\tlearn: 0.5880800\ttotal: 536ms\tremaining: 3.01s\n",
      "151:\tlearn: 0.5880602\ttotal: 539ms\tremaining: 3.01s\n",
      "152:\tlearn: 0.5880200\ttotal: 543ms\tremaining: 3s\n",
      "153:\tlearn: 0.5879934\ttotal: 546ms\tremaining: 3s\n",
      "154:\tlearn: 0.5879639\ttotal: 549ms\tremaining: 2.99s\n",
      "155:\tlearn: 0.5879129\ttotal: 552ms\tremaining: 2.99s\n",
      "156:\tlearn: 0.5878654\ttotal: 555ms\tremaining: 2.98s\n",
      "157:\tlearn: 0.5878326\ttotal: 559ms\tremaining: 2.98s\n",
      "158:\tlearn: 0.5877917\ttotal: 562ms\tremaining: 2.97s\n",
      "159:\tlearn: 0.5877325\ttotal: 565ms\tremaining: 2.97s\n",
      "160:\tlearn: 0.5876779\ttotal: 568ms\tremaining: 2.96s\n",
      "161:\tlearn: 0.5875951\ttotal: 571ms\tremaining: 2.95s\n",
      "162:\tlearn: 0.5875562\ttotal: 574ms\tremaining: 2.95s\n",
      "163:\tlearn: 0.5875213\ttotal: 578ms\tremaining: 2.94s\n",
      "164:\tlearn: 0.5874599\ttotal: 581ms\tremaining: 2.94s\n",
      "165:\tlearn: 0.5874120\ttotal: 584ms\tremaining: 2.93s\n",
      "166:\tlearn: 0.5873586\ttotal: 587ms\tremaining: 2.93s\n",
      "167:\tlearn: 0.5873222\ttotal: 590ms\tremaining: 2.92s\n",
      "168:\tlearn: 0.5872492\ttotal: 593ms\tremaining: 2.92s\n",
      "169:\tlearn: 0.5872000\ttotal: 597ms\tremaining: 2.91s\n",
      "170:\tlearn: 0.5871528\ttotal: 600ms\tremaining: 2.91s\n",
      "171:\tlearn: 0.5871405\ttotal: 603ms\tremaining: 2.9s\n",
      "172:\tlearn: 0.5870951\ttotal: 606ms\tremaining: 2.9s\n",
      "173:\tlearn: 0.5870496\ttotal: 610ms\tremaining: 2.89s\n",
      "174:\tlearn: 0.5870215\ttotal: 613ms\tremaining: 2.89s\n",
      "175:\tlearn: 0.5869855\ttotal: 616ms\tremaining: 2.88s\n",
      "176:\tlearn: 0.5869519\ttotal: 619ms\tremaining: 2.88s\n",
      "177:\tlearn: 0.5868868\ttotal: 622ms\tremaining: 2.87s\n",
      "178:\tlearn: 0.5868338\ttotal: 625ms\tremaining: 2.87s\n",
      "179:\tlearn: 0.5867728\ttotal: 629ms\tremaining: 2.86s\n",
      "180:\tlearn: 0.5867227\ttotal: 632ms\tremaining: 2.86s\n",
      "181:\tlearn: 0.5866702\ttotal: 635ms\tremaining: 2.85s\n",
      "182:\tlearn: 0.5866307\ttotal: 638ms\tremaining: 2.85s\n",
      "183:\tlearn: 0.5865821\ttotal: 641ms\tremaining: 2.84s\n",
      "184:\tlearn: 0.5865618\ttotal: 645ms\tremaining: 2.84s\n",
      "185:\tlearn: 0.5865140\ttotal: 648ms\tremaining: 2.83s\n",
      "186:\tlearn: 0.5864642\ttotal: 651ms\tremaining: 2.83s\n",
      "187:\tlearn: 0.5864181\ttotal: 654ms\tremaining: 2.82s\n",
      "188:\tlearn: 0.5863842\ttotal: 657ms\tremaining: 2.82s\n",
      "189:\tlearn: 0.5863439\ttotal: 660ms\tremaining: 2.81s\n",
      "190:\tlearn: 0.5863051\ttotal: 664ms\tremaining: 2.81s\n",
      "191:\tlearn: 0.5862730\ttotal: 667ms\tremaining: 2.81s\n",
      "192:\tlearn: 0.5862300\ttotal: 670ms\tremaining: 2.8s\n",
      "193:\tlearn: 0.5861960\ttotal: 673ms\tremaining: 2.8s\n",
      "194:\tlearn: 0.5861744\ttotal: 676ms\tremaining: 2.79s\n",
      "195:\tlearn: 0.5861506\ttotal: 680ms\tremaining: 2.79s\n",
      "196:\tlearn: 0.5861299\ttotal: 683ms\tremaining: 2.78s\n",
      "197:\tlearn: 0.5860847\ttotal: 686ms\tremaining: 2.78s\n",
      "198:\tlearn: 0.5860527\ttotal: 689ms\tremaining: 2.77s\n",
      "199:\tlearn: 0.5859894\ttotal: 693ms\tremaining: 2.77s\n",
      "200:\tlearn: 0.5859625\ttotal: 696ms\tremaining: 2.77s\n",
      "201:\tlearn: 0.5859423\ttotal: 699ms\tremaining: 2.76s\n",
      "202:\tlearn: 0.5859222\ttotal: 702ms\tremaining: 2.76s\n",
      "203:\tlearn: 0.5858889\ttotal: 705ms\tremaining: 2.75s\n",
      "204:\tlearn: 0.5858413\ttotal: 709ms\tremaining: 2.75s\n",
      "205:\tlearn: 0.5858154\ttotal: 712ms\tremaining: 2.74s\n",
      "206:\tlearn: 0.5857826\ttotal: 715ms\tremaining: 2.74s\n",
      "207:\tlearn: 0.5857496\ttotal: 718ms\tremaining: 2.73s\n",
      "208:\tlearn: 0.5857278\ttotal: 721ms\tremaining: 2.73s\n",
      "209:\tlearn: 0.5856945\ttotal: 724ms\tremaining: 2.73s\n",
      "210:\tlearn: 0.5856729\ttotal: 728ms\tremaining: 2.72s\n",
      "211:\tlearn: 0.5856538\ttotal: 731ms\tremaining: 2.72s\n",
      "212:\tlearn: 0.5856166\ttotal: 734ms\tremaining: 2.71s\n",
      "213:\tlearn: 0.5855630\ttotal: 737ms\tremaining: 2.71s\n",
      "214:\tlearn: 0.5855185\ttotal: 740ms\tremaining: 2.7s\n",
      "215:\tlearn: 0.5854998\ttotal: 743ms\tremaining: 2.7s\n",
      "216:\tlearn: 0.5854678\ttotal: 747ms\tremaining: 2.69s\n",
      "217:\tlearn: 0.5854422\ttotal: 750ms\tremaining: 2.69s\n",
      "218:\tlearn: 0.5854165\ttotal: 753ms\tremaining: 2.69s\n",
      "219:\tlearn: 0.5853651\ttotal: 756ms\tremaining: 2.68s\n",
      "220:\tlearn: 0.5853354\ttotal: 759ms\tremaining: 2.68s\n",
      "221:\tlearn: 0.5853041\ttotal: 763ms\tremaining: 2.67s\n",
      "222:\tlearn: 0.5852951\ttotal: 766ms\tremaining: 2.67s\n",
      "223:\tlearn: 0.5852757\ttotal: 769ms\tremaining: 2.66s\n",
      "224:\tlearn: 0.5852368\ttotal: 772ms\tremaining: 2.66s\n",
      "225:\tlearn: 0.5852136\ttotal: 775ms\tremaining: 2.65s\n",
      "226:\tlearn: 0.5851627\ttotal: 778ms\tremaining: 2.65s\n",
      "227:\tlearn: 0.5851327\ttotal: 782ms\tremaining: 2.65s\n",
      "228:\tlearn: 0.5851059\ttotal: 785ms\tremaining: 2.64s\n",
      "229:\tlearn: 0.5850679\ttotal: 788ms\tremaining: 2.64s\n",
      "230:\tlearn: 0.5850459\ttotal: 791ms\tremaining: 2.63s\n",
      "231:\tlearn: 0.5850012\ttotal: 794ms\tremaining: 2.63s\n",
      "232:\tlearn: 0.5849760\ttotal: 798ms\tremaining: 2.63s\n",
      "233:\tlearn: 0.5849483\ttotal: 801ms\tremaining: 2.62s\n",
      "234:\tlearn: 0.5849210\ttotal: 804ms\tremaining: 2.62s\n",
      "235:\tlearn: 0.5848714\ttotal: 807ms\tremaining: 2.61s\n",
      "236:\tlearn: 0.5848392\ttotal: 811ms\tremaining: 2.61s\n",
      "237:\tlearn: 0.5848182\ttotal: 814ms\tremaining: 2.6s\n",
      "238:\tlearn: 0.5847865\ttotal: 817ms\tremaining: 2.6s\n",
      "239:\tlearn: 0.5847609\ttotal: 820ms\tremaining: 2.6s\n",
      "240:\tlearn: 0.5847464\ttotal: 823ms\tremaining: 2.59s\n",
      "241:\tlearn: 0.5847144\ttotal: 826ms\tremaining: 2.59s\n",
      "242:\tlearn: 0.5847029\ttotal: 830ms\tremaining: 2.58s\n",
      "243:\tlearn: 0.5846798\ttotal: 833ms\tremaining: 2.58s\n",
      "244:\tlearn: 0.5846186\ttotal: 836ms\tremaining: 2.58s\n",
      "245:\tlearn: 0.5846009\ttotal: 839ms\tremaining: 2.57s\n",
      "246:\tlearn: 0.5845870\ttotal: 842ms\tremaining: 2.57s\n",
      "247:\tlearn: 0.5845628\ttotal: 846ms\tremaining: 2.56s\n",
      "248:\tlearn: 0.5845134\ttotal: 849ms\tremaining: 2.56s\n",
      "249:\tlearn: 0.5844816\ttotal: 852ms\tremaining: 2.56s\n",
      "250:\tlearn: 0.5844701\ttotal: 855ms\tremaining: 2.55s\n",
      "251:\tlearn: 0.5844567\ttotal: 858ms\tremaining: 2.55s\n",
      "252:\tlearn: 0.5844327\ttotal: 861ms\tremaining: 2.54s\n",
      "253:\tlearn: 0.5844148\ttotal: 865ms\tremaining: 2.54s\n",
      "254:\tlearn: 0.5843966\ttotal: 868ms\tremaining: 2.54s\n",
      "255:\tlearn: 0.5843661\ttotal: 871ms\tremaining: 2.53s\n",
      "256:\tlearn: 0.5843572\ttotal: 874ms\tremaining: 2.53s\n",
      "257:\tlearn: 0.5843313\ttotal: 877ms\tremaining: 2.52s\n",
      "258:\tlearn: 0.5843088\ttotal: 881ms\tremaining: 2.52s\n",
      "259:\tlearn: 0.5842869\ttotal: 884ms\tremaining: 2.52s\n",
      "260:\tlearn: 0.5842650\ttotal: 887ms\tremaining: 2.51s\n",
      "261:\tlearn: 0.5842538\ttotal: 890ms\tremaining: 2.51s\n",
      "262:\tlearn: 0.5842152\ttotal: 893ms\tremaining: 2.5s\n",
      "263:\tlearn: 0.5842039\ttotal: 897ms\tremaining: 2.5s\n",
      "264:\tlearn: 0.5841781\ttotal: 900ms\tremaining: 2.5s\n",
      "265:\tlearn: 0.5841257\ttotal: 903ms\tremaining: 2.49s\n",
      "266:\tlearn: 0.5841154\ttotal: 906ms\tremaining: 2.49s\n",
      "267:\tlearn: 0.5840965\ttotal: 909ms\tremaining: 2.48s\n",
      "268:\tlearn: 0.5840657\ttotal: 913ms\tremaining: 2.48s\n",
      "269:\tlearn: 0.5840489\ttotal: 916ms\tremaining: 2.48s\n",
      "270:\tlearn: 0.5840359\ttotal: 919ms\tremaining: 2.47s\n",
      "271:\tlearn: 0.5840098\ttotal: 922ms\tremaining: 2.47s\n",
      "272:\tlearn: 0.5839789\ttotal: 925ms\tremaining: 2.46s\n",
      "273:\tlearn: 0.5839608\ttotal: 929ms\tremaining: 2.46s\n",
      "274:\tlearn: 0.5839085\ttotal: 932ms\tremaining: 2.46s\n",
      "275:\tlearn: 0.5838912\ttotal: 935ms\tremaining: 2.45s\n",
      "276:\tlearn: 0.5838818\ttotal: 938ms\tremaining: 2.45s\n",
      "277:\tlearn: 0.5838676\ttotal: 941ms\tremaining: 2.44s\n",
      "278:\tlearn: 0.5838487\ttotal: 945ms\tremaining: 2.44s\n",
      "279:\tlearn: 0.5837983\ttotal: 948ms\tremaining: 2.44s\n",
      "280:\tlearn: 0.5837661\ttotal: 951ms\tremaining: 2.43s\n",
      "281:\tlearn: 0.5837517\ttotal: 954ms\tremaining: 2.43s\n",
      "282:\tlearn: 0.5837277\ttotal: 957ms\tremaining: 2.42s\n",
      "283:\tlearn: 0.5837161\ttotal: 960ms\tremaining: 2.42s\n",
      "284:\tlearn: 0.5836950\ttotal: 964ms\tremaining: 2.42s\n",
      "285:\tlearn: 0.5836745\ttotal: 967ms\tremaining: 2.41s\n",
      "286:\tlearn: 0.5836668\ttotal: 970ms\tremaining: 2.41s\n",
      "287:\tlearn: 0.5836375\ttotal: 973ms\tremaining: 2.41s\n",
      "288:\tlearn: 0.5836169\ttotal: 977ms\tremaining: 2.4s\n",
      "289:\tlearn: 0.5836119\ttotal: 980ms\tremaining: 2.4s\n",
      "290:\tlearn: 0.5835974\ttotal: 983ms\tremaining: 2.4s\n",
      "291:\tlearn: 0.5835800\ttotal: 986ms\tremaining: 2.39s\n",
      "292:\tlearn: 0.5835453\ttotal: 989ms\tremaining: 2.39s\n",
      "293:\tlearn: 0.5835151\ttotal: 993ms\tremaining: 2.38s\n",
      "294:\tlearn: 0.5835060\ttotal: 996ms\tremaining: 2.38s\n",
      "295:\tlearn: 0.5834744\ttotal: 999ms\tremaining: 2.38s\n",
      "296:\tlearn: 0.5834585\ttotal: 1s\tremaining: 2.37s\n",
      "297:\tlearn: 0.5834527\ttotal: 1s\tremaining: 2.37s\n",
      "298:\tlearn: 0.5834110\ttotal: 1.01s\tremaining: 2.36s\n",
      "299:\tlearn: 0.5833964\ttotal: 1.01s\tremaining: 2.36s\n",
      "300:\tlearn: 0.5833749\ttotal: 1.01s\tremaining: 2.36s\n",
      "301:\tlearn: 0.5833337\ttotal: 1.02s\tremaining: 2.35s\n",
      "302:\tlearn: 0.5833145\ttotal: 1.02s\tremaining: 2.35s\n",
      "303:\tlearn: 0.5833000\ttotal: 1.02s\tremaining: 2.35s\n",
      "304:\tlearn: 0.5832687\ttotal: 1.03s\tremaining: 2.34s\n",
      "305:\tlearn: 0.5832434\ttotal: 1.03s\tremaining: 2.34s\n",
      "306:\tlearn: 0.5832211\ttotal: 1.03s\tremaining: 2.33s\n",
      "307:\tlearn: 0.5831975\ttotal: 1.04s\tremaining: 2.33s\n",
      "308:\tlearn: 0.5831731\ttotal: 1.04s\tremaining: 2.33s\n",
      "309:\tlearn: 0.5831609\ttotal: 1.04s\tremaining: 2.32s\n",
      "310:\tlearn: 0.5831541\ttotal: 1.05s\tremaining: 2.32s\n",
      "311:\tlearn: 0.5831329\ttotal: 1.05s\tremaining: 2.31s\n",
      "312:\tlearn: 0.5831230\ttotal: 1.05s\tremaining: 2.31s\n",
      "313:\tlearn: 0.5831099\ttotal: 1.06s\tremaining: 2.31s\n",
      "314:\tlearn: 0.5830844\ttotal: 1.06s\tremaining: 2.3s\n",
      "315:\tlearn: 0.5830723\ttotal: 1.06s\tremaining: 2.3s\n",
      "316:\tlearn: 0.5830540\ttotal: 1.07s\tremaining: 2.3s\n",
      "317:\tlearn: 0.5830432\ttotal: 1.07s\tremaining: 2.29s\n",
      "318:\tlearn: 0.5830212\ttotal: 1.07s\tremaining: 2.29s\n",
      "319:\tlearn: 0.5830023\ttotal: 1.07s\tremaining: 2.29s\n",
      "320:\tlearn: 0.5829876\ttotal: 1.08s\tremaining: 2.28s\n",
      "321:\tlearn: 0.5829795\ttotal: 1.08s\tremaining: 2.28s\n",
      "322:\tlearn: 0.5829488\ttotal: 1.08s\tremaining: 2.27s\n",
      "323:\tlearn: 0.5829405\ttotal: 1.09s\tremaining: 2.27s\n",
      "324:\tlearn: 0.5829268\ttotal: 1.09s\tremaining: 2.27s\n",
      "325:\tlearn: 0.5829139\ttotal: 1.09s\tremaining: 2.26s\n",
      "326:\tlearn: 0.5829041\ttotal: 1.1s\tremaining: 2.26s\n",
      "327:\tlearn: 0.5828869\ttotal: 1.1s\tremaining: 2.26s\n",
      "328:\tlearn: 0.5828836\ttotal: 1.1s\tremaining: 2.25s\n",
      "329:\tlearn: 0.5828759\ttotal: 1.11s\tremaining: 2.25s\n",
      "330:\tlearn: 0.5828560\ttotal: 1.11s\tremaining: 2.25s\n",
      "331:\tlearn: 0.5828213\ttotal: 1.11s\tremaining: 2.24s\n",
      "332:\tlearn: 0.5827938\ttotal: 1.12s\tremaining: 2.24s\n",
      "333:\tlearn: 0.5827496\ttotal: 1.12s\tremaining: 2.23s\n",
      "334:\tlearn: 0.5827314\ttotal: 1.12s\tremaining: 2.23s\n",
      "335:\tlearn: 0.5827235\ttotal: 1.13s\tremaining: 2.23s\n",
      "336:\tlearn: 0.5827096\ttotal: 1.13s\tremaining: 2.22s\n",
      "337:\tlearn: 0.5827041\ttotal: 1.13s\tremaining: 2.22s\n",
      "338:\tlearn: 0.5826870\ttotal: 1.14s\tremaining: 2.22s\n",
      "339:\tlearn: 0.5826496\ttotal: 1.14s\tremaining: 2.21s\n",
      "340:\tlearn: 0.5826349\ttotal: 1.14s\tremaining: 2.21s\n",
      "341:\tlearn: 0.5826214\ttotal: 1.15s\tremaining: 2.21s\n",
      "342:\tlearn: 0.5826075\ttotal: 1.15s\tremaining: 2.2s\n",
      "343:\tlearn: 0.5825875\ttotal: 1.15s\tremaining: 2.2s\n",
      "344:\tlearn: 0.5825659\ttotal: 1.16s\tremaining: 2.19s\n",
      "345:\tlearn: 0.5825274\ttotal: 1.16s\tremaining: 2.19s\n",
      "346:\tlearn: 0.5825118\ttotal: 1.16s\tremaining: 2.19s\n",
      "347:\tlearn: 0.5825033\ttotal: 1.17s\tremaining: 2.18s\n",
      "348:\tlearn: 0.5824841\ttotal: 1.17s\tremaining: 2.18s\n",
      "349:\tlearn: 0.5824635\ttotal: 1.17s\tremaining: 2.18s\n",
      "350:\tlearn: 0.5824293\ttotal: 1.18s\tremaining: 2.17s\n",
      "351:\tlearn: 0.5824098\ttotal: 1.18s\tremaining: 2.17s\n",
      "352:\tlearn: 0.5823842\ttotal: 1.18s\tremaining: 2.17s\n",
      "353:\tlearn: 0.5823773\ttotal: 1.19s\tremaining: 2.16s\n",
      "354:\tlearn: 0.5823619\ttotal: 1.19s\tremaining: 2.16s\n",
      "355:\tlearn: 0.5823436\ttotal: 1.19s\tremaining: 2.15s\n",
      "356:\tlearn: 0.5823242\ttotal: 1.19s\tremaining: 2.15s\n",
      "357:\tlearn: 0.5823058\ttotal: 1.2s\tremaining: 2.15s\n",
      "358:\tlearn: 0.5822861\ttotal: 1.2s\tremaining: 2.14s\n",
      "359:\tlearn: 0.5822664\ttotal: 1.2s\tremaining: 2.14s\n",
      "360:\tlearn: 0.5822575\ttotal: 1.21s\tremaining: 2.14s\n",
      "361:\tlearn: 0.5822502\ttotal: 1.21s\tremaining: 2.13s\n",
      "362:\tlearn: 0.5822342\ttotal: 1.21s\tremaining: 2.13s\n",
      "363:\tlearn: 0.5822274\ttotal: 1.22s\tremaining: 2.13s\n",
      "364:\tlearn: 0.5822143\ttotal: 1.22s\tremaining: 2.12s\n",
      "365:\tlearn: 0.5821927\ttotal: 1.22s\tremaining: 2.12s\n",
      "366:\tlearn: 0.5821714\ttotal: 1.23s\tremaining: 2.12s\n",
      "367:\tlearn: 0.5821593\ttotal: 1.23s\tremaining: 2.11s\n",
      "368:\tlearn: 0.5821325\ttotal: 1.23s\tremaining: 2.11s\n",
      "369:\tlearn: 0.5821094\ttotal: 1.24s\tremaining: 2.1s\n",
      "370:\tlearn: 0.5820946\ttotal: 1.24s\tremaining: 2.1s\n",
      "371:\tlearn: 0.5820719\ttotal: 1.24s\tremaining: 2.1s\n",
      "372:\tlearn: 0.5820648\ttotal: 1.25s\tremaining: 2.09s\n",
      "373:\tlearn: 0.5820289\ttotal: 1.25s\tremaining: 2.09s\n",
      "374:\tlearn: 0.5820199\ttotal: 1.25s\tremaining: 2.09s\n",
      "375:\tlearn: 0.5820005\ttotal: 1.25s\tremaining: 2.08s\n",
      "376:\tlearn: 0.5819792\ttotal: 1.26s\tremaining: 2.08s\n",
      "377:\tlearn: 0.5819448\ttotal: 1.26s\tremaining: 2.08s\n",
      "378:\tlearn: 0.5819365\ttotal: 1.26s\tremaining: 2.07s\n",
      "379:\tlearn: 0.5819189\ttotal: 1.27s\tremaining: 2.07s\n",
      "380:\tlearn: 0.5818914\ttotal: 1.27s\tremaining: 2.06s\n",
      "381:\tlearn: 0.5818718\ttotal: 1.27s\tremaining: 2.06s\n",
      "382:\tlearn: 0.5818481\ttotal: 1.28s\tremaining: 2.06s\n",
      "383:\tlearn: 0.5818404\ttotal: 1.28s\tremaining: 2.05s\n",
      "384:\tlearn: 0.5818200\ttotal: 1.28s\tremaining: 2.05s\n",
      "385:\tlearn: 0.5818092\ttotal: 1.29s\tremaining: 2.05s\n",
      "386:\tlearn: 0.5817967\ttotal: 1.29s\tremaining: 2.04s\n",
      "387:\tlearn: 0.5817662\ttotal: 1.29s\tremaining: 2.04s\n",
      "388:\tlearn: 0.5817366\ttotal: 1.3s\tremaining: 2.04s\n",
      "389:\tlearn: 0.5817241\ttotal: 1.3s\tremaining: 2.03s\n",
      "390:\tlearn: 0.5816870\ttotal: 1.3s\tremaining: 2.03s\n",
      "391:\tlearn: 0.5816765\ttotal: 1.31s\tremaining: 2.02s\n",
      "392:\tlearn: 0.5816656\ttotal: 1.31s\tremaining: 2.02s\n",
      "393:\tlearn: 0.5816501\ttotal: 1.31s\tremaining: 2.02s\n",
      "394:\tlearn: 0.5816402\ttotal: 1.31s\tremaining: 2.02s\n",
      "395:\tlearn: 0.5816119\ttotal: 1.32s\tremaining: 2.01s\n",
      "396:\tlearn: 0.5815998\ttotal: 1.32s\tremaining: 2.01s\n",
      "397:\tlearn: 0.5815832\ttotal: 1.32s\tremaining: 2s\n",
      "398:\tlearn: 0.5815689\ttotal: 1.33s\tremaining: 2s\n",
      "399:\tlearn: 0.5815440\ttotal: 1.33s\tremaining: 2s\n",
      "400:\tlearn: 0.5815298\ttotal: 1.33s\tremaining: 1.99s\n",
      "401:\tlearn: 0.5815198\ttotal: 1.34s\tremaining: 1.99s\n",
      "402:\tlearn: 0.5815041\ttotal: 1.34s\tremaining: 1.99s\n",
      "403:\tlearn: 0.5814990\ttotal: 1.34s\tremaining: 1.98s\n",
      "404:\tlearn: 0.5814800\ttotal: 1.35s\tremaining: 1.98s\n",
      "405:\tlearn: 0.5814674\ttotal: 1.35s\tremaining: 1.98s\n",
      "406:\tlearn: 0.5814361\ttotal: 1.35s\tremaining: 1.97s\n",
      "407:\tlearn: 0.5814149\ttotal: 1.36s\tremaining: 1.97s\n",
      "408:\tlearn: 0.5813949\ttotal: 1.36s\tremaining: 1.97s\n",
      "409:\tlearn: 0.5813925\ttotal: 1.36s\tremaining: 1.96s\n",
      "410:\tlearn: 0.5813718\ttotal: 1.37s\tremaining: 1.96s\n",
      "411:\tlearn: 0.5813583\ttotal: 1.37s\tremaining: 1.95s\n",
      "412:\tlearn: 0.5813498\ttotal: 1.37s\tremaining: 1.95s\n",
      "413:\tlearn: 0.5813195\ttotal: 1.38s\tremaining: 1.95s\n",
      "414:\tlearn: 0.5813125\ttotal: 1.38s\tremaining: 1.94s\n",
      "415:\tlearn: 0.5813076\ttotal: 1.38s\tremaining: 1.94s\n",
      "416:\tlearn: 0.5812995\ttotal: 1.39s\tremaining: 1.94s\n",
      "417:\tlearn: 0.5812865\ttotal: 1.39s\tremaining: 1.93s\n",
      "418:\tlearn: 0.5812723\ttotal: 1.39s\tremaining: 1.93s\n",
      "419:\tlearn: 0.5812615\ttotal: 1.4s\tremaining: 1.93s\n",
      "420:\tlearn: 0.5812538\ttotal: 1.4s\tremaining: 1.92s\n",
      "421:\tlearn: 0.5812415\ttotal: 1.4s\tremaining: 1.92s\n",
      "422:\tlearn: 0.5812216\ttotal: 1.4s\tremaining: 1.92s\n",
      "423:\tlearn: 0.5812140\ttotal: 1.41s\tremaining: 1.91s\n",
      "424:\tlearn: 0.5811963\ttotal: 1.41s\tremaining: 1.91s\n",
      "425:\tlearn: 0.5811882\ttotal: 1.41s\tremaining: 1.91s\n",
      "426:\tlearn: 0.5811795\ttotal: 1.42s\tremaining: 1.9s\n",
      "427:\tlearn: 0.5811760\ttotal: 1.42s\tremaining: 1.9s\n",
      "428:\tlearn: 0.5811672\ttotal: 1.42s\tremaining: 1.9s\n",
      "429:\tlearn: 0.5811645\ttotal: 1.43s\tremaining: 1.89s\n",
      "430:\tlearn: 0.5811535\ttotal: 1.43s\tremaining: 1.89s\n",
      "431:\tlearn: 0.5811270\ttotal: 1.43s\tremaining: 1.88s\n",
      "432:\tlearn: 0.5811218\ttotal: 1.44s\tremaining: 1.88s\n",
      "433:\tlearn: 0.5811061\ttotal: 1.44s\tremaining: 1.88s\n",
      "434:\tlearn: 0.5810854\ttotal: 1.44s\tremaining: 1.87s\n",
      "435:\tlearn: 0.5810710\ttotal: 1.45s\tremaining: 1.87s\n",
      "436:\tlearn: 0.5810634\ttotal: 1.45s\tremaining: 1.87s\n",
      "437:\tlearn: 0.5810480\ttotal: 1.45s\tremaining: 1.86s\n",
      "438:\tlearn: 0.5810346\ttotal: 1.46s\tremaining: 1.86s\n",
      "439:\tlearn: 0.5810206\ttotal: 1.46s\tremaining: 1.86s\n",
      "440:\tlearn: 0.5809948\ttotal: 1.46s\tremaining: 1.85s\n",
      "441:\tlearn: 0.5809890\ttotal: 1.47s\tremaining: 1.85s\n",
      "442:\tlearn: 0.5809822\ttotal: 1.47s\tremaining: 1.85s\n",
      "443:\tlearn: 0.5809781\ttotal: 1.47s\tremaining: 1.84s\n",
      "444:\tlearn: 0.5809658\ttotal: 1.48s\tremaining: 1.84s\n",
      "445:\tlearn: 0.5809602\ttotal: 1.48s\tremaining: 1.84s\n",
      "446:\tlearn: 0.5809467\ttotal: 1.48s\tremaining: 1.83s\n",
      "447:\tlearn: 0.5809335\ttotal: 1.48s\tremaining: 1.83s\n",
      "448:\tlearn: 0.5809258\ttotal: 1.49s\tremaining: 1.83s\n",
      "449:\tlearn: 0.5809132\ttotal: 1.49s\tremaining: 1.82s\n",
      "450:\tlearn: 0.5809038\ttotal: 1.49s\tremaining: 1.82s\n",
      "451:\tlearn: 0.5808960\ttotal: 1.5s\tremaining: 1.81s\n",
      "452:\tlearn: 0.5808842\ttotal: 1.5s\tremaining: 1.81s\n",
      "453:\tlearn: 0.5808790\ttotal: 1.5s\tremaining: 1.81s\n",
      "454:\tlearn: 0.5808663\ttotal: 1.51s\tremaining: 1.8s\n",
      "455:\tlearn: 0.5808486\ttotal: 1.51s\tremaining: 1.8s\n",
      "456:\tlearn: 0.5808199\ttotal: 1.51s\tremaining: 1.8s\n",
      "457:\tlearn: 0.5808122\ttotal: 1.52s\tremaining: 1.79s\n",
      "458:\tlearn: 0.5808024\ttotal: 1.52s\tremaining: 1.79s\n",
      "459:\tlearn: 0.5807921\ttotal: 1.52s\tremaining: 1.79s\n",
      "460:\tlearn: 0.5807810\ttotal: 1.53s\tremaining: 1.78s\n",
      "461:\tlearn: 0.5807772\ttotal: 1.53s\tremaining: 1.78s\n",
      "462:\tlearn: 0.5807628\ttotal: 1.53s\tremaining: 1.78s\n",
      "463:\tlearn: 0.5807529\ttotal: 1.53s\tremaining: 1.77s\n",
      "464:\tlearn: 0.5807500\ttotal: 1.54s\tremaining: 1.77s\n",
      "465:\tlearn: 0.5807354\ttotal: 1.54s\tremaining: 1.77s\n",
      "466:\tlearn: 0.5807297\ttotal: 1.54s\tremaining: 1.76s\n",
      "467:\tlearn: 0.5807192\ttotal: 1.55s\tremaining: 1.76s\n",
      "468:\tlearn: 0.5807107\ttotal: 1.55s\tremaining: 1.76s\n",
      "469:\tlearn: 0.5807023\ttotal: 1.55s\tremaining: 1.75s\n",
      "470:\tlearn: 0.5806892\ttotal: 1.56s\tremaining: 1.75s\n",
      "471:\tlearn: 0.5806821\ttotal: 1.56s\tremaining: 1.75s\n",
      "472:\tlearn: 0.5806769\ttotal: 1.56s\tremaining: 1.74s\n",
      "473:\tlearn: 0.5806709\ttotal: 1.57s\tremaining: 1.74s\n",
      "474:\tlearn: 0.5806601\ttotal: 1.57s\tremaining: 1.74s\n",
      "475:\tlearn: 0.5806571\ttotal: 1.57s\tremaining: 1.73s\n",
      "476:\tlearn: 0.5806424\ttotal: 1.58s\tremaining: 1.73s\n",
      "477:\tlearn: 0.5806294\ttotal: 1.58s\tremaining: 1.73s\n",
      "478:\tlearn: 0.5806218\ttotal: 1.58s\tremaining: 1.72s\n",
      "479:\tlearn: 0.5806129\ttotal: 1.59s\tremaining: 1.72s\n",
      "480:\tlearn: 0.5805959\ttotal: 1.59s\tremaining: 1.72s\n",
      "481:\tlearn: 0.5805878\ttotal: 1.59s\tremaining: 1.71s\n",
      "482:\tlearn: 0.5805767\ttotal: 1.6s\tremaining: 1.71s\n",
      "483:\tlearn: 0.5805693\ttotal: 1.6s\tremaining: 1.71s\n",
      "484:\tlearn: 0.5805628\ttotal: 1.6s\tremaining: 1.7s\n",
      "485:\tlearn: 0.5805511\ttotal: 1.61s\tremaining: 1.7s\n",
      "486:\tlearn: 0.5805477\ttotal: 1.61s\tremaining: 1.7s\n",
      "487:\tlearn: 0.5805315\ttotal: 1.61s\tremaining: 1.69s\n",
      "488:\tlearn: 0.5805190\ttotal: 1.61s\tremaining: 1.69s\n",
      "489:\tlearn: 0.5805114\ttotal: 1.62s\tremaining: 1.69s\n",
      "490:\tlearn: 0.5804996\ttotal: 1.62s\tremaining: 1.68s\n",
      "491:\tlearn: 0.5804881\ttotal: 1.63s\tremaining: 1.68s\n",
      "492:\tlearn: 0.5804676\ttotal: 1.63s\tremaining: 1.67s\n",
      "493:\tlearn: 0.5804560\ttotal: 1.63s\tremaining: 1.67s\n",
      "494:\tlearn: 0.5804451\ttotal: 1.63s\tremaining: 1.67s\n",
      "495:\tlearn: 0.5804265\ttotal: 1.64s\tremaining: 1.66s\n",
      "496:\tlearn: 0.5804160\ttotal: 1.64s\tremaining: 1.66s\n",
      "497:\tlearn: 0.5804060\ttotal: 1.64s\tremaining: 1.66s\n",
      "498:\tlearn: 0.5803972\ttotal: 1.65s\tremaining: 1.65s\n",
      "499:\tlearn: 0.5803878\ttotal: 1.65s\tremaining: 1.65s\n",
      "500:\tlearn: 0.5803792\ttotal: 1.65s\tremaining: 1.65s\n",
      "501:\tlearn: 0.5803758\ttotal: 1.66s\tremaining: 1.64s\n",
      "502:\tlearn: 0.5803686\ttotal: 1.66s\tremaining: 1.64s\n",
      "503:\tlearn: 0.5803372\ttotal: 1.66s\tremaining: 1.64s\n",
      "504:\tlearn: 0.5803331\ttotal: 1.67s\tremaining: 1.63s\n",
      "505:\tlearn: 0.5803235\ttotal: 1.67s\tremaining: 1.63s\n",
      "506:\tlearn: 0.5803118\ttotal: 1.67s\tremaining: 1.63s\n",
      "507:\tlearn: 0.5802911\ttotal: 1.68s\tremaining: 1.62s\n",
      "508:\tlearn: 0.5802780\ttotal: 1.68s\tremaining: 1.62s\n",
      "509:\tlearn: 0.5802631\ttotal: 1.68s\tremaining: 1.62s\n",
      "510:\tlearn: 0.5802586\ttotal: 1.69s\tremaining: 1.61s\n",
      "511:\tlearn: 0.5802506\ttotal: 1.69s\tremaining: 1.61s\n",
      "512:\tlearn: 0.5802412\ttotal: 1.69s\tremaining: 1.61s\n",
      "513:\tlearn: 0.5802320\ttotal: 1.7s\tremaining: 1.6s\n",
      "514:\tlearn: 0.5802236\ttotal: 1.7s\tremaining: 1.6s\n",
      "515:\tlearn: 0.5802200\ttotal: 1.7s\tremaining: 1.6s\n",
      "516:\tlearn: 0.5802081\ttotal: 1.71s\tremaining: 1.59s\n",
      "517:\tlearn: 0.5801947\ttotal: 1.71s\tremaining: 1.59s\n",
      "518:\tlearn: 0.5801771\ttotal: 1.71s\tremaining: 1.59s\n",
      "519:\tlearn: 0.5801719\ttotal: 1.72s\tremaining: 1.58s\n",
      "520:\tlearn: 0.5801580\ttotal: 1.72s\tremaining: 1.58s\n",
      "521:\tlearn: 0.5801530\ttotal: 1.72s\tremaining: 1.58s\n",
      "522:\tlearn: 0.5801499\ttotal: 1.73s\tremaining: 1.57s\n",
      "523:\tlearn: 0.5801352\ttotal: 1.73s\tremaining: 1.57s\n",
      "524:\tlearn: 0.5801282\ttotal: 1.73s\tremaining: 1.57s\n",
      "525:\tlearn: 0.5801222\ttotal: 1.74s\tremaining: 1.56s\n",
      "526:\tlearn: 0.5801124\ttotal: 1.74s\tremaining: 1.56s\n",
      "527:\tlearn: 0.5801060\ttotal: 1.74s\tremaining: 1.56s\n",
      "528:\tlearn: 0.5800922\ttotal: 1.75s\tremaining: 1.55s\n",
      "529:\tlearn: 0.5800885\ttotal: 1.75s\tremaining: 1.55s\n",
      "530:\tlearn: 0.5800856\ttotal: 1.75s\tremaining: 1.55s\n",
      "531:\tlearn: 0.5800753\ttotal: 1.75s\tremaining: 1.54s\n",
      "532:\tlearn: 0.5800705\ttotal: 1.76s\tremaining: 1.54s\n",
      "533:\tlearn: 0.5800610\ttotal: 1.76s\tremaining: 1.54s\n",
      "534:\tlearn: 0.5800386\ttotal: 1.76s\tremaining: 1.53s\n",
      "535:\tlearn: 0.5800281\ttotal: 1.77s\tremaining: 1.53s\n",
      "536:\tlearn: 0.5800243\ttotal: 1.77s\tremaining: 1.53s\n",
      "537:\tlearn: 0.5800101\ttotal: 1.77s\tremaining: 1.52s\n",
      "538:\tlearn: 0.5800062\ttotal: 1.78s\tremaining: 1.52s\n",
      "539:\tlearn: 0.5799890\ttotal: 1.78s\tremaining: 1.52s\n",
      "540:\tlearn: 0.5799805\ttotal: 1.78s\tremaining: 1.51s\n",
      "541:\tlearn: 0.5799717\ttotal: 1.79s\tremaining: 1.51s\n",
      "542:\tlearn: 0.5799570\ttotal: 1.79s\tremaining: 1.51s\n",
      "543:\tlearn: 0.5799467\ttotal: 1.79s\tremaining: 1.5s\n",
      "544:\tlearn: 0.5799316\ttotal: 1.8s\tremaining: 1.5s\n",
      "545:\tlearn: 0.5799165\ttotal: 1.8s\tremaining: 1.5s\n",
      "546:\tlearn: 0.5799076\ttotal: 1.8s\tremaining: 1.49s\n",
      "547:\tlearn: 0.5798903\ttotal: 1.81s\tremaining: 1.49s\n",
      "548:\tlearn: 0.5798759\ttotal: 1.81s\tremaining: 1.49s\n",
      "549:\tlearn: 0.5798645\ttotal: 1.81s\tremaining: 1.48s\n",
      "550:\tlearn: 0.5798524\ttotal: 1.81s\tremaining: 1.48s\n",
      "551:\tlearn: 0.5798459\ttotal: 1.82s\tremaining: 1.48s\n",
      "552:\tlearn: 0.5798318\ttotal: 1.82s\tremaining: 1.47s\n",
      "553:\tlearn: 0.5798278\ttotal: 1.82s\tremaining: 1.47s\n",
      "554:\tlearn: 0.5798194\ttotal: 1.83s\tremaining: 1.47s\n",
      "555:\tlearn: 0.5798035\ttotal: 1.83s\tremaining: 1.46s\n",
      "556:\tlearn: 0.5797933\ttotal: 1.83s\tremaining: 1.46s\n",
      "557:\tlearn: 0.5797842\ttotal: 1.84s\tremaining: 1.46s\n",
      "558:\tlearn: 0.5797810\ttotal: 1.84s\tremaining: 1.45s\n",
      "559:\tlearn: 0.5797602\ttotal: 1.84s\tremaining: 1.45s\n",
      "560:\tlearn: 0.5797485\ttotal: 1.85s\tremaining: 1.45s\n",
      "561:\tlearn: 0.5797259\ttotal: 1.85s\tremaining: 1.44s\n",
      "562:\tlearn: 0.5797221\ttotal: 1.85s\tremaining: 1.44s\n",
      "563:\tlearn: 0.5797141\ttotal: 1.86s\tremaining: 1.44s\n",
      "564:\tlearn: 0.5797045\ttotal: 1.86s\tremaining: 1.43s\n",
      "565:\tlearn: 0.5796998\ttotal: 1.86s\tremaining: 1.43s\n",
      "566:\tlearn: 0.5796914\ttotal: 1.87s\tremaining: 1.43s\n",
      "567:\tlearn: 0.5796716\ttotal: 1.87s\tremaining: 1.42s\n",
      "568:\tlearn: 0.5796438\ttotal: 1.87s\tremaining: 1.42s\n",
      "569:\tlearn: 0.5796410\ttotal: 1.88s\tremaining: 1.42s\n",
      "570:\tlearn: 0.5796322\ttotal: 1.88s\tremaining: 1.41s\n",
      "571:\tlearn: 0.5796249\ttotal: 1.88s\tremaining: 1.41s\n",
      "572:\tlearn: 0.5796178\ttotal: 1.89s\tremaining: 1.41s\n",
      "573:\tlearn: 0.5795967\ttotal: 1.89s\tremaining: 1.4s\n",
      "574:\tlearn: 0.5795877\ttotal: 1.89s\tremaining: 1.4s\n",
      "575:\tlearn: 0.5795780\ttotal: 1.9s\tremaining: 1.4s\n",
      "576:\tlearn: 0.5795534\ttotal: 1.9s\tremaining: 1.39s\n",
      "577:\tlearn: 0.5795439\ttotal: 1.9s\tremaining: 1.39s\n",
      "578:\tlearn: 0.5795356\ttotal: 1.9s\tremaining: 1.39s\n",
      "579:\tlearn: 0.5795053\ttotal: 1.91s\tremaining: 1.38s\n",
      "580:\tlearn: 0.5795030\ttotal: 1.91s\tremaining: 1.38s\n",
      "581:\tlearn: 0.5794953\ttotal: 1.91s\tremaining: 1.38s\n",
      "582:\tlearn: 0.5794816\ttotal: 1.92s\tremaining: 1.37s\n",
      "583:\tlearn: 0.5794729\ttotal: 1.92s\tremaining: 1.37s\n",
      "584:\tlearn: 0.5794674\ttotal: 1.92s\tremaining: 1.36s\n",
      "585:\tlearn: 0.5794640\ttotal: 1.93s\tremaining: 1.36s\n",
      "586:\tlearn: 0.5794511\ttotal: 1.93s\tremaining: 1.36s\n",
      "587:\tlearn: 0.5794364\ttotal: 1.93s\tremaining: 1.35s\n",
      "588:\tlearn: 0.5794300\ttotal: 1.94s\tremaining: 1.35s\n",
      "589:\tlearn: 0.5794158\ttotal: 1.94s\tremaining: 1.35s\n",
      "590:\tlearn: 0.5794070\ttotal: 1.94s\tremaining: 1.34s\n",
      "591:\tlearn: 0.5794001\ttotal: 1.95s\tremaining: 1.34s\n",
      "592:\tlearn: 0.5793940\ttotal: 1.95s\tremaining: 1.34s\n",
      "593:\tlearn: 0.5793797\ttotal: 1.95s\tremaining: 1.33s\n",
      "594:\tlearn: 0.5793633\ttotal: 1.96s\tremaining: 1.33s\n",
      "595:\tlearn: 0.5793507\ttotal: 1.96s\tremaining: 1.33s\n",
      "596:\tlearn: 0.5793376\ttotal: 1.96s\tremaining: 1.32s\n",
      "597:\tlearn: 0.5793343\ttotal: 1.97s\tremaining: 1.32s\n",
      "598:\tlearn: 0.5793275\ttotal: 1.97s\tremaining: 1.32s\n",
      "599:\tlearn: 0.5793162\ttotal: 1.97s\tremaining: 1.31s\n",
      "600:\tlearn: 0.5793103\ttotal: 1.97s\tremaining: 1.31s\n",
      "601:\tlearn: 0.5793086\ttotal: 1.98s\tremaining: 1.31s\n",
      "602:\tlearn: 0.5793029\ttotal: 1.98s\tremaining: 1.3s\n",
      "603:\tlearn: 0.5792896\ttotal: 1.98s\tremaining: 1.3s\n",
      "604:\tlearn: 0.5792844\ttotal: 1.99s\tremaining: 1.3s\n",
      "605:\tlearn: 0.5792788\ttotal: 1.99s\tremaining: 1.29s\n",
      "606:\tlearn: 0.5792586\ttotal: 1.99s\tremaining: 1.29s\n",
      "607:\tlearn: 0.5792385\ttotal: 2s\tremaining: 1.29s\n",
      "608:\tlearn: 0.5792234\ttotal: 2s\tremaining: 1.28s\n",
      "609:\tlearn: 0.5792106\ttotal: 2s\tremaining: 1.28s\n",
      "610:\tlearn: 0.5792030\ttotal: 2.01s\tremaining: 1.28s\n",
      "611:\tlearn: 0.5791853\ttotal: 2.01s\tremaining: 1.27s\n",
      "612:\tlearn: 0.5791597\ttotal: 2.01s\tremaining: 1.27s\n",
      "613:\tlearn: 0.5791535\ttotal: 2.02s\tremaining: 1.27s\n",
      "614:\tlearn: 0.5791420\ttotal: 2.02s\tremaining: 1.26s\n",
      "615:\tlearn: 0.5791393\ttotal: 2.02s\tremaining: 1.26s\n",
      "616:\tlearn: 0.5791322\ttotal: 2.02s\tremaining: 1.26s\n",
      "617:\tlearn: 0.5791203\ttotal: 2.03s\tremaining: 1.25s\n",
      "618:\tlearn: 0.5791134\ttotal: 2.03s\tremaining: 1.25s\n",
      "619:\tlearn: 0.5791076\ttotal: 2.03s\tremaining: 1.25s\n",
      "620:\tlearn: 0.5790997\ttotal: 2.04s\tremaining: 1.24s\n",
      "621:\tlearn: 0.5790909\ttotal: 2.04s\tremaining: 1.24s\n",
      "622:\tlearn: 0.5790773\ttotal: 2.04s\tremaining: 1.24s\n",
      "623:\tlearn: 0.5790683\ttotal: 2.05s\tremaining: 1.23s\n",
      "624:\tlearn: 0.5790637\ttotal: 2.05s\tremaining: 1.23s\n",
      "625:\tlearn: 0.5790549\ttotal: 2.05s\tremaining: 1.23s\n",
      "626:\tlearn: 0.5790496\ttotal: 2.06s\tremaining: 1.22s\n",
      "627:\tlearn: 0.5790456\ttotal: 2.06s\tremaining: 1.22s\n",
      "628:\tlearn: 0.5790329\ttotal: 2.06s\tremaining: 1.22s\n",
      "629:\tlearn: 0.5790166\ttotal: 2.07s\tremaining: 1.21s\n",
      "630:\tlearn: 0.5790035\ttotal: 2.07s\tremaining: 1.21s\n",
      "631:\tlearn: 0.5789910\ttotal: 2.07s\tremaining: 1.21s\n",
      "632:\tlearn: 0.5789893\ttotal: 2.08s\tremaining: 1.2s\n",
      "633:\tlearn: 0.5789795\ttotal: 2.08s\tremaining: 1.2s\n",
      "634:\tlearn: 0.5789773\ttotal: 2.08s\tremaining: 1.2s\n",
      "635:\tlearn: 0.5789563\ttotal: 2.08s\tremaining: 1.19s\n",
      "636:\tlearn: 0.5789526\ttotal: 2.09s\tremaining: 1.19s\n",
      "637:\tlearn: 0.5789495\ttotal: 2.09s\tremaining: 1.19s\n",
      "638:\tlearn: 0.5789419\ttotal: 2.1s\tremaining: 1.18s\n",
      "639:\tlearn: 0.5789213\ttotal: 2.1s\tremaining: 1.18s\n",
      "640:\tlearn: 0.5789070\ttotal: 2.1s\tremaining: 1.18s\n",
      "641:\tlearn: 0.5788971\ttotal: 2.1s\tremaining: 1.17s\n",
      "642:\tlearn: 0.5788913\ttotal: 2.11s\tremaining: 1.17s\n",
      "643:\tlearn: 0.5788803\ttotal: 2.11s\tremaining: 1.17s\n",
      "644:\tlearn: 0.5788692\ttotal: 2.11s\tremaining: 1.16s\n",
      "645:\tlearn: 0.5788602\ttotal: 2.12s\tremaining: 1.16s\n",
      "646:\tlearn: 0.5788394\ttotal: 2.12s\tremaining: 1.16s\n",
      "647:\tlearn: 0.5788313\ttotal: 2.12s\tremaining: 1.15s\n",
      "648:\tlearn: 0.5788284\ttotal: 2.13s\tremaining: 1.15s\n",
      "649:\tlearn: 0.5788113\ttotal: 2.13s\tremaining: 1.15s\n",
      "650:\tlearn: 0.5788023\ttotal: 2.13s\tremaining: 1.14s\n",
      "651:\tlearn: 0.5787994\ttotal: 2.14s\tremaining: 1.14s\n",
      "652:\tlearn: 0.5787952\ttotal: 2.14s\tremaining: 1.14s\n",
      "653:\tlearn: 0.5787866\ttotal: 2.14s\tremaining: 1.13s\n",
      "654:\tlearn: 0.5787797\ttotal: 2.15s\tremaining: 1.13s\n",
      "655:\tlearn: 0.5787622\ttotal: 2.15s\tremaining: 1.13s\n",
      "656:\tlearn: 0.5787573\ttotal: 2.15s\tremaining: 1.12s\n",
      "657:\tlearn: 0.5787499\ttotal: 2.15s\tremaining: 1.12s\n",
      "658:\tlearn: 0.5787420\ttotal: 2.16s\tremaining: 1.12s\n",
      "659:\tlearn: 0.5787398\ttotal: 2.16s\tremaining: 1.11s\n",
      "660:\tlearn: 0.5787308\ttotal: 2.17s\tremaining: 1.11s\n",
      "661:\tlearn: 0.5787244\ttotal: 2.17s\tremaining: 1.11s\n",
      "662:\tlearn: 0.5787166\ttotal: 2.17s\tremaining: 1.1s\n",
      "663:\tlearn: 0.5787114\ttotal: 2.17s\tremaining: 1.1s\n",
      "664:\tlearn: 0.5787067\ttotal: 2.18s\tremaining: 1.1s\n",
      "665:\tlearn: 0.5787007\ttotal: 2.18s\tremaining: 1.09s\n",
      "666:\tlearn: 0.5786983\ttotal: 2.18s\tremaining: 1.09s\n",
      "667:\tlearn: 0.5786956\ttotal: 2.19s\tremaining: 1.09s\n",
      "668:\tlearn: 0.5786814\ttotal: 2.19s\tremaining: 1.08s\n",
      "669:\tlearn: 0.5786762\ttotal: 2.19s\tremaining: 1.08s\n",
      "670:\tlearn: 0.5786714\ttotal: 2.2s\tremaining: 1.08s\n",
      "671:\tlearn: 0.5786645\ttotal: 2.2s\tremaining: 1.07s\n",
      "672:\tlearn: 0.5786593\ttotal: 2.2s\tremaining: 1.07s\n",
      "673:\tlearn: 0.5786524\ttotal: 2.21s\tremaining: 1.07s\n",
      "674:\tlearn: 0.5786422\ttotal: 2.21s\tremaining: 1.06s\n",
      "675:\tlearn: 0.5786386\ttotal: 2.21s\tremaining: 1.06s\n",
      "676:\tlearn: 0.5786353\ttotal: 2.21s\tremaining: 1.06s\n",
      "677:\tlearn: 0.5786192\ttotal: 2.22s\tremaining: 1.05s\n",
      "678:\tlearn: 0.5786160\ttotal: 2.22s\tremaining: 1.05s\n",
      "679:\tlearn: 0.5786076\ttotal: 2.23s\tremaining: 1.05s\n",
      "680:\tlearn: 0.5785970\ttotal: 2.23s\tremaining: 1.04s\n",
      "681:\tlearn: 0.5785941\ttotal: 2.23s\tremaining: 1.04s\n",
      "682:\tlearn: 0.5785895\ttotal: 2.23s\tremaining: 1.04s\n",
      "683:\tlearn: 0.5785716\ttotal: 2.24s\tremaining: 1.03s\n",
      "684:\tlearn: 0.5785650\ttotal: 2.24s\tremaining: 1.03s\n",
      "685:\tlearn: 0.5785476\ttotal: 2.24s\tremaining: 1.03s\n",
      "686:\tlearn: 0.5785435\ttotal: 2.25s\tremaining: 1.02s\n",
      "687:\tlearn: 0.5785339\ttotal: 2.25s\tremaining: 1.02s\n",
      "688:\tlearn: 0.5785308\ttotal: 2.25s\tremaining: 1.02s\n",
      "689:\tlearn: 0.5785234\ttotal: 2.26s\tremaining: 1.01s\n",
      "690:\tlearn: 0.5785098\ttotal: 2.26s\tremaining: 1.01s\n",
      "691:\tlearn: 0.5784975\ttotal: 2.26s\tremaining: 1.01s\n",
      "692:\tlearn: 0.5784878\ttotal: 2.27s\tremaining: 1s\n",
      "693:\tlearn: 0.5784814\ttotal: 2.27s\tremaining: 1s\n",
      "694:\tlearn: 0.5784720\ttotal: 2.27s\tremaining: 997ms\n",
      "695:\tlearn: 0.5784671\ttotal: 2.27s\tremaining: 994ms\n",
      "696:\tlearn: 0.5784589\ttotal: 2.28s\tremaining: 991ms\n",
      "697:\tlearn: 0.5784540\ttotal: 2.28s\tremaining: 988ms\n",
      "698:\tlearn: 0.5784477\ttotal: 2.29s\tremaining: 984ms\n",
      "699:\tlearn: 0.5784413\ttotal: 2.29s\tremaining: 981ms\n",
      "700:\tlearn: 0.5784274\ttotal: 2.29s\tremaining: 978ms\n",
      "701:\tlearn: 0.5784228\ttotal: 2.29s\tremaining: 974ms\n",
      "702:\tlearn: 0.5784152\ttotal: 2.3s\tremaining: 971ms\n",
      "703:\tlearn: 0.5784032\ttotal: 2.3s\tremaining: 968ms\n",
      "704:\tlearn: 0.5783970\ttotal: 2.3s\tremaining: 964ms\n",
      "705:\tlearn: 0.5783889\ttotal: 2.31s\tremaining: 961ms\n",
      "706:\tlearn: 0.5783872\ttotal: 2.31s\tremaining: 958ms\n",
      "707:\tlearn: 0.5783843\ttotal: 2.31s\tremaining: 954ms\n",
      "708:\tlearn: 0.5783801\ttotal: 2.32s\tremaining: 951ms\n",
      "709:\tlearn: 0.5783736\ttotal: 2.32s\tremaining: 948ms\n",
      "710:\tlearn: 0.5783603\ttotal: 2.32s\tremaining: 944ms\n",
      "711:\tlearn: 0.5783485\ttotal: 2.33s\tremaining: 941ms\n",
      "712:\tlearn: 0.5783442\ttotal: 2.33s\tremaining: 938ms\n",
      "713:\tlearn: 0.5783386\ttotal: 2.33s\tremaining: 935ms\n",
      "714:\tlearn: 0.5783338\ttotal: 2.34s\tremaining: 931ms\n",
      "715:\tlearn: 0.5783282\ttotal: 2.34s\tremaining: 928ms\n",
      "716:\tlearn: 0.5783259\ttotal: 2.34s\tremaining: 925ms\n",
      "717:\tlearn: 0.5783218\ttotal: 2.35s\tremaining: 921ms\n",
      "718:\tlearn: 0.5783150\ttotal: 2.35s\tremaining: 918ms\n",
      "719:\tlearn: 0.5783112\ttotal: 2.35s\tremaining: 915ms\n",
      "720:\tlearn: 0.5783045\ttotal: 2.35s\tremaining: 911ms\n",
      "721:\tlearn: 0.5782918\ttotal: 2.36s\tremaining: 908ms\n",
      "722:\tlearn: 0.5782870\ttotal: 2.36s\tremaining: 905ms\n",
      "723:\tlearn: 0.5782791\ttotal: 2.36s\tremaining: 902ms\n",
      "724:\tlearn: 0.5782765\ttotal: 2.37s\tremaining: 898ms\n",
      "725:\tlearn: 0.5782718\ttotal: 2.37s\tremaining: 895ms\n",
      "726:\tlearn: 0.5782613\ttotal: 2.37s\tremaining: 892ms\n",
      "727:\tlearn: 0.5782542\ttotal: 2.38s\tremaining: 888ms\n",
      "728:\tlearn: 0.5782419\ttotal: 2.38s\tremaining: 885ms\n",
      "729:\tlearn: 0.5782353\ttotal: 2.38s\tremaining: 882ms\n",
      "730:\tlearn: 0.5782322\ttotal: 2.39s\tremaining: 878ms\n",
      "731:\tlearn: 0.5782280\ttotal: 2.39s\tremaining: 875ms\n",
      "732:\tlearn: 0.5782219\ttotal: 2.39s\tremaining: 872ms\n",
      "733:\tlearn: 0.5782089\ttotal: 2.4s\tremaining: 868ms\n",
      "734:\tlearn: 0.5782048\ttotal: 2.4s\tremaining: 865ms\n",
      "735:\tlearn: 0.5781964\ttotal: 2.4s\tremaining: 862ms\n",
      "736:\tlearn: 0.5781935\ttotal: 2.41s\tremaining: 859ms\n",
      "737:\tlearn: 0.5781850\ttotal: 2.41s\tremaining: 855ms\n",
      "738:\tlearn: 0.5781803\ttotal: 2.41s\tremaining: 852ms\n",
      "739:\tlearn: 0.5781783\ttotal: 2.42s\tremaining: 849ms\n",
      "740:\tlearn: 0.5781674\ttotal: 2.42s\tremaining: 845ms\n",
      "741:\tlearn: 0.5781647\ttotal: 2.42s\tremaining: 842ms\n",
      "742:\tlearn: 0.5781566\ttotal: 2.42s\tremaining: 839ms\n",
      "743:\tlearn: 0.5781510\ttotal: 2.43s\tremaining: 836ms\n",
      "744:\tlearn: 0.5781472\ttotal: 2.43s\tremaining: 832ms\n",
      "745:\tlearn: 0.5781437\ttotal: 2.43s\tremaining: 829ms\n",
      "746:\tlearn: 0.5781423\ttotal: 2.44s\tremaining: 826ms\n",
      "747:\tlearn: 0.5781284\ttotal: 2.44s\tremaining: 822ms\n",
      "748:\tlearn: 0.5781212\ttotal: 2.44s\tremaining: 819ms\n",
      "749:\tlearn: 0.5781115\ttotal: 2.45s\tremaining: 816ms\n",
      "750:\tlearn: 0.5781075\ttotal: 2.45s\tremaining: 813ms\n",
      "751:\tlearn: 0.5781056\ttotal: 2.45s\tremaining: 809ms\n",
      "752:\tlearn: 0.5780925\ttotal: 2.46s\tremaining: 806ms\n",
      "753:\tlearn: 0.5780789\ttotal: 2.46s\tremaining: 803ms\n",
      "754:\tlearn: 0.5780705\ttotal: 2.46s\tremaining: 799ms\n",
      "755:\tlearn: 0.5780589\ttotal: 2.47s\tremaining: 796ms\n",
      "756:\tlearn: 0.5780364\ttotal: 2.47s\tremaining: 793ms\n",
      "757:\tlearn: 0.5780297\ttotal: 2.47s\tremaining: 789ms\n",
      "758:\tlearn: 0.5780213\ttotal: 2.48s\tremaining: 786ms\n",
      "759:\tlearn: 0.5780199\ttotal: 2.48s\tremaining: 783ms\n",
      "760:\tlearn: 0.5780030\ttotal: 2.48s\tremaining: 780ms\n",
      "761:\tlearn: 0.5780006\ttotal: 2.48s\tremaining: 776ms\n",
      "762:\tlearn: 0.5779928\ttotal: 2.49s\tremaining: 773ms\n",
      "763:\tlearn: 0.5779871\ttotal: 2.49s\tremaining: 770ms\n",
      "764:\tlearn: 0.5779853\ttotal: 2.5s\tremaining: 766ms\n",
      "765:\tlearn: 0.5779790\ttotal: 2.5s\tremaining: 763ms\n",
      "766:\tlearn: 0.5779699\ttotal: 2.5s\tremaining: 760ms\n",
      "767:\tlearn: 0.5779575\ttotal: 2.5s\tremaining: 757ms\n",
      "768:\tlearn: 0.5779476\ttotal: 2.51s\tremaining: 753ms\n",
      "769:\tlearn: 0.5779337\ttotal: 2.51s\tremaining: 750ms\n",
      "770:\tlearn: 0.5779297\ttotal: 2.51s\tremaining: 747ms\n",
      "771:\tlearn: 0.5779284\ttotal: 2.52s\tremaining: 743ms\n",
      "772:\tlearn: 0.5779234\ttotal: 2.52s\tremaining: 740ms\n",
      "773:\tlearn: 0.5779187\ttotal: 2.52s\tremaining: 737ms\n",
      "774:\tlearn: 0.5779133\ttotal: 2.53s\tremaining: 734ms\n",
      "775:\tlearn: 0.5779111\ttotal: 2.53s\tremaining: 730ms\n",
      "776:\tlearn: 0.5779023\ttotal: 2.53s\tremaining: 727ms\n",
      "777:\tlearn: 0.5778902\ttotal: 2.54s\tremaining: 724ms\n",
      "778:\tlearn: 0.5778869\ttotal: 2.54s\tremaining: 720ms\n",
      "779:\tlearn: 0.5778847\ttotal: 2.54s\tremaining: 717ms\n",
      "780:\tlearn: 0.5778719\ttotal: 2.54s\tremaining: 714ms\n",
      "781:\tlearn: 0.5778686\ttotal: 2.55s\tremaining: 711ms\n",
      "782:\tlearn: 0.5778602\ttotal: 2.55s\tremaining: 707ms\n",
      "783:\tlearn: 0.5778551\ttotal: 2.56s\tremaining: 704ms\n",
      "784:\tlearn: 0.5778465\ttotal: 2.56s\tremaining: 701ms\n",
      "785:\tlearn: 0.5778400\ttotal: 2.56s\tremaining: 697ms\n",
      "786:\tlearn: 0.5778320\ttotal: 2.56s\tremaining: 694ms\n",
      "787:\tlearn: 0.5778297\ttotal: 2.57s\tremaining: 691ms\n",
      "788:\tlearn: 0.5778235\ttotal: 2.57s\tremaining: 688ms\n",
      "789:\tlearn: 0.5778173\ttotal: 2.57s\tremaining: 684ms\n",
      "790:\tlearn: 0.5778149\ttotal: 2.58s\tremaining: 681ms\n",
      "791:\tlearn: 0.5778119\ttotal: 2.58s\tremaining: 678ms\n",
      "792:\tlearn: 0.5778090\ttotal: 2.58s\tremaining: 674ms\n",
      "793:\tlearn: 0.5778048\ttotal: 2.59s\tremaining: 671ms\n",
      "794:\tlearn: 0.5777981\ttotal: 2.59s\tremaining: 668ms\n",
      "795:\tlearn: 0.5777952\ttotal: 2.59s\tremaining: 665ms\n",
      "796:\tlearn: 0.5777902\ttotal: 2.6s\tremaining: 661ms\n",
      "797:\tlearn: 0.5777799\ttotal: 2.6s\tremaining: 658ms\n",
      "798:\tlearn: 0.5777688\ttotal: 2.6s\tremaining: 655ms\n",
      "799:\tlearn: 0.5777599\ttotal: 2.61s\tremaining: 652ms\n",
      "800:\tlearn: 0.5777558\ttotal: 2.61s\tremaining: 648ms\n",
      "801:\tlearn: 0.5777491\ttotal: 2.61s\tremaining: 645ms\n",
      "802:\tlearn: 0.5777462\ttotal: 2.62s\tremaining: 642ms\n",
      "803:\tlearn: 0.5777400\ttotal: 2.62s\tremaining: 638ms\n",
      "804:\tlearn: 0.5777356\ttotal: 2.62s\tremaining: 635ms\n",
      "805:\tlearn: 0.5777196\ttotal: 2.63s\tremaining: 632ms\n",
      "806:\tlearn: 0.5777150\ttotal: 2.63s\tremaining: 629ms\n",
      "807:\tlearn: 0.5777054\ttotal: 2.63s\tremaining: 625ms\n",
      "808:\tlearn: 0.5776927\ttotal: 2.63s\tremaining: 622ms\n",
      "809:\tlearn: 0.5776870\ttotal: 2.64s\tremaining: 619ms\n",
      "810:\tlearn: 0.5776838\ttotal: 2.64s\tremaining: 616ms\n",
      "811:\tlearn: 0.5776786\ttotal: 2.64s\tremaining: 612ms\n",
      "812:\tlearn: 0.5776739\ttotal: 2.65s\tremaining: 609ms\n",
      "813:\tlearn: 0.5776715\ttotal: 2.65s\tremaining: 606ms\n",
      "814:\tlearn: 0.5776644\ttotal: 2.65s\tremaining: 602ms\n",
      "815:\tlearn: 0.5776560\ttotal: 2.66s\tremaining: 599ms\n",
      "816:\tlearn: 0.5776502\ttotal: 2.66s\tremaining: 596ms\n",
      "817:\tlearn: 0.5776462\ttotal: 2.66s\tremaining: 593ms\n",
      "818:\tlearn: 0.5776425\ttotal: 2.67s\tremaining: 589ms\n",
      "819:\tlearn: 0.5776375\ttotal: 2.67s\tremaining: 586ms\n",
      "820:\tlearn: 0.5776318\ttotal: 2.67s\tremaining: 583ms\n",
      "821:\tlearn: 0.5776214\ttotal: 2.68s\tremaining: 580ms\n",
      "822:\tlearn: 0.5776176\ttotal: 2.68s\tremaining: 576ms\n",
      "823:\tlearn: 0.5776101\ttotal: 2.68s\tremaining: 573ms\n",
      "824:\tlearn: 0.5776037\ttotal: 2.69s\tremaining: 570ms\n",
      "825:\tlearn: 0.5776001\ttotal: 2.69s\tremaining: 566ms\n",
      "826:\tlearn: 0.5775940\ttotal: 2.69s\tremaining: 563ms\n",
      "827:\tlearn: 0.5775881\ttotal: 2.69s\tremaining: 560ms\n",
      "828:\tlearn: 0.5775772\ttotal: 2.7s\tremaining: 557ms\n",
      "829:\tlearn: 0.5775740\ttotal: 2.7s\tremaining: 553ms\n",
      "830:\tlearn: 0.5775693\ttotal: 2.7s\tremaining: 550ms\n",
      "831:\tlearn: 0.5775672\ttotal: 2.71s\tremaining: 547ms\n",
      "832:\tlearn: 0.5775604\ttotal: 2.71s\tremaining: 544ms\n",
      "833:\tlearn: 0.5775506\ttotal: 2.71s\tremaining: 540ms\n",
      "834:\tlearn: 0.5775414\ttotal: 2.72s\tremaining: 537ms\n",
      "835:\tlearn: 0.5775359\ttotal: 2.72s\tremaining: 534ms\n",
      "836:\tlearn: 0.5775299\ttotal: 2.72s\tremaining: 530ms\n",
      "837:\tlearn: 0.5775196\ttotal: 2.73s\tremaining: 527ms\n",
      "838:\tlearn: 0.5775175\ttotal: 2.73s\tremaining: 524ms\n",
      "839:\tlearn: 0.5775116\ttotal: 2.73s\tremaining: 521ms\n",
      "840:\tlearn: 0.5775035\ttotal: 2.74s\tremaining: 517ms\n",
      "841:\tlearn: 0.5774973\ttotal: 2.74s\tremaining: 514ms\n",
      "842:\tlearn: 0.5774903\ttotal: 2.74s\tremaining: 511ms\n",
      "843:\tlearn: 0.5774879\ttotal: 2.75s\tremaining: 508ms\n",
      "844:\tlearn: 0.5774827\ttotal: 2.75s\tremaining: 504ms\n",
      "845:\tlearn: 0.5774805\ttotal: 2.75s\tremaining: 501ms\n",
      "846:\tlearn: 0.5774749\ttotal: 2.75s\tremaining: 498ms\n",
      "847:\tlearn: 0.5774725\ttotal: 2.76s\tremaining: 494ms\n",
      "848:\tlearn: 0.5774671\ttotal: 2.76s\tremaining: 491ms\n",
      "849:\tlearn: 0.5774634\ttotal: 2.76s\tremaining: 488ms\n",
      "850:\tlearn: 0.5774620\ttotal: 2.77s\tremaining: 485ms\n",
      "851:\tlearn: 0.5774504\ttotal: 2.77s\tremaining: 481ms\n",
      "852:\tlearn: 0.5774430\ttotal: 2.77s\tremaining: 478ms\n",
      "853:\tlearn: 0.5774389\ttotal: 2.78s\tremaining: 475ms\n",
      "854:\tlearn: 0.5774347\ttotal: 2.78s\tremaining: 472ms\n",
      "855:\tlearn: 0.5774321\ttotal: 2.78s\tremaining: 468ms\n",
      "856:\tlearn: 0.5774295\ttotal: 2.79s\tremaining: 465ms\n",
      "857:\tlearn: 0.5774246\ttotal: 2.79s\tremaining: 462ms\n",
      "858:\tlearn: 0.5774179\ttotal: 2.79s\tremaining: 459ms\n",
      "859:\tlearn: 0.5774146\ttotal: 2.8s\tremaining: 455ms\n",
      "860:\tlearn: 0.5774030\ttotal: 2.8s\tremaining: 452ms\n",
      "861:\tlearn: 0.5773988\ttotal: 2.8s\tremaining: 449ms\n",
      "862:\tlearn: 0.5773911\ttotal: 2.81s\tremaining: 446ms\n",
      "863:\tlearn: 0.5773821\ttotal: 2.81s\tremaining: 442ms\n",
      "864:\tlearn: 0.5773796\ttotal: 2.81s\tremaining: 439ms\n",
      "865:\tlearn: 0.5773710\ttotal: 2.81s\tremaining: 436ms\n",
      "866:\tlearn: 0.5773615\ttotal: 2.82s\tremaining: 432ms\n",
      "867:\tlearn: 0.5773590\ttotal: 2.82s\tremaining: 429ms\n",
      "868:\tlearn: 0.5773523\ttotal: 2.83s\tremaining: 426ms\n",
      "869:\tlearn: 0.5773503\ttotal: 2.83s\tremaining: 423ms\n",
      "870:\tlearn: 0.5773432\ttotal: 2.83s\tremaining: 419ms\n",
      "871:\tlearn: 0.5773421\ttotal: 2.83s\tremaining: 416ms\n",
      "872:\tlearn: 0.5773328\ttotal: 2.84s\tremaining: 413ms\n",
      "873:\tlearn: 0.5773165\ttotal: 2.84s\tremaining: 410ms\n",
      "874:\tlearn: 0.5773142\ttotal: 2.84s\tremaining: 406ms\n",
      "875:\tlearn: 0.5773091\ttotal: 2.85s\tremaining: 403ms\n",
      "876:\tlearn: 0.5773015\ttotal: 2.85s\tremaining: 400ms\n",
      "877:\tlearn: 0.5772940\ttotal: 2.85s\tremaining: 397ms\n",
      "878:\tlearn: 0.5772895\ttotal: 2.86s\tremaining: 393ms\n",
      "879:\tlearn: 0.5772825\ttotal: 2.86s\tremaining: 390ms\n",
      "880:\tlearn: 0.5772777\ttotal: 2.86s\tremaining: 387ms\n",
      "881:\tlearn: 0.5772755\ttotal: 2.87s\tremaining: 384ms\n",
      "882:\tlearn: 0.5772723\ttotal: 2.87s\tremaining: 380ms\n",
      "883:\tlearn: 0.5772688\ttotal: 2.87s\tremaining: 377ms\n",
      "884:\tlearn: 0.5772620\ttotal: 2.88s\tremaining: 374ms\n",
      "885:\tlearn: 0.5772520\ttotal: 2.88s\tremaining: 370ms\n",
      "886:\tlearn: 0.5772475\ttotal: 2.88s\tremaining: 367ms\n",
      "887:\tlearn: 0.5772428\ttotal: 2.88s\tremaining: 364ms\n",
      "888:\tlearn: 0.5772381\ttotal: 2.89s\tremaining: 361ms\n",
      "889:\tlearn: 0.5772309\ttotal: 2.89s\tremaining: 357ms\n",
      "890:\tlearn: 0.5772242\ttotal: 2.9s\tremaining: 354ms\n",
      "891:\tlearn: 0.5772211\ttotal: 2.9s\tremaining: 351ms\n",
      "892:\tlearn: 0.5772155\ttotal: 2.9s\tremaining: 348ms\n",
      "893:\tlearn: 0.5772085\ttotal: 2.9s\tremaining: 344ms\n",
      "894:\tlearn: 0.5772044\ttotal: 2.91s\tremaining: 341ms\n",
      "895:\tlearn: 0.5772016\ttotal: 2.91s\tremaining: 338ms\n",
      "896:\tlearn: 0.5771987\ttotal: 2.91s\tremaining: 335ms\n",
      "897:\tlearn: 0.5771937\ttotal: 2.92s\tremaining: 331ms\n",
      "898:\tlearn: 0.5771882\ttotal: 2.92s\tremaining: 328ms\n",
      "899:\tlearn: 0.5771860\ttotal: 2.92s\tremaining: 325ms\n",
      "900:\tlearn: 0.5771822\ttotal: 2.93s\tremaining: 322ms\n",
      "901:\tlearn: 0.5771713\ttotal: 2.93s\tremaining: 318ms\n",
      "902:\tlearn: 0.5771620\ttotal: 2.93s\tremaining: 315ms\n",
      "903:\tlearn: 0.5771604\ttotal: 2.94s\tremaining: 312ms\n",
      "904:\tlearn: 0.5771589\ttotal: 2.94s\tremaining: 309ms\n",
      "905:\tlearn: 0.5771522\ttotal: 2.94s\tremaining: 305ms\n",
      "906:\tlearn: 0.5771508\ttotal: 2.94s\tremaining: 302ms\n",
      "907:\tlearn: 0.5771482\ttotal: 2.95s\tremaining: 299ms\n",
      "908:\tlearn: 0.5771462\ttotal: 2.95s\tremaining: 296ms\n",
      "909:\tlearn: 0.5771439\ttotal: 2.96s\tremaining: 292ms\n",
      "910:\tlearn: 0.5771419\ttotal: 2.96s\tremaining: 289ms\n",
      "911:\tlearn: 0.5771349\ttotal: 2.96s\tremaining: 286ms\n",
      "912:\tlearn: 0.5771256\ttotal: 2.96s\tremaining: 283ms\n",
      "913:\tlearn: 0.5771131\ttotal: 2.97s\tremaining: 279ms\n",
      "914:\tlearn: 0.5771071\ttotal: 2.97s\tremaining: 276ms\n",
      "915:\tlearn: 0.5771040\ttotal: 2.97s\tremaining: 273ms\n",
      "916:\tlearn: 0.5770968\ttotal: 2.98s\tremaining: 270ms\n",
      "917:\tlearn: 0.5770929\ttotal: 2.98s\tremaining: 266ms\n",
      "918:\tlearn: 0.5770900\ttotal: 2.98s\tremaining: 263ms\n",
      "919:\tlearn: 0.5770856\ttotal: 2.99s\tremaining: 260ms\n",
      "920:\tlearn: 0.5770846\ttotal: 2.99s\tremaining: 257ms\n",
      "921:\tlearn: 0.5770763\ttotal: 2.99s\tremaining: 253ms\n",
      "922:\tlearn: 0.5770708\ttotal: 3s\tremaining: 250ms\n",
      "923:\tlearn: 0.5770658\ttotal: 3s\tremaining: 247ms\n",
      "924:\tlearn: 0.5770642\ttotal: 3s\tremaining: 244ms\n",
      "925:\tlearn: 0.5770612\ttotal: 3.01s\tremaining: 240ms\n",
      "926:\tlearn: 0.5770538\ttotal: 3.01s\tremaining: 237ms\n",
      "927:\tlearn: 0.5770526\ttotal: 3.01s\tremaining: 234ms\n",
      "928:\tlearn: 0.5770390\ttotal: 3.02s\tremaining: 231ms\n",
      "929:\tlearn: 0.5770343\ttotal: 3.02s\tremaining: 227ms\n",
      "930:\tlearn: 0.5770302\ttotal: 3.02s\tremaining: 224ms\n",
      "931:\tlearn: 0.5770265\ttotal: 3.02s\tremaining: 221ms\n",
      "932:\tlearn: 0.5770197\ttotal: 3.03s\tremaining: 218ms\n",
      "933:\tlearn: 0.5770147\ttotal: 3.03s\tremaining: 214ms\n",
      "934:\tlearn: 0.5770100\ttotal: 3.04s\tremaining: 211ms\n",
      "935:\tlearn: 0.5770040\ttotal: 3.04s\tremaining: 208ms\n",
      "936:\tlearn: 0.5770020\ttotal: 3.04s\tremaining: 204ms\n",
      "937:\tlearn: 0.5769927\ttotal: 3.04s\tremaining: 201ms\n",
      "938:\tlearn: 0.5769865\ttotal: 3.05s\tremaining: 198ms\n",
      "939:\tlearn: 0.5769842\ttotal: 3.05s\tremaining: 195ms\n",
      "940:\tlearn: 0.5769814\ttotal: 3.06s\tremaining: 192ms\n",
      "941:\tlearn: 0.5769775\ttotal: 3.06s\tremaining: 188ms\n",
      "942:\tlearn: 0.5769754\ttotal: 3.06s\tremaining: 185ms\n",
      "943:\tlearn: 0.5769715\ttotal: 3.07s\tremaining: 182ms\n",
      "944:\tlearn: 0.5769671\ttotal: 3.07s\tremaining: 179ms\n",
      "945:\tlearn: 0.5769616\ttotal: 3.07s\tremaining: 175ms\n",
      "946:\tlearn: 0.5769543\ttotal: 3.08s\tremaining: 172ms\n",
      "947:\tlearn: 0.5769524\ttotal: 3.08s\tremaining: 169ms\n",
      "948:\tlearn: 0.5769457\ttotal: 3.08s\tremaining: 166ms\n",
      "949:\tlearn: 0.5769362\ttotal: 3.09s\tremaining: 163ms\n",
      "950:\tlearn: 0.5769316\ttotal: 3.09s\tremaining: 159ms\n",
      "951:\tlearn: 0.5769270\ttotal: 3.09s\tremaining: 156ms\n",
      "952:\tlearn: 0.5769246\ttotal: 3.1s\tremaining: 153ms\n",
      "953:\tlearn: 0.5769222\ttotal: 3.1s\tremaining: 150ms\n",
      "954:\tlearn: 0.5769199\ttotal: 3.1s\tremaining: 146ms\n",
      "955:\tlearn: 0.5769168\ttotal: 3.11s\tremaining: 143ms\n",
      "956:\tlearn: 0.5769141\ttotal: 3.11s\tremaining: 140ms\n",
      "957:\tlearn: 0.5769113\ttotal: 3.12s\tremaining: 137ms\n",
      "958:\tlearn: 0.5769026\ttotal: 3.12s\tremaining: 133ms\n",
      "959:\tlearn: 0.5768990\ttotal: 3.12s\tremaining: 130ms\n",
      "960:\tlearn: 0.5768924\ttotal: 3.13s\tremaining: 127ms\n",
      "961:\tlearn: 0.5768896\ttotal: 3.13s\tremaining: 124ms\n",
      "962:\tlearn: 0.5768844\ttotal: 3.13s\tremaining: 120ms\n",
      "963:\tlearn: 0.5768810\ttotal: 3.13s\tremaining: 117ms\n",
      "964:\tlearn: 0.5768769\ttotal: 3.14s\tremaining: 114ms\n",
      "965:\tlearn: 0.5768738\ttotal: 3.14s\tremaining: 111ms\n",
      "966:\tlearn: 0.5768722\ttotal: 3.14s\tremaining: 107ms\n",
      "967:\tlearn: 0.5768664\ttotal: 3.15s\tremaining: 104ms\n",
      "968:\tlearn: 0.5768646\ttotal: 3.15s\tremaining: 101ms\n",
      "969:\tlearn: 0.5768591\ttotal: 3.15s\tremaining: 97.6ms\n",
      "970:\tlearn: 0.5768539\ttotal: 3.16s\tremaining: 94.3ms\n",
      "971:\tlearn: 0.5768516\ttotal: 3.16s\tremaining: 91ms\n",
      "972:\tlearn: 0.5768455\ttotal: 3.16s\tremaining: 87.8ms\n",
      "973:\tlearn: 0.5768414\ttotal: 3.17s\tremaining: 84.5ms\n",
      "974:\tlearn: 0.5768393\ttotal: 3.17s\tremaining: 81.3ms\n",
      "975:\tlearn: 0.5768326\ttotal: 3.17s\tremaining: 78ms\n",
      "976:\tlearn: 0.5768254\ttotal: 3.18s\tremaining: 74.8ms\n",
      "977:\tlearn: 0.5768224\ttotal: 3.18s\tremaining: 71.5ms\n",
      "978:\tlearn: 0.5768198\ttotal: 3.18s\tremaining: 68.3ms\n",
      "979:\tlearn: 0.5768181\ttotal: 3.19s\tremaining: 65ms\n",
      "980:\tlearn: 0.5768153\ttotal: 3.19s\tremaining: 61.8ms\n",
      "981:\tlearn: 0.5768143\ttotal: 3.19s\tremaining: 58.5ms\n",
      "982:\tlearn: 0.5768112\ttotal: 3.19s\tremaining: 55.3ms\n",
      "983:\tlearn: 0.5768074\ttotal: 3.2s\tremaining: 52ms\n",
      "984:\tlearn: 0.5768015\ttotal: 3.2s\tremaining: 48.8ms\n",
      "985:\tlearn: 0.5767968\ttotal: 3.21s\tremaining: 45.5ms\n",
      "986:\tlearn: 0.5767871\ttotal: 3.21s\tremaining: 42.3ms\n",
      "987:\tlearn: 0.5767829\ttotal: 3.21s\tremaining: 39ms\n",
      "988:\tlearn: 0.5767779\ttotal: 3.21s\tremaining: 35.8ms\n",
      "989:\tlearn: 0.5767673\ttotal: 3.22s\tremaining: 32.5ms\n",
      "990:\tlearn: 0.5767613\ttotal: 3.22s\tremaining: 29.3ms\n",
      "991:\tlearn: 0.5767548\ttotal: 3.22s\tremaining: 26ms\n",
      "992:\tlearn: 0.5767528\ttotal: 3.23s\tremaining: 22.8ms\n",
      "993:\tlearn: 0.5767504\ttotal: 3.23s\tremaining: 19.5ms\n",
      "994:\tlearn: 0.5767488\ttotal: 3.23s\tremaining: 16.3ms\n",
      "995:\tlearn: 0.5767339\ttotal: 3.24s\tremaining: 13ms\n",
      "996:\tlearn: 0.5767237\ttotal: 3.24s\tremaining: 9.75ms\n",
      "997:\tlearn: 0.5767195\ttotal: 3.24s\tremaining: 6.5ms\n",
      "998:\tlearn: 0.5767116\ttotal: 3.25s\tremaining: 3.25ms\n",
      "999:\tlearn: 0.5767041\ttotal: 3.25s\tremaining: 0us\n",
      "CPU times: user 8.55 s, sys: 2.26 s, total: 10.8 s\n",
      "Wall time: 3.59 s\n"
     ]
    },
    {
     "data": {
      "text/plain": "<catboost.core.CatBoostClassifier at 0x73c1e7acc190>"
     },
     "execution_count": 45,
     "metadata": {},
     "output_type": "execute_result"
    }
   ],
   "source": [
    "%%time\n",
    "# задаём имена колонок признаков и таргета\n",
    "features = ['score',\n",
    "            'tracks_total', 'hearing_days', 'tracks_per_day',\n",
    "            'nusers']\n",
    "target = 'target'\n",
    "\n",
    "# создаём Pool\n",
    "train_data = Pool(\n",
    "    data=candidates_for_train[features],\n",
    "    label=candidates_for_train[target])\n",
    "\n",
    "# инициализируем модель CatBoostClassifier\n",
    "cb_model = CatBoostClassifier(\n",
    "    iterations=1000,\n",
    "    learning_rate=0.1,\n",
    "    depth=6,\n",
    "    loss_function='Logloss',\n",
    "    verbose=True,\n",
    "    random_seed=0,\n",
    "    task_type='GPU'\n",
    ")\n",
    "\n",
    "# тренируем модель\n",
    "cb_model.fit(train_data)\n",
    "\n"
   ],
   "metadata": {
    "collapsed": false
   }
  },
  {
   "cell_type": "code",
   "execution_count": 46,
   "outputs": [
    {
     "name": "stdout",
     "output_type": "stream",
     "text": [
      "75136500\n"
     ]
    }
   ],
   "source": [
    "candidates_to_rank = als_recommendations[als_recommendations[\"user_id\"].isin(events_test[\"user_id\"].drop_duplicates())]\n",
    "print(len(candidates_to_rank))\n",
    "candidates_to_rank = candidates_to_rank.merge(user_features_for_train, on=\"user_id\", how=\"left\")\n",
    "candidates_to_rank = candidates_to_rank.merge(item_features_for_train, on=\"item_id\", how=\"left\")"
   ],
   "metadata": {
    "collapsed": false
   }
  },
  {
   "cell_type": "code",
   "execution_count": 47,
   "outputs": [
    {
     "name": "stdout",
     "output_type": "stream",
     "text": [
      "75136500 75136500\n",
      "CPU times: user 1min 44s, sys: 3.15 s, total: 1min 48s\n",
      "Wall time: 55.8 s\n"
     ]
    },
    {
     "data": {
      "text/plain": "          user_id   item_id     score  tracks_total  hearing_days  \\\n47170209   863353  62208587  0.277034           719           186   \n20868824   381457  18088710  0.247206             6            20   \n70406839  1288192  28006258  0.349736             6            19   \n53924838   987001  50685843  0.145627            10           239   \n66982586  1225965  41625041  0.308999           247            43   \n\n          tracks_per_day  nusers  rank  \n47170209        3.865591   35023    23  \n20868824        0.300000    8536     8  \n70406839        0.315789   16118    66  \n53924838        0.041841   66321    81  \n66982586        5.744186   32008    65  ",
      "text/html": "<div>\n<style scoped>\n    .dataframe tbody tr th:only-of-type {\n        vertical-align: middle;\n    }\n\n    .dataframe tbody tr th {\n        vertical-align: top;\n    }\n\n    .dataframe thead th {\n        text-align: right;\n    }\n</style>\n<table border=\"1\" class=\"dataframe\">\n  <thead>\n    <tr style=\"text-align: right;\">\n      <th></th>\n      <th>user_id</th>\n      <th>item_id</th>\n      <th>score</th>\n      <th>tracks_total</th>\n      <th>hearing_days</th>\n      <th>tracks_per_day</th>\n      <th>nusers</th>\n      <th>rank</th>\n    </tr>\n  </thead>\n  <tbody>\n    <tr>\n      <th>47170209</th>\n      <td>863353</td>\n      <td>62208587</td>\n      <td>0.277034</td>\n      <td>719</td>\n      <td>186</td>\n      <td>3.865591</td>\n      <td>35023</td>\n      <td>23</td>\n    </tr>\n    <tr>\n      <th>20868824</th>\n      <td>381457</td>\n      <td>18088710</td>\n      <td>0.247206</td>\n      <td>6</td>\n      <td>20</td>\n      <td>0.300000</td>\n      <td>8536</td>\n      <td>8</td>\n    </tr>\n    <tr>\n      <th>70406839</th>\n      <td>1288192</td>\n      <td>28006258</td>\n      <td>0.349736</td>\n      <td>6</td>\n      <td>19</td>\n      <td>0.315789</td>\n      <td>16118</td>\n      <td>66</td>\n    </tr>\n    <tr>\n      <th>53924838</th>\n      <td>987001</td>\n      <td>50685843</td>\n      <td>0.145627</td>\n      <td>10</td>\n      <td>239</td>\n      <td>0.041841</td>\n      <td>66321</td>\n      <td>81</td>\n    </tr>\n    <tr>\n      <th>66982586</th>\n      <td>1225965</td>\n      <td>41625041</td>\n      <td>0.308999</td>\n      <td>247</td>\n      <td>43</td>\n      <td>5.744186</td>\n      <td>32008</td>\n      <td>65</td>\n    </tr>\n  </tbody>\n</table>\n</div>"
     },
     "execution_count": 47,
     "metadata": {},
     "output_type": "execute_result"
    }
   ],
   "source": [
    "%%time\n",
    "inference_data = Pool(data=candidates_to_rank[features])\n",
    "predictions = cb_model.predict_proba(inference_data)\n",
    "\n",
    "candidates_to_rank[\"score\"] = predictions[:,1]\n",
    "\n",
    "# для каждого пользователя проставим rank, начиная с 1 — это максимальный cb_score\n",
    "candidates_to_rank = candidates_to_rank.sort_values([\"user_id\", \"score\"], ascending=[True, False])\n",
    "candidates_to_rank[\"rank\"] = candidates_to_rank.groupby('user_id').cumcount() + 1\n",
    "\n",
    "max_recommendations_per_user = 100\n",
    "# final_recommendations = candidates_to_rank.query(\"rank >= @max_recommendations_per_user\")\n",
    "final_recommendations = candidates_to_rank\n",
    "\n",
    "final_recommendations.to_parqueet('recommendations.parquet')\n",
    "print(len(final_recommendations), len(candidates_to_rank))\n",
    "final_recommendations.sample(5)\n"
   ],
   "metadata": {
    "collapsed": false
   }
  },
  {
   "cell_type": "code",
   "execution_count": 48,
   "outputs": [],
   "source": [
    "def process_events_recs_for_binary_metrics(events_train, events_test, recs, top_k=None):\n",
    "\n",
    "    \"\"\"\n",
    "    размечает пары <user_id, item_id> для общего множества пользователей признаками\n",
    "    - gt (ground truth)\n",
    "    - pr (prediction)\n",
    "    top_k: расчёт ведётся только для top k-рекомендаций\n",
    "    \"\"\"\n",
    "\n",
    "    events_test[\"gt\"] = True\n",
    "    common_users = set(events_test[\"user_id\"]) & set(recs[\"user_id\"])\n",
    "\n",
    "    print(f\"Common users: {len(common_users)}\")\n",
    "\n",
    "    events_for_common_users = events_test[events_test[\"user_id\"].isin(common_users)].copy()\n",
    "    recs_for_common_users = recs[recs[\"user_id\"].isin(common_users)].copy()\n",
    "\n",
    "    recs_for_common_users = recs_for_common_users.sort_values([\"user_id\", \"score\"], ascending=[True, False])\n",
    "\n",
    "    # оставляет только те item_id, которые были в events_train,\n",
    "    # т. к. модель не имела никакой возможности давать рекомендации для новых айтемов\n",
    "    events_for_common_users = events_for_common_users[events_for_common_users[\"item_id\"].isin(events_train[\"item_id\"].unique())]\n",
    "\n",
    "    if top_k is not None:\n",
    "        recs_for_common_users = recs_for_common_users.groupby(\"user_id\").head(top_k)\n",
    "\n",
    "    events_recs_common = events_for_common_users[[\"user_id\", \"item_id\", \"gt\"]].merge(\n",
    "        recs_for_common_users[[\"user_id\", \"item_id\", \"score\"]],\n",
    "        on=[\"user_id\", \"item_id\"], how=\"outer\")\n",
    "\n",
    "    events_recs_common[\"gt\"] = events_recs_common[\"gt\"].fillna(False)\n",
    "    events_recs_common[\"pr\"] = ~events_recs_common[\"score\"].isnull()\n",
    "\n",
    "    events_recs_common[\"tp\"] = events_recs_common[\"gt\"] & events_recs_common[\"pr\"]\n",
    "    events_recs_common[\"fp\"] = ~events_recs_common[\"gt\"] & events_recs_common[\"pr\"]\n",
    "    events_recs_common[\"fn\"] = events_recs_common[\"gt\"] & ~events_recs_common[\"pr\"]\n",
    "\n",
    "    return events_recs_common\n",
    "\n",
    "\n",
    "def compute_cls_metrics(events_recs_for_binary_metric):\n",
    "\n",
    "    groupper = events_recs_for_binary_metric.groupby(\"user_id\")\n",
    "\n",
    "    # precision = tp / (tp + fp)\n",
    "    precision = groupper[\"tp\"].sum()/(groupper[\"tp\"].sum()+groupper[\"fp\"].sum())\n",
    "    precision = precision.fillna(0).mean()\n",
    "\n",
    "    # recall = tp / (tp + fn)\n",
    "    recall = groupper[\"tp\"].sum()/(groupper[\"tp\"].sum()+groupper[\"fn\"].sum())\n",
    "    recall = recall.fillna(0).mean()\n",
    "\n",
    "    return precision, recall\n"
   ],
   "metadata": {
    "collapsed": false
   }
  },
  {
   "cell_type": "code",
   "execution_count": 49,
   "outputs": [
    {
     "name": "stdout",
     "output_type": "stream",
     "text": [
      "Common users: 540276\n"
     ]
    },
    {
     "name": "stderr",
     "output_type": "stream",
     "text": [
      "/tmp/ipykernel_132260/2491400055.py:31: FutureWarning: Downcasting object dtype arrays on .fillna, .ffill, .bfill is deprecated and will change in a future version. Call result.infer_objects(copy=False) instead. To opt-in to the future behavior, set `pd.set_option('future.no_silent_downcasting', True)`\n",
      "  events_recs_common[\"gt\"] = events_recs_common[\"gt\"].fillna(False)\n"
     ]
    },
    {
     "name": "stdout",
     "output_type": "stream",
     "text": [
      "precision: 0.006, recall: 0.009\n"
     ]
    }
   ],
   "source": [
    "events_inference = pd.concat([events_train, events_labels])\n",
    "events_inference.target = events_inference.target.fillna(0).astype(int)\n",
    "\n",
    "cb_events_recs_for_binary_metrics_5 = process_events_recs_for_binary_metrics(\n",
    "    events_inference,\n",
    "    events_test_2,\n",
    "    final_recommendations,\n",
    "    top_k=5)\n",
    "cb_events_recs_for_binary_metrics_5.score = cb_events_recs_for_binary_metrics_5.score.fillna(0).astype(int)\n",
    "cb_precision_5, cb_recall_5 = compute_cls_metrics(cb_events_recs_for_binary_metrics_5)\n",
    "\n",
    "print(f\"precision: {cb_precision_5:.3f}, recall: {cb_recall_5:.3f}\")"
   ],
   "metadata": {
    "collapsed": false
   }
  },
  {
   "cell_type": "markdown",
   "id": "b3c84071-45b5-4a15-a683-e0ab034a3128",
   "metadata": {},
   "source": [
    "# Оценка качества"
   ]
  },
  {
   "cell_type": "markdown",
   "id": "1b107fe4-554e-42b1-87d9-c435a52bb77a",
   "metadata": {},
   "source": [
    "Проверим оценку качества трёх типов рекомендаций: \n",
    "\n",
    "- топ популярных,\n",
    "- персональных, полученных при помощи ALS,\n",
    "- итоговых\n",
    "  \n",
    "по четырем метрикам: recall, precision, coverage, novelty."
   ]
  },
  {
   "cell_type": "code",
   "execution_count": 50,
   "id": "94d6f388-aecb-443e-8647-14014e932d4d",
   "metadata": {},
   "outputs": [
    {
     "data": {
      "text/plain": "100"
     },
     "execution_count": 50,
     "metadata": {},
     "output_type": "execute_result"
    }
   ],
   "source": [
    "top100tracks_train = tracks[tracks.track_id.isin(events_train.item_id.value_counts()[:100].index)]\n",
    "cold_users_events = events_test[events_test[\"user_id\"].isin(cold_users)]\n",
    "cold_users_events[cold_users_events.item_id.isin(top100tracks_train.track_id)].item_id.nunique()\n",
    "# все 100 из top100 трэков слушали холодные пользователи"
   ]
  },
  {
   "cell_type": "code",
   "execution_count": 54,
   "id": "26df411f-14c1-4848-8797-f37afe449cc6",
   "metadata": {},
   "outputs": [
    {
     "name": "stdout",
     "output_type": "stream",
     "text": [
      "1.0\n"
     ]
    },
    {
     "name": "stderr",
     "output_type": "stream",
     "text": [
      "/tmp/ipykernel_132260/198622621.py:8: DeprecationWarning: DataFrameGroupBy.apply operated on the grouping columns. This behavior is deprecated, and in a future version of pandas the grouping columns will be excluded from the operation. Either pass `include_groups=False` to exclude the groupings or explicitly select the grouping columns after groupby to silence this warning.\n",
      "  ndcg_at_5_scores = als_recommendations[rating_test_idx].groupby('user_id').apply(lambda x: compute_ndcg(x['score'], x[\"score\"], k=5))\n"
     ]
    }
   ],
   "source": [
    "def compute_ndcg(rating: pd.Series, score: pd.Series, k):\n",
    "    if len(rating) < 2:\n",
    "        return np.nan\n",
    "    ndcg = sklearn.metrics.ndcg_score(np.asarray([rating.to_numpy()]), np.asarray([score.to_numpy()]), k=k)\n",
    "    return ndcg\n",
    "\n",
    "rating_test_idx = ~als_recommendations['score'].isnull()\n",
    "ndcg_at_5_scores = als_recommendations[rating_test_idx].groupby('user_id').apply(lambda x: compute_ndcg(x['score'], x[\"score\"], k=5))\n",
    "print(ndcg_at_5_scores.mean())"
   ]
  },
  {
   "cell_type": "code",
   "execution_count": null,
   "outputs": [],
   "source": [],
   "metadata": {
    "collapsed": false
   }
  },
  {
   "cell_type": "markdown",
   "id": "f1c8d38c-32b0-46a4-96f0-cd01dac708bc",
   "metadata": {},
   "source": [
    "# === Выводы, метрики ==="
   ]
  },
  {
   "cell_type": "markdown",
   "id": "f7d7d5d8-7d1e-4fdf-a6cd-83e5ce92c684",
   "metadata": {},
   "source": [
    "Основные выводы при работе над расчётом рекомендаций, рассчитанные метрики."
   ]
  },
  {
   "cell_type": "code",
   "execution_count": null,
   "id": "6403097d-db36-46d9-8952-613c9bd51b05",
   "metadata": {},
   "outputs": [],
   "source": [
    "#разметим каждую рекомендацию признаком read\n",
    "events_train[\"heard\"] = True\n",
    "als_recommendations = als_recommendations.merge(events_train, on=[\"user_id\", \"item_id\"], how=\"left\")\n",
    "als_recommendations[\"heard\"] = als_recommendations[\"heard\"].fillna(False).astype(\"bool\")\n",
    "\n",
    "# проставим ранги\n",
    "als_recommendations = als_recommendations.sort_values(by='score', ascending=False)\n",
    "als_recommendations[\"rank\"] = als_recommendations.groupby(\"user_id\").cumcount() + 1\n",
    "\n",
    "# посчитаем novelty по пользователям\n",
    "novelty_5 = (1-als_recommendations.query(\"rank <= 5\").groupby(\"user_id\")[\"heard\"].mean())\n",
    "#\n",
    "# посчитаем средний novelty\n",
    "novelty_5 = novelty_5.mean()\n",
    "novelty_5"
   ]
  },
  {
   "cell_type": "code",
   "execution_count": null,
   "id": "986cfdd5-6f2e-4de6-8666-85804c87d04b",
   "metadata": {},
   "outputs": [],
   "source": [
    "feature_importance = pd.DataFrame(cb_model.get_feature_importance(),\n",
    "                                  index=features,\n",
    "                                  columns=[\"fi\"])\n",
    "feature_importance = feature_importance.sort_values(by='fi', ascending=False)\n",
    "\n",
    "print(feature_importance )\n"
   ]
  }
 ],
 "metadata": {
  "kernelspec": {
   "display_name": "Python 3 (ipykernel)",
   "language": "python",
   "name": "python3"
  },
  "language_info": {
   "codemirror_mode": {
    "name": "ipython",
    "version": 3
   },
   "file_extension": ".py",
   "mimetype": "text/x-python",
   "name": "python",
   "nbconvert_exporter": "python",
   "pygments_lexer": "ipython3",
   "version": "3.9.13"
  }
 },
 "nbformat": 4,
 "nbformat_minor": 5
}
