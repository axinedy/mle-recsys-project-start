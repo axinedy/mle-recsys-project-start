{
 "cells": [
  {
   "cell_type": "markdown",
   "id": "f4095ae4-7294-4b28-853e-88d235002c97",
   "metadata": {},
   "source": [
    "# Инициализация"
   ]
  },
  {
   "cell_type": "markdown",
   "id": "2f2318d2-9df8-4911-915e-15b725c44f8a",
   "metadata": {},
   "source": [
    "Загружаем библиотеки необходимые для выполнения кода ноутбука."
   ]
  },
  {
   "cell_type": "code",
   "execution_count": 2,
   "id": "662d04e7-1b0b-4e4a-9ddf-4526d7fef119",
   "metadata": {},
   "outputs": [],
   "source": [
    "# import cudf as pd\n",
    "import pandas as pd\n",
    "import numpy as np"
   ]
  },
  {
   "cell_type": "markdown",
   "id": "bf80fbc5-b660-4fac-8fbb-a5cae77313b3",
   "metadata": {},
   "source": [
    "# === ЭТАП 1 ==="
   ]
  },
  {
   "cell_type": "markdown",
   "id": "5263a8b3-fe99-4204-8a2e-105182792c11",
   "metadata": {},
   "source": [
    "# Загрузка первичных данных"
   ]
  },
  {
   "cell_type": "markdown",
   "id": "1b54a6a5-1656-4e3c-99d1-49dc39451d33",
   "metadata": {},
   "source": [
    "Загружаем первичные данные из файлов:\n",
    "- tracks.parquet\n",
    "- catalog_names.parquet\n",
    "- interactions.parquet"
   ]
  },
  {
   "cell_type": "code",
   "execution_count": 3,
   "id": "5d4b8961-3f35-4e58-9d6b-3e2dbd2c4224",
   "metadata": {},
   "outputs": [],
   "source": [
    "tracks = pd.read_parquet('tracks.parquet')\n",
    "catalog_names = pd.read_parquet('catalog_names.parquet')\n",
    "interactions = pd.read_parquet('interactions.parquet')"
   ]
  },
  {
   "cell_type": "markdown",
   "source": [
    "# Обзор данных\n",
    "Проверяем данные, есть ли с ними явные проблемы."
   ],
   "metadata": {
    "collapsed": false
   }
  },
  {
   "cell_type": "code",
   "execution_count": 4,
   "id": "70f7bdfe-175c-45c1-a2e9-d99f0f33be2e",
   "metadata": {},
   "outputs": [
    {
     "data": {
      "text/plain": "        track_id              albums     artists     genres\n858451  69610141          [11673151]    [452221]   [17, 25]\n300755  19363775           [2181612]   [3147354]  [47, 154]\n545825  37696904  [4784480, 4784938]     [42528]       [50]\n926420  79856727          [14560182]  [10931140]   [11, 20]\n897904  74796137          [13103055]   [9361974]   [44, 75]",
      "text/html": "<div>\n<style scoped>\n    .dataframe tbody tr th:only-of-type {\n        vertical-align: middle;\n    }\n\n    .dataframe tbody tr th {\n        vertical-align: top;\n    }\n\n    .dataframe thead th {\n        text-align: right;\n    }\n</style>\n<table border=\"1\" class=\"dataframe\">\n  <thead>\n    <tr style=\"text-align: right;\">\n      <th></th>\n      <th>track_id</th>\n      <th>albums</th>\n      <th>artists</th>\n      <th>genres</th>\n    </tr>\n  </thead>\n  <tbody>\n    <tr>\n      <th>858451</th>\n      <td>69610141</td>\n      <td>[11673151]</td>\n      <td>[452221]</td>\n      <td>[17, 25]</td>\n    </tr>\n    <tr>\n      <th>300755</th>\n      <td>19363775</td>\n      <td>[2181612]</td>\n      <td>[3147354]</td>\n      <td>[47, 154]</td>\n    </tr>\n    <tr>\n      <th>545825</th>\n      <td>37696904</td>\n      <td>[4784480, 4784938]</td>\n      <td>[42528]</td>\n      <td>[50]</td>\n    </tr>\n    <tr>\n      <th>926420</th>\n      <td>79856727</td>\n      <td>[14560182]</td>\n      <td>[10931140]</td>\n      <td>[11, 20]</td>\n    </tr>\n    <tr>\n      <th>897904</th>\n      <td>74796137</td>\n      <td>[13103055]</td>\n      <td>[9361974]</td>\n      <td>[44, 75]</td>\n    </tr>\n  </tbody>\n</table>\n</div>"
     },
     "metadata": {},
     "output_type": "display_data"
    },
    {
     "data": {
      "text/plain": "track_id     int64\nalbums      object\nartists     object\ngenres      object\ndtype: object"
     },
     "execution_count": 4,
     "metadata": {},
     "output_type": "execute_result"
    }
   ],
   "source": [
    "display(tracks.sample(5))\n",
    "tracks.dtypes"
   ]
  },
  {
   "cell_type": "code",
   "execution_count": 5,
   "outputs": [
    {
     "data": {
      "text/plain": "               id   type                    name\n1557420  56306361  track             I Dont Care\n1144104  21579433  track  Swing Thing (Re-Swing)\n160855    2618877  album           Love Playlist\n397158    7361839  album        Girls Wanna Love\n609294   16989636  album            Swing & Duck",
      "text/html": "<div>\n<style scoped>\n    .dataframe tbody tr th:only-of-type {\n        vertical-align: middle;\n    }\n\n    .dataframe tbody tr th {\n        vertical-align: top;\n    }\n\n    .dataframe thead th {\n        text-align: right;\n    }\n</style>\n<table border=\"1\" class=\"dataframe\">\n  <thead>\n    <tr style=\"text-align: right;\">\n      <th></th>\n      <th>id</th>\n      <th>type</th>\n      <th>name</th>\n    </tr>\n  </thead>\n  <tbody>\n    <tr>\n      <th>1557420</th>\n      <td>56306361</td>\n      <td>track</td>\n      <td>I Dont Care</td>\n    </tr>\n    <tr>\n      <th>1144104</th>\n      <td>21579433</td>\n      <td>track</td>\n      <td>Swing Thing (Re-Swing)</td>\n    </tr>\n    <tr>\n      <th>160855</th>\n      <td>2618877</td>\n      <td>album</td>\n      <td>Love Playlist</td>\n    </tr>\n    <tr>\n      <th>397158</th>\n      <td>7361839</td>\n      <td>album</td>\n      <td>Girls Wanna Love</td>\n    </tr>\n    <tr>\n      <th>609294</th>\n      <td>16989636</td>\n      <td>album</td>\n      <td>Swing &amp; Duck</td>\n    </tr>\n  </tbody>\n</table>\n</div>"
     },
     "metadata": {},
     "output_type": "display_data"
    },
    {
     "data": {
      "text/plain": "id       int64\ntype    object\nname    object\ndtype: object"
     },
     "metadata": {},
     "output_type": "display_data"
    },
    {
     "data": {
      "text/plain": "type\ntrack     1000000\nalbum      658724\nartist     153581\ngenre         166\nName: count, dtype: int64"
     },
     "execution_count": 5,
     "metadata": {},
     "output_type": "execute_result"
    }
   ],
   "source": [
    "display(catalog_names.sample(5))\n",
    "display(catalog_names.dtypes)\n",
    "catalog_names.type.value_counts()"
   ],
   "metadata": {
    "collapsed": false
   }
  },
  {
   "cell_type": "code",
   "execution_count": 6,
   "outputs": [
    {
     "data": {
      "text/plain": "id         int64\ntype    category\nname      object\ndtype: object"
     },
     "execution_count": 6,
     "metadata": {},
     "output_type": "execute_result"
    }
   ],
   "source": [
    "catalog_names.type = catalog_names.type.astype('category')\n",
    "catalog_names.dtypes"
   ],
   "metadata": {
    "collapsed": false
   }
  },
  {
   "cell_type": "code",
   "execution_count": 7,
   "outputs": [
    {
     "data": {
      "text/plain": "     user_id  track_id  track_seq started_at\n47    399755    280509         48 2022-07-23\n455   970554  78588376        456 2022-07-26\n81   1273475    796798         82 2022-09-22\n105   224525  14298571        106 2022-07-18\n158  1053310  14641839        159 2022-11-07",
      "text/html": "<div>\n<style scoped>\n    .dataframe tbody tr th:only-of-type {\n        vertical-align: middle;\n    }\n\n    .dataframe tbody tr th {\n        vertical-align: top;\n    }\n\n    .dataframe thead th {\n        text-align: right;\n    }\n</style>\n<table border=\"1\" class=\"dataframe\">\n  <thead>\n    <tr style=\"text-align: right;\">\n      <th></th>\n      <th>user_id</th>\n      <th>track_id</th>\n      <th>track_seq</th>\n      <th>started_at</th>\n    </tr>\n  </thead>\n  <tbody>\n    <tr>\n      <th>47</th>\n      <td>399755</td>\n      <td>280509</td>\n      <td>48</td>\n      <td>2022-07-23</td>\n    </tr>\n    <tr>\n      <th>455</th>\n      <td>970554</td>\n      <td>78588376</td>\n      <td>456</td>\n      <td>2022-07-26</td>\n    </tr>\n    <tr>\n      <th>81</th>\n      <td>1273475</td>\n      <td>796798</td>\n      <td>82</td>\n      <td>2022-09-22</td>\n    </tr>\n    <tr>\n      <th>105</th>\n      <td>224525</td>\n      <td>14298571</td>\n      <td>106</td>\n      <td>2022-07-18</td>\n    </tr>\n    <tr>\n      <th>158</th>\n      <td>1053310</td>\n      <td>14641839</td>\n      <td>159</td>\n      <td>2022-11-07</td>\n    </tr>\n  </tbody>\n</table>\n</div>"
     },
     "metadata": {},
     "output_type": "display_data"
    },
    {
     "data": {
      "text/plain": "user_id                int32\ntrack_id               int32\ntrack_seq              int16\nstarted_at    datetime64[ns]\ndtype: object"
     },
     "execution_count": 7,
     "metadata": {},
     "output_type": "execute_result"
    }
   ],
   "source": [
    "display(interactions.sample(5))\n",
    "interactions.dtypes"
   ],
   "metadata": {
    "collapsed": false
   }
  },
  {
   "cell_type": "code",
   "execution_count": 8,
   "id": "c9f8f17e-9b56-4f5a-a463-f694a993effb",
   "metadata": {},
   "outputs": [
    {
     "data": {
      "text/plain": "1"
     },
     "execution_count": 8,
     "metadata": {},
     "output_type": "execute_result"
    }
   ],
   "source": [
    "# все трэки есть в catalog_names\n",
    "tracks.track_id.isin(catalog_names[catalog_names.type=='track'].id).nunique()"
   ]
  },
  {
   "cell_type": "markdown",
   "source": [
    "Есть ли треки с неизвестными исполнителями, альбомами, жанрами?"
   ],
   "metadata": {
    "collapsed": false
   }
  },
  {
   "cell_type": "code",
   "execution_count": 9,
   "id": "efd2e2eb-3bec-4ce1-87ac-232bab8bc0d0",
   "metadata": {},
   "outputs": [
    {
     "name": "stdout",
     "output_type": "stream",
     "text": [
      "CPU times: user 3.09 s, sys: 2.23 s, total: 5.32 s\n",
      "Wall time: 37 s\n"
     ]
    },
    {
     "data": {
      "text/plain": "albums_ok\nTrue     999982\nFalse        18\nName: count, dtype: int64"
     },
     "execution_count": 9,
     "metadata": {},
     "output_type": "execute_result"
    }
   ],
   "source": [
    "%%time\n",
    "import multiprocessing as mp\n",
    "albums = catalog_names[catalog_names.type=='album']\n",
    "albums_ids = np.array(albums.id.values.tolist())\n",
    "def check_albums(track_items):\n",
    "    return True in [item_id in albums_ids for item_id in track_items]\n",
    "with mp.Pool(mp.cpu_count()) as pool:\n",
    "    tracks['albums_ok'] = pool.map(check_albums, tracks.albums)\n",
    "tracks.albums_ok.value_counts()"
   ]
  },
  {
   "cell_type": "code",
   "execution_count": 10,
   "outputs": [
    {
     "name": "stdout",
     "output_type": "stream",
     "text": [
      "CPU times: user 1.54 s, sys: 2.61 s, total: 4.14 s\n",
      "Wall time: 4.42 s\n"
     ]
    },
    {
     "data": {
      "text/plain": "genres_ok\nTrue     996306\nFalse      3694\nName: count, dtype: int64"
     },
     "execution_count": 10,
     "metadata": {},
     "output_type": "execute_result"
    }
   ],
   "source": [
    "%%time\n",
    "genres = catalog_names[catalog_names.type=='genre']\n",
    "genres_ids = np.array(genres.id.values.tolist())\n",
    "def check_genres(track_items):\n",
    "    return True in [item_id in genres_ids for item_id in track_items]\n",
    "with mp.Pool(mp.cpu_count()) as pool:\n",
    "    tracks['genres_ok'] = pool.map(check_genres, tracks.genres)\n",
    "tracks.genres_ok.value_counts()"
   ],
   "metadata": {
    "collapsed": false
   }
  },
  {
   "cell_type": "code",
   "execution_count": 11,
   "outputs": [
    {
     "name": "stdout",
     "output_type": "stream",
     "text": [
      "CPU times: user 2.08 s, sys: 2.24 s, total: 4.33 s\n",
      "Wall time: 5.1 s\n"
     ]
    },
    {
     "data": {
      "text/plain": "artists_ok\nTrue     984631\nFalse     15369\nName: count, dtype: int64"
     },
     "execution_count": 11,
     "metadata": {},
     "output_type": "execute_result"
    }
   ],
   "source": [
    "%%time\n",
    "artists = catalog_names[catalog_names.type=='artist']\n",
    "artists_ids = np.array(artists.id.values.tolist())\n",
    "def check_artists(track_items):\n",
    "    return True in [item_id in artists_ids for item_id in track_items]\n",
    "with mp.Pool(mp.cpu_count()) as pool:\n",
    "    tracks['artists_ok'] = pool.map(check_artists, tracks.artists)\n",
    "tracks.artists_ok.value_counts()"
   ],
   "metadata": {
    "collapsed": false
   }
  },
  {
   "cell_type": "code",
   "execution_count": 25,
   "outputs": [
    {
     "name": "stdout",
     "output_type": "stream",
     "text": [
      "980970\n",
      "980970\n",
      "CPU times: user 4.06 s, sys: 390 ms, total: 4.45 s\n",
      "Wall time: 4.52 s\n"
     ]
    }
   ],
   "source": [
    "%%time\n",
    "# Удаление\n",
    "# print(tracks.shape[0])\n",
    "tracks = tracks.query(\"artists_ok==True and albums_ok==True and genres_ok==True\")\n",
    "# print(tracks.shape[0])\n",
    "# print(interactions.shape[0])\n",
    "interactions = interactions[interactions.track_id.isin(tracks.track_id)]\n",
    "# print(interactions.shape[0])"
   ],
   "metadata": {
    "collapsed": false
   }
  },
  {
   "cell_type": "markdown",
   "id": "318b573a-9e2d-4808-95db-60cfb8bbdb73",
   "metadata": {
    "editable": true,
    "slideshow": {
     "slide_type": ""
    },
    "tags": []
   },
   "source": [
    "# Выводы"
   ]
  },
  {
   "cell_type": "markdown",
   "id": "caa96e12-36a8-4401-8f11-98627a49ae9d",
   "metadata": {},
   "source": [
    "Приведём выводы по первому знакомству с данными:\n",
    "- есть ли с данными явные проблемы,\n",
    "- какие корректирующие действия (в целом) были предприняты."
   ]
  },
  {
   "cell_type": "markdown",
   "source": [
    "В catalog_names поле type было преобразовано в категорию;\n",
    "Найдено 18 трэков у которых ни один из альбомов не присутствует в catalog_names;\n",
    "Найдено 3694 трэка у которых ни один из жанров не присутствует в catalog_names;\n",
    "Найдено 15369 трэков у которых ни один из артистов не присутствует в catalog_names;\n",
    "\n",
    "Удалять их необязательно?"
   ],
   "metadata": {
    "collapsed": false
   }
  },
  {
   "cell_type": "markdown",
   "id": "7bc3296b-eba6-4333-a78d-b9304aa87e3d",
   "metadata": {},
   "source": [
    "# === ЭТАП 2 ==="
   ]
  },
  {
   "cell_type": "markdown",
   "id": "68e73960-fd38-4e15-8db0-9a25c35dfd25",
   "metadata": {},
   "source": [
    "# EDA"
   ]
  },
  {
   "cell_type": "markdown",
   "id": "a30e823e-8e0f-4a76-a02e-8d1ba8bf0f8a",
   "metadata": {},
   "source": [
    "Распределение количества прослушанных треков."
   ]
  },
  {
   "cell_type": "code",
   "execution_count": 14,
   "id": "9bf5eaba-35f7-4da7-be59-9ab4a34b2423",
   "metadata": {},
   "outputs": [
    {
     "data": {
      "text/plain": "array([[<Axes: title={'center': 'track_id'}>]], dtype=object)"
     },
     "execution_count": 14,
     "metadata": {},
     "output_type": "execute_result"
    },
    {
     "data": {
      "text/plain": "<Figure size 1500x400 with 1 Axes>",
      "image/png": "[encoded data removed]"
     },
     "metadata": {},
     "output_type": "display_data"
    }
   ],
   "source": [
    "interactions.hist(column='track_id', bins=1000, figsize=(15,4))"
   ]
  },
  {
   "cell_type": "code",
   "execution_count": 72,
   "outputs": [],
   "source": [
    "top10tracks = tracks[tracks.track_id.isin(interactions.track_id.value_counts()[:10].index)]"
   ],
   "metadata": {
    "collapsed": false
   }
  },
  {
   "cell_type": "markdown",
   "id": "d765519a-18dd-4d30-9e29-cc2d84cacd79",
   "metadata": {},
   "source": [
    "Наиболее популярные треки"
   ]
  },
  {
   "cell_type": "code",
   "execution_count": 145,
   "id": "aecaf630-fde0-4860-b84a-42c933a9606e",
   "metadata": {},
   "outputs": [
    {
     "name": "stderr",
     "output_type": "stream",
     "text": [
      "/tmp/ipykernel_251231/1969510382.py:6: SettingWithCopyWarning: \n",
      "A value is trying to be set on a copy of a slice from a DataFrame.\n",
      "Try using .loc[row_indexer,col_indexer] = value instead\n",
      "\n",
      "See the caveats in the documentation: https://pandas.pydata.org/pandas-docs/stable/user_guide/indexing.html#returning-a-view-versus-a-copy\n",
      "  top10tracks['artists_names'] = top10tracks.apply(lambda row: get_list(artists, row.artists), axis=1)\n",
      "/tmp/ipykernel_251231/1969510382.py:7: SettingWithCopyWarning: \n",
      "A value is trying to be set on a copy of a slice from a DataFrame.\n",
      "Try using .loc[row_indexer,col_indexer] = value instead\n",
      "\n",
      "See the caveats in the documentation: https://pandas.pydata.org/pandas-docs/stable/user_guide/indexing.html#returning-a-view-versus-a-copy\n",
      "  top10tracks['genres_names'] = top10tracks.apply(lambda row: get_list(genres, row.genres), axis=1)\n"
     ]
    },
    {
     "data": {
      "text/plain": "   track_id                       artists_names                     name  \\\n0     53404                             Nirvana  Smells Like Teen Spirit   \n1    178529                         Linkin Park                     Numb   \n2    795836                               Sting        Shape Of My Heart   \n3  24692821                               KALEO           Way Down We Go   \n4  32947997                          Ed Sheeran             Shape of You   \n5  33311009                     Imagine Dragons                 Believer   \n6  35505245        Рем Дигга, Miyagi & Эндшпиль               I Got Love   \n7  45499814                              Zivert                     Life   \n8  51241318  Tommee Profitt, Fleurie, Mellen Gi               In The End   \n9  65851540                               Dabro                   Юность   \n\n                 genres_names  \n0  alternative, rock, allrock  \n1              numetal, metal  \n2          pop, rock, allrock  \n3                       indie  \n4                         pop  \n5               rock, allrock  \n6                 rusrap, rap  \n7                 pop, ruspop  \n8                         rnb  \n9                 pop, ruspop  ",
      "text/html": "<div>\n<style scoped>\n    .dataframe tbody tr th:only-of-type {\n        vertical-align: middle;\n    }\n\n    .dataframe tbody tr th {\n        vertical-align: top;\n    }\n\n    .dataframe thead th {\n        text-align: right;\n    }\n</style>\n<table border=\"1\" class=\"dataframe\">\n  <thead>\n    <tr style=\"text-align: right;\">\n      <th></th>\n      <th>track_id</th>\n      <th>artists_names</th>\n      <th>name</th>\n      <th>genres_names</th>\n    </tr>\n  </thead>\n  <tbody>\n    <tr>\n      <th>0</th>\n      <td>53404</td>\n      <td>Nirvana</td>\n      <td>Smells Like Teen Spirit</td>\n      <td>alternative, rock, allrock</td>\n    </tr>\n    <tr>\n      <th>1</th>\n      <td>178529</td>\n      <td>Linkin Park</td>\n      <td>Numb</td>\n      <td>numetal, metal</td>\n    </tr>\n    <tr>\n      <th>2</th>\n      <td>795836</td>\n      <td>Sting</td>\n      <td>Shape Of My Heart</td>\n      <td>pop, rock, allrock</td>\n    </tr>\n    <tr>\n      <th>3</th>\n      <td>24692821</td>\n      <td>KALEO</td>\n      <td>Way Down We Go</td>\n      <td>indie</td>\n    </tr>\n    <tr>\n      <th>4</th>\n      <td>32947997</td>\n      <td>Ed Sheeran</td>\n      <td>Shape of You</td>\n      <td>pop</td>\n    </tr>\n    <tr>\n      <th>5</th>\n      <td>33311009</td>\n      <td>Imagine Dragons</td>\n      <td>Believer</td>\n      <td>rock, allrock</td>\n    </tr>\n    <tr>\n      <th>6</th>\n      <td>35505245</td>\n      <td>Рем Дигга, Miyagi &amp; Эндшпиль</td>\n      <td>I Got Love</td>\n      <td>rusrap, rap</td>\n    </tr>\n    <tr>\n      <th>7</th>\n      <td>45499814</td>\n      <td>Zivert</td>\n      <td>Life</td>\n      <td>pop, ruspop</td>\n    </tr>\n    <tr>\n      <th>8</th>\n      <td>51241318</td>\n      <td>Tommee Profitt, Fleurie, Mellen Gi</td>\n      <td>In The End</td>\n      <td>rnb</td>\n    </tr>\n    <tr>\n      <th>9</th>\n      <td>65851540</td>\n      <td>Dabro</td>\n      <td>Юность</td>\n      <td>pop, ruspop</td>\n    </tr>\n  </tbody>\n</table>\n</div>"
     },
     "execution_count": 145,
     "metadata": {},
     "output_type": "execute_result"
    }
   ],
   "source": [
    "tracks_catalog = catalog_names[catalog_names.type=='track']\n",
    "top10tracks_catalog = tracks_catalog[tracks_catalog.id.isin(top10tracks.track_id)]\n",
    "top10tracks_catalog = top10tracks_catalog.rename({'id': 'track_id'}, axis=1)\n",
    "def get_list(df, ids):\n",
    "    return ', '.join(df[df.id.isin(ids)].name)\n",
    "top10tracks['artists_names'] = top10tracks.apply(lambda row: get_list(artists, row.artists), axis=1)\n",
    "top10tracks['genres_names'] = top10tracks.apply(lambda row: get_list(genres, row.genres), axis=1)\n",
    "top10tracks.merge(top10tracks_catalog, on='track_id')[['track_id', 'artists_names', 'name', 'genres_names']]"
   ]
  },
  {
   "cell_type": "markdown",
   "id": "b1c32a5a-d3be-4f96-8dd9-f7860951020c",
   "metadata": {},
   "source": [
    "Наиболее популярные жанры"
   ]
  },
  {
   "cell_type": "code",
   "execution_count": 151,
   "id": "1bc50491-9235-4d3c-a6c2-297f7c05a959",
   "metadata": {},
   "outputs": [
    {
     "data": {
      "text/plain": "     user_id   track_id  track_seq started_at\n0          0      99262          1 2022-07-17\n1          0     589498          2 2022-07-19\n2          0     590262          3 2022-07-21\n3          0     590303          4 2022-07-22\n4          0     590692          5 2022-07-22\n..       ...        ...        ...        ...\n287  1374582   95514767        288 2022-12-29\n288  1374582   97220301        289 2022-12-29\n289  1374582   97241171        290 2022-12-29\n290  1374582   98542641        291 2022-12-29\n291  1374582  100736375        292 2022-12-30\n\n[222184325 rows x 4 columns]",
      "text/html": "<div>\n<style scoped>\n    .dataframe tbody tr th:only-of-type {\n        vertical-align: middle;\n    }\n\n    .dataframe tbody tr th {\n        vertical-align: top;\n    }\n\n    .dataframe thead th {\n        text-align: right;\n    }\n</style>\n<table border=\"1\" class=\"dataframe\">\n  <thead>\n    <tr style=\"text-align: right;\">\n      <th></th>\n      <th>user_id</th>\n      <th>track_id</th>\n      <th>track_seq</th>\n      <th>started_at</th>\n    </tr>\n  </thead>\n  <tbody>\n    <tr>\n      <th>0</th>\n      <td>0</td>\n      <td>99262</td>\n      <td>1</td>\n      <td>2022-07-17</td>\n    </tr>\n    <tr>\n      <th>1</th>\n      <td>0</td>\n      <td>589498</td>\n      <td>2</td>\n      <td>2022-07-19</td>\n    </tr>\n    <tr>\n      <th>2</th>\n      <td>0</td>\n      <td>590262</td>\n      <td>3</td>\n      <td>2022-07-21</td>\n    </tr>\n    <tr>\n      <th>3</th>\n      <td>0</td>\n      <td>590303</td>\n      <td>4</td>\n      <td>2022-07-22</td>\n    </tr>\n    <tr>\n      <th>4</th>\n      <td>0</td>\n      <td>590692</td>\n      <td>5</td>\n      <td>2022-07-22</td>\n    </tr>\n    <tr>\n      <th>...</th>\n      <td>...</td>\n      <td>...</td>\n      <td>...</td>\n      <td>...</td>\n    </tr>\n    <tr>\n      <th>287</th>\n      <td>1374582</td>\n      <td>95514767</td>\n      <td>288</td>\n      <td>2022-12-29</td>\n    </tr>\n    <tr>\n      <th>288</th>\n      <td>1374582</td>\n      <td>97220301</td>\n      <td>289</td>\n      <td>2022-12-29</td>\n    </tr>\n    <tr>\n      <th>289</th>\n      <td>1374582</td>\n      <td>97241171</td>\n      <td>290</td>\n      <td>2022-12-29</td>\n    </tr>\n    <tr>\n      <th>290</th>\n      <td>1374582</td>\n      <td>98542641</td>\n      <td>291</td>\n      <td>2022-12-29</td>\n    </tr>\n    <tr>\n      <th>291</th>\n      <td>1374582</td>\n      <td>100736375</td>\n      <td>292</td>\n      <td>2022-12-30</td>\n    </tr>\n  </tbody>\n</table>\n<p>222184325 rows × 4 columns</p>\n</div>"
     },
     "execution_count": 151,
     "metadata": {},
     "output_type": "execute_result"
    }
   ],
   "source": [
    "# cм выше"
   ]
  },
  {
   "cell_type": "markdown",
   "id": "15254e66-e80e-473b-ba24-abebea5ccac7",
   "metadata": {},
   "source": [
    "Треки, которые никто не прослушал"
   ]
  },
  {
   "cell_type": "code",
   "execution_count": 150,
   "id": "50bc50c6-2d83-4c7e-97fa-3e7627978438",
   "metadata": {},
   "outputs": [
    {
     "data": {
      "text/plain": "Empty DataFrame\nColumns: [track_id, albums, artists, genres, albums_ok, genres_ok, artists_ok]\nIndex: []",
      "text/html": "<div>\n<style scoped>\n    .dataframe tbody tr th:only-of-type {\n        vertical-align: middle;\n    }\n\n    .dataframe tbody tr th {\n        vertical-align: top;\n    }\n\n    .dataframe thead th {\n        text-align: right;\n    }\n</style>\n<table border=\"1\" class=\"dataframe\">\n  <thead>\n    <tr style=\"text-align: right;\">\n      <th></th>\n      <th>track_id</th>\n      <th>albums</th>\n      <th>artists</th>\n      <th>genres</th>\n      <th>albums_ok</th>\n      <th>genres_ok</th>\n      <th>artists_ok</th>\n    </tr>\n  </thead>\n  <tbody>\n  </tbody>\n</table>\n</div>"
     },
     "execution_count": 150,
     "metadata": {},
     "output_type": "execute_result"
    }
   ],
   "source": [
    "tracks[~tracks.track_id.isin(interactions.track_id)]\n",
    "# таких нет"
   ]
  },
  {
   "cell_type": "markdown",
   "id": "0d850a07-ef1e-462f-891a-1cf89f2e24ef",
   "metadata": {},
   "source": [
    "# Преобразование данных"
   ]
  },
  {
   "cell_type": "markdown",
   "id": "fabcf8d2-1192-4df5-b20b-fbb84689f57a",
   "metadata": {},
   "source": [
    "Преобразуем данные в формат, более пригодный для дальнейшего использования в расчётах рекомендаций."
   ]
  },
  {
   "cell_type": "code",
   "execution_count": 15,
   "id": "a425556a-9382-45ca-a04e-f1981a522126",
   "metadata": {},
   "outputs": [],
   "source": []
  },
  {
   "cell_type": "markdown",
   "id": "4d1be653-eed8-4fa0-a9c5-3811b080d71d",
   "metadata": {},
   "source": [
    "# Сохранение данных"
   ]
  },
  {
   "cell_type": "markdown",
   "id": "36f1314a-3af3-4faf-a0b1-3045173d1500",
   "metadata": {},
   "source": [
    "Сохраним данные в двух файлах в персональном S3-бакете по пути `recsys/data/`:\n",
    "- `items.parquet` — все данные о музыкальных треках,\n",
    "- `events.parquet` — все данные о взаимодействиях."
   ]
  },
  {
   "cell_type": "code",
   "execution_count": 15,
   "id": "9f77af17-7705-4fae-9aad-db579b39faad",
   "metadata": {},
   "outputs": [],
   "source": []
  },
  {
   "cell_type": "markdown",
   "id": "72ecbbed-c560-44d9-9c14-86c7dc76f399",
   "metadata": {},
   "source": [
    "# Очистка памяти"
   ]
  },
  {
   "cell_type": "markdown",
   "id": "b5358ede-ba6e-4c4f-bd73-5b9344f0ba79",
   "metadata": {},
   "source": [
    "Здесь, может понадобится очистка памяти для высвобождения ресурсов для выполнения кода ниже. \n",
    "\n",
    "Приведите соответствующие код, комментарии, например:\n",
    "- код для удаление более ненужных переменных,\n",
    "- комментарий, что следует перезапустить kernel, выполнить такие-то начальные секции и продолжить с этапа 3."
   ]
  },
  {
   "cell_type": "code",
   "execution_count": 15,
   "id": "767fe920-e12e-4ad8-b04e-56e8091fac9f",
   "metadata": {},
   "outputs": [],
   "source": []
  },
  {
   "cell_type": "markdown",
   "id": "708503df-ee89-4cf3-8489-093dc478e2a8",
   "metadata": {},
   "source": [
    "# === ЭТАП 3 ==="
   ]
  },
  {
   "cell_type": "markdown",
   "id": "fd77de22-e10f-4b42-85c1-8fb6f805fe68",
   "metadata": {},
   "source": [
    "# Загрузка данных"
   ]
  },
  {
   "cell_type": "markdown",
   "id": "780a4241-1ecd-4a3e-bbb3-fc2f6ca94f68",
   "metadata": {},
   "source": [
    "Если необходимо, то загружаем items.parquet, events.parquet."
   ]
  },
  {
   "cell_type": "code",
   "execution_count": 15,
   "id": "f19fc8a5-bd2c-40d7-864a-ee75aca6d512",
   "metadata": {},
   "outputs": [],
   "source": []
  },
  {
   "cell_type": "code",
   "execution_count": 15,
   "id": "5db1e801-5845-4ce3-86f2-c2fa30f68cc5",
   "metadata": {},
   "outputs": [],
   "source": []
  },
  {
   "cell_type": "markdown",
   "id": "a694c023-6477-490b-939d-1cfa6f5f1b72",
   "metadata": {},
   "source": [
    "# Разбиение данных"
   ]
  },
  {
   "cell_type": "markdown",
   "id": "fbd5f6e0-54e7-4428-8678-eabce505d82c",
   "metadata": {},
   "source": [
    "Разбиваем данные на тренировочную, тестовую выборки."
   ]
  },
  {
   "cell_type": "code",
   "execution_count": 15,
   "id": "00c2dfa5-d8a2-47d1-922e-6eefee2c62d1",
   "metadata": {},
   "outputs": [],
   "source": []
  },
  {
   "cell_type": "code",
   "execution_count": 15,
   "id": "26fe3e3c-8c5f-4437-bf13-9191adef08bb",
   "metadata": {},
   "outputs": [],
   "source": []
  },
  {
   "cell_type": "markdown",
   "id": "9131c7e6-8852-4556-b510-51f7253cc299",
   "metadata": {},
   "source": [
    "# Топ популярных"
   ]
  },
  {
   "cell_type": "markdown",
   "id": "dd70d43a-88cc-4719-b291-feaed7136f30",
   "metadata": {},
   "source": [
    "Рассчитаем рекомендации как топ популярных."
   ]
  },
  {
   "cell_type": "code",
   "execution_count": 15,
   "id": "ee45e200-b7d6-4f56-9077-aad431689b96",
   "metadata": {},
   "outputs": [],
   "source": []
  },
  {
   "cell_type": "code",
   "execution_count": 15,
   "id": "7690c86f-7aa9-46ed-bba5-2c837626411e",
   "metadata": {},
   "outputs": [],
   "source": []
  },
  {
   "cell_type": "markdown",
   "id": "2ad231f2-6158-421a-b7fa-01d8bc3ed572",
   "metadata": {},
   "source": [
    "# Персональные"
   ]
  },
  {
   "cell_type": "markdown",
   "id": "86159460-cd9d-4b63-8248-604ea3c9aebf",
   "metadata": {},
   "source": [
    "Рассчитаем персональные рекомендации."
   ]
  },
  {
   "cell_type": "code",
   "execution_count": 15,
   "id": "d2944822-569c-4f9b-82dc-70a7fa2d542e",
   "metadata": {},
   "outputs": [],
   "source": []
  },
  {
   "cell_type": "code",
   "execution_count": 15,
   "id": "1e8cdb58-3a8c-45ad-8e5f-7f950314aa56",
   "metadata": {},
   "outputs": [],
   "source": []
  },
  {
   "cell_type": "markdown",
   "id": "5f09dc7e-7c91-4355-860a-b9cfb9f33f15",
   "metadata": {},
   "source": [
    "# Похожие"
   ]
  },
  {
   "cell_type": "markdown",
   "id": "1dfcb683-b440-40a8-9975-894156a53872",
   "metadata": {},
   "source": [
    "Рассчитаем похожие, они позже пригодятся для онлайн-рекомендаций."
   ]
  },
  {
   "cell_type": "code",
   "execution_count": 15,
   "id": "a75d07ee-4b12-4ce5-aa85-e45cb7a7a4f0",
   "metadata": {},
   "outputs": [],
   "source": []
  },
  {
   "cell_type": "code",
   "execution_count": 15,
   "id": "ce370904-4c49-4152-8706-416074ea9b9a",
   "metadata": {},
   "outputs": [],
   "source": []
  },
  {
   "cell_type": "markdown",
   "id": "0087a3e7-ca9f-42cd-944c-944222c1baef",
   "metadata": {},
   "source": [
    "# Построение признаков"
   ]
  },
  {
   "cell_type": "markdown",
   "id": "e82a32e1-b90b-4eaf-9439-fc8deab9f34b",
   "metadata": {},
   "source": [
    "Построим три признака, можно больше, для ранжирующей модели."
   ]
  },
  {
   "cell_type": "code",
   "execution_count": 15,
   "id": "05b4ae84-406a-44a4-abec-4f80f93e3004",
   "metadata": {},
   "outputs": [],
   "source": []
  },
  {
   "cell_type": "code",
   "execution_count": 15,
   "id": "00f84c35-f544-4c3d-ad53-9b1d2b684c75",
   "metadata": {},
   "outputs": [],
   "source": []
  },
  {
   "cell_type": "markdown",
   "id": "47bcf88d-b236-46f0-a6f3-38ddd64895fe",
   "metadata": {},
   "source": [
    "# Ранжирование рекомендаций"
   ]
  },
  {
   "cell_type": "markdown",
   "id": "e8cd8223-3418-4493-8c87-1f76286ebda0",
   "metadata": {},
   "source": [
    "Построим ранжирующую модель, чтобы сделать рекомендации более точными. Отранжируем рекомендации."
   ]
  },
  {
   "cell_type": "code",
   "execution_count": 15,
   "id": "79f1dd92-32a9-463d-827e-8bb9ee5bbb54",
   "metadata": {},
   "outputs": [],
   "source": []
  },
  {
   "cell_type": "code",
   "execution_count": 15,
   "id": "6dbe4db4-1ac5-44da-a13c-8e7f9768ab73",
   "metadata": {},
   "outputs": [],
   "source": []
  },
  {
   "cell_type": "markdown",
   "id": "b3c84071-45b5-4a15-a683-e0ab034a3128",
   "metadata": {},
   "source": [
    "# Оценка качества"
   ]
  },
  {
   "cell_type": "markdown",
   "id": "1b107fe4-554e-42b1-87d9-c435a52bb77a",
   "metadata": {},
   "source": [
    "Проверим оценку качества трёх типов рекомендаций: \n",
    "\n",
    "- топ популярных,\n",
    "- персональных, полученных при помощи ALS,\n",
    "- итоговых\n",
    "  \n",
    "по четырем метрикам: recall, precision, coverage, novelty."
   ]
  },
  {
   "cell_type": "code",
   "execution_count": 15,
   "id": "94d6f388-aecb-443e-8647-14014e932d4d",
   "metadata": {},
   "outputs": [],
   "source": []
  },
  {
   "cell_type": "code",
   "execution_count": 15,
   "id": "26df411f-14c1-4848-8797-f37afe449cc6",
   "metadata": {},
   "outputs": [],
   "source": []
  },
  {
   "cell_type": "markdown",
   "id": "f1c8d38c-32b0-46a4-96f0-cd01dac708bc",
   "metadata": {},
   "source": [
    "# === Выводы, метрики ==="
   ]
  },
  {
   "cell_type": "markdown",
   "id": "f7d7d5d8-7d1e-4fdf-a6cd-83e5ce92c684",
   "metadata": {},
   "source": [
    "Основные выводы при работе над расчётом рекомендаций, рассчитанные метрики."
   ]
  },
  {
   "cell_type": "code",
   "execution_count": 15,
   "id": "6403097d-db36-46d9-8952-613c9bd51b05",
   "metadata": {},
   "outputs": [],
   "source": []
  },
  {
   "cell_type": "code",
   "execution_count": 15,
   "id": "986cfdd5-6f2e-4de6-8666-85804c87d04b",
   "metadata": {},
   "outputs": [],
   "source": []
  }
 ],
 "metadata": {
  "kernelspec": {
   "display_name": "Python 3 (ipykernel)",
   "language": "python",
   "name": "python3"
  },
  "language_info": {
   "codemirror_mode": {
    "name": "ipython",
    "version": 3
   },
   "file_extension": ".py",
   "mimetype": "text/x-python",
   "name": "python",
   "nbconvert_exporter": "python",
   "pygments_lexer": "ipython3",
   "version": "3.9.13"
  }
 },
 "nbformat": 4,
 "nbformat_minor": 5
}
