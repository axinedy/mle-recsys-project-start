{
 "cells": [
  {
   "cell_type": "markdown",
   "id": "f4095ae4-7294-4b28-853e-88d235002c97",
   "metadata": {},
   "source": [
    "# Инициализация"
   ]
  },
  {
   "cell_type": "markdown",
   "id": "2f2318d2-9df8-4911-915e-15b725c44f8a",
   "metadata": {},
   "source": [
    "Загружаем библиотеки необходимые для выполнения кода ноутбука."
   ]
  },
  {
   "cell_type": "code",
   "execution_count": 1,
   "id": "662d04e7-1b0b-4e4a-9ddf-4526d7fef119",
   "metadata": {},
   "outputs": [],
   "source": [
    "from datetime import datetime\n",
    "import multiprocessing as mp\n",
    "import pandas as pd\n",
    "import numpy as np\n",
    "import scipy\n",
    "import sklearn.preprocessing\n",
    "import sklearn.metrics\n",
    "from implicit.als import AlternatingLeastSquares\n",
    "from catboost import CatBoostClassifier, Pool\n"
   ]
  },
  {
   "cell_type": "markdown",
   "id": "bf80fbc5-b660-4fac-8fbb-a5cae77313b3",
   "metadata": {},
   "source": [
    "# === ЭТАП 1 ==="
   ]
  },
  {
   "cell_type": "markdown",
   "id": "5263a8b3-fe99-4204-8a2e-105182792c11",
   "metadata": {},
   "source": [
    "# Загрузка первичных данных"
   ]
  },
  {
   "cell_type": "markdown",
   "id": "1b54a6a5-1656-4e3c-99d1-49dc39451d33",
   "metadata": {},
   "source": [
    "Загружаем первичные данные из файлов:\n",
    "- tracks.parquet\n",
    "- catalog_names.parquet\n",
    "- interactions.parquet"
   ]
  },
  {
   "cell_type": "code",
   "execution_count": 2,
   "id": "5d4b8961-3f35-4e58-9d6b-3e2dbd2c4224",
   "metadata": {},
   "outputs": [],
   "source": [
    "tracks = pd.read_parquet('tracks.parquet')\n",
    "catalog_names = pd.read_parquet('catalog_names.parquet')\n",
    "interactions = pd.read_parquet('interactions.parquet')"
   ]
  },
  {
   "cell_type": "markdown",
   "source": [
    "# Обзор данных\n",
    "Проверяем данные, есть ли с ними явные проблемы."
   ],
   "metadata": {
    "collapsed": false
   }
  },
  {
   "cell_type": "code",
   "execution_count": 3,
   "id": "70f7bdfe-175c-45c1-a2e9-d99f0f33be2e",
   "metadata": {},
   "outputs": [
    {
     "data": {
      "text/plain": "        track_id                       albums          artists     genres\n503548  34858933  [4312830, 4314396, 4322568]          [29692]  [14, 102]\n318405  20643583                    [2353738]        [1632340]      [335]\n400974  27290173                    [3265133]        [3160589]       [68]\n827323  65591187         [10624681, 13520862]        [6108516]   [44, 75]\n131094   2449117                     [242764]  [33224, 184702]   [68, 86]",
      "text/html": "<div>\n<style scoped>\n    .dataframe tbody tr th:only-of-type {\n        vertical-align: middle;\n    }\n\n    .dataframe tbody tr th {\n        vertical-align: top;\n    }\n\n    .dataframe thead th {\n        text-align: right;\n    }\n</style>\n<table border=\"1\" class=\"dataframe\">\n  <thead>\n    <tr style=\"text-align: right;\">\n      <th></th>\n      <th>track_id</th>\n      <th>albums</th>\n      <th>artists</th>\n      <th>genres</th>\n    </tr>\n  </thead>\n  <tbody>\n    <tr>\n      <th>503548</th>\n      <td>34858933</td>\n      <td>[4312830, 4314396, 4322568]</td>\n      <td>[29692]</td>\n      <td>[14, 102]</td>\n    </tr>\n    <tr>\n      <th>318405</th>\n      <td>20643583</td>\n      <td>[2353738]</td>\n      <td>[1632340]</td>\n      <td>[335]</td>\n    </tr>\n    <tr>\n      <th>400974</th>\n      <td>27290173</td>\n      <td>[3265133]</td>\n      <td>[3160589]</td>\n      <td>[68]</td>\n    </tr>\n    <tr>\n      <th>827323</th>\n      <td>65591187</td>\n      <td>[10624681, 13520862]</td>\n      <td>[6108516]</td>\n      <td>[44, 75]</td>\n    </tr>\n    <tr>\n      <th>131094</th>\n      <td>2449117</td>\n      <td>[242764]</td>\n      <td>[33224, 184702]</td>\n      <td>[68, 86]</td>\n    </tr>\n  </tbody>\n</table>\n</div>"
     },
     "metadata": {},
     "output_type": "display_data"
    },
    {
     "data": {
      "text/plain": "track_id     int64\nalbums      object\nartists     object\ngenres      object\ndtype: object"
     },
     "execution_count": 3,
     "metadata": {},
     "output_type": "execute_result"
    }
   ],
   "source": [
    "display(tracks.sample(5))\n",
    "tracks.dtypes"
   ]
  },
  {
   "cell_type": "code",
   "execution_count": 4,
   "outputs": [
    {
     "data": {
      "text/plain": "               id   type                name\n1744170  80910076  track          Люблю тебя\n1734965  79239267  track          500 рублей\n825502      77118  track           Apologize\n1567116  57500071  track              Remind\n1086355  17269320  track  Ti penso raramente",
      "text/html": "<div>\n<style scoped>\n    .dataframe tbody tr th:only-of-type {\n        vertical-align: middle;\n    }\n\n    .dataframe tbody tr th {\n        vertical-align: top;\n    }\n\n    .dataframe thead th {\n        text-align: right;\n    }\n</style>\n<table border=\"1\" class=\"dataframe\">\n  <thead>\n    <tr style=\"text-align: right;\">\n      <th></th>\n      <th>id</th>\n      <th>type</th>\n      <th>name</th>\n    </tr>\n  </thead>\n  <tbody>\n    <tr>\n      <th>1744170</th>\n      <td>80910076</td>\n      <td>track</td>\n      <td>Люблю тебя</td>\n    </tr>\n    <tr>\n      <th>1734965</th>\n      <td>79239267</td>\n      <td>track</td>\n      <td>500 рублей</td>\n    </tr>\n    <tr>\n      <th>825502</th>\n      <td>77118</td>\n      <td>track</td>\n      <td>Apologize</td>\n    </tr>\n    <tr>\n      <th>1567116</th>\n      <td>57500071</td>\n      <td>track</td>\n      <td>Remind</td>\n    </tr>\n    <tr>\n      <th>1086355</th>\n      <td>17269320</td>\n      <td>track</td>\n      <td>Ti penso raramente</td>\n    </tr>\n  </tbody>\n</table>\n</div>"
     },
     "metadata": {},
     "output_type": "display_data"
    },
    {
     "data": {
      "text/plain": "id       int64\ntype    object\nname    object\ndtype: object"
     },
     "metadata": {},
     "output_type": "display_data"
    },
    {
     "data": {
      "text/plain": "type\ntrack     1000000\nalbum      658724\nartist     153581\ngenre         166\nName: count, dtype: int64"
     },
     "execution_count": 4,
     "metadata": {},
     "output_type": "execute_result"
    }
   ],
   "source": [
    "display(catalog_names.sample(5))\n",
    "display(catalog_names.dtypes)\n",
    "catalog_names.type.value_counts()"
   ],
   "metadata": {
    "collapsed": false
   }
  },
  {
   "cell_type": "code",
   "execution_count": 5,
   "outputs": [
    {
     "data": {
      "text/plain": "id         int64\ntype    category\nname      object\ndtype: object"
     },
     "execution_count": 5,
     "metadata": {},
     "output_type": "execute_result"
    }
   ],
   "source": [
    "catalog_names.type = catalog_names.type.astype('category')\n",
    "catalog_names.dtypes"
   ],
   "metadata": {
    "collapsed": false
   }
  },
  {
   "cell_type": "code",
   "execution_count": 6,
   "outputs": [
    {
     "data": {
      "text/plain": "      user_id  track_id  track_seq started_at\n398   1008100  45713011        399 2022-09-18\n442    879312  24442534        443 2022-09-21\n4      952391    457611          5 2022-05-01\n1076  1272925  31073436       1077 2022-08-18\n1050   800785  33307983       1051 2022-09-18",
      "text/html": "<div>\n<style scoped>\n    .dataframe tbody tr th:only-of-type {\n        vertical-align: middle;\n    }\n\n    .dataframe tbody tr th {\n        vertical-align: top;\n    }\n\n    .dataframe thead th {\n        text-align: right;\n    }\n</style>\n<table border=\"1\" class=\"dataframe\">\n  <thead>\n    <tr style=\"text-align: right;\">\n      <th></th>\n      <th>user_id</th>\n      <th>track_id</th>\n      <th>track_seq</th>\n      <th>started_at</th>\n    </tr>\n  </thead>\n  <tbody>\n    <tr>\n      <th>398</th>\n      <td>1008100</td>\n      <td>45713011</td>\n      <td>399</td>\n      <td>2022-09-18</td>\n    </tr>\n    <tr>\n      <th>442</th>\n      <td>879312</td>\n      <td>24442534</td>\n      <td>443</td>\n      <td>2022-09-21</td>\n    </tr>\n    <tr>\n      <th>4</th>\n      <td>952391</td>\n      <td>457611</td>\n      <td>5</td>\n      <td>2022-05-01</td>\n    </tr>\n    <tr>\n      <th>1076</th>\n      <td>1272925</td>\n      <td>31073436</td>\n      <td>1077</td>\n      <td>2022-08-18</td>\n    </tr>\n    <tr>\n      <th>1050</th>\n      <td>800785</td>\n      <td>33307983</td>\n      <td>1051</td>\n      <td>2022-09-18</td>\n    </tr>\n  </tbody>\n</table>\n</div>"
     },
     "metadata": {},
     "output_type": "display_data"
    },
    {
     "data": {
      "text/plain": "user_id                int32\ntrack_id               int32\ntrack_seq              int16\nstarted_at    datetime64[ns]\ndtype: object"
     },
     "execution_count": 6,
     "metadata": {},
     "output_type": "execute_result"
    }
   ],
   "source": [
    "display(interactions.sample(5))\n",
    "interactions.dtypes"
   ],
   "metadata": {
    "collapsed": false
   }
  },
  {
   "cell_type": "code",
   "execution_count": 7,
   "id": "c9f8f17e-9b56-4f5a-a463-f694a993effb",
   "metadata": {},
   "outputs": [
    {
     "data": {
      "text/plain": "1"
     },
     "execution_count": 7,
     "metadata": {},
     "output_type": "execute_result"
    }
   ],
   "source": [
    "# все трэки есть в catalog_names\n",
    "tracks.track_id.isin(catalog_names[catalog_names.type=='track'].id).nunique()"
   ]
  },
  {
   "cell_type": "markdown",
   "source": [
    "Есть ли треки с неизвестными исполнителями, альбомами, жанрами?"
   ],
   "metadata": {
    "collapsed": false
   }
  },
  {
   "cell_type": "code",
   "execution_count": 8,
   "id": "efd2e2eb-3bec-4ce1-87ac-232bab8bc0d0",
   "metadata": {},
   "outputs": [
    {
     "name": "stdout",
     "output_type": "stream",
     "text": [
      "CPU times: user 3.15 s, sys: 2.21 s, total: 5.36 s\n",
      "Wall time: 39.1 s\n"
     ]
    },
    {
     "data": {
      "text/plain": "albums_ok\nTrue     999982\nFalse        18\nName: count, dtype: int64"
     },
     "execution_count": 8,
     "metadata": {},
     "output_type": "execute_result"
    }
   ],
   "source": [
    "%%time\n",
    "albums = catalog_names[catalog_names.type=='album']\n",
    "albums_ids = np.array(albums.id.values.tolist())\n",
    "def check_albums(track_items):\n",
    "    return True in [item_id in albums_ids for item_id in track_items]\n",
    "with mp.Pool(mp.cpu_count()) as pool:\n",
    "    tracks['albums_ok'] = pool.map(check_albums, tracks.albums)\n",
    "tracks.albums_ok.value_counts()"
   ]
  },
  {
   "cell_type": "code",
   "execution_count": 9,
   "outputs": [
    {
     "name": "stdout",
     "output_type": "stream",
     "text": [
      "CPU times: user 1.33 s, sys: 1.87 s, total: 3.21 s\n",
      "Wall time: 3.42 s\n"
     ]
    },
    {
     "data": {
      "text/plain": "genres_ok\nTrue     996306\nFalse      3694\nName: count, dtype: int64"
     },
     "execution_count": 9,
     "metadata": {},
     "output_type": "execute_result"
    }
   ],
   "source": [
    "%%time\n",
    "genres = catalog_names[catalog_names.type=='genre']\n",
    "genres_ids = np.array(genres.id.values.tolist())\n",
    "def check_genres(track_items):\n",
    "    return True in [item_id in genres_ids for item_id in track_items]\n",
    "with mp.Pool(mp.cpu_count()) as pool:\n",
    "    tracks['genres_ok'] = pool.map(check_genres, tracks.genres)\n",
    "tracks.genres_ok.value_counts()"
   ],
   "metadata": {
    "collapsed": false
   }
  },
  {
   "cell_type": "code",
   "execution_count": 10,
   "outputs": [
    {
     "name": "stdout",
     "output_type": "stream",
     "text": [
      "CPU times: user 2.92 s, sys: 2.31 s, total: 5.23 s\n",
      "Wall time: 7.39 s\n"
     ]
    },
    {
     "data": {
      "text/plain": "artists_ok\nTrue     984631\nFalse     15369\nName: count, dtype: int64"
     },
     "execution_count": 10,
     "metadata": {},
     "output_type": "execute_result"
    }
   ],
   "source": [
    "%%time\n",
    "artists = catalog_names[catalog_names.type=='artist']\n",
    "artists_ids = np.array(artists.id.values.tolist())\n",
    "def check_artists(track_items):\n",
    "    return True in [item_id in artists_ids for item_id in track_items]\n",
    "with mp.Pool(mp.cpu_count()) as pool:\n",
    "    tracks['artists_ok'] = pool.map(check_artists, tracks.artists)\n",
    "tracks.artists_ok.value_counts()"
   ],
   "metadata": {
    "collapsed": false
   }
  },
  {
   "cell_type": "code",
   "execution_count": 11,
   "outputs": [
    {
     "name": "stdout",
     "output_type": "stream",
     "text": [
      "CPU times: user 4.98 s, sys: 727 ms, total: 5.71 s\n",
      "Wall time: 5.7 s\n"
     ]
    }
   ],
   "source": [
    "%%time\n",
    "# Удаление\n",
    "tracks = tracks.query(\"artists_ok==True and albums_ok==True and genres_ok==True\")\n",
    "interactions = interactions[interactions.track_id.isin(tracks.track_id)]"
   ],
   "metadata": {
    "collapsed": false
   }
  },
  {
   "cell_type": "markdown",
   "id": "318b573a-9e2d-4808-95db-60cfb8bbdb73",
   "metadata": {
    "editable": true,
    "slideshow": {
     "slide_type": ""
    },
    "tags": []
   },
   "source": [
    "# Выводы"
   ]
  },
  {
   "cell_type": "markdown",
   "id": "caa96e12-36a8-4401-8f11-98627a49ae9d",
   "metadata": {},
   "source": [
    "Приведём выводы по первому знакомству с данными:\n",
    "- есть ли с данными явные проблемы,\n",
    "- какие корректирующие действия (в целом) были предприняты."
   ]
  },
  {
   "cell_type": "markdown",
   "source": [
    "В catalog_names поле type было преобразовано в категорию;\n",
    "Найдено 18 трэков у которых ни один из альбомов не присутствует в catalog_names;\n",
    "Найдено 3694 трэка у которых ни один из жанров не присутствует в catalog_names;\n",
    "Найдено 15369 трэков у которых ни один из артистов не присутствует в catalog_names;\n",
    "\n",
    "Удалять их необязательно?"
   ],
   "metadata": {
    "collapsed": false
   }
  },
  {
   "cell_type": "markdown",
   "id": "7bc3296b-eba6-4333-a78d-b9304aa87e3d",
   "metadata": {},
   "source": [
    "# === ЭТАП 2 ==="
   ]
  },
  {
   "cell_type": "markdown",
   "id": "68e73960-fd38-4e15-8db0-9a25c35dfd25",
   "metadata": {},
   "source": [
    "# EDA"
   ]
  },
  {
   "cell_type": "markdown",
   "id": "a30e823e-8e0f-4a76-a02e-8d1ba8bf0f8a",
   "metadata": {},
   "source": [
    "Распределение количества прослушанных треков."
   ]
  },
  {
   "cell_type": "code",
   "execution_count": 12,
   "id": "9bf5eaba-35f7-4da7-be59-9ab4a34b2423",
   "metadata": {},
   "outputs": [
    {
     "data": {
      "text/plain": "array([[<Axes: title={'center': 'track_id'}>]], dtype=object)"
     },
     "execution_count": 12,
     "metadata": {},
     "output_type": "execute_result"
    },
    {
     "data": {
      "text/plain": "<Figure size 1500x400 with 1 Axes>",
      "image/png": "[encoded data removed]"
     },
     "metadata": {},
     "output_type": "display_data"
    }
   ],
   "source": [
    "interactions.hist(column='track_id', bins=1000, figsize=(15,4))"
   ]
  },
  {
   "cell_type": "code",
   "execution_count": 13,
   "outputs": [],
   "source": [
    "top100tracks = tracks[tracks.track_id.isin(interactions.track_id.value_counts()[:100].index)]"
   ],
   "metadata": {
    "collapsed": false
   }
  },
  {
   "cell_type": "markdown",
   "id": "d765519a-18dd-4d30-9e29-cc2d84cacd79",
   "metadata": {},
   "source": [
    "Наиболее популярные треки"
   ]
  },
  {
   "cell_type": "code",
   "execution_count": 14,
   "id": "aecaf630-fde0-4860-b84a-42c933a9606e",
   "metadata": {},
   "outputs": [
    {
     "name": "stderr",
     "output_type": "stream",
     "text": [
      "/tmp/ipykernel_277730/3775954581.py:6: SettingWithCopyWarning: \n",
      "A value is trying to be set on a copy of a slice from a DataFrame.\n",
      "Try using .loc[row_indexer,col_indexer] = value instead\n",
      "\n",
      "See the caveats in the documentation: https://pandas.pydata.org/pandas-docs/stable/user_guide/indexing.html#returning-a-view-versus-a-copy\n",
      "  top100tracks['artists_names'] = top100tracks.apply(lambda row: get_list(artists, row.artists), axis=1)\n",
      "/tmp/ipykernel_277730/3775954581.py:7: SettingWithCopyWarning: \n",
      "A value is trying to be set on a copy of a slice from a DataFrame.\n",
      "Try using .loc[row_indexer,col_indexer] = value instead\n",
      "\n",
      "See the caveats in the documentation: https://pandas.pydata.org/pandas-docs/stable/user_guide/indexing.html#returning-a-view-versus-a-copy\n",
      "  top100tracks['genres_names'] = top100tracks.apply(lambda row: get_list(genres, row.genres), axis=1)\n"
     ]
    },
    {
     "data": {
      "text/plain": "    track_id     artists_names                     name  \\\n0      10216         Scorpions           Wind Of Change   \n1      37384   The Cranberries                   Zombie   \n2      48951          Bon Jovi             It's My Life   \n3      52100          No Doubt              Don't Speak   \n4      53404           Nirvana  Smells Like Teen Spirit   \n..       ...               ...                      ...   \n95  78426489           Minelli                Rampampam   \n96  81848875   Galibri & Mavik         Федерико Феллини   \n97  83063895   HammAli & Navai                   Птичка   \n98  84382282  Markul, Джарахов              Я в моменте   \n99  93126179     Люся Чеботина            Солнце Монако   \n\n                  genres_names  \n0            hardrock, allrock  \n1                rock, allrock  \n2      rock, hardrock, allrock  \n3                          pop  \n4   alternative, rock, allrock  \n..                         ...  \n95                       dance  \n96                 pop, ruspop  \n97                 pop, ruspop  \n98                 rusrap, rap  \n99                 pop, ruspop  \n\n[100 rows x 4 columns]",
      "text/html": "<div>\n<style scoped>\n    .dataframe tbody tr th:only-of-type {\n        vertical-align: middle;\n    }\n\n    .dataframe tbody tr th {\n        vertical-align: top;\n    }\n\n    .dataframe thead th {\n        text-align: right;\n    }\n</style>\n<table border=\"1\" class=\"dataframe\">\n  <thead>\n    <tr style=\"text-align: right;\">\n      <th></th>\n      <th>track_id</th>\n      <th>artists_names</th>\n      <th>name</th>\n      <th>genres_names</th>\n    </tr>\n  </thead>\n  <tbody>\n    <tr>\n      <th>0</th>\n      <td>10216</td>\n      <td>Scorpions</td>\n      <td>Wind Of Change</td>\n      <td>hardrock, allrock</td>\n    </tr>\n    <tr>\n      <th>1</th>\n      <td>37384</td>\n      <td>The Cranberries</td>\n      <td>Zombie</td>\n      <td>rock, allrock</td>\n    </tr>\n    <tr>\n      <th>2</th>\n      <td>48951</td>\n      <td>Bon Jovi</td>\n      <td>It's My Life</td>\n      <td>rock, hardrock, allrock</td>\n    </tr>\n    <tr>\n      <th>3</th>\n      <td>52100</td>\n      <td>No Doubt</td>\n      <td>Don't Speak</td>\n      <td>pop</td>\n    </tr>\n    <tr>\n      <th>4</th>\n      <td>53404</td>\n      <td>Nirvana</td>\n      <td>Smells Like Teen Spirit</td>\n      <td>alternative, rock, allrock</td>\n    </tr>\n    <tr>\n      <th>...</th>\n      <td>...</td>\n      <td>...</td>\n      <td>...</td>\n      <td>...</td>\n    </tr>\n    <tr>\n      <th>95</th>\n      <td>78426489</td>\n      <td>Minelli</td>\n      <td>Rampampam</td>\n      <td>dance</td>\n    </tr>\n    <tr>\n      <th>96</th>\n      <td>81848875</td>\n      <td>Galibri &amp; Mavik</td>\n      <td>Федерико Феллини</td>\n      <td>pop, ruspop</td>\n    </tr>\n    <tr>\n      <th>97</th>\n      <td>83063895</td>\n      <td>HammAli &amp; Navai</td>\n      <td>Птичка</td>\n      <td>pop, ruspop</td>\n    </tr>\n    <tr>\n      <th>98</th>\n      <td>84382282</td>\n      <td>Markul, Джарахов</td>\n      <td>Я в моменте</td>\n      <td>rusrap, rap</td>\n    </tr>\n    <tr>\n      <th>99</th>\n      <td>93126179</td>\n      <td>Люся Чеботина</td>\n      <td>Солнце Монако</td>\n      <td>pop, ruspop</td>\n    </tr>\n  </tbody>\n</table>\n<p>100 rows × 4 columns</p>\n</div>"
     },
     "execution_count": 14,
     "metadata": {},
     "output_type": "execute_result"
    }
   ],
   "source": [
    "tracks_catalog = catalog_names[catalog_names.type=='track']\n",
    "top100tracks_catalog = tracks_catalog[tracks_catalog.id.isin(top100tracks.track_id)]\n",
    "top100tracks_catalog = top100tracks_catalog.rename({'id': 'track_id'}, axis=1)\n",
    "def get_list(df, ids):\n",
    "    return ', '.join(df[df.id.isin(ids)].name)\n",
    "top100tracks['artists_names'] = top100tracks.apply(lambda row: get_list(artists, row.artists), axis=1)\n",
    "top100tracks['genres_names'] = top100tracks.apply(lambda row: get_list(genres, row.genres), axis=1)\n",
    "top100tracks.merge(top100tracks_catalog, on='track_id')[['track_id', 'artists_names', 'name', 'genres_names']]"
   ]
  },
  {
   "cell_type": "markdown",
   "id": "b1c32a5a-d3be-4f96-8dd9-f7860951020c",
   "metadata": {},
   "source": [
    "Наиболее популярные жанры"
   ]
  },
  {
   "cell_type": "code",
   "execution_count": 15,
   "id": "1bc50491-9235-4d3c-a6c2-297f7c05a959",
   "metadata": {},
   "outputs": [],
   "source": [
    "# cм выше"
   ]
  },
  {
   "cell_type": "markdown",
   "id": "15254e66-e80e-473b-ba24-abebea5ccac7",
   "metadata": {},
   "source": [
    "Треки, которые никто не прослушал"
   ]
  },
  {
   "cell_type": "code",
   "execution_count": 16,
   "id": "50bc50c6-2d83-4c7e-97fa-3e7627978438",
   "metadata": {},
   "outputs": [
    {
     "data": {
      "text/plain": "Empty DataFrame\nColumns: [track_id, albums, artists, genres, albums_ok, genres_ok, artists_ok]\nIndex: []",
      "text/html": "<div>\n<style scoped>\n    .dataframe tbody tr th:only-of-type {\n        vertical-align: middle;\n    }\n\n    .dataframe tbody tr th {\n        vertical-align: top;\n    }\n\n    .dataframe thead th {\n        text-align: right;\n    }\n</style>\n<table border=\"1\" class=\"dataframe\">\n  <thead>\n    <tr style=\"text-align: right;\">\n      <th></th>\n      <th>track_id</th>\n      <th>albums</th>\n      <th>artists</th>\n      <th>genres</th>\n      <th>albums_ok</th>\n      <th>genres_ok</th>\n      <th>artists_ok</th>\n    </tr>\n  </thead>\n  <tbody>\n  </tbody>\n</table>\n</div>"
     },
     "execution_count": 16,
     "metadata": {},
     "output_type": "execute_result"
    }
   ],
   "source": [
    "tracks[~tracks.track_id.isin(interactions.track_id)]\n",
    "# таких нет"
   ]
  },
  {
   "cell_type": "code",
   "execution_count": 17,
   "outputs": [
    {
     "data": {
      "text/plain": "1"
     },
     "execution_count": 17,
     "metadata": {},
     "output_type": "execute_result"
    }
   ],
   "source": [
    "interactions.groupby(['user_id', 'track_id'])['track_seq'].count().nunique()"
   ],
   "metadata": {
    "collapsed": false
   }
  },
  {
   "cell_type": "markdown",
   "id": "0d850a07-ef1e-462f-891a-1cf89f2e24ef",
   "metadata": {},
   "source": [
    "# Преобразование данных"
   ]
  },
  {
   "cell_type": "markdown",
   "id": "fabcf8d2-1192-4df5-b20b-fbb84689f57a",
   "metadata": {},
   "source": [
    "Преобразуем данные в формат, более пригодный для дальнейшего использования в расчётах рекомендаций."
   ]
  },
  {
   "cell_type": "code",
   "execution_count": 18,
   "id": "a425556a-9382-45ca-a04e-f1981a522126",
   "metadata": {},
   "outputs": [],
   "source": [
    "tracks_catalog = tracks_catalog.rename({'id': 'track_id'}, axis=1)"
   ]
  },
  {
   "cell_type": "code",
   "execution_count": 19,
   "outputs": [
    {
     "data": {
      "text/plain": "         track_id                                             albums  \\\n0              26                                       [3, 2490753]   \n1              38                                       [3, 2490753]   \n2             135                                 [12, 214, 2490809]   \n3             136                                 [12, 214, 2490809]   \n4             138  [12, 214, 322, 72275, 72292, 91199, 213505, 24...   \n...           ...                                                ...   \n980965  101478482                                         [21399811]   \n980966  101490148                                         [21403052]   \n980967  101493057                                         [21403883]   \n980968  101495927                                         [21404975]   \n980969  101521819                                         [21414638]   \n\n           artists    genres  albums_ok  genres_ok  artists_ok   type  \\\n0             [16]  [11, 21]       True       True        True  track   \n1             [16]  [11, 21]       True       True        True  track   \n2             [84]      [11]       True       True        True  track   \n3             [84]      [11]       True       True        True  track   \n4             [84]      [11]       True       True        True  track   \n...            ...       ...        ...        ...         ...    ...   \n980965   [5540395]   [3, 75]       True       True        True  track   \n980966   [9078726]  [11, 20]       True       True        True  track   \n980967  [11865715]  [44, 75]       True       True        True  track   \n980968   [4462686]   [3, 75]       True       True        True  track   \n980969   [5056591]   [3, 75]       True       True        True  track   \n\n                                       name  \n0                          Complimentary Me  \n1                               Momma's Boy  \n2                                   Atticus  \n3                                  24 Hours  \n4       Don't Upset The Rhythm (Go Baby Go)  \n...                                     ...  \n980965                              На лицо  \n980966                      Без капли мысли  \n980967                             SKITTLES  \n980968                               Москва  \n980969                               Вокзал  \n\n[980970 rows x 9 columns]",
      "text/html": "<div>\n<style scoped>\n    .dataframe tbody tr th:only-of-type {\n        vertical-align: middle;\n    }\n\n    .dataframe tbody tr th {\n        vertical-align: top;\n    }\n\n    .dataframe thead th {\n        text-align: right;\n    }\n</style>\n<table border=\"1\" class=\"dataframe\">\n  <thead>\n    <tr style=\"text-align: right;\">\n      <th></th>\n      <th>track_id</th>\n      <th>albums</th>\n      <th>artists</th>\n      <th>genres</th>\n      <th>albums_ok</th>\n      <th>genres_ok</th>\n      <th>artists_ok</th>\n      <th>type</th>\n      <th>name</th>\n    </tr>\n  </thead>\n  <tbody>\n    <tr>\n      <th>0</th>\n      <td>26</td>\n      <td>[3, 2490753]</td>\n      <td>[16]</td>\n      <td>[11, 21]</td>\n      <td>True</td>\n      <td>True</td>\n      <td>True</td>\n      <td>track</td>\n      <td>Complimentary Me</td>\n    </tr>\n    <tr>\n      <th>1</th>\n      <td>38</td>\n      <td>[3, 2490753]</td>\n      <td>[16]</td>\n      <td>[11, 21]</td>\n      <td>True</td>\n      <td>True</td>\n      <td>True</td>\n      <td>track</td>\n      <td>Momma's Boy</td>\n    </tr>\n    <tr>\n      <th>2</th>\n      <td>135</td>\n      <td>[12, 214, 2490809]</td>\n      <td>[84]</td>\n      <td>[11]</td>\n      <td>True</td>\n      <td>True</td>\n      <td>True</td>\n      <td>track</td>\n      <td>Atticus</td>\n    </tr>\n    <tr>\n      <th>3</th>\n      <td>136</td>\n      <td>[12, 214, 2490809]</td>\n      <td>[84]</td>\n      <td>[11]</td>\n      <td>True</td>\n      <td>True</td>\n      <td>True</td>\n      <td>track</td>\n      <td>24 Hours</td>\n    </tr>\n    <tr>\n      <th>4</th>\n      <td>138</td>\n      <td>[12, 214, 322, 72275, 72292, 91199, 213505, 24...</td>\n      <td>[84]</td>\n      <td>[11]</td>\n      <td>True</td>\n      <td>True</td>\n      <td>True</td>\n      <td>track</td>\n      <td>Don't Upset The Rhythm (Go Baby Go)</td>\n    </tr>\n    <tr>\n      <th>...</th>\n      <td>...</td>\n      <td>...</td>\n      <td>...</td>\n      <td>...</td>\n      <td>...</td>\n      <td>...</td>\n      <td>...</td>\n      <td>...</td>\n      <td>...</td>\n    </tr>\n    <tr>\n      <th>980965</th>\n      <td>101478482</td>\n      <td>[21399811]</td>\n      <td>[5540395]</td>\n      <td>[3, 75]</td>\n      <td>True</td>\n      <td>True</td>\n      <td>True</td>\n      <td>track</td>\n      <td>На лицо</td>\n    </tr>\n    <tr>\n      <th>980966</th>\n      <td>101490148</td>\n      <td>[21403052]</td>\n      <td>[9078726]</td>\n      <td>[11, 20]</td>\n      <td>True</td>\n      <td>True</td>\n      <td>True</td>\n      <td>track</td>\n      <td>Без капли мысли</td>\n    </tr>\n    <tr>\n      <th>980967</th>\n      <td>101493057</td>\n      <td>[21403883]</td>\n      <td>[11865715]</td>\n      <td>[44, 75]</td>\n      <td>True</td>\n      <td>True</td>\n      <td>True</td>\n      <td>track</td>\n      <td>SKITTLES</td>\n    </tr>\n    <tr>\n      <th>980968</th>\n      <td>101495927</td>\n      <td>[21404975]</td>\n      <td>[4462686]</td>\n      <td>[3, 75]</td>\n      <td>True</td>\n      <td>True</td>\n      <td>True</td>\n      <td>track</td>\n      <td>Москва</td>\n    </tr>\n    <tr>\n      <th>980969</th>\n      <td>101521819</td>\n      <td>[21414638]</td>\n      <td>[5056591]</td>\n      <td>[3, 75]</td>\n      <td>True</td>\n      <td>True</td>\n      <td>True</td>\n      <td>track</td>\n      <td>Вокзал</td>\n    </tr>\n  </tbody>\n</table>\n<p>980970 rows × 9 columns</p>\n</div>"
     },
     "execution_count": 19,
     "metadata": {},
     "output_type": "execute_result"
    }
   ],
   "source": [
    "tracks.merge(tracks_catalog, on='track_id')"
   ],
   "metadata": {
    "collapsed": false
   }
  },
  {
   "cell_type": "code",
   "execution_count": 20,
   "outputs": [
    {
     "name": "stdout",
     "output_type": "stream",
     "text": [
      "CPU times: user 6.34 s, sys: 1.32 s, total: 7.66 s\n",
      "Wall time: 48.6 s\n"
     ]
    }
   ],
   "source": [
    "%%time\n",
    "# tracks['artists_names'] = tracks.apply(lambda row: get_list(artists, row.artists), axis=1)\n",
    "# tracks['genres_names'] = tracks.apply(lambda row: get_list(genres, row.genres), axis=1)\n",
    "def apply_artists(artists_id):\n",
    "    return  get_list(artists, artists_id)\n",
    "def apply_genres(genres_id):\n",
    "    return get_list(genres, genres_id)\n",
    "with mp.Pool(mp.cpu_count()) as pool:\n",
    "    tracks['artists_names'] = pool.map(apply_artists, tracks.artists)\n",
    "    tracks['genres_names'] = pool.map(apply_genres, tracks.genres)\n",
    "items = tracks.merge(tracks_catalog, on='track_id')"
   ],
   "metadata": {
    "collapsed": false
   }
  },
  {
   "cell_type": "code",
   "execution_count": 21,
   "outputs": [],
   "source": [
    "items = items.drop(['albums_ok', 'genres_ok', 'artists_ok', 'type'], axis=1)"
   ],
   "metadata": {
    "collapsed": false
   }
  },
  {
   "cell_type": "code",
   "execution_count": 22,
   "outputs": [
    {
     "data": {
      "text/plain": "        track_id                albums             artists     genres  \\\n308048  20077643    [2266473, 2742775]            [242377]  [14, 102]   \n408588  28211847             [1744060]            [232871]       [68]   \n500058  34730457             [4292562]  [2392189, 4926257]       [11]   \n550635  38065370    [4846083, 4957998]            [164729]  [47, 154]   \n888857  75976425  [13394801, 18057958]            [767677]       [70]   \n\n                      artists_names   genres_names                        name  \n308048                   Set It Off  rock, allrock  Forever Stuck in Our Youth  \n408588                      Mujuice    electronics                September 13  \n500058  Андрей Леницкий, Chillvoice            pop                      Крылья  \n550635                Of Mice & Men          metal                        Defy  \n888857                     La Femme          indie     Le sang de mon prochain  ",
      "text/html": "<div>\n<style scoped>\n    .dataframe tbody tr th:only-of-type {\n        vertical-align: middle;\n    }\n\n    .dataframe tbody tr th {\n        vertical-align: top;\n    }\n\n    .dataframe thead th {\n        text-align: right;\n    }\n</style>\n<table border=\"1\" class=\"dataframe\">\n  <thead>\n    <tr style=\"text-align: right;\">\n      <th></th>\n      <th>track_id</th>\n      <th>albums</th>\n      <th>artists</th>\n      <th>genres</th>\n      <th>artists_names</th>\n      <th>genres_names</th>\n      <th>name</th>\n    </tr>\n  </thead>\n  <tbody>\n    <tr>\n      <th>308048</th>\n      <td>20077643</td>\n      <td>[2266473, 2742775]</td>\n      <td>[242377]</td>\n      <td>[14, 102]</td>\n      <td>Set It Off</td>\n      <td>rock, allrock</td>\n      <td>Forever Stuck in Our Youth</td>\n    </tr>\n    <tr>\n      <th>408588</th>\n      <td>28211847</td>\n      <td>[1744060]</td>\n      <td>[232871]</td>\n      <td>[68]</td>\n      <td>Mujuice</td>\n      <td>electronics</td>\n      <td>September 13</td>\n    </tr>\n    <tr>\n      <th>500058</th>\n      <td>34730457</td>\n      <td>[4292562]</td>\n      <td>[2392189, 4926257]</td>\n      <td>[11]</td>\n      <td>Андрей Леницкий, Chillvoice</td>\n      <td>pop</td>\n      <td>Крылья</td>\n    </tr>\n    <tr>\n      <th>550635</th>\n      <td>38065370</td>\n      <td>[4846083, 4957998]</td>\n      <td>[164729]</td>\n      <td>[47, 154]</td>\n      <td>Of Mice &amp; Men</td>\n      <td>metal</td>\n      <td>Defy</td>\n    </tr>\n    <tr>\n      <th>888857</th>\n      <td>75976425</td>\n      <td>[13394801, 18057958]</td>\n      <td>[767677]</td>\n      <td>[70]</td>\n      <td>La Femme</td>\n      <td>indie</td>\n      <td>Le sang de mon prochain</td>\n    </tr>\n  </tbody>\n</table>\n</div>"
     },
     "execution_count": 22,
     "metadata": {},
     "output_type": "execute_result"
    }
   ],
   "source": [
    "items.sample(5)"
   ],
   "metadata": {
    "collapsed": false
   }
  },
  {
   "cell_type": "code",
   "execution_count": 23,
   "outputs": [
    {
     "name": "stdout",
     "output_type": "stream",
     "text": [
      "CPU times: user 1min 51s, sys: 7.66 s, total: 1min 58s\n",
      "Wall time: 1min 58s\n"
     ]
    }
   ],
   "source": [
    "%%time\n",
    "interactions.started_at = interactions.started_at.apply(lambda ts: ts.date())"
   ],
   "metadata": {
    "collapsed": false
   }
  },
  {
   "cell_type": "markdown",
   "id": "4d1be653-eed8-4fa0-a9c5-3811b080d71d",
   "metadata": {},
   "source": [
    "# Сохранение данных"
   ]
  },
  {
   "cell_type": "markdown",
   "id": "36f1314a-3af3-4faf-a0b1-3045173d1500",
   "metadata": {},
   "source": [
    "Сохраним данные в двух файлах в персональном S3-бакете по пути `recsys/data/`:\n",
    "- `items.parquet` — все данные о музыкальных треках,\n",
    "- `events.parquet` — все данные о взаимодействиях."
   ]
  },
  {
   "cell_type": "code",
   "execution_count": 24,
   "id": "9f77af17-7705-4fae-9aad-db579b39faad",
   "metadata": {},
   "outputs": [],
   "source": [
    "genres.to_parquet('genres.parquet')\n",
    "artists.to_parquet('artists.parquet')\n",
    "albums.to_parquet('albums.parquet')\n",
    "events = interactions\n",
    "events.to_parquet('events.parquet')\n",
    "items.to_parquet('items.parquet')\n",
    "top100tracks.to_parquet('top100.parquet')"
   ]
  },
  {
   "cell_type": "markdown",
   "id": "72ecbbed-c560-44d9-9c14-86c7dc76f399",
   "metadata": {},
   "source": [
    "# Очистка памяти"
   ]
  },
  {
   "cell_type": "markdown",
   "id": "b5358ede-ba6e-4c4f-bd73-5b9344f0ba79",
   "metadata": {},
   "source": [
    "Здесь, может понадобится очистка памяти для высвобождения ресурсов для выполнения кода ниже. \n",
    "\n",
    "Приведите соответствующие код, комментарии, например:\n",
    "- код для удаление более ненужных переменных,\n",
    "- комментарий, что следует перезапустить kernel, выполнить такие-то начальные секции и продолжить с этапа 3."
   ]
  },
  {
   "cell_type": "markdown",
   "source": [
    "Если есть желание можно перезапустить ядро, затем раскомментировать и выполнить ячейку ниже"
   ],
   "metadata": {
    "collapsed": false
   }
  },
  {
   "cell_type": "markdown",
   "id": "708503df-ee89-4cf3-8489-093dc478e2a8",
   "metadata": {},
   "source": [
    "# === ЭТАП 3 ==="
   ]
  },
  {
   "cell_type": "markdown",
   "id": "fd77de22-e10f-4b42-85c1-8fb6f805fe68",
   "metadata": {},
   "source": [
    "# Загрузка данных"
   ]
  },
  {
   "cell_type": "markdown",
   "id": "780a4241-1ecd-4a3e-bbb3-fc2f6ca94f68",
   "metadata": {},
   "source": [
    "Если необходимо, то загружаем items.parquet, events.parquet."
   ]
  },
  {
   "cell_type": "code",
   "execution_count": 25,
   "id": "f19fc8a5-bd2c-40d7-864a-ee75aca6d512",
   "metadata": {},
   "outputs": [],
   "source": [
    "# from datetime import datetime\n",
    "# import multiprocessing as mp\n",
    "# import pandas as pd\n",
    "# import numpy as np\n",
    "# import scipy\n",
    "# import sklearn.preprocessing\n",
    "# import sklearn.metrics\n",
    "# from implicit.als import AlternatingLeastSquares\n",
    "# from catboost import CatBoostClassifier, Pool\n",
    "#\n",
    "# genres = pd.read_parquet('genres.parquet')\n",
    "# artists = pd.read_parquet('artists.parquet')\n",
    "# albums = pd.read_parquet('albums.parquet')\n",
    "# events = pd.read_parquet('events.parquet')\n",
    "# items = pd.read_parquet('items.parquet')"
   ]
  },
  {
   "cell_type": "markdown",
   "id": "a694c023-6477-490b-939d-1cfa6f5f1b72",
   "metadata": {},
   "source": [
    "# Разбиение данных"
   ]
  },
  {
   "cell_type": "markdown",
   "id": "fbd5f6e0-54e7-4428-8678-eabce505d82c",
   "metadata": {},
   "source": [
    "Разбиваем данные на тренировочную, тестовую выборки."
   ]
  },
  {
   "cell_type": "code",
   "execution_count": 26,
   "id": "00c2dfa5-d8a2-47d1-922e-6eefee2c62d1",
   "metadata": {},
   "outputs": [
    {
     "name": "stdout",
     "output_type": "stream",
     "text": [
      "1342107 782025 751365\n"
     ]
    }
   ],
   "source": [
    "train_test_global_time_split_date = pd.to_datetime('2022-12-16').date()  # this will not work with cudf\n",
    "train_test_global_time_split_idx = events[\"started_at\"] < train_test_global_time_split_date\n",
    "events_train = events[train_test_global_time_split_idx]\n",
    "events_test = events[~train_test_global_time_split_idx]\n",
    "\n",
    "# пользователи в train и test\n",
    "users_train = events_train[\"user_id\"].drop_duplicates()\n",
    "users_test = events_test[\"user_id\"].drop_duplicates()\n",
    "# пользователи, которые есть и в train и в test\n",
    "common_users = set(users_train) & set(users_test)  # this will not work with cudf\n",
    "print(len(users_train), len(users_test), len(common_users))"
   ]
  },
  {
   "cell_type": "code",
   "execution_count": 27,
   "id": "26fe3e3c-8c5f-4437-bf13-9191adef08bb",
   "metadata": {},
   "outputs": [
    {
     "name": "stdout",
     "output_type": "stream",
     "text": [
      "30660\n"
     ]
    }
   ],
   "source": [
    "cold_users = set(users_test) - common_users\n",
    "print(len(cold_users))"
   ]
  },
  {
   "cell_type": "markdown",
   "id": "9131c7e6-8852-4556-b510-51f7253cc299",
   "metadata": {},
   "source": [
    "# Топ популярных"
   ]
  },
  {
   "cell_type": "markdown",
   "id": "dd70d43a-88cc-4719-b291-feaed7136f30",
   "metadata": {},
   "source": [
    "Рассчитаем рекомендации как топ популярных."
   ]
  },
  {
   "cell_type": "code",
   "execution_count": 28,
   "id": "ee45e200-b7d6-4f56-9077-aad431689b96",
   "metadata": {},
   "outputs": [],
   "source": [
    "item_popularity = events_train.groupby([\"track_id\"]).agg(users=(\"user_id\", \"nunique\")).reset_index().sort_values(by='users', ascending=False)\n",
    "item_popularity.head(10)\n",
    "top_popular = item_popularity[:100]\n",
    "top_popular.to_parquet('top_popular.parquet')"
   ]
  },
  {
   "cell_type": "code",
   "execution_count": 29,
   "id": "7690c86f-7aa9-46ed-bba5-2c837626411e",
   "metadata": {},
   "outputs": [
    {
     "data": {
      "text/plain": "100"
     },
     "execution_count": 29,
     "metadata": {},
     "output_type": "execute_result"
    }
   ],
   "source": [
    "cold_users_events = events_test[events_test.user_id.isin(cold_users)]\n",
    "len(set(cold_users_events[cold_users_events.track_id.isin(top_popular.track_id)].track_id) & set(top_popular.track_id))"
   ]
  },
  {
   "cell_type": "markdown",
   "id": "2ad231f2-6158-421a-b7fa-01d8bc3ed572",
   "metadata": {},
   "source": [
    "# Персональные"
   ]
  },
  {
   "cell_type": "markdown",
   "id": "86159460-cd9d-4b63-8248-604ea3c9aebf",
   "metadata": {},
   "source": [
    "Рассчитаем персональные рекомендации."
   ]
  },
  {
   "cell_type": "code",
   "execution_count": 30,
   "id": "d2944822-569c-4f9b-82dc-70a7fa2d542e",
   "metadata": {},
   "outputs": [
    {
     "name": "stderr",
     "output_type": "stream",
     "text": [
      "<timed exec>:5: SettingWithCopyWarning: \n",
      "A value is trying to be set on a copy of a slice from a DataFrame.\n",
      "Try using .loc[row_indexer,col_indexer] = value instead\n",
      "\n",
      "See the caveats in the documentation: https://pandas.pydata.org/pandas-docs/stable/user_guide/indexing.html#returning-a-view-versus-a-copy\n",
      "<timed exec>:6: SettingWithCopyWarning: \n",
      "A value is trying to be set on a copy of a slice from a DataFrame.\n",
      "Try using .loc[row_indexer,col_indexer] = value instead\n",
      "\n",
      "See the caveats in the documentation: https://pandas.pydata.org/pandas-docs/stable/user_guide/indexing.html#returning-a-view-versus-a-copy\n",
      "<timed exec>:11: SettingWithCopyWarning: \n",
      "A value is trying to be set on a copy of a slice from a DataFrame.\n",
      "Try using .loc[row_indexer,col_indexer] = value instead\n",
      "\n",
      "See the caveats in the documentation: https://pandas.pydata.org/pandas-docs/stable/user_guide/indexing.html#returning-a-view-versus-a-copy\n"
     ]
    },
    {
     "name": "stdout",
     "output_type": "stream",
     "text": [
      "CPU times: user 1min 23s, sys: 827 ms, total: 1min 24s\n",
      "Wall time: 1min 24s\n"
     ]
    },
    {
     "name": "stderr",
     "output_type": "stream",
     "text": [
      "<timed exec>:12: SettingWithCopyWarning: \n",
      "A value is trying to be set on a copy of a slice from a DataFrame.\n",
      "Try using .loc[row_indexer,col_indexer] = value instead\n",
      "\n",
      "See the caveats in the documentation: https://pandas.pydata.org/pandas-docs/stable/user_guide/indexing.html#returning-a-view-versus-a-copy\n"
     ]
    }
   ],
   "source": [
    "%%time\n",
    "# перекодирование идентификаторов пользователей:\n",
    "user_encoder = sklearn.preprocessing.LabelEncoder()\n",
    "user_encoder.fit(events[\"user_id\"])\n",
    "events[\"user_id_enc\"] = user_encoder.transform(events[\"user_id\"])\n",
    "events_train[\"user_id_enc\"] = user_encoder.transform(events_train[\"user_id\"])\n",
    "events_test[\"user_id_enc\"] = user_encoder.transform(events_test[\"user_id\"])\n",
    "# перекодирование идентификаторов трэков:\n",
    "item_encoder = sklearn.preprocessing.LabelEncoder()\n",
    "item_encoder.fit(items[\"track_id\"])\n",
    "items[\"track_id_enc\"] = item_encoder.transform(items[\"track_id\"])\n",
    "events_train[\"track_id_enc\"] = item_encoder.transform(events_train[\"track_id\"])\n",
    "events_test[\"track_id_enc\"] =  item_encoder.transform(events_test[\"track_id\"])"
   ]
  },
  {
   "cell_type": "code",
   "execution_count": 31,
   "id": "1e8cdb58-3a8c-45ad-8e5f-7f950314aa56",
   "metadata": {},
   "outputs": [],
   "source": [
    "# создание разряжённой матрицы формата CSR\n",
    "user_item_matrix_train = scipy.sparse.csr_matrix((\n",
    "    [1] * len(events_train),\n",
    "    (events_train['user_id_enc'], events_train['track_id_enc'])),\n",
    "    dtype=np.int8)\n"
   ]
  },
  {
   "cell_type": "code",
   "execution_count": 32,
   "outputs": [
    {
     "data": {
      "text/plain": "  0%|          | 0/50 [00:00<?, ?it/s]",
      "application/vnd.jupyter.widget-view+json": {
       "version_major": 2,
       "version_minor": 0,
       "model_id": "ccdf9e6a9911491d806dc93ca89a2ecf"
      }
     },
     "metadata": {},
     "output_type": "display_data"
    },
    {
     "name": "stdout",
     "output_type": "stream",
     "text": [
      "CPU times: user 29.4 s, sys: 462 ms, total: 29.9 s\n",
      "Wall time: 29.9 s\n"
     ]
    }
   ],
   "source": [
    "%%time\n",
    "als_model = AlternatingLeastSquares(factors=50, iterations=50, regularization=0.05, random_state=0)\n",
    "als_model.fit(user_item_matrix_train)"
   ],
   "metadata": {
    "collapsed": false
   }
  },
  {
   "cell_type": "code",
   "execution_count": 33,
   "outputs": [
    {
     "name": "stdout",
     "output_type": "stream",
     "text": [
      "История (последние события, recent)\n"
     ]
    },
    {
     "data": {
      "text/plain": "     track_id                 artists_names                name  \\\n780  86710605  Justin Bieber, The Kid LAROI                STAY   \n781  86815234            for KING & COUNTRY              RELATE   \n782  88196847     Shiloh Dynasty, LRN Slime  i know you so well   \n783  88253142         Suicideyear, WEEDMANE        SUICIDE YEAR   \n784  89489145          Скриптонит, RODIONIS    Цыгане из Парижа   \n785  89977358                          FACE        ХЛОРГЕКСИДИН   \n786  89977363                          FACE                  ЯД   \n787  90994327     Hillsong НА РУССКОМ ЯЗЫКЕ        Свежий ветер   \n788  93049165                         DVRST      A Little Story   \n789  99706238                  XXXTentacion           vice city   \n\n        genres_names  started_at  \n780              pop  2022-10-08  \n781              pop  2022-10-08  \n782            dance  2022-10-08  \n783  foreignrap, rap  2022-10-09  \n784      rusrap, rap  2022-10-09  \n785      rusrap, rap  2022-10-09  \n786      rusrap, rap  2022-10-09  \n787      pop, ruspop  2022-10-09  \n788  foreignrap, rap  2022-10-09  \n789  foreignrap, rap  2022-10-10  ",
      "text/html": "<div>\n<style scoped>\n    .dataframe tbody tr th:only-of-type {\n        vertical-align: middle;\n    }\n\n    .dataframe tbody tr th {\n        vertical-align: top;\n    }\n\n    .dataframe thead th {\n        text-align: right;\n    }\n</style>\n<table border=\"1\" class=\"dataframe\">\n  <thead>\n    <tr style=\"text-align: right;\">\n      <th></th>\n      <th>track_id</th>\n      <th>artists_names</th>\n      <th>name</th>\n      <th>genres_names</th>\n      <th>started_at</th>\n    </tr>\n  </thead>\n  <tbody>\n    <tr>\n      <th>780</th>\n      <td>86710605</td>\n      <td>Justin Bieber, The Kid LAROI</td>\n      <td>STAY</td>\n      <td>pop</td>\n      <td>2022-10-08</td>\n    </tr>\n    <tr>\n      <th>781</th>\n      <td>86815234</td>\n      <td>for KING &amp; COUNTRY</td>\n      <td>RELATE</td>\n      <td>pop</td>\n      <td>2022-10-08</td>\n    </tr>\n    <tr>\n      <th>782</th>\n      <td>88196847</td>\n      <td>Shiloh Dynasty, LRN Slime</td>\n      <td>i know you so well</td>\n      <td>dance</td>\n      <td>2022-10-08</td>\n    </tr>\n    <tr>\n      <th>783</th>\n      <td>88253142</td>\n      <td>Suicideyear, WEEDMANE</td>\n      <td>SUICIDE YEAR</td>\n      <td>foreignrap, rap</td>\n      <td>2022-10-09</td>\n    </tr>\n    <tr>\n      <th>784</th>\n      <td>89489145</td>\n      <td>Скриптонит, RODIONIS</td>\n      <td>Цыгане из Парижа</td>\n      <td>rusrap, rap</td>\n      <td>2022-10-09</td>\n    </tr>\n    <tr>\n      <th>785</th>\n      <td>89977358</td>\n      <td>FACE</td>\n      <td>ХЛОРГЕКСИДИН</td>\n      <td>rusrap, rap</td>\n      <td>2022-10-09</td>\n    </tr>\n    <tr>\n      <th>786</th>\n      <td>89977363</td>\n      <td>FACE</td>\n      <td>ЯД</td>\n      <td>rusrap, rap</td>\n      <td>2022-10-09</td>\n    </tr>\n    <tr>\n      <th>787</th>\n      <td>90994327</td>\n      <td>Hillsong НА РУССКОМ ЯЗЫКЕ</td>\n      <td>Свежий ветер</td>\n      <td>pop, ruspop</td>\n      <td>2022-10-09</td>\n    </tr>\n    <tr>\n      <th>788</th>\n      <td>93049165</td>\n      <td>DVRST</td>\n      <td>A Little Story</td>\n      <td>foreignrap, rap</td>\n      <td>2022-10-09</td>\n    </tr>\n    <tr>\n      <th>789</th>\n      <td>99706238</td>\n      <td>XXXTentacion</td>\n      <td>vice city</td>\n      <td>foreignrap, rap</td>\n      <td>2022-10-10</td>\n    </tr>\n  </tbody>\n</table>\n</div>"
     },
     "metadata": {},
     "output_type": "display_data"
    },
    {
     "name": "stdout",
     "output_type": "stream",
     "text": [
      "Рекомендации\n"
     ]
    },
    {
     "data": {
      "text/plain": "   track_id_enc     score  track_id           artists_names  \\\n0        668530  0.718805  48592141              Скриптонит   \n1        622035  0.631509  43528295              GONE.Fludd   \n2        783294  0.586814  61843244              Скриптонит   \n3        502479  0.584157  34972339                     ЛСП   \n4        613817  0.570885  42940850                  Markul   \n5        531981  0.546282  36963198              Ghostemane   \n6        583597  0.534525  40498601              GONE.Fludd   \n7        630462  0.532281  44121115                  Markul   \n8        619750  0.525834  43403851  Lil Peep, XXXTentacion   \n9        561062  0.514039  38716160    Marshmello, Lil Peep   \n\n                  name     genres_names  \n0            Положение      rusrap, rap  \n1     Сахарный человек      rusrap, rap  \n2      Москва любит...      rusrap, rap  \n3                 Тело      rusrap, rap  \n4          Худший друг      rusrap, rap  \n5  Mercury: Retrograde  foreignrap, rap  \n6           КУБИК ЛЬДА      rusrap, rap  \n7            Серпантин      rusrap, rap  \n8         Falling Down  foreignrap, rap  \n9            Spotlight  foreignrap, rap  ",
      "text/html": "<div>\n<style scoped>\n    .dataframe tbody tr th:only-of-type {\n        vertical-align: middle;\n    }\n\n    .dataframe tbody tr th {\n        vertical-align: top;\n    }\n\n    .dataframe thead th {\n        text-align: right;\n    }\n</style>\n<table border=\"1\" class=\"dataframe\">\n  <thead>\n    <tr style=\"text-align: right;\">\n      <th></th>\n      <th>track_id_enc</th>\n      <th>score</th>\n      <th>track_id</th>\n      <th>artists_names</th>\n      <th>name</th>\n      <th>genres_names</th>\n    </tr>\n  </thead>\n  <tbody>\n    <tr>\n      <th>0</th>\n      <td>668530</td>\n      <td>0.718805</td>\n      <td>48592141</td>\n      <td>Скриптонит</td>\n      <td>Положение</td>\n      <td>rusrap, rap</td>\n    </tr>\n    <tr>\n      <th>1</th>\n      <td>622035</td>\n      <td>0.631509</td>\n      <td>43528295</td>\n      <td>GONE.Fludd</td>\n      <td>Сахарный человек</td>\n      <td>rusrap, rap</td>\n    </tr>\n    <tr>\n      <th>2</th>\n      <td>783294</td>\n      <td>0.586814</td>\n      <td>61843244</td>\n      <td>Скриптонит</td>\n      <td>Москва любит...</td>\n      <td>rusrap, rap</td>\n    </tr>\n    <tr>\n      <th>3</th>\n      <td>502479</td>\n      <td>0.584157</td>\n      <td>34972339</td>\n      <td>ЛСП</td>\n      <td>Тело</td>\n      <td>rusrap, rap</td>\n    </tr>\n    <tr>\n      <th>4</th>\n      <td>613817</td>\n      <td>0.570885</td>\n      <td>42940850</td>\n      <td>Markul</td>\n      <td>Худший друг</td>\n      <td>rusrap, rap</td>\n    </tr>\n    <tr>\n      <th>5</th>\n      <td>531981</td>\n      <td>0.546282</td>\n      <td>36963198</td>\n      <td>Ghostemane</td>\n      <td>Mercury: Retrograde</td>\n      <td>foreignrap, rap</td>\n    </tr>\n    <tr>\n      <th>6</th>\n      <td>583597</td>\n      <td>0.534525</td>\n      <td>40498601</td>\n      <td>GONE.Fludd</td>\n      <td>КУБИК ЛЬДА</td>\n      <td>rusrap, rap</td>\n    </tr>\n    <tr>\n      <th>7</th>\n      <td>630462</td>\n      <td>0.532281</td>\n      <td>44121115</td>\n      <td>Markul</td>\n      <td>Серпантин</td>\n      <td>rusrap, rap</td>\n    </tr>\n    <tr>\n      <th>8</th>\n      <td>619750</td>\n      <td>0.525834</td>\n      <td>43403851</td>\n      <td>Lil Peep, XXXTentacion</td>\n      <td>Falling Down</td>\n      <td>foreignrap, rap</td>\n    </tr>\n    <tr>\n      <th>9</th>\n      <td>561062</td>\n      <td>0.514039</td>\n      <td>38716160</td>\n      <td>Marshmello, Lil Peep</td>\n      <td>Spotlight</td>\n      <td>foreignrap, rap</td>\n    </tr>\n  </tbody>\n</table>\n</div>"
     },
     "metadata": {},
     "output_type": "display_data"
    }
   ],
   "source": [
    "def get_recommendations_als(user_item_matrix, model, user_id, user_encoder, item_encoder, include_seen=False, n=10):\n",
    "    \"\"\"\n",
    "    Возвращает отранжированные рекомендации для заданного пользователя\n",
    "    \"\"\"\n",
    "    user_id_enc = user_encoder.transform([user_id])[0]\n",
    "    recommendations = model.recommend(\n",
    "        user_id_enc,\n",
    "        user_item_matrix[user_id_enc],\n",
    "        filter_already_liked_items=not include_seen,\n",
    "        N=n)\n",
    "    recommendations = pd.DataFrame({\"track_id_enc\": recommendations[0], \"score\": recommendations[1]})\n",
    "    recommendations[\"track_id\"] = item_encoder.inverse_transform(recommendations[\"track_id_enc\"])\n",
    "\n",
    "    return recommendations\n",
    "\n",
    "user_id = events_train['user_id'].sample().iat[0]\n",
    "user_id_enc = user_encoder.transform([user_id])[0]\n",
    "print(\"История (последние события, recent)\")\n",
    "user_history = (\n",
    "    events_train\n",
    "    .query(\"user_id == @user_id\")\n",
    "    .merge(items.set_index(\"track_id\"), on=\"track_id\")\n",
    ")\n",
    "user_history_to_print = user_history[[\"track_id\", \"artists_names\", \"name\", \"genres_names\", \"started_at\"]].tail(10)\n",
    "display(user_history_to_print)\n",
    "\n",
    "print(\"Рекомендации\")\n",
    "user_recommendations = get_recommendations_als(user_item_matrix_train, als_model, user_id, user_encoder, item_encoder)\n",
    "user_recommendations = user_recommendations.merge(items[[\"track_id\", \"artists_names\", \"name\", \"genres_names\", ]], on=\"track_id\")\n",
    "display(user_recommendations)"
   ],
   "metadata": {
    "collapsed": false
   }
  },
  {
   "cell_type": "code",
   "execution_count": 34,
   "outputs": [
    {
     "name": "stdout",
     "output_type": "stream",
     "text": [
      "3.6801681518554688\n",
      "CPU times: user 6min 46s, sys: 1min 33s, total: 8min 20s\n",
      "Wall time: 8min 20s\n"
     ]
    },
    {
     "data": {
      "text/plain": "           user_id   item_id     score\n123239356  1262168  29544272  0.074693\n61189101    626661  52380688  0.404353\n120062036  1229650    545860  0.027861\n19682720    201509  17198355  0.069343\n114827605  1175965  56920241  0.335425",
      "text/html": "<div>\n<style scoped>\n    .dataframe tbody tr th:only-of-type {\n        vertical-align: middle;\n    }\n\n    .dataframe tbody tr th {\n        vertical-align: top;\n    }\n\n    .dataframe thead th {\n        text-align: right;\n    }\n</style>\n<table border=\"1\" class=\"dataframe\">\n  <thead>\n    <tr style=\"text-align: right;\">\n      <th></th>\n      <th>user_id</th>\n      <th>item_id</th>\n      <th>score</th>\n    </tr>\n  </thead>\n  <tbody>\n    <tr>\n      <th>123239356</th>\n      <td>1262168</td>\n      <td>29544272</td>\n      <td>0.074693</td>\n    </tr>\n    <tr>\n      <th>61189101</th>\n      <td>626661</td>\n      <td>52380688</td>\n      <td>0.404353</td>\n    </tr>\n    <tr>\n      <th>120062036</th>\n      <td>1229650</td>\n      <td>545860</td>\n      <td>0.027861</td>\n    </tr>\n    <tr>\n      <th>19682720</th>\n      <td>201509</td>\n      <td>17198355</td>\n      <td>0.069343</td>\n    </tr>\n    <tr>\n      <th>114827605</th>\n      <td>1175965</td>\n      <td>56920241</td>\n      <td>0.335425</td>\n    </tr>\n  </tbody>\n</table>\n</div>"
     },
     "execution_count": 34,
     "metadata": {},
     "output_type": "execute_result"
    }
   ],
   "source": [
    "%%time\n",
    "# получаем список всех возможных user_id (перекодированных)\n",
    "user_ids_encoded = events_train['user_id_enc'].unique()  # range(len(user_encoder.classes_))\n",
    "\n",
    "# получаем рекомендации для всех пользователей\n",
    "als_recommendations = als_model.recommend(\n",
    "    user_ids_encoded,\n",
    "    user_item_matrix_train[user_ids_encoded],\n",
    "    filter_already_liked_items=False, N=100)\n",
    "\n",
    "\n",
    "# преобразуем полученные рекомендации в табличный формат\n",
    "item_ids_enc = als_recommendations[0]\n",
    "als_scores = als_recommendations[1]\n",
    "\n",
    "als_recommendations = pd.DataFrame({\n",
    "    \"user_id_enc\": user_ids_encoded,\n",
    "    \"item_id_enc\": item_ids_enc.tolist(),\n",
    "    \"score\": als_scores.tolist()})\n",
    "als_recommendations = als_recommendations.explode([\"item_id_enc\", \"score\"], ignore_index=True)\n",
    "\n",
    "# приводим типы данных\n",
    "als_recommendations[\"item_id_enc\"] = als_recommendations[\"item_id_enc\"].astype(\"int\")\n",
    "als_recommendations[\"score\"] = als_recommendations[\"score\"].astype(\"float\")\n",
    "\n",
    "# получаем изначальные идентификаторы\n",
    "als_recommendations[\"user_id\"] = user_encoder.inverse_transform(als_recommendations[\"user_id_enc\"])\n",
    "als_recommendations[\"item_id\"] = item_encoder.inverse_transform(als_recommendations[\"item_id_enc\"])\n",
    "als_recommendations = als_recommendations.drop(columns=[\"user_id_enc\", \"item_id_enc\"])\n",
    "\n",
    "als_recommendations = als_recommendations[[\"user_id\", \"item_id\", \"score\"]]\n",
    "als_recommendations.to_parquet(\"personal_als.parquet\")\n",
    "max_als_score = max(als_recommendations.score)\n",
    "print(max_als_score)\n",
    "als_recommendations.sample(5)"
   ],
   "metadata": {
    "collapsed": false
   }
  },
  {
   "cell_type": "markdown",
   "id": "5f09dc7e-7c91-4355-860a-b9cfb9f33f15",
   "metadata": {},
   "source": [
    "# Похожие"
   ]
  },
  {
   "cell_type": "markdown",
   "id": "1dfcb683-b440-40a8-9975-894156a53872",
   "metadata": {},
   "source": [
    "Рассчитаем похожие, они позже пригодятся для онлайн-рекомендаций."
   ]
  },
  {
   "cell_type": "code",
   "execution_count": 35,
   "id": "a75d07ee-4b12-4ce5-aa85-e45cb7a7a4f0",
   "metadata": {},
   "outputs": [
    {
     "name": "stdout",
     "output_type": "stream",
     "text": [
      "CPU times: user 24.2 s, sys: 612 ms, total: 24.8 s\n",
      "Wall time: 24.8 s\n"
     ]
    },
    {
     "data": {
      "text/plain": "            score  track_id_1  track_id_2\n9130402  0.868466     3583862       44521\n7809770  0.994030    50451269    50450813\n5512334  0.839674    55332694    12688243\n6020405  0.855180    66002863    76472640\n273992   0.976172    17563538     3401959",
      "text/html": "<div>\n<style scoped>\n    .dataframe tbody tr th:only-of-type {\n        vertical-align: middle;\n    }\n\n    .dataframe tbody tr th {\n        vertical-align: top;\n    }\n\n    .dataframe thead th {\n        text-align: right;\n    }\n</style>\n<table border=\"1\" class=\"dataframe\">\n  <thead>\n    <tr style=\"text-align: right;\">\n      <th></th>\n      <th>score</th>\n      <th>track_id_1</th>\n      <th>track_id_2</th>\n    </tr>\n  </thead>\n  <tbody>\n    <tr>\n      <th>9130402</th>\n      <td>0.868466</td>\n      <td>3583862</td>\n      <td>44521</td>\n    </tr>\n    <tr>\n      <th>7809770</th>\n      <td>0.994030</td>\n      <td>50451269</td>\n      <td>50450813</td>\n    </tr>\n    <tr>\n      <th>5512334</th>\n      <td>0.839674</td>\n      <td>55332694</td>\n      <td>12688243</td>\n    </tr>\n    <tr>\n      <th>6020405</th>\n      <td>0.855180</td>\n      <td>66002863</td>\n      <td>76472640</td>\n    </tr>\n    <tr>\n      <th>273992</th>\n      <td>0.976172</td>\n      <td>17563538</td>\n      <td>3401959</td>\n    </tr>\n  </tbody>\n</table>\n</div>"
     },
     "execution_count": 35,
     "metadata": {},
     "output_type": "execute_result"
    }
   ],
   "source": [
    "%%time\n",
    "# получим энкодированные идентификаторы всех объектов, известных нам из events_train\n",
    "train_track_ids_enc = events_train['track_id_enc'].unique()\n",
    "\n",
    "max_similar_items = 10\n",
    "\n",
    "# получаем списки похожих объектов, используя ранее полученную ALS-модель\n",
    "# метод similar_items возвращает и сам объект, как наиболее похожий\n",
    "# этот объект мы позже отфильтруем, но сейчас запросим на 1 больше\n",
    "similar_items = als_model.similar_items(train_track_ids_enc, N=max_similar_items+1)\n",
    "\n",
    "# преобразуем полученные списки в табличный формат\n",
    "sim_item_track_ids_enc = similar_items[0]\n",
    "sim_item_scores = similar_items[1]\n",
    "\n",
    "similar_items = pd.DataFrame({\n",
    "    \"track_id_enc\": train_track_ids_enc,\n",
    "    \"sim_track_id_enc\": sim_item_track_ids_enc.tolist(),\n",
    "    \"score\": sim_item_scores.tolist()})\n",
    "\n",
    "similar_items = similar_items.explode([\"sim_track_id_enc\", \"score\"], ignore_index=True)\n",
    "\n",
    "# приводим типы данных\n",
    "similar_items[\"sim_track_id_enc\"] = similar_items[\"sim_track_id_enc\"].astype(\"int\")\n",
    "similar_items[\"score\"] = similar_items[\"score\"].astype(\"float\")\n",
    "\n",
    "# получаем изначальные идентификаторы\n",
    "similar_items[\"track_id_1\"] = item_encoder.inverse_transform(similar_items[\"track_id_enc\"])\n",
    "similar_items[\"track_id_2\"] = item_encoder.inverse_transform(similar_items[\"sim_track_id_enc\"])\n",
    "similar_items = similar_items.drop(columns=[\"track_id_enc\", \"sim_track_id_enc\"])\n",
    "\n",
    "# убираем пары с одинаковыми объектами\n",
    "similar_items = similar_items.query(\"track_id_1 != track_id_2\")\n",
    "\n",
    "similar_items.to_parquet('similar.parquet')\n",
    "similar_items.sample(5)"
   ]
  },
  {
   "cell_type": "markdown",
   "id": "0087a3e7-ca9f-42cd-944c-944222c1baef",
   "metadata": {},
   "source": [
    "# Построение признаков"
   ]
  },
  {
   "cell_type": "markdown",
   "id": "e82a32e1-b90b-4eaf-9439-fc8deab9f34b",
   "metadata": {},
   "source": [
    "Построим три признака, можно больше, для ранжирующей модели."
   ]
  },
  {
   "cell_type": "code",
   "execution_count": 36,
   "outputs": [
    {
     "name": "stdout",
     "output_type": "stream",
     "text": [
      "CPU times: user 1min 15s, sys: 3.42 s, total: 1min 18s\n",
      "Wall time: 1min 18s\n"
     ]
    }
   ],
   "source": [
    "%%time\n",
    "def get_user_features(events):\n",
    "    user_features = events.groupby('user_id').agg(\n",
    "        tracks_total=('track_id', 'nunique'),\n",
    "        hearing_days=('started_at', lambda x: (x.max() - x.min()).days),\n",
    "    )\n",
    "    user_features['tracks_per_day'] = user_features['tracks_total'] / user_features['hearing_days']\n",
    "    return user_features\n",
    "\n",
    "user_features_for_train = get_user_features(events_train)"
   ],
   "metadata": {
    "collapsed": false
   }
  },
  {
   "cell_type": "code",
   "execution_count": 37,
   "outputs": [],
   "source": [
    "events = events.rename(columns={'track_id': 'item_id'})\n",
    "events_train = events_train.rename(columns={'track_id': 'item_id'})\n",
    "events_test = events_test.rename(columns={'track_id': 'item_id'})"
   ],
   "metadata": {
    "collapsed": false
   }
  },
  {
   "cell_type": "code",
   "execution_count": 38,
   "outputs": [
    {
     "name": "stdout",
     "output_type": "stream",
     "text": [
      "CPU times: user 40.2 s, sys: 2.45 s, total: 42.7 s\n",
      "Wall time: 42.7 s\n"
     ]
    }
   ],
   "source": [
    "%%time\n",
    "def get_item_features(events):\n",
    "    items_features = events.groupby('item_id').agg(\n",
    "        nusers=('user_id', 'nunique'),\n",
    "    )\n",
    "    return items_features\n",
    "\n",
    "item_features_for_train = get_item_features(events_train)\n"
   ],
   "metadata": {
    "collapsed": false
   }
  },
  {
   "cell_type": "code",
   "execution_count": 39,
   "outputs": [],
   "source": [
    "# genre_names_to_id = genres.reset_index().set_index(\"name\")[\"id\"].to_dict()\n",
    "# genre_names_to_id"
   ],
   "metadata": {
    "collapsed": false
   }
  },
  {
   "cell_type": "markdown",
   "id": "47bcf88d-b236-46f0-a6f3-38ddd64895fe",
   "metadata": {},
   "source": [
    "# Ранжирование рекомендаций"
   ]
  },
  {
   "cell_type": "markdown",
   "id": "e8cd8223-3418-4493-8c87-1f76286ebda0",
   "metadata": {},
   "source": [
    "Построим ранжирующую модель, чтобы сделать рекомендации более точными. Отранжируем рекомендации."
   ]
  },
  {
   "cell_type": "code",
   "execution_count": 40,
   "id": "79f1dd92-32a9-463d-827e-8bb9ee5bbb54",
   "metadata": {},
   "outputs": [
    {
     "data": {
      "text/plain": "user_id         697473\nitem_id         502028\ntrack_seq        12850\nstarted_at           8\nuser_id_enc     697473\ntrack_id_enc    502028\ndtype: int64"
     },
     "execution_count": 40,
     "metadata": {},
     "output_type": "execute_result"
    }
   ],
   "source": [
    "split_date_for_labels = pd.to_datetime('2022-12-24').date()\n",
    "split_date_for_labels_idx = events_test[\"started_at\"] < split_date_for_labels\n",
    "events_labels = events_test[split_date_for_labels_idx].copy()\n",
    "events_test_2 = events_test[~split_date_for_labels_idx].copy()\n",
    "events_labels.nunique()"
   ]
  },
  {
   "cell_type": "code",
   "execution_count": 41,
   "id": "6dbe4db4-1ac5-44da-a13c-8e7f9768ab73",
   "metadata": {},
   "outputs": [],
   "source": [
    "candidates = als_recommendations[[\"user_id\", \"item_id\", \"score\"]]\n"
   ]
  },
  {
   "cell_type": "code",
   "execution_count": 42,
   "outputs": [
    {
     "name": "stdout",
     "output_type": "stream",
     "text": [
      "CPU times: user 1min 36s, sys: 6.14 s, total: 1min 42s\n",
      "Wall time: 1min 42s\n"
     ]
    },
    {
     "name": "stderr",
     "output_type": "stream",
     "text": [
      "<timed exec>:21: DeprecationWarning: DataFrameGroupBy.apply operated on the grouping columns. This behavior is deprecated, and in a future version of pandas the grouping columns will be excluded from the operation. Either pass `include_groups=False` to exclude the groupings or explicitly select the grouping columns after groupby to silence this warning.\n"
     ]
    },
    {
     "data": {
      "text/plain": "(1168921, 4)"
     },
     "execution_count": 42,
     "metadata": {},
     "output_type": "execute_result"
    }
   ],
   "source": [
    "%%time\n",
    "# добавляем таргет к кандидатам со значением:\n",
    "# — 1 для тех item_id, которые пользователь прочитал\n",
    "# — 0, для всех остальных\n",
    "\n",
    "events_labels[\"target\"] = 1\n",
    "\n",
    "candidates = candidates.merge(events_labels[[\"user_id\", \"item_id\", \"target\"]],\n",
    "                              on=[\"user_id\", \"item_id\"], how='left')\n",
    "\n",
    "candidates[\"target\"] = candidates[\"target\"].fillna(0).astype(\"int\")\n",
    "#\n",
    "# в кандидатах оставляем только тех пользователей, у которых есть хотя бы один положительный таргет\n",
    "candidates_to_sample = candidates.groupby(\"user_id\").filter(lambda x: x[\"target\"].sum() > 0)\n",
    "#\n",
    "# для каждого пользователя оставляем только 4 негативных примера\n",
    "negatives_per_user = 4\n",
    "candidates_for_train = pd.concat([\n",
    "    candidates[candidates.target==1],\n",
    "    candidates_to_sample.query(\"target == 0\") \\\n",
    "        .groupby(\"user_id\") \\\n",
    "        .apply(lambda x: x.sample(negatives_per_user, random_state=0))\n",
    "])\n",
    "candidates_for_train.shape"
   ],
   "metadata": {
    "collapsed": false
   }
  },
  {
   "cell_type": "code",
   "execution_count": 43,
   "outputs": [],
   "source": [
    "candidates_for_train = candidates_for_train.merge(user_features_for_train, on=\"user_id\", how=\"left\")\n",
    "candidates_for_train = candidates_for_train.merge(item_features_for_train, on=\"item_id\", how=\"left\")"
   ],
   "metadata": {
    "collapsed": false
   }
  },
  {
   "cell_type": "code",
   "execution_count": 44,
   "outputs": [
    {
     "data": {
      "text/plain": "        user_id   item_id     score  target  tracks_total  hearing_days  \\\n366776  1285408  30040066  0.032181       1            18            86   \n352321  1234818  24745650  0.054495       1            13            19   \n886797   875774  14701552  0.021244       0            38             3   \n609149   384023    214489  0.192684       0            47            52   \n920884   936181  36666161  0.014473       0             7            30   \n\n        tracks_per_day  nusers  \n366776        0.209302    6001  \n352321        0.684211   22597  \n886797       12.666667   44615  \n609149        0.903846   42931  \n920884        0.233333   12774  ",
      "text/html": "<div>\n<style scoped>\n    .dataframe tbody tr th:only-of-type {\n        vertical-align: middle;\n    }\n\n    .dataframe tbody tr th {\n        vertical-align: top;\n    }\n\n    .dataframe thead th {\n        text-align: right;\n    }\n</style>\n<table border=\"1\" class=\"dataframe\">\n  <thead>\n    <tr style=\"text-align: right;\">\n      <th></th>\n      <th>user_id</th>\n      <th>item_id</th>\n      <th>score</th>\n      <th>target</th>\n      <th>tracks_total</th>\n      <th>hearing_days</th>\n      <th>tracks_per_day</th>\n      <th>nusers</th>\n    </tr>\n  </thead>\n  <tbody>\n    <tr>\n      <th>366776</th>\n      <td>1285408</td>\n      <td>30040066</td>\n      <td>0.032181</td>\n      <td>1</td>\n      <td>18</td>\n      <td>86</td>\n      <td>0.209302</td>\n      <td>6001</td>\n    </tr>\n    <tr>\n      <th>352321</th>\n      <td>1234818</td>\n      <td>24745650</td>\n      <td>0.054495</td>\n      <td>1</td>\n      <td>13</td>\n      <td>19</td>\n      <td>0.684211</td>\n      <td>22597</td>\n    </tr>\n    <tr>\n      <th>886797</th>\n      <td>875774</td>\n      <td>14701552</td>\n      <td>0.021244</td>\n      <td>0</td>\n      <td>38</td>\n      <td>3</td>\n      <td>12.666667</td>\n      <td>44615</td>\n    </tr>\n    <tr>\n      <th>609149</th>\n      <td>384023</td>\n      <td>214489</td>\n      <td>0.192684</td>\n      <td>0</td>\n      <td>47</td>\n      <td>52</td>\n      <td>0.903846</td>\n      <td>42931</td>\n    </tr>\n    <tr>\n      <th>920884</th>\n      <td>936181</td>\n      <td>36666161</td>\n      <td>0.014473</td>\n      <td>0</td>\n      <td>7</td>\n      <td>30</td>\n      <td>0.233333</td>\n      <td>12774</td>\n    </tr>\n  </tbody>\n</table>\n</div>"
     },
     "execution_count": 44,
     "metadata": {},
     "output_type": "execute_result"
    }
   ],
   "source": [
    "candidates_for_train.sample(5)\n"
   ],
   "metadata": {
    "collapsed": false
   }
  },
  {
   "cell_type": "code",
   "execution_count": 45,
   "outputs": [
    {
     "name": "stdout",
     "output_type": "stream",
     "text": [
      "0:\tlearn: 0.6769845\ttotal: 13.4ms\tremaining: 13.3s\n",
      "1:\tlearn: 0.6639752\ttotal: 16.7ms\tremaining: 8.33s\n",
      "2:\tlearn: 0.6534332\ttotal: 19.8ms\tremaining: 6.59s\n",
      "3:\tlearn: 0.6447868\ttotal: 23.1ms\tremaining: 5.75s\n",
      "4:\tlearn: 0.6379083\ttotal: 26.3ms\tremaining: 5.23s\n",
      "5:\tlearn: 0.6323243\ttotal: 29.5ms\tremaining: 4.88s\n",
      "6:\tlearn: 0.6276460\ttotal: 32.7ms\tremaining: 4.63s\n",
      "7:\tlearn: 0.6239076\ttotal: 36ms\tremaining: 4.46s\n",
      "8:\tlearn: 0.6208252\ttotal: 39.3ms\tremaining: 4.32s\n",
      "9:\tlearn: 0.6181265\ttotal: 42.4ms\tremaining: 4.2s\n",
      "10:\tlearn: 0.6160199\ttotal: 45.6ms\tremaining: 4.1s\n",
      "11:\tlearn: 0.6142336\ttotal: 48.8ms\tremaining: 4.02s\n",
      "12:\tlearn: 0.6126261\ttotal: 51.9ms\tremaining: 3.94s\n",
      "13:\tlearn: 0.6112928\ttotal: 55.2ms\tremaining: 3.89s\n",
      "14:\tlearn: 0.6102719\ttotal: 58.6ms\tremaining: 3.85s\n",
      "15:\tlearn: 0.6093869\ttotal: 62ms\tremaining: 3.81s\n",
      "16:\tlearn: 0.6085988\ttotal: 65.2ms\tremaining: 3.77s\n",
      "17:\tlearn: 0.6078058\ttotal: 68.4ms\tremaining: 3.73s\n",
      "18:\tlearn: 0.6069298\ttotal: 71.9ms\tremaining: 3.71s\n",
      "19:\tlearn: 0.6064021\ttotal: 75.2ms\tremaining: 3.68s\n",
      "20:\tlearn: 0.6059507\ttotal: 78.4ms\tremaining: 3.65s\n",
      "21:\tlearn: 0.6052761\ttotal: 81.6ms\tremaining: 3.63s\n",
      "22:\tlearn: 0.6048942\ttotal: 84.9ms\tremaining: 3.61s\n",
      "23:\tlearn: 0.6045921\ttotal: 88.2ms\tremaining: 3.59s\n",
      "24:\tlearn: 0.6040060\ttotal: 91.4ms\tremaining: 3.57s\n",
      "25:\tlearn: 0.6031542\ttotal: 95.1ms\tremaining: 3.56s\n",
      "26:\tlearn: 0.6022355\ttotal: 98.2ms\tremaining: 3.54s\n",
      "27:\tlearn: 0.6018460\ttotal: 101ms\tremaining: 3.52s\n",
      "28:\tlearn: 0.6016407\ttotal: 105ms\tremaining: 3.5s\n",
      "29:\tlearn: 0.6014683\ttotal: 108ms\tremaining: 3.5s\n",
      "30:\tlearn: 0.6011122\ttotal: 112ms\tremaining: 3.49s\n",
      "31:\tlearn: 0.6007724\ttotal: 115ms\tremaining: 3.48s\n",
      "32:\tlearn: 0.6006342\ttotal: 118ms\tremaining: 3.47s\n",
      "33:\tlearn: 0.6004273\ttotal: 122ms\tremaining: 3.46s\n",
      "34:\tlearn: 0.6000031\ttotal: 125ms\tremaining: 3.45s\n",
      "35:\tlearn: 0.5997316\ttotal: 129ms\tremaining: 3.44s\n",
      "36:\tlearn: 0.5991030\ttotal: 132ms\tremaining: 3.43s\n",
      "37:\tlearn: 0.5989921\ttotal: 135ms\tremaining: 3.42s\n",
      "38:\tlearn: 0.5984899\ttotal: 139ms\tremaining: 3.42s\n",
      "39:\tlearn: 0.5983814\ttotal: 142ms\tremaining: 3.41s\n",
      "40:\tlearn: 0.5982814\ttotal: 146ms\tremaining: 3.41s\n",
      "41:\tlearn: 0.5979703\ttotal: 149ms\tremaining: 3.4s\n",
      "42:\tlearn: 0.5978718\ttotal: 153ms\tremaining: 3.4s\n",
      "43:\tlearn: 0.5977796\ttotal: 156ms\tremaining: 3.4s\n",
      "44:\tlearn: 0.5974206\ttotal: 160ms\tremaining: 3.39s\n",
      "45:\tlearn: 0.5971661\ttotal: 163ms\tremaining: 3.38s\n",
      "46:\tlearn: 0.5971112\ttotal: 167ms\tremaining: 3.38s\n",
      "47:\tlearn: 0.5969917\ttotal: 170ms\tremaining: 3.37s\n",
      "48:\tlearn: 0.5968354\ttotal: 173ms\tremaining: 3.37s\n",
      "49:\tlearn: 0.5967226\ttotal: 177ms\tremaining: 3.36s\n",
      "50:\tlearn: 0.5965610\ttotal: 180ms\tremaining: 3.35s\n",
      "51:\tlearn: 0.5963629\ttotal: 183ms\tremaining: 3.33s\n",
      "52:\tlearn: 0.5961459\ttotal: 186ms\tremaining: 3.32s\n",
      "53:\tlearn: 0.5959616\ttotal: 189ms\tremaining: 3.31s\n",
      "54:\tlearn: 0.5956010\ttotal: 192ms\tremaining: 3.31s\n",
      "55:\tlearn: 0.5954807\ttotal: 196ms\tremaining: 3.3s\n",
      "56:\tlearn: 0.5951313\ttotal: 199ms\tremaining: 3.29s\n",
      "57:\tlearn: 0.5950677\ttotal: 202ms\tremaining: 3.28s\n",
      "58:\tlearn: 0.5948225\ttotal: 205ms\tremaining: 3.27s\n",
      "59:\tlearn: 0.5947762\ttotal: 208ms\tremaining: 3.26s\n",
      "60:\tlearn: 0.5945797\ttotal: 211ms\tremaining: 3.25s\n",
      "61:\tlearn: 0.5945290\ttotal: 215ms\tremaining: 3.25s\n",
      "62:\tlearn: 0.5943276\ttotal: 218ms\tremaining: 3.24s\n",
      "63:\tlearn: 0.5941712\ttotal: 221ms\tremaining: 3.23s\n",
      "64:\tlearn: 0.5940299\ttotal: 224ms\tremaining: 3.22s\n",
      "65:\tlearn: 0.5939108\ttotal: 227ms\tremaining: 3.21s\n",
      "66:\tlearn: 0.5938597\ttotal: 230ms\tremaining: 3.21s\n",
      "67:\tlearn: 0.5937352\ttotal: 233ms\tremaining: 3.2s\n",
      "68:\tlearn: 0.5936094\ttotal: 237ms\tremaining: 3.19s\n",
      "69:\tlearn: 0.5935555\ttotal: 240ms\tremaining: 3.19s\n",
      "70:\tlearn: 0.5934488\ttotal: 243ms\tremaining: 3.18s\n",
      "71:\tlearn: 0.5932923\ttotal: 246ms\tremaining: 3.17s\n",
      "72:\tlearn: 0.5931665\ttotal: 250ms\tremaining: 3.17s\n",
      "73:\tlearn: 0.5931191\ttotal: 253ms\tremaining: 3.16s\n",
      "74:\tlearn: 0.5929529\ttotal: 256ms\tremaining: 3.16s\n",
      "75:\tlearn: 0.5928788\ttotal: 259ms\tremaining: 3.15s\n",
      "76:\tlearn: 0.5928260\ttotal: 262ms\tremaining: 3.15s\n",
      "77:\tlearn: 0.5927303\ttotal: 265ms\tremaining: 3.14s\n",
      "78:\tlearn: 0.5924454\ttotal: 269ms\tremaining: 3.13s\n",
      "79:\tlearn: 0.5923335\ttotal: 272ms\tremaining: 3.13s\n",
      "80:\tlearn: 0.5920880\ttotal: 275ms\tremaining: 3.12s\n",
      "81:\tlearn: 0.5920533\ttotal: 278ms\tremaining: 3.11s\n",
      "82:\tlearn: 0.5919701\ttotal: 281ms\tremaining: 3.11s\n",
      "83:\tlearn: 0.5918688\ttotal: 285ms\tremaining: 3.1s\n",
      "84:\tlearn: 0.5918049\ttotal: 288ms\tremaining: 3.1s\n",
      "85:\tlearn: 0.5917591\ttotal: 291ms\tremaining: 3.09s\n",
      "86:\tlearn: 0.5917175\ttotal: 294ms\tremaining: 3.09s\n",
      "87:\tlearn: 0.5916312\ttotal: 297ms\tremaining: 3.08s\n",
      "88:\tlearn: 0.5915398\ttotal: 300ms\tremaining: 3.08s\n",
      "89:\tlearn: 0.5914637\ttotal: 304ms\tremaining: 3.07s\n",
      "90:\tlearn: 0.5914046\ttotal: 307ms\tremaining: 3.06s\n",
      "91:\tlearn: 0.5912281\ttotal: 310ms\tremaining: 3.06s\n",
      "92:\tlearn: 0.5911385\ttotal: 313ms\tremaining: 3.05s\n",
      "93:\tlearn: 0.5911055\ttotal: 316ms\tremaining: 3.05s\n",
      "94:\tlearn: 0.5910505\ttotal: 319ms\tremaining: 3.04s\n",
      "95:\tlearn: 0.5909965\ttotal: 323ms\tremaining: 3.04s\n",
      "96:\tlearn: 0.5908576\ttotal: 326ms\tremaining: 3.03s\n",
      "97:\tlearn: 0.5908082\ttotal: 329ms\tremaining: 3.02s\n",
      "98:\tlearn: 0.5907314\ttotal: 332ms\tremaining: 3.02s\n",
      "99:\tlearn: 0.5906942\ttotal: 335ms\tremaining: 3.01s\n",
      "100:\tlearn: 0.5906246\ttotal: 338ms\tremaining: 3.01s\n",
      "101:\tlearn: 0.5905196\ttotal: 341ms\tremaining: 3s\n",
      "102:\tlearn: 0.5904550\ttotal: 344ms\tremaining: 3s\n",
      "103:\tlearn: 0.5903716\ttotal: 348ms\tremaining: 2.99s\n",
      "104:\tlearn: 0.5902834\ttotal: 351ms\tremaining: 2.99s\n",
      "105:\tlearn: 0.5901913\ttotal: 354ms\tremaining: 2.98s\n",
      "106:\tlearn: 0.5901445\ttotal: 357ms\tremaining: 2.98s\n",
      "107:\tlearn: 0.5900238\ttotal: 360ms\tremaining: 2.97s\n",
      "108:\tlearn: 0.5899464\ttotal: 363ms\tremaining: 2.97s\n",
      "109:\tlearn: 0.5898607\ttotal: 366ms\tremaining: 2.96s\n",
      "110:\tlearn: 0.5897523\ttotal: 369ms\tremaining: 2.96s\n",
      "111:\tlearn: 0.5897120\ttotal: 372ms\tremaining: 2.95s\n",
      "112:\tlearn: 0.5896585\ttotal: 375ms\tremaining: 2.95s\n",
      "113:\tlearn: 0.5895947\ttotal: 379ms\tremaining: 2.94s\n",
      "114:\tlearn: 0.5895545\ttotal: 382ms\tremaining: 2.94s\n",
      "115:\tlearn: 0.5894376\ttotal: 385ms\tremaining: 2.93s\n",
      "116:\tlearn: 0.5894041\ttotal: 388ms\tremaining: 2.93s\n",
      "117:\tlearn: 0.5893406\ttotal: 391ms\tremaining: 2.92s\n",
      "118:\tlearn: 0.5892732\ttotal: 394ms\tremaining: 2.92s\n",
      "119:\tlearn: 0.5891806\ttotal: 397ms\tremaining: 2.91s\n",
      "120:\tlearn: 0.5891483\ttotal: 401ms\tremaining: 2.91s\n",
      "121:\tlearn: 0.5891265\ttotal: 404ms\tremaining: 2.9s\n",
      "122:\tlearn: 0.5890853\ttotal: 407ms\tremaining: 2.9s\n",
      "123:\tlearn: 0.5890152\ttotal: 410ms\tremaining: 2.9s\n",
      "124:\tlearn: 0.5889673\ttotal: 413ms\tremaining: 2.89s\n",
      "125:\tlearn: 0.5888934\ttotal: 416ms\tremaining: 2.89s\n",
      "126:\tlearn: 0.5888436\ttotal: 419ms\tremaining: 2.88s\n",
      "127:\tlearn: 0.5887983\ttotal: 422ms\tremaining: 2.88s\n",
      "128:\tlearn: 0.5887370\ttotal: 426ms\tremaining: 2.87s\n",
      "129:\tlearn: 0.5886623\ttotal: 429ms\tremaining: 2.87s\n",
      "130:\tlearn: 0.5885140\ttotal: 432ms\tremaining: 2.86s\n",
      "131:\tlearn: 0.5884588\ttotal: 435ms\tremaining: 2.86s\n",
      "132:\tlearn: 0.5884136\ttotal: 438ms\tremaining: 2.85s\n",
      "133:\tlearn: 0.5883396\ttotal: 441ms\tremaining: 2.85s\n",
      "134:\tlearn: 0.5883024\ttotal: 444ms\tremaining: 2.85s\n",
      "135:\tlearn: 0.5882720\ttotal: 447ms\tremaining: 2.84s\n",
      "136:\tlearn: 0.5882254\ttotal: 450ms\tremaining: 2.84s\n",
      "137:\tlearn: 0.5881730\ttotal: 453ms\tremaining: 2.83s\n",
      "138:\tlearn: 0.5881027\ttotal: 457ms\tremaining: 2.83s\n",
      "139:\tlearn: 0.5880563\ttotal: 460ms\tremaining: 2.82s\n",
      "140:\tlearn: 0.5880197\ttotal: 463ms\tremaining: 2.82s\n",
      "141:\tlearn: 0.5879818\ttotal: 466ms\tremaining: 2.81s\n",
      "142:\tlearn: 0.5879361\ttotal: 469ms\tremaining: 2.81s\n",
      "143:\tlearn: 0.5879116\ttotal: 472ms\tremaining: 2.81s\n",
      "144:\tlearn: 0.5878678\ttotal: 475ms\tremaining: 2.8s\n",
      "145:\tlearn: 0.5878435\ttotal: 478ms\tremaining: 2.8s\n",
      "146:\tlearn: 0.5878057\ttotal: 482ms\tremaining: 2.79s\n",
      "147:\tlearn: 0.5877902\ttotal: 485ms\tremaining: 2.79s\n",
      "148:\tlearn: 0.5877312\ttotal: 488ms\tremaining: 2.79s\n",
      "149:\tlearn: 0.5876898\ttotal: 491ms\tremaining: 2.78s\n",
      "150:\tlearn: 0.5876486\ttotal: 494ms\tremaining: 2.78s\n",
      "151:\tlearn: 0.5876214\ttotal: 497ms\tremaining: 2.77s\n",
      "152:\tlearn: 0.5875333\ttotal: 500ms\tremaining: 2.77s\n",
      "153:\tlearn: 0.5874823\ttotal: 503ms\tremaining: 2.77s\n",
      "154:\tlearn: 0.5874306\ttotal: 507ms\tremaining: 2.76s\n",
      "155:\tlearn: 0.5873962\ttotal: 510ms\tremaining: 2.76s\n",
      "156:\tlearn: 0.5873601\ttotal: 513ms\tremaining: 2.75s\n",
      "157:\tlearn: 0.5872076\ttotal: 516ms\tremaining: 2.75s\n",
      "158:\tlearn: 0.5871516\ttotal: 519ms\tremaining: 2.74s\n",
      "159:\tlearn: 0.5870696\ttotal: 522ms\tremaining: 2.74s\n",
      "160:\tlearn: 0.5870499\ttotal: 525ms\tremaining: 2.73s\n",
      "161:\tlearn: 0.5869590\ttotal: 528ms\tremaining: 2.73s\n",
      "162:\tlearn: 0.5869262\ttotal: 531ms\tremaining: 2.73s\n",
      "163:\tlearn: 0.5869032\ttotal: 534ms\tremaining: 2.72s\n",
      "164:\tlearn: 0.5868666\ttotal: 538ms\tremaining: 2.72s\n",
      "165:\tlearn: 0.5868390\ttotal: 541ms\tremaining: 2.72s\n",
      "166:\tlearn: 0.5867995\ttotal: 544ms\tremaining: 2.71s\n",
      "167:\tlearn: 0.5867059\ttotal: 547ms\tremaining: 2.71s\n",
      "168:\tlearn: 0.5866430\ttotal: 550ms\tremaining: 2.7s\n",
      "169:\tlearn: 0.5865790\ttotal: 553ms\tremaining: 2.7s\n",
      "170:\tlearn: 0.5865417\ttotal: 556ms\tremaining: 2.7s\n",
      "171:\tlearn: 0.5864830\ttotal: 559ms\tremaining: 2.69s\n",
      "172:\tlearn: 0.5864593\ttotal: 562ms\tremaining: 2.69s\n",
      "173:\tlearn: 0.5864112\ttotal: 566ms\tremaining: 2.68s\n",
      "174:\tlearn: 0.5863530\ttotal: 569ms\tremaining: 2.68s\n",
      "175:\tlearn: 0.5863279\ttotal: 572ms\tremaining: 2.68s\n",
      "176:\tlearn: 0.5862891\ttotal: 575ms\tremaining: 2.67s\n",
      "177:\tlearn: 0.5862384\ttotal: 578ms\tremaining: 2.67s\n",
      "178:\tlearn: 0.5862052\ttotal: 581ms\tremaining: 2.67s\n",
      "179:\tlearn: 0.5861648\ttotal: 584ms\tremaining: 2.66s\n",
      "180:\tlearn: 0.5861437\ttotal: 587ms\tremaining: 2.66s\n",
      "181:\tlearn: 0.5860885\ttotal: 590ms\tremaining: 2.65s\n",
      "182:\tlearn: 0.5860373\ttotal: 593ms\tremaining: 2.65s\n",
      "183:\tlearn: 0.5859809\ttotal: 597ms\tremaining: 2.65s\n",
      "184:\tlearn: 0.5859051\ttotal: 600ms\tremaining: 2.64s\n",
      "185:\tlearn: 0.5858774\ttotal: 603ms\tremaining: 2.64s\n",
      "186:\tlearn: 0.5858393\ttotal: 606ms\tremaining: 2.63s\n",
      "187:\tlearn: 0.5858058\ttotal: 609ms\tremaining: 2.63s\n",
      "188:\tlearn: 0.5857791\ttotal: 612ms\tremaining: 2.63s\n",
      "189:\tlearn: 0.5857125\ttotal: 615ms\tremaining: 2.62s\n",
      "190:\tlearn: 0.5856687\ttotal: 618ms\tremaining: 2.62s\n",
      "191:\tlearn: 0.5856281\ttotal: 622ms\tremaining: 2.62s\n",
      "192:\tlearn: 0.5855486\ttotal: 625ms\tremaining: 2.61s\n",
      "193:\tlearn: 0.5855321\ttotal: 628ms\tremaining: 2.61s\n",
      "194:\tlearn: 0.5855049\ttotal: 631ms\tremaining: 2.6s\n",
      "195:\tlearn: 0.5854880\ttotal: 634ms\tremaining: 2.6s\n",
      "196:\tlearn: 0.5854557\ttotal: 637ms\tremaining: 2.6s\n",
      "197:\tlearn: 0.5853848\ttotal: 640ms\tremaining: 2.59s\n",
      "198:\tlearn: 0.5853645\ttotal: 644ms\tremaining: 2.59s\n",
      "199:\tlearn: 0.5853316\ttotal: 647ms\tremaining: 2.59s\n",
      "200:\tlearn: 0.5852748\ttotal: 650ms\tremaining: 2.58s\n",
      "201:\tlearn: 0.5852408\ttotal: 653ms\tremaining: 2.58s\n",
      "202:\tlearn: 0.5852034\ttotal: 656ms\tremaining: 2.58s\n",
      "203:\tlearn: 0.5851606\ttotal: 659ms\tremaining: 2.57s\n",
      "204:\tlearn: 0.5851479\ttotal: 662ms\tremaining: 2.57s\n",
      "205:\tlearn: 0.5851136\ttotal: 665ms\tremaining: 2.56s\n",
      "206:\tlearn: 0.5851016\ttotal: 669ms\tremaining: 2.56s\n",
      "207:\tlearn: 0.5850892\ttotal: 672ms\tremaining: 2.56s\n",
      "208:\tlearn: 0.5850350\ttotal: 675ms\tremaining: 2.55s\n",
      "209:\tlearn: 0.5849701\ttotal: 678ms\tremaining: 2.55s\n",
      "210:\tlearn: 0.5849244\ttotal: 681ms\tremaining: 2.55s\n",
      "211:\tlearn: 0.5848896\ttotal: 684ms\tremaining: 2.54s\n",
      "212:\tlearn: 0.5848695\ttotal: 687ms\tremaining: 2.54s\n",
      "213:\tlearn: 0.5848177\ttotal: 690ms\tremaining: 2.54s\n",
      "214:\tlearn: 0.5847262\ttotal: 693ms\tremaining: 2.53s\n",
      "215:\tlearn: 0.5846842\ttotal: 696ms\tremaining: 2.53s\n",
      "216:\tlearn: 0.5846598\ttotal: 700ms\tremaining: 2.52s\n",
      "217:\tlearn: 0.5846236\ttotal: 703ms\tremaining: 2.52s\n",
      "218:\tlearn: 0.5846015\ttotal: 706ms\tremaining: 2.52s\n",
      "219:\tlearn: 0.5845901\ttotal: 709ms\tremaining: 2.51s\n",
      "220:\tlearn: 0.5845330\ttotal: 712ms\tremaining: 2.51s\n",
      "221:\tlearn: 0.5844929\ttotal: 715ms\tremaining: 2.5s\n",
      "222:\tlearn: 0.5844270\ttotal: 718ms\tremaining: 2.5s\n",
      "223:\tlearn: 0.5843825\ttotal: 721ms\tremaining: 2.5s\n",
      "224:\tlearn: 0.5843528\ttotal: 724ms\tremaining: 2.49s\n",
      "225:\tlearn: 0.5843103\ttotal: 727ms\tremaining: 2.49s\n",
      "226:\tlearn: 0.5842966\ttotal: 731ms\tremaining: 2.49s\n",
      "227:\tlearn: 0.5842630\ttotal: 734ms\tremaining: 2.48s\n",
      "228:\tlearn: 0.5842332\ttotal: 737ms\tremaining: 2.48s\n",
      "229:\tlearn: 0.5842083\ttotal: 740ms\tremaining: 2.48s\n",
      "230:\tlearn: 0.5841804\ttotal: 743ms\tremaining: 2.47s\n",
      "231:\tlearn: 0.5841490\ttotal: 746ms\tremaining: 2.47s\n",
      "232:\tlearn: 0.5841344\ttotal: 749ms\tremaining: 2.46s\n",
      "233:\tlearn: 0.5840841\ttotal: 752ms\tremaining: 2.46s\n",
      "234:\tlearn: 0.5840585\ttotal: 755ms\tremaining: 2.46s\n",
      "235:\tlearn: 0.5840416\ttotal: 758ms\tremaining: 2.45s\n",
      "236:\tlearn: 0.5840211\ttotal: 761ms\tremaining: 2.45s\n",
      "237:\tlearn: 0.5840086\ttotal: 765ms\tremaining: 2.45s\n",
      "238:\tlearn: 0.5839694\ttotal: 768ms\tremaining: 2.44s\n",
      "239:\tlearn: 0.5839294\ttotal: 771ms\tremaining: 2.44s\n",
      "240:\tlearn: 0.5839183\ttotal: 774ms\tremaining: 2.44s\n",
      "241:\tlearn: 0.5838820\ttotal: 777ms\tremaining: 2.43s\n",
      "242:\tlearn: 0.5838481\ttotal: 780ms\tremaining: 2.43s\n",
      "243:\tlearn: 0.5838313\ttotal: 783ms\tremaining: 2.43s\n",
      "244:\tlearn: 0.5837957\ttotal: 786ms\tremaining: 2.42s\n",
      "245:\tlearn: 0.5837739\ttotal: 789ms\tremaining: 2.42s\n",
      "246:\tlearn: 0.5837473\ttotal: 792ms\tremaining: 2.42s\n",
      "247:\tlearn: 0.5837164\ttotal: 795ms\tremaining: 2.41s\n",
      "248:\tlearn: 0.5836859\ttotal: 799ms\tremaining: 2.41s\n",
      "249:\tlearn: 0.5836738\ttotal: 802ms\tremaining: 2.4s\n",
      "250:\tlearn: 0.5836276\ttotal: 805ms\tremaining: 2.4s\n",
      "251:\tlearn: 0.5836041\ttotal: 808ms\tremaining: 2.4s\n",
      "252:\tlearn: 0.5835451\ttotal: 811ms\tremaining: 2.39s\n",
      "253:\tlearn: 0.5835362\ttotal: 814ms\tremaining: 2.39s\n",
      "254:\tlearn: 0.5835256\ttotal: 817ms\tremaining: 2.39s\n",
      "255:\tlearn: 0.5834999\ttotal: 820ms\tremaining: 2.38s\n",
      "256:\tlearn: 0.5834878\ttotal: 824ms\tremaining: 2.38s\n",
      "257:\tlearn: 0.5834309\ttotal: 827ms\tremaining: 2.38s\n",
      "258:\tlearn: 0.5833694\ttotal: 830ms\tremaining: 2.37s\n",
      "259:\tlearn: 0.5833274\ttotal: 833ms\tremaining: 2.37s\n",
      "260:\tlearn: 0.5833154\ttotal: 836ms\tremaining: 2.37s\n",
      "261:\tlearn: 0.5832969\ttotal: 839ms\tremaining: 2.36s\n",
      "262:\tlearn: 0.5832636\ttotal: 842ms\tremaining: 2.36s\n",
      "263:\tlearn: 0.5832540\ttotal: 845ms\tremaining: 2.36s\n",
      "264:\tlearn: 0.5832274\ttotal: 848ms\tremaining: 2.35s\n",
      "265:\tlearn: 0.5832059\ttotal: 851ms\tremaining: 2.35s\n",
      "266:\tlearn: 0.5831785\ttotal: 855ms\tremaining: 2.35s\n",
      "267:\tlearn: 0.5831615\ttotal: 858ms\tremaining: 2.34s\n",
      "268:\tlearn: 0.5831442\ttotal: 861ms\tremaining: 2.34s\n",
      "269:\tlearn: 0.5831345\ttotal: 864ms\tremaining: 2.33s\n",
      "270:\tlearn: 0.5831202\ttotal: 867ms\tremaining: 2.33s\n",
      "271:\tlearn: 0.5831114\ttotal: 870ms\tremaining: 2.33s\n",
      "272:\tlearn: 0.5830868\ttotal: 873ms\tremaining: 2.33s\n",
      "273:\tlearn: 0.5830754\ttotal: 876ms\tremaining: 2.32s\n",
      "274:\tlearn: 0.5830688\ttotal: 880ms\tremaining: 2.32s\n",
      "275:\tlearn: 0.5830319\ttotal: 883ms\tremaining: 2.31s\n",
      "276:\tlearn: 0.5830085\ttotal: 886ms\tremaining: 2.31s\n",
      "277:\tlearn: 0.5829784\ttotal: 889ms\tremaining: 2.31s\n",
      "278:\tlearn: 0.5829605\ttotal: 892ms\tremaining: 2.31s\n",
      "279:\tlearn: 0.5829342\ttotal: 895ms\tremaining: 2.3s\n",
      "280:\tlearn: 0.5829134\ttotal: 898ms\tremaining: 2.3s\n",
      "281:\tlearn: 0.5828818\ttotal: 901ms\tremaining: 2.29s\n",
      "282:\tlearn: 0.5828653\ttotal: 905ms\tremaining: 2.29s\n",
      "283:\tlearn: 0.5828471\ttotal: 908ms\tremaining: 2.29s\n",
      "284:\tlearn: 0.5828230\ttotal: 911ms\tremaining: 2.29s\n",
      "285:\tlearn: 0.5827838\ttotal: 914ms\tremaining: 2.28s\n",
      "286:\tlearn: 0.5827653\ttotal: 917ms\tremaining: 2.28s\n",
      "287:\tlearn: 0.5827467\ttotal: 920ms\tremaining: 2.27s\n",
      "288:\tlearn: 0.5827128\ttotal: 923ms\tremaining: 2.27s\n",
      "289:\tlearn: 0.5826857\ttotal: 926ms\tremaining: 2.27s\n",
      "290:\tlearn: 0.5826668\ttotal: 929ms\tremaining: 2.26s\n",
      "291:\tlearn: 0.5826446\ttotal: 932ms\tremaining: 2.26s\n",
      "292:\tlearn: 0.5826254\ttotal: 936ms\tremaining: 2.26s\n",
      "293:\tlearn: 0.5826084\ttotal: 939ms\tremaining: 2.25s\n",
      "294:\tlearn: 0.5825877\ttotal: 942ms\tremaining: 2.25s\n",
      "295:\tlearn: 0.5825671\ttotal: 945ms\tremaining: 2.25s\n",
      "296:\tlearn: 0.5825096\ttotal: 948ms\tremaining: 2.24s\n",
      "297:\tlearn: 0.5824859\ttotal: 951ms\tremaining: 2.24s\n",
      "298:\tlearn: 0.5824692\ttotal: 954ms\tremaining: 2.24s\n",
      "299:\tlearn: 0.5824453\ttotal: 957ms\tremaining: 2.23s\n",
      "300:\tlearn: 0.5824240\ttotal: 960ms\tremaining: 2.23s\n",
      "301:\tlearn: 0.5824016\ttotal: 964ms\tremaining: 2.23s\n",
      "302:\tlearn: 0.5823752\ttotal: 967ms\tremaining: 2.22s\n",
      "303:\tlearn: 0.5823354\ttotal: 970ms\tremaining: 2.22s\n",
      "304:\tlearn: 0.5823127\ttotal: 973ms\tremaining: 2.22s\n",
      "305:\tlearn: 0.5822983\ttotal: 976ms\tremaining: 2.21s\n",
      "306:\tlearn: 0.5822741\ttotal: 979ms\tremaining: 2.21s\n",
      "307:\tlearn: 0.5822423\ttotal: 982ms\tremaining: 2.21s\n",
      "308:\tlearn: 0.5822146\ttotal: 985ms\tremaining: 2.2s\n",
      "309:\tlearn: 0.5822026\ttotal: 988ms\tremaining: 2.2s\n",
      "310:\tlearn: 0.5821798\ttotal: 991ms\tremaining: 2.2s\n",
      "311:\tlearn: 0.5821646\ttotal: 995ms\tremaining: 2.19s\n",
      "312:\tlearn: 0.5821419\ttotal: 998ms\tremaining: 2.19s\n",
      "313:\tlearn: 0.5821240\ttotal: 1s\tremaining: 2.19s\n",
      "314:\tlearn: 0.5821163\ttotal: 1s\tremaining: 2.18s\n",
      "315:\tlearn: 0.5820675\ttotal: 1.01s\tremaining: 2.18s\n",
      "316:\tlearn: 0.5820508\ttotal: 1.01s\tremaining: 2.18s\n",
      "317:\tlearn: 0.5820360\ttotal: 1.01s\tremaining: 2.17s\n",
      "318:\tlearn: 0.5820158\ttotal: 1.02s\tremaining: 2.17s\n",
      "319:\tlearn: 0.5819843\ttotal: 1.02s\tremaining: 2.17s\n",
      "320:\tlearn: 0.5819527\ttotal: 1.02s\tremaining: 2.16s\n",
      "321:\tlearn: 0.5819369\ttotal: 1.02s\tremaining: 2.16s\n",
      "322:\tlearn: 0.5819254\ttotal: 1.03s\tremaining: 2.16s\n",
      "323:\tlearn: 0.5819058\ttotal: 1.03s\tremaining: 2.15s\n",
      "324:\tlearn: 0.5818860\ttotal: 1.03s\tremaining: 2.15s\n",
      "325:\tlearn: 0.5818628\ttotal: 1.04s\tremaining: 2.15s\n",
      "326:\tlearn: 0.5818321\ttotal: 1.04s\tremaining: 2.14s\n",
      "327:\tlearn: 0.5818198\ttotal: 1.04s\tremaining: 2.14s\n",
      "328:\tlearn: 0.5817856\ttotal: 1.05s\tremaining: 2.13s\n",
      "329:\tlearn: 0.5817701\ttotal: 1.05s\tremaining: 2.13s\n",
      "330:\tlearn: 0.5817667\ttotal: 1.05s\tremaining: 2.13s\n",
      "331:\tlearn: 0.5817365\ttotal: 1.06s\tremaining: 2.13s\n",
      "332:\tlearn: 0.5817130\ttotal: 1.06s\tremaining: 2.12s\n",
      "333:\tlearn: 0.5816916\ttotal: 1.06s\tremaining: 2.12s\n",
      "334:\tlearn: 0.5816770\ttotal: 1.07s\tremaining: 2.12s\n",
      "335:\tlearn: 0.5816725\ttotal: 1.07s\tremaining: 2.11s\n",
      "336:\tlearn: 0.5816610\ttotal: 1.07s\tremaining: 2.11s\n",
      "337:\tlearn: 0.5816428\ttotal: 1.07s\tremaining: 2.11s\n",
      "338:\tlearn: 0.5816242\ttotal: 1.08s\tremaining: 2.1s\n",
      "339:\tlearn: 0.5815969\ttotal: 1.08s\tremaining: 2.1s\n",
      "340:\tlearn: 0.5815737\ttotal: 1.08s\tremaining: 2.1s\n",
      "341:\tlearn: 0.5815699\ttotal: 1.09s\tremaining: 2.09s\n",
      "342:\tlearn: 0.5815459\ttotal: 1.09s\tremaining: 2.09s\n",
      "343:\tlearn: 0.5815299\ttotal: 1.09s\tremaining: 2.09s\n",
      "344:\tlearn: 0.5815025\ttotal: 1.1s\tremaining: 2.08s\n",
      "345:\tlearn: 0.5814928\ttotal: 1.1s\tremaining: 2.08s\n",
      "346:\tlearn: 0.5814674\ttotal: 1.1s\tremaining: 2.08s\n",
      "347:\tlearn: 0.5814627\ttotal: 1.11s\tremaining: 2.07s\n",
      "348:\tlearn: 0.5814496\ttotal: 1.11s\tremaining: 2.07s\n",
      "349:\tlearn: 0.5814388\ttotal: 1.11s\tremaining: 2.07s\n",
      "350:\tlearn: 0.5814209\ttotal: 1.12s\tremaining: 2.06s\n",
      "351:\tlearn: 0.5814124\ttotal: 1.12s\tremaining: 2.06s\n",
      "352:\tlearn: 0.5813838\ttotal: 1.12s\tremaining: 2.06s\n",
      "353:\tlearn: 0.5813725\ttotal: 1.13s\tremaining: 2.05s\n",
      "354:\tlearn: 0.5813498\ttotal: 1.13s\tremaining: 2.05s\n",
      "355:\tlearn: 0.5813317\ttotal: 1.13s\tremaining: 2.05s\n",
      "356:\tlearn: 0.5813145\ttotal: 1.13s\tremaining: 2.04s\n",
      "357:\tlearn: 0.5812877\ttotal: 1.14s\tremaining: 2.04s\n",
      "358:\tlearn: 0.5812686\ttotal: 1.14s\tremaining: 2.04s\n",
      "359:\tlearn: 0.5812625\ttotal: 1.14s\tremaining: 2.03s\n",
      "360:\tlearn: 0.5812533\ttotal: 1.15s\tremaining: 2.03s\n",
      "361:\tlearn: 0.5812236\ttotal: 1.15s\tremaining: 2.03s\n",
      "362:\tlearn: 0.5812107\ttotal: 1.15s\tremaining: 2.02s\n",
      "363:\tlearn: 0.5811971\ttotal: 1.16s\tremaining: 2.02s\n",
      "364:\tlearn: 0.5811854\ttotal: 1.16s\tremaining: 2.02s\n",
      "365:\tlearn: 0.5811563\ttotal: 1.16s\tremaining: 2.01s\n",
      "366:\tlearn: 0.5811395\ttotal: 1.17s\tremaining: 2.01s\n",
      "367:\tlearn: 0.5811259\ttotal: 1.17s\tremaining: 2.01s\n",
      "368:\tlearn: 0.5811118\ttotal: 1.17s\tremaining: 2s\n",
      "369:\tlearn: 0.5810877\ttotal: 1.17s\tremaining: 2s\n",
      "370:\tlearn: 0.5810784\ttotal: 1.18s\tremaining: 2s\n",
      "371:\tlearn: 0.5810640\ttotal: 1.18s\tremaining: 1.99s\n",
      "372:\tlearn: 0.5810441\ttotal: 1.18s\tremaining: 1.99s\n",
      "373:\tlearn: 0.5810167\ttotal: 1.19s\tremaining: 1.99s\n",
      "374:\tlearn: 0.5810006\ttotal: 1.19s\tremaining: 1.98s\n",
      "375:\tlearn: 0.5809898\ttotal: 1.19s\tremaining: 1.98s\n",
      "376:\tlearn: 0.5809803\ttotal: 1.2s\tremaining: 1.98s\n",
      "377:\tlearn: 0.5809650\ttotal: 1.2s\tremaining: 1.97s\n",
      "378:\tlearn: 0.5809583\ttotal: 1.2s\tremaining: 1.97s\n",
      "379:\tlearn: 0.5809526\ttotal: 1.21s\tremaining: 1.97s\n",
      "380:\tlearn: 0.5809425\ttotal: 1.21s\tremaining: 1.96s\n",
      "381:\tlearn: 0.5809349\ttotal: 1.21s\tremaining: 1.96s\n",
      "382:\tlearn: 0.5809182\ttotal: 1.22s\tremaining: 1.96s\n",
      "383:\tlearn: 0.5809089\ttotal: 1.22s\tremaining: 1.95s\n",
      "384:\tlearn: 0.5808760\ttotal: 1.22s\tremaining: 1.95s\n",
      "385:\tlearn: 0.5808643\ttotal: 1.22s\tremaining: 1.95s\n",
      "386:\tlearn: 0.5808376\ttotal: 1.23s\tremaining: 1.94s\n",
      "387:\tlearn: 0.5808230\ttotal: 1.23s\tremaining: 1.94s\n",
      "388:\tlearn: 0.5808153\ttotal: 1.23s\tremaining: 1.94s\n",
      "389:\tlearn: 0.5807907\ttotal: 1.24s\tremaining: 1.93s\n",
      "390:\tlearn: 0.5807827\ttotal: 1.24s\tremaining: 1.93s\n",
      "391:\tlearn: 0.5807477\ttotal: 1.24s\tremaining: 1.93s\n",
      "392:\tlearn: 0.5807343\ttotal: 1.25s\tremaining: 1.93s\n",
      "393:\tlearn: 0.5807211\ttotal: 1.25s\tremaining: 1.92s\n",
      "394:\tlearn: 0.5807037\ttotal: 1.25s\tremaining: 1.92s\n",
      "395:\tlearn: 0.5806815\ttotal: 1.26s\tremaining: 1.92s\n",
      "396:\tlearn: 0.5806593\ttotal: 1.26s\tremaining: 1.91s\n",
      "397:\tlearn: 0.5806543\ttotal: 1.26s\tremaining: 1.91s\n",
      "398:\tlearn: 0.5806200\ttotal: 1.26s\tremaining: 1.91s\n",
      "399:\tlearn: 0.5806039\ttotal: 1.27s\tremaining: 1.9s\n",
      "400:\tlearn: 0.5805983\ttotal: 1.27s\tremaining: 1.9s\n",
      "401:\tlearn: 0.5805798\ttotal: 1.27s\tremaining: 1.9s\n",
      "402:\tlearn: 0.5805630\ttotal: 1.28s\tremaining: 1.89s\n",
      "403:\tlearn: 0.5805408\ttotal: 1.28s\tremaining: 1.89s\n",
      "404:\tlearn: 0.5805211\ttotal: 1.28s\tremaining: 1.89s\n",
      "405:\tlearn: 0.5805082\ttotal: 1.29s\tremaining: 1.88s\n",
      "406:\tlearn: 0.5804990\ttotal: 1.29s\tremaining: 1.88s\n",
      "407:\tlearn: 0.5804615\ttotal: 1.29s\tremaining: 1.88s\n",
      "408:\tlearn: 0.5804412\ttotal: 1.3s\tremaining: 1.87s\n",
      "409:\tlearn: 0.5804375\ttotal: 1.3s\tremaining: 1.87s\n",
      "410:\tlearn: 0.5804250\ttotal: 1.3s\tremaining: 1.87s\n",
      "411:\tlearn: 0.5803971\ttotal: 1.31s\tremaining: 1.86s\n",
      "412:\tlearn: 0.5803886\ttotal: 1.31s\tremaining: 1.86s\n",
      "413:\tlearn: 0.5803802\ttotal: 1.31s\tremaining: 1.86s\n",
      "414:\tlearn: 0.5803744\ttotal: 1.31s\tremaining: 1.85s\n",
      "415:\tlearn: 0.5803596\ttotal: 1.32s\tremaining: 1.85s\n",
      "416:\tlearn: 0.5803332\ttotal: 1.32s\tremaining: 1.85s\n",
      "417:\tlearn: 0.5803288\ttotal: 1.32s\tremaining: 1.84s\n",
      "418:\tlearn: 0.5803143\ttotal: 1.33s\tremaining: 1.84s\n",
      "419:\tlearn: 0.5803051\ttotal: 1.33s\tremaining: 1.84s\n",
      "420:\tlearn: 0.5802773\ttotal: 1.33s\tremaining: 1.83s\n",
      "421:\tlearn: 0.5802695\ttotal: 1.34s\tremaining: 1.83s\n",
      "422:\tlearn: 0.5802380\ttotal: 1.34s\tremaining: 1.83s\n",
      "423:\tlearn: 0.5802324\ttotal: 1.34s\tremaining: 1.82s\n",
      "424:\tlearn: 0.5802180\ttotal: 1.35s\tremaining: 1.82s\n",
      "425:\tlearn: 0.5801971\ttotal: 1.35s\tremaining: 1.82s\n",
      "426:\tlearn: 0.5801858\ttotal: 1.35s\tremaining: 1.81s\n",
      "427:\tlearn: 0.5801761\ttotal: 1.35s\tremaining: 1.81s\n",
      "428:\tlearn: 0.5801648\ttotal: 1.36s\tremaining: 1.81s\n",
      "429:\tlearn: 0.5801527\ttotal: 1.36s\tremaining: 1.8s\n",
      "430:\tlearn: 0.5801481\ttotal: 1.36s\tremaining: 1.8s\n",
      "431:\tlearn: 0.5801366\ttotal: 1.37s\tremaining: 1.8s\n",
      "432:\tlearn: 0.5801219\ttotal: 1.37s\tremaining: 1.8s\n",
      "433:\tlearn: 0.5801108\ttotal: 1.37s\tremaining: 1.79s\n",
      "434:\tlearn: 0.5800940\ttotal: 1.38s\tremaining: 1.79s\n",
      "435:\tlearn: 0.5800819\ttotal: 1.38s\tremaining: 1.79s\n",
      "436:\tlearn: 0.5800776\ttotal: 1.38s\tremaining: 1.78s\n",
      "437:\tlearn: 0.5800680\ttotal: 1.39s\tremaining: 1.78s\n",
      "438:\tlearn: 0.5800567\ttotal: 1.39s\tremaining: 1.78s\n",
      "439:\tlearn: 0.5800456\ttotal: 1.39s\tremaining: 1.77s\n",
      "440:\tlearn: 0.5800356\ttotal: 1.4s\tremaining: 1.77s\n",
      "441:\tlearn: 0.5800120\ttotal: 1.4s\tremaining: 1.77s\n",
      "442:\tlearn: 0.5799985\ttotal: 1.4s\tremaining: 1.76s\n",
      "443:\tlearn: 0.5799878\ttotal: 1.41s\tremaining: 1.76s\n",
      "444:\tlearn: 0.5799803\ttotal: 1.41s\tremaining: 1.76s\n",
      "445:\tlearn: 0.5799749\ttotal: 1.41s\tremaining: 1.75s\n",
      "446:\tlearn: 0.5799663\ttotal: 1.42s\tremaining: 1.75s\n",
      "447:\tlearn: 0.5799487\ttotal: 1.42s\tremaining: 1.75s\n",
      "448:\tlearn: 0.5799341\ttotal: 1.42s\tremaining: 1.74s\n",
      "449:\tlearn: 0.5799243\ttotal: 1.42s\tremaining: 1.74s\n",
      "450:\tlearn: 0.5799127\ttotal: 1.43s\tremaining: 1.74s\n",
      "451:\tlearn: 0.5798994\ttotal: 1.43s\tremaining: 1.73s\n",
      "452:\tlearn: 0.5798795\ttotal: 1.43s\tremaining: 1.73s\n",
      "453:\tlearn: 0.5798614\ttotal: 1.44s\tremaining: 1.73s\n",
      "454:\tlearn: 0.5798470\ttotal: 1.44s\tremaining: 1.73s\n",
      "455:\tlearn: 0.5798390\ttotal: 1.44s\tremaining: 1.72s\n",
      "456:\tlearn: 0.5798274\ttotal: 1.45s\tremaining: 1.72s\n",
      "457:\tlearn: 0.5798087\ttotal: 1.45s\tremaining: 1.72s\n",
      "458:\tlearn: 0.5797849\ttotal: 1.45s\tremaining: 1.71s\n",
      "459:\tlearn: 0.5797527\ttotal: 1.46s\tremaining: 1.71s\n",
      "460:\tlearn: 0.5797474\ttotal: 1.46s\tremaining: 1.71s\n",
      "461:\tlearn: 0.5797281\ttotal: 1.46s\tremaining: 1.7s\n",
      "462:\tlearn: 0.5797146\ttotal: 1.47s\tremaining: 1.7s\n",
      "463:\tlearn: 0.5797050\ttotal: 1.47s\tremaining: 1.7s\n",
      "464:\tlearn: 0.5796960\ttotal: 1.47s\tremaining: 1.69s\n",
      "465:\tlearn: 0.5796906\ttotal: 1.47s\tremaining: 1.69s\n",
      "466:\tlearn: 0.5796691\ttotal: 1.48s\tremaining: 1.69s\n",
      "467:\tlearn: 0.5796591\ttotal: 1.48s\tremaining: 1.68s\n",
      "468:\tlearn: 0.5796417\ttotal: 1.48s\tremaining: 1.68s\n",
      "469:\tlearn: 0.5796278\ttotal: 1.49s\tremaining: 1.68s\n",
      "470:\tlearn: 0.5796203\ttotal: 1.49s\tremaining: 1.67s\n",
      "471:\tlearn: 0.5796073\ttotal: 1.49s\tremaining: 1.67s\n",
      "472:\tlearn: 0.5795932\ttotal: 1.5s\tremaining: 1.67s\n",
      "473:\tlearn: 0.5795815\ttotal: 1.5s\tremaining: 1.66s\n",
      "474:\tlearn: 0.5795695\ttotal: 1.5s\tremaining: 1.66s\n",
      "475:\tlearn: 0.5795573\ttotal: 1.5s\tremaining: 1.66s\n",
      "476:\tlearn: 0.5795512\ttotal: 1.51s\tremaining: 1.65s\n",
      "477:\tlearn: 0.5795394\ttotal: 1.51s\tremaining: 1.65s\n",
      "478:\tlearn: 0.5795179\ttotal: 1.51s\tremaining: 1.65s\n",
      "479:\tlearn: 0.5795120\ttotal: 1.52s\tremaining: 1.64s\n",
      "480:\tlearn: 0.5795020\ttotal: 1.52s\tremaining: 1.64s\n",
      "481:\tlearn: 0.5794939\ttotal: 1.52s\tremaining: 1.64s\n",
      "482:\tlearn: 0.5794861\ttotal: 1.53s\tremaining: 1.64s\n",
      "483:\tlearn: 0.5794668\ttotal: 1.53s\tremaining: 1.63s\n",
      "484:\tlearn: 0.5794560\ttotal: 1.53s\tremaining: 1.63s\n",
      "485:\tlearn: 0.5794466\ttotal: 1.54s\tremaining: 1.63s\n",
      "486:\tlearn: 0.5794321\ttotal: 1.54s\tremaining: 1.62s\n",
      "487:\tlearn: 0.5794250\ttotal: 1.54s\tremaining: 1.62s\n",
      "488:\tlearn: 0.5794175\ttotal: 1.55s\tremaining: 1.62s\n",
      "489:\tlearn: 0.5794098\ttotal: 1.55s\tremaining: 1.61s\n",
      "490:\tlearn: 0.5793994\ttotal: 1.55s\tremaining: 1.61s\n",
      "491:\tlearn: 0.5793911\ttotal: 1.55s\tremaining: 1.61s\n",
      "492:\tlearn: 0.5793834\ttotal: 1.56s\tremaining: 1.6s\n",
      "493:\tlearn: 0.5793768\ttotal: 1.56s\tremaining: 1.6s\n",
      "494:\tlearn: 0.5793554\ttotal: 1.56s\tremaining: 1.6s\n",
      "495:\tlearn: 0.5793387\ttotal: 1.57s\tremaining: 1.59s\n",
      "496:\tlearn: 0.5793291\ttotal: 1.57s\tremaining: 1.59s\n",
      "497:\tlearn: 0.5793092\ttotal: 1.57s\tremaining: 1.59s\n",
      "498:\tlearn: 0.5793051\ttotal: 1.58s\tremaining: 1.58s\n",
      "499:\tlearn: 0.5792970\ttotal: 1.58s\tremaining: 1.58s\n",
      "500:\tlearn: 0.5792903\ttotal: 1.58s\tremaining: 1.58s\n",
      "501:\tlearn: 0.5792802\ttotal: 1.59s\tremaining: 1.57s\n",
      "502:\tlearn: 0.5792752\ttotal: 1.59s\tremaining: 1.57s\n",
      "503:\tlearn: 0.5792603\ttotal: 1.59s\tremaining: 1.57s\n",
      "504:\tlearn: 0.5792440\ttotal: 1.6s\tremaining: 1.56s\n",
      "505:\tlearn: 0.5792383\ttotal: 1.6s\tremaining: 1.56s\n",
      "506:\tlearn: 0.5792291\ttotal: 1.6s\tremaining: 1.56s\n",
      "507:\tlearn: 0.5792139\ttotal: 1.6s\tremaining: 1.55s\n",
      "508:\tlearn: 0.5792016\ttotal: 1.61s\tremaining: 1.55s\n",
      "509:\tlearn: 0.5791946\ttotal: 1.61s\tremaining: 1.55s\n",
      "510:\tlearn: 0.5791856\ttotal: 1.61s\tremaining: 1.54s\n",
      "511:\tlearn: 0.5791756\ttotal: 1.62s\tremaining: 1.54s\n",
      "512:\tlearn: 0.5791656\ttotal: 1.62s\tremaining: 1.54s\n",
      "513:\tlearn: 0.5791502\ttotal: 1.62s\tremaining: 1.54s\n",
      "514:\tlearn: 0.5791414\ttotal: 1.63s\tremaining: 1.53s\n",
      "515:\tlearn: 0.5791079\ttotal: 1.63s\tremaining: 1.53s\n",
      "516:\tlearn: 0.5790993\ttotal: 1.63s\tremaining: 1.53s\n",
      "517:\tlearn: 0.5790876\ttotal: 1.64s\tremaining: 1.52s\n",
      "518:\tlearn: 0.5790784\ttotal: 1.64s\tremaining: 1.52s\n",
      "519:\tlearn: 0.5790679\ttotal: 1.64s\tremaining: 1.52s\n",
      "520:\tlearn: 0.5790589\ttotal: 1.65s\tremaining: 1.51s\n",
      "521:\tlearn: 0.5790471\ttotal: 1.65s\tremaining: 1.51s\n",
      "522:\tlearn: 0.5790395\ttotal: 1.65s\tremaining: 1.51s\n",
      "523:\tlearn: 0.5790226\ttotal: 1.66s\tremaining: 1.5s\n",
      "524:\tlearn: 0.5790148\ttotal: 1.66s\tremaining: 1.5s\n",
      "525:\tlearn: 0.5789902\ttotal: 1.66s\tremaining: 1.5s\n",
      "526:\tlearn: 0.5789729\ttotal: 1.67s\tremaining: 1.49s\n",
      "527:\tlearn: 0.5789635\ttotal: 1.67s\tremaining: 1.49s\n",
      "528:\tlearn: 0.5789561\ttotal: 1.67s\tremaining: 1.49s\n",
      "529:\tlearn: 0.5789455\ttotal: 1.67s\tremaining: 1.49s\n",
      "530:\tlearn: 0.5789331\ttotal: 1.68s\tremaining: 1.48s\n",
      "531:\tlearn: 0.5789302\ttotal: 1.68s\tremaining: 1.48s\n",
      "532:\tlearn: 0.5789100\ttotal: 1.68s\tremaining: 1.48s\n",
      "533:\tlearn: 0.5788994\ttotal: 1.69s\tremaining: 1.47s\n",
      "534:\tlearn: 0.5788948\ttotal: 1.69s\tremaining: 1.47s\n",
      "535:\tlearn: 0.5788806\ttotal: 1.69s\tremaining: 1.47s\n",
      "536:\tlearn: 0.5788702\ttotal: 1.7s\tremaining: 1.46s\n",
      "537:\tlearn: 0.5788646\ttotal: 1.7s\tremaining: 1.46s\n",
      "538:\tlearn: 0.5788535\ttotal: 1.7s\tremaining: 1.46s\n",
      "539:\tlearn: 0.5788439\ttotal: 1.71s\tremaining: 1.45s\n",
      "540:\tlearn: 0.5788255\ttotal: 1.71s\tremaining: 1.45s\n",
      "541:\tlearn: 0.5788204\ttotal: 1.71s\tremaining: 1.45s\n",
      "542:\tlearn: 0.5787973\ttotal: 1.71s\tremaining: 1.44s\n",
      "543:\tlearn: 0.5787916\ttotal: 1.72s\tremaining: 1.44s\n",
      "544:\tlearn: 0.5787869\ttotal: 1.72s\tremaining: 1.44s\n",
      "545:\tlearn: 0.5787657\ttotal: 1.72s\tremaining: 1.43s\n",
      "546:\tlearn: 0.5787445\ttotal: 1.73s\tremaining: 1.43s\n",
      "547:\tlearn: 0.5787393\ttotal: 1.73s\tremaining: 1.43s\n",
      "548:\tlearn: 0.5787273\ttotal: 1.73s\tremaining: 1.42s\n",
      "549:\tlearn: 0.5787198\ttotal: 1.74s\tremaining: 1.42s\n",
      "550:\tlearn: 0.5787102\ttotal: 1.74s\tremaining: 1.42s\n",
      "551:\tlearn: 0.5787043\ttotal: 1.74s\tremaining: 1.41s\n",
      "552:\tlearn: 0.5787001\ttotal: 1.75s\tremaining: 1.41s\n",
      "553:\tlearn: 0.5786828\ttotal: 1.75s\tremaining: 1.41s\n",
      "554:\tlearn: 0.5786796\ttotal: 1.75s\tremaining: 1.41s\n",
      "555:\tlearn: 0.5786659\ttotal: 1.75s\tremaining: 1.4s\n",
      "556:\tlearn: 0.5786613\ttotal: 1.76s\tremaining: 1.4s\n",
      "557:\tlearn: 0.5786469\ttotal: 1.76s\tremaining: 1.4s\n",
      "558:\tlearn: 0.5786403\ttotal: 1.76s\tremaining: 1.39s\n",
      "559:\tlearn: 0.5786353\ttotal: 1.77s\tremaining: 1.39s\n",
      "560:\tlearn: 0.5786283\ttotal: 1.77s\tremaining: 1.39s\n",
      "561:\tlearn: 0.5786190\ttotal: 1.77s\tremaining: 1.38s\n",
      "562:\tlearn: 0.5786116\ttotal: 1.78s\tremaining: 1.38s\n",
      "563:\tlearn: 0.5786079\ttotal: 1.78s\tremaining: 1.38s\n",
      "564:\tlearn: 0.5785884\ttotal: 1.78s\tremaining: 1.37s\n",
      "565:\tlearn: 0.5785784\ttotal: 1.79s\tremaining: 1.37s\n",
      "566:\tlearn: 0.5785706\ttotal: 1.79s\tremaining: 1.37s\n",
      "567:\tlearn: 0.5785637\ttotal: 1.79s\tremaining: 1.36s\n",
      "568:\tlearn: 0.5785536\ttotal: 1.79s\tremaining: 1.36s\n",
      "569:\tlearn: 0.5785494\ttotal: 1.8s\tremaining: 1.36s\n",
      "570:\tlearn: 0.5785414\ttotal: 1.8s\tremaining: 1.35s\n",
      "571:\tlearn: 0.5785336\ttotal: 1.8s\tremaining: 1.35s\n",
      "572:\tlearn: 0.5785235\ttotal: 1.81s\tremaining: 1.35s\n",
      "573:\tlearn: 0.5785161\ttotal: 1.81s\tremaining: 1.34s\n",
      "574:\tlearn: 0.5785095\ttotal: 1.81s\tremaining: 1.34s\n",
      "575:\tlearn: 0.5785069\ttotal: 1.82s\tremaining: 1.34s\n",
      "576:\tlearn: 0.5785015\ttotal: 1.82s\tremaining: 1.33s\n",
      "577:\tlearn: 0.5784921\ttotal: 1.82s\tremaining: 1.33s\n",
      "578:\tlearn: 0.5784834\ttotal: 1.83s\tremaining: 1.33s\n",
      "579:\tlearn: 0.5784746\ttotal: 1.83s\tremaining: 1.32s\n",
      "580:\tlearn: 0.5784622\ttotal: 1.83s\tremaining: 1.32s\n",
      "581:\tlearn: 0.5784485\ttotal: 1.84s\tremaining: 1.32s\n",
      "582:\tlearn: 0.5784423\ttotal: 1.84s\tremaining: 1.31s\n",
      "583:\tlearn: 0.5784282\ttotal: 1.84s\tremaining: 1.31s\n",
      "584:\tlearn: 0.5784238\ttotal: 1.84s\tremaining: 1.31s\n",
      "585:\tlearn: 0.5784159\ttotal: 1.85s\tremaining: 1.31s\n",
      "586:\tlearn: 0.5784129\ttotal: 1.85s\tremaining: 1.3s\n",
      "587:\tlearn: 0.5784054\ttotal: 1.85s\tremaining: 1.3s\n",
      "588:\tlearn: 0.5783991\ttotal: 1.86s\tremaining: 1.3s\n",
      "589:\tlearn: 0.5783916\ttotal: 1.86s\tremaining: 1.29s\n",
      "590:\tlearn: 0.5783774\ttotal: 1.86s\tremaining: 1.29s\n",
      "591:\tlearn: 0.5783639\ttotal: 1.87s\tremaining: 1.29s\n",
      "592:\tlearn: 0.5783502\ttotal: 1.87s\tremaining: 1.28s\n",
      "593:\tlearn: 0.5783331\ttotal: 1.87s\tremaining: 1.28s\n",
      "594:\tlearn: 0.5783253\ttotal: 1.88s\tremaining: 1.28s\n",
      "595:\tlearn: 0.5783130\ttotal: 1.88s\tremaining: 1.27s\n",
      "596:\tlearn: 0.5782961\ttotal: 1.88s\tremaining: 1.27s\n",
      "597:\tlearn: 0.5782795\ttotal: 1.89s\tremaining: 1.27s\n",
      "598:\tlearn: 0.5782762\ttotal: 1.89s\tremaining: 1.26s\n",
      "599:\tlearn: 0.5782673\ttotal: 1.89s\tremaining: 1.26s\n",
      "600:\tlearn: 0.5782610\ttotal: 1.9s\tremaining: 1.26s\n",
      "601:\tlearn: 0.5782534\ttotal: 1.9s\tremaining: 1.25s\n",
      "602:\tlearn: 0.5782405\ttotal: 1.9s\tremaining: 1.25s\n",
      "603:\tlearn: 0.5782313\ttotal: 1.91s\tremaining: 1.25s\n",
      "604:\tlearn: 0.5782205\ttotal: 1.91s\tremaining: 1.25s\n",
      "605:\tlearn: 0.5782129\ttotal: 1.91s\tremaining: 1.24s\n",
      "606:\tlearn: 0.5782074\ttotal: 1.91s\tremaining: 1.24s\n",
      "607:\tlearn: 0.5782036\ttotal: 1.92s\tremaining: 1.24s\n",
      "608:\tlearn: 0.5781957\ttotal: 1.92s\tremaining: 1.23s\n",
      "609:\tlearn: 0.5781925\ttotal: 1.92s\tremaining: 1.23s\n",
      "610:\tlearn: 0.5781854\ttotal: 1.93s\tremaining: 1.23s\n",
      "611:\tlearn: 0.5781800\ttotal: 1.93s\tremaining: 1.22s\n",
      "612:\tlearn: 0.5781608\ttotal: 1.93s\tremaining: 1.22s\n",
      "613:\tlearn: 0.5781524\ttotal: 1.94s\tremaining: 1.22s\n",
      "614:\tlearn: 0.5781468\ttotal: 1.94s\tremaining: 1.21s\n",
      "615:\tlearn: 0.5781422\ttotal: 1.94s\tremaining: 1.21s\n",
      "616:\tlearn: 0.5781396\ttotal: 1.95s\tremaining: 1.21s\n",
      "617:\tlearn: 0.5781303\ttotal: 1.95s\tremaining: 1.2s\n",
      "618:\tlearn: 0.5781262\ttotal: 1.95s\tremaining: 1.2s\n",
      "619:\tlearn: 0.5781219\ttotal: 1.96s\tremaining: 1.2s\n",
      "620:\tlearn: 0.5781068\ttotal: 1.96s\tremaining: 1.2s\n",
      "621:\tlearn: 0.5780983\ttotal: 1.96s\tremaining: 1.19s\n",
      "622:\tlearn: 0.5780948\ttotal: 1.96s\tremaining: 1.19s\n",
      "623:\tlearn: 0.5780857\ttotal: 1.97s\tremaining: 1.19s\n",
      "624:\tlearn: 0.5780632\ttotal: 1.97s\tremaining: 1.18s\n",
      "625:\tlearn: 0.5780594\ttotal: 1.97s\tremaining: 1.18s\n",
      "626:\tlearn: 0.5780556\ttotal: 1.98s\tremaining: 1.18s\n",
      "627:\tlearn: 0.5780510\ttotal: 1.98s\tremaining: 1.17s\n",
      "628:\tlearn: 0.5780447\ttotal: 1.98s\tremaining: 1.17s\n",
      "629:\tlearn: 0.5780355\ttotal: 1.99s\tremaining: 1.17s\n",
      "630:\tlearn: 0.5780324\ttotal: 1.99s\tremaining: 1.16s\n",
      "631:\tlearn: 0.5780280\ttotal: 1.99s\tremaining: 1.16s\n",
      "632:\tlearn: 0.5780185\ttotal: 2s\tremaining: 1.16s\n",
      "633:\tlearn: 0.5780136\ttotal: 2s\tremaining: 1.15s\n",
      "634:\tlearn: 0.5780058\ttotal: 2s\tremaining: 1.15s\n",
      "635:\tlearn: 0.5779986\ttotal: 2s\tremaining: 1.15s\n",
      "636:\tlearn: 0.5779883\ttotal: 2.01s\tremaining: 1.14s\n",
      "637:\tlearn: 0.5779781\ttotal: 2.01s\tremaining: 1.14s\n",
      "638:\tlearn: 0.5779590\ttotal: 2.01s\tremaining: 1.14s\n",
      "639:\tlearn: 0.5779492\ttotal: 2.02s\tremaining: 1.14s\n",
      "640:\tlearn: 0.5779420\ttotal: 2.02s\tremaining: 1.13s\n",
      "641:\tlearn: 0.5779353\ttotal: 2.02s\tremaining: 1.13s\n",
      "642:\tlearn: 0.5779272\ttotal: 2.03s\tremaining: 1.13s\n",
      "643:\tlearn: 0.5779200\ttotal: 2.03s\tremaining: 1.12s\n",
      "644:\tlearn: 0.5779172\ttotal: 2.03s\tremaining: 1.12s\n",
      "645:\tlearn: 0.5778965\ttotal: 2.04s\tremaining: 1.11s\n",
      "646:\tlearn: 0.5778753\ttotal: 2.04s\tremaining: 1.11s\n",
      "647:\tlearn: 0.5778695\ttotal: 2.04s\tremaining: 1.11s\n",
      "648:\tlearn: 0.5778502\ttotal: 2.04s\tremaining: 1.11s\n",
      "649:\tlearn: 0.5778462\ttotal: 2.05s\tremaining: 1.1s\n",
      "650:\tlearn: 0.5778326\ttotal: 2.05s\tremaining: 1.1s\n",
      "651:\tlearn: 0.5778303\ttotal: 2.06s\tremaining: 1.1s\n",
      "652:\tlearn: 0.5778201\ttotal: 2.06s\tremaining: 1.09s\n",
      "653:\tlearn: 0.5778088\ttotal: 2.06s\tremaining: 1.09s\n",
      "654:\tlearn: 0.5777987\ttotal: 2.06s\tremaining: 1.09s\n",
      "655:\tlearn: 0.5777827\ttotal: 2.07s\tremaining: 1.08s\n",
      "656:\tlearn: 0.5777748\ttotal: 2.07s\tremaining: 1.08s\n",
      "657:\tlearn: 0.5777662\ttotal: 2.07s\tremaining: 1.08s\n",
      "658:\tlearn: 0.5777513\ttotal: 2.08s\tremaining: 1.07s\n",
      "659:\tlearn: 0.5777463\ttotal: 2.08s\tremaining: 1.07s\n",
      "660:\tlearn: 0.5777361\ttotal: 2.08s\tremaining: 1.07s\n",
      "661:\tlearn: 0.5777209\ttotal: 2.09s\tremaining: 1.06s\n",
      "662:\tlearn: 0.5777189\ttotal: 2.09s\tremaining: 1.06s\n",
      "663:\tlearn: 0.5777157\ttotal: 2.09s\tremaining: 1.06s\n",
      "664:\tlearn: 0.5777111\ttotal: 2.1s\tremaining: 1.05s\n",
      "665:\tlearn: 0.5777053\ttotal: 2.1s\tremaining: 1.05s\n",
      "666:\tlearn: 0.5776901\ttotal: 2.1s\tremaining: 1.05s\n",
      "667:\tlearn: 0.5776783\ttotal: 2.1s\tremaining: 1.05s\n",
      "668:\tlearn: 0.5776734\ttotal: 2.11s\tremaining: 1.04s\n",
      "669:\tlearn: 0.5776691\ttotal: 2.11s\tremaining: 1.04s\n",
      "670:\tlearn: 0.5776598\ttotal: 2.11s\tremaining: 1.04s\n",
      "671:\tlearn: 0.5776577\ttotal: 2.12s\tremaining: 1.03s\n",
      "672:\tlearn: 0.5776527\ttotal: 2.12s\tremaining: 1.03s\n",
      "673:\tlearn: 0.5776452\ttotal: 2.12s\tremaining: 1.03s\n",
      "674:\tlearn: 0.5776292\ttotal: 2.13s\tremaining: 1.02s\n",
      "675:\tlearn: 0.5776235\ttotal: 2.13s\tremaining: 1.02s\n",
      "676:\tlearn: 0.5776207\ttotal: 2.13s\tremaining: 1.02s\n",
      "677:\tlearn: 0.5776167\ttotal: 2.14s\tremaining: 1.01s\n",
      "678:\tlearn: 0.5776107\ttotal: 2.14s\tremaining: 1.01s\n",
      "679:\tlearn: 0.5775991\ttotal: 2.14s\tremaining: 1.01s\n",
      "680:\tlearn: 0.5775938\ttotal: 2.15s\tremaining: 1s\n",
      "681:\tlearn: 0.5775869\ttotal: 2.15s\tremaining: 1s\n",
      "682:\tlearn: 0.5775857\ttotal: 2.15s\tremaining: 999ms\n",
      "683:\tlearn: 0.5775808\ttotal: 2.15s\tremaining: 996ms\n",
      "684:\tlearn: 0.5775769\ttotal: 2.16s\tremaining: 993ms\n",
      "685:\tlearn: 0.5775686\ttotal: 2.16s\tremaining: 989ms\n",
      "686:\tlearn: 0.5775593\ttotal: 2.16s\tremaining: 986ms\n",
      "687:\tlearn: 0.5775512\ttotal: 2.17s\tremaining: 983ms\n",
      "688:\tlearn: 0.5775400\ttotal: 2.17s\tremaining: 980ms\n",
      "689:\tlearn: 0.5775272\ttotal: 2.17s\tremaining: 977ms\n",
      "690:\tlearn: 0.5775194\ttotal: 2.18s\tremaining: 974ms\n",
      "691:\tlearn: 0.5775125\ttotal: 2.18s\tremaining: 970ms\n",
      "692:\tlearn: 0.5775037\ttotal: 2.18s\tremaining: 967ms\n",
      "693:\tlearn: 0.5774940\ttotal: 2.19s\tremaining: 964ms\n",
      "694:\tlearn: 0.5774870\ttotal: 2.19s\tremaining: 961ms\n",
      "695:\tlearn: 0.5774770\ttotal: 2.19s\tremaining: 958ms\n",
      "696:\tlearn: 0.5774742\ttotal: 2.2s\tremaining: 955ms\n",
      "697:\tlearn: 0.5774719\ttotal: 2.2s\tremaining: 952ms\n",
      "698:\tlearn: 0.5774671\ttotal: 2.2s\tremaining: 948ms\n",
      "699:\tlearn: 0.5774525\ttotal: 2.21s\tremaining: 945ms\n",
      "700:\tlearn: 0.5774364\ttotal: 2.21s\tremaining: 942ms\n",
      "701:\tlearn: 0.5774265\ttotal: 2.21s\tremaining: 939ms\n",
      "702:\tlearn: 0.5774233\ttotal: 2.21s\tremaining: 936ms\n",
      "703:\tlearn: 0.5774141\ttotal: 2.22s\tremaining: 932ms\n",
      "704:\tlearn: 0.5774077\ttotal: 2.22s\tremaining: 929ms\n",
      "705:\tlearn: 0.5774047\ttotal: 2.22s\tremaining: 926ms\n",
      "706:\tlearn: 0.5773911\ttotal: 2.23s\tremaining: 923ms\n",
      "707:\tlearn: 0.5773832\ttotal: 2.23s\tremaining: 920ms\n",
      "708:\tlearn: 0.5773672\ttotal: 2.23s\tremaining: 917ms\n",
      "709:\tlearn: 0.5773613\ttotal: 2.24s\tremaining: 914ms\n",
      "710:\tlearn: 0.5773434\ttotal: 2.24s\tremaining: 910ms\n",
      "711:\tlearn: 0.5773361\ttotal: 2.24s\tremaining: 907ms\n",
      "712:\tlearn: 0.5773314\ttotal: 2.25s\tremaining: 904ms\n",
      "713:\tlearn: 0.5773229\ttotal: 2.25s\tremaining: 901ms\n",
      "714:\tlearn: 0.5773190\ttotal: 2.25s\tremaining: 898ms\n",
      "715:\tlearn: 0.5773160\ttotal: 2.25s\tremaining: 895ms\n",
      "716:\tlearn: 0.5773005\ttotal: 2.26s\tremaining: 891ms\n",
      "717:\tlearn: 0.5772945\ttotal: 2.26s\tremaining: 888ms\n",
      "718:\tlearn: 0.5772926\ttotal: 2.26s\tremaining: 885ms\n",
      "719:\tlearn: 0.5772865\ttotal: 2.27s\tremaining: 882ms\n",
      "720:\tlearn: 0.5772743\ttotal: 2.27s\tremaining: 879ms\n",
      "721:\tlearn: 0.5772692\ttotal: 2.27s\tremaining: 876ms\n",
      "722:\tlearn: 0.5772607\ttotal: 2.28s\tremaining: 872ms\n",
      "723:\tlearn: 0.5772521\ttotal: 2.28s\tremaining: 869ms\n",
      "724:\tlearn: 0.5772499\ttotal: 2.28s\tremaining: 866ms\n",
      "725:\tlearn: 0.5772332\ttotal: 2.29s\tremaining: 863ms\n",
      "726:\tlearn: 0.5772238\ttotal: 2.29s\tremaining: 860ms\n",
      "727:\tlearn: 0.5772132\ttotal: 2.29s\tremaining: 857ms\n",
      "728:\tlearn: 0.5772028\ttotal: 2.29s\tremaining: 853ms\n",
      "729:\tlearn: 0.5771952\ttotal: 2.3s\tremaining: 850ms\n",
      "730:\tlearn: 0.5771852\ttotal: 2.3s\tremaining: 847ms\n",
      "731:\tlearn: 0.5771821\ttotal: 2.3s\tremaining: 844ms\n",
      "732:\tlearn: 0.5771810\ttotal: 2.31s\tremaining: 841ms\n",
      "733:\tlearn: 0.5771757\ttotal: 2.31s\tremaining: 838ms\n",
      "734:\tlearn: 0.5771700\ttotal: 2.31s\tremaining: 834ms\n",
      "735:\tlearn: 0.5771671\ttotal: 2.32s\tremaining: 831ms\n",
      "736:\tlearn: 0.5771586\ttotal: 2.32s\tremaining: 828ms\n",
      "737:\tlearn: 0.5771504\ttotal: 2.32s\tremaining: 825ms\n",
      "738:\tlearn: 0.5771436\ttotal: 2.33s\tremaining: 822ms\n",
      "739:\tlearn: 0.5771377\ttotal: 2.33s\tremaining: 819ms\n",
      "740:\tlearn: 0.5771316\ttotal: 2.33s\tremaining: 815ms\n",
      "741:\tlearn: 0.5771228\ttotal: 2.34s\tremaining: 812ms\n",
      "742:\tlearn: 0.5771199\ttotal: 2.34s\tremaining: 809ms\n",
      "743:\tlearn: 0.5771109\ttotal: 2.34s\tremaining: 806ms\n",
      "744:\tlearn: 0.5770982\ttotal: 2.35s\tremaining: 803ms\n",
      "745:\tlearn: 0.5770972\ttotal: 2.35s\tremaining: 800ms\n",
      "746:\tlearn: 0.5770936\ttotal: 2.35s\tremaining: 796ms\n",
      "747:\tlearn: 0.5770804\ttotal: 2.35s\tremaining: 793ms\n",
      "748:\tlearn: 0.5770779\ttotal: 2.36s\tremaining: 790ms\n",
      "749:\tlearn: 0.5770744\ttotal: 2.36s\tremaining: 787ms\n",
      "750:\tlearn: 0.5770667\ttotal: 2.36s\tremaining: 784ms\n",
      "751:\tlearn: 0.5770590\ttotal: 2.37s\tremaining: 781ms\n",
      "752:\tlearn: 0.5770457\ttotal: 2.37s\tremaining: 777ms\n",
      "753:\tlearn: 0.5770412\ttotal: 2.37s\tremaining: 774ms\n",
      "754:\tlearn: 0.5770368\ttotal: 2.38s\tremaining: 771ms\n",
      "755:\tlearn: 0.5770324\ttotal: 2.38s\tremaining: 768ms\n",
      "756:\tlearn: 0.5770250\ttotal: 2.38s\tremaining: 765ms\n",
      "757:\tlearn: 0.5770087\ttotal: 2.38s\tremaining: 762ms\n",
      "758:\tlearn: 0.5769990\ttotal: 2.39s\tremaining: 758ms\n",
      "759:\tlearn: 0.5769965\ttotal: 2.39s\tremaining: 755ms\n",
      "760:\tlearn: 0.5769934\ttotal: 2.39s\tremaining: 752ms\n",
      "761:\tlearn: 0.5769849\ttotal: 2.4s\tremaining: 749ms\n",
      "762:\tlearn: 0.5769822\ttotal: 2.4s\tremaining: 746ms\n",
      "763:\tlearn: 0.5769792\ttotal: 2.4s\tremaining: 743ms\n",
      "764:\tlearn: 0.5769701\ttotal: 2.41s\tremaining: 740ms\n",
      "765:\tlearn: 0.5769633\ttotal: 2.41s\tremaining: 736ms\n",
      "766:\tlearn: 0.5769596\ttotal: 2.41s\tremaining: 733ms\n",
      "767:\tlearn: 0.5769542\ttotal: 2.42s\tremaining: 730ms\n",
      "768:\tlearn: 0.5769448\ttotal: 2.42s\tremaining: 727ms\n",
      "769:\tlearn: 0.5769418\ttotal: 2.42s\tremaining: 724ms\n",
      "770:\tlearn: 0.5769336\ttotal: 2.43s\tremaining: 721ms\n",
      "771:\tlearn: 0.5769245\ttotal: 2.43s\tremaining: 717ms\n",
      "772:\tlearn: 0.5769208\ttotal: 2.43s\tremaining: 714ms\n",
      "773:\tlearn: 0.5769155\ttotal: 2.44s\tremaining: 711ms\n",
      "774:\tlearn: 0.5769086\ttotal: 2.44s\tremaining: 708ms\n",
      "775:\tlearn: 0.5769047\ttotal: 2.44s\tremaining: 705ms\n",
      "776:\tlearn: 0.5769006\ttotal: 2.44s\tremaining: 702ms\n",
      "777:\tlearn: 0.5768971\ttotal: 2.45s\tremaining: 699ms\n",
      "778:\tlearn: 0.5768957\ttotal: 2.45s\tremaining: 695ms\n",
      "779:\tlearn: 0.5768848\ttotal: 2.45s\tremaining: 692ms\n",
      "780:\tlearn: 0.5768777\ttotal: 2.46s\tremaining: 689ms\n",
      "781:\tlearn: 0.5768728\ttotal: 2.46s\tremaining: 686ms\n",
      "782:\tlearn: 0.5768670\ttotal: 2.46s\tremaining: 683ms\n",
      "783:\tlearn: 0.5768605\ttotal: 2.47s\tremaining: 680ms\n",
      "784:\tlearn: 0.5768583\ttotal: 2.47s\tremaining: 676ms\n",
      "785:\tlearn: 0.5768526\ttotal: 2.47s\tremaining: 673ms\n",
      "786:\tlearn: 0.5768478\ttotal: 2.48s\tremaining: 670ms\n",
      "787:\tlearn: 0.5768406\ttotal: 2.48s\tremaining: 667ms\n",
      "788:\tlearn: 0.5768335\ttotal: 2.48s\tremaining: 664ms\n",
      "789:\tlearn: 0.5768251\ttotal: 2.48s\tremaining: 661ms\n",
      "790:\tlearn: 0.5768217\ttotal: 2.49s\tremaining: 658ms\n",
      "791:\tlearn: 0.5768183\ttotal: 2.49s\tremaining: 654ms\n",
      "792:\tlearn: 0.5768060\ttotal: 2.49s\tremaining: 651ms\n",
      "793:\tlearn: 0.5768022\ttotal: 2.5s\tremaining: 648ms\n",
      "794:\tlearn: 0.5767984\ttotal: 2.5s\tremaining: 645ms\n",
      "795:\tlearn: 0.5767955\ttotal: 2.5s\tremaining: 642ms\n",
      "796:\tlearn: 0.5767904\ttotal: 2.51s\tremaining: 639ms\n",
      "797:\tlearn: 0.5767852\ttotal: 2.51s\tremaining: 635ms\n",
      "798:\tlearn: 0.5767788\ttotal: 2.51s\tremaining: 632ms\n",
      "799:\tlearn: 0.5767733\ttotal: 2.52s\tremaining: 629ms\n",
      "800:\tlearn: 0.5767687\ttotal: 2.52s\tremaining: 626ms\n",
      "801:\tlearn: 0.5767659\ttotal: 2.52s\tremaining: 623ms\n",
      "802:\tlearn: 0.5767582\ttotal: 2.52s\tremaining: 620ms\n",
      "803:\tlearn: 0.5767513\ttotal: 2.53s\tremaining: 617ms\n",
      "804:\tlearn: 0.5767492\ttotal: 2.53s\tremaining: 613ms\n",
      "805:\tlearn: 0.5767471\ttotal: 2.54s\tremaining: 610ms\n",
      "806:\tlearn: 0.5767381\ttotal: 2.54s\tremaining: 607ms\n",
      "807:\tlearn: 0.5767329\ttotal: 2.54s\tremaining: 604ms\n",
      "808:\tlearn: 0.5767287\ttotal: 2.54s\tremaining: 601ms\n",
      "809:\tlearn: 0.5767218\ttotal: 2.55s\tremaining: 598ms\n",
      "810:\tlearn: 0.5767145\ttotal: 2.55s\tremaining: 594ms\n",
      "811:\tlearn: 0.5767113\ttotal: 2.55s\tremaining: 591ms\n",
      "812:\tlearn: 0.5766923\ttotal: 2.56s\tremaining: 588ms\n",
      "813:\tlearn: 0.5766873\ttotal: 2.56s\tremaining: 585ms\n",
      "814:\tlearn: 0.5766846\ttotal: 2.56s\tremaining: 582ms\n",
      "815:\tlearn: 0.5766771\ttotal: 2.57s\tremaining: 579ms\n",
      "816:\tlearn: 0.5766717\ttotal: 2.57s\tremaining: 576ms\n",
      "817:\tlearn: 0.5766622\ttotal: 2.57s\tremaining: 572ms\n",
      "818:\tlearn: 0.5766596\ttotal: 2.58s\tremaining: 569ms\n",
      "819:\tlearn: 0.5766564\ttotal: 2.58s\tremaining: 566ms\n",
      "820:\tlearn: 0.5766447\ttotal: 2.58s\tremaining: 563ms\n",
      "821:\tlearn: 0.5766377\ttotal: 2.58s\tremaining: 560ms\n",
      "822:\tlearn: 0.5766340\ttotal: 2.59s\tremaining: 557ms\n",
      "823:\tlearn: 0.5766310\ttotal: 2.59s\tremaining: 553ms\n",
      "824:\tlearn: 0.5766256\ttotal: 2.59s\tremaining: 550ms\n",
      "825:\tlearn: 0.5766197\ttotal: 2.6s\tremaining: 547ms\n",
      "826:\tlearn: 0.5766165\ttotal: 2.6s\tremaining: 544ms\n",
      "827:\tlearn: 0.5766076\ttotal: 2.6s\tremaining: 541ms\n",
      "828:\tlearn: 0.5766019\ttotal: 2.61s\tremaining: 538ms\n",
      "829:\tlearn: 0.5765979\ttotal: 2.61s\tremaining: 535ms\n",
      "830:\tlearn: 0.5765888\ttotal: 2.61s\tremaining: 531ms\n",
      "831:\tlearn: 0.5765731\ttotal: 2.62s\tremaining: 528ms\n",
      "832:\tlearn: 0.5765717\ttotal: 2.62s\tremaining: 525ms\n",
      "833:\tlearn: 0.5765635\ttotal: 2.62s\tremaining: 522ms\n",
      "834:\tlearn: 0.5765598\ttotal: 2.63s\tremaining: 519ms\n",
      "835:\tlearn: 0.5765557\ttotal: 2.63s\tremaining: 516ms\n",
      "836:\tlearn: 0.5765498\ttotal: 2.63s\tremaining: 512ms\n",
      "837:\tlearn: 0.5765442\ttotal: 2.63s\tremaining: 509ms\n",
      "838:\tlearn: 0.5765412\ttotal: 2.64s\tremaining: 506ms\n",
      "839:\tlearn: 0.5765368\ttotal: 2.64s\tremaining: 503ms\n",
      "840:\tlearn: 0.5765291\ttotal: 2.64s\tremaining: 500ms\n",
      "841:\tlearn: 0.5765174\ttotal: 2.65s\tremaining: 497ms\n",
      "842:\tlearn: 0.5765146\ttotal: 2.65s\tremaining: 494ms\n",
      "843:\tlearn: 0.5765130\ttotal: 2.65s\tremaining: 490ms\n",
      "844:\tlearn: 0.5764988\ttotal: 2.66s\tremaining: 487ms\n",
      "845:\tlearn: 0.5764961\ttotal: 2.66s\tremaining: 484ms\n",
      "846:\tlearn: 0.5764900\ttotal: 2.66s\tremaining: 481ms\n",
      "847:\tlearn: 0.5764865\ttotal: 2.67s\tremaining: 478ms\n",
      "848:\tlearn: 0.5764814\ttotal: 2.67s\tremaining: 475ms\n",
      "849:\tlearn: 0.5764791\ttotal: 2.67s\tremaining: 472ms\n",
      "850:\tlearn: 0.5764690\ttotal: 2.67s\tremaining: 468ms\n",
      "851:\tlearn: 0.5764668\ttotal: 2.68s\tremaining: 465ms\n",
      "852:\tlearn: 0.5764645\ttotal: 2.68s\tremaining: 462ms\n",
      "853:\tlearn: 0.5764576\ttotal: 2.68s\tremaining: 459ms\n",
      "854:\tlearn: 0.5764533\ttotal: 2.69s\tremaining: 456ms\n",
      "855:\tlearn: 0.5764506\ttotal: 2.69s\tremaining: 453ms\n",
      "856:\tlearn: 0.5764287\ttotal: 2.69s\tremaining: 449ms\n",
      "857:\tlearn: 0.5764273\ttotal: 2.7s\tremaining: 446ms\n",
      "858:\tlearn: 0.5764244\ttotal: 2.7s\tremaining: 443ms\n",
      "859:\tlearn: 0.5764197\ttotal: 2.7s\tremaining: 440ms\n",
      "860:\tlearn: 0.5764083\ttotal: 2.71s\tremaining: 437ms\n",
      "861:\tlearn: 0.5763903\ttotal: 2.71s\tremaining: 434ms\n",
      "862:\tlearn: 0.5763772\ttotal: 2.71s\tremaining: 431ms\n",
      "863:\tlearn: 0.5763685\ttotal: 2.71s\tremaining: 427ms\n",
      "864:\tlearn: 0.5763619\ttotal: 2.72s\tremaining: 424ms\n",
      "865:\tlearn: 0.5763599\ttotal: 2.72s\tremaining: 421ms\n",
      "866:\tlearn: 0.5763549\ttotal: 2.72s\tremaining: 418ms\n",
      "867:\tlearn: 0.5763519\ttotal: 2.73s\tremaining: 415ms\n",
      "868:\tlearn: 0.5763496\ttotal: 2.73s\tremaining: 412ms\n",
      "869:\tlearn: 0.5763459\ttotal: 2.73s\tremaining: 409ms\n",
      "870:\tlearn: 0.5763414\ttotal: 2.74s\tremaining: 405ms\n",
      "871:\tlearn: 0.5763362\ttotal: 2.74s\tremaining: 402ms\n",
      "872:\tlearn: 0.5763332\ttotal: 2.74s\tremaining: 399ms\n",
      "873:\tlearn: 0.5763252\ttotal: 2.75s\tremaining: 396ms\n",
      "874:\tlearn: 0.5763205\ttotal: 2.75s\tremaining: 393ms\n",
      "875:\tlearn: 0.5763166\ttotal: 2.75s\tremaining: 390ms\n",
      "876:\tlearn: 0.5763086\ttotal: 2.76s\tremaining: 387ms\n",
      "877:\tlearn: 0.5762956\ttotal: 2.76s\tremaining: 383ms\n",
      "878:\tlearn: 0.5762901\ttotal: 2.76s\tremaining: 380ms\n",
      "879:\tlearn: 0.5762819\ttotal: 2.77s\tremaining: 377ms\n",
      "880:\tlearn: 0.5762796\ttotal: 2.77s\tremaining: 374ms\n",
      "881:\tlearn: 0.5762660\ttotal: 2.77s\tremaining: 371ms\n",
      "882:\tlearn: 0.5762591\ttotal: 2.77s\tremaining: 368ms\n",
      "883:\tlearn: 0.5762573\ttotal: 2.78s\tremaining: 364ms\n",
      "884:\tlearn: 0.5762527\ttotal: 2.78s\tremaining: 361ms\n",
      "885:\tlearn: 0.5762499\ttotal: 2.78s\tremaining: 358ms\n",
      "886:\tlearn: 0.5762468\ttotal: 2.79s\tremaining: 355ms\n",
      "887:\tlearn: 0.5762415\ttotal: 2.79s\tremaining: 352ms\n",
      "888:\tlearn: 0.5762211\ttotal: 2.79s\tremaining: 349ms\n",
      "889:\tlearn: 0.5762161\ttotal: 2.8s\tremaining: 346ms\n",
      "890:\tlearn: 0.5762129\ttotal: 2.8s\tremaining: 342ms\n",
      "891:\tlearn: 0.5762087\ttotal: 2.8s\tremaining: 339ms\n",
      "892:\tlearn: 0.5762022\ttotal: 2.81s\tremaining: 336ms\n",
      "893:\tlearn: 0.5762010\ttotal: 2.81s\tremaining: 333ms\n",
      "894:\tlearn: 0.5761973\ttotal: 2.81s\tremaining: 330ms\n",
      "895:\tlearn: 0.5761852\ttotal: 2.81s\tremaining: 327ms\n",
      "896:\tlearn: 0.5761822\ttotal: 2.82s\tremaining: 324ms\n",
      "897:\tlearn: 0.5761782\ttotal: 2.82s\tremaining: 320ms\n",
      "898:\tlearn: 0.5761742\ttotal: 2.82s\tremaining: 317ms\n",
      "899:\tlearn: 0.5761669\ttotal: 2.83s\tremaining: 314ms\n",
      "900:\tlearn: 0.5761616\ttotal: 2.83s\tremaining: 311ms\n",
      "901:\tlearn: 0.5761596\ttotal: 2.83s\tremaining: 308ms\n",
      "902:\tlearn: 0.5761519\ttotal: 2.84s\tremaining: 305ms\n",
      "903:\tlearn: 0.5761438\ttotal: 2.84s\tremaining: 302ms\n",
      "904:\tlearn: 0.5761370\ttotal: 2.84s\tremaining: 298ms\n",
      "905:\tlearn: 0.5761283\ttotal: 2.85s\tremaining: 295ms\n",
      "906:\tlearn: 0.5761247\ttotal: 2.85s\tremaining: 292ms\n",
      "907:\tlearn: 0.5761219\ttotal: 2.85s\tremaining: 289ms\n",
      "908:\tlearn: 0.5761187\ttotal: 2.85s\tremaining: 286ms\n",
      "909:\tlearn: 0.5761160\ttotal: 2.86s\tremaining: 283ms\n",
      "910:\tlearn: 0.5761103\ttotal: 2.86s\tremaining: 280ms\n",
      "911:\tlearn: 0.5761074\ttotal: 2.86s\tremaining: 276ms\n",
      "912:\tlearn: 0.5761026\ttotal: 2.87s\tremaining: 273ms\n",
      "913:\tlearn: 0.5760986\ttotal: 2.87s\tremaining: 270ms\n",
      "914:\tlearn: 0.5760912\ttotal: 2.87s\tremaining: 267ms\n",
      "915:\tlearn: 0.5760851\ttotal: 2.88s\tremaining: 264ms\n",
      "916:\tlearn: 0.5760831\ttotal: 2.88s\tremaining: 261ms\n",
      "917:\tlearn: 0.5760800\ttotal: 2.88s\tremaining: 258ms\n",
      "918:\tlearn: 0.5760767\ttotal: 2.89s\tremaining: 254ms\n",
      "919:\tlearn: 0.5760574\ttotal: 2.89s\tremaining: 251ms\n",
      "920:\tlearn: 0.5760521\ttotal: 2.89s\tremaining: 248ms\n",
      "921:\tlearn: 0.5760505\ttotal: 2.9s\tremaining: 245ms\n",
      "922:\tlearn: 0.5760458\ttotal: 2.9s\tremaining: 242ms\n",
      "923:\tlearn: 0.5760437\ttotal: 2.9s\tremaining: 239ms\n",
      "924:\tlearn: 0.5760407\ttotal: 2.9s\tremaining: 236ms\n",
      "925:\tlearn: 0.5760360\ttotal: 2.91s\tremaining: 232ms\n",
      "926:\tlearn: 0.5760280\ttotal: 2.91s\tremaining: 229ms\n",
      "927:\tlearn: 0.5760267\ttotal: 2.92s\tremaining: 226ms\n",
      "928:\tlearn: 0.5760246\ttotal: 2.92s\tremaining: 223ms\n",
      "929:\tlearn: 0.5760227\ttotal: 2.92s\tremaining: 220ms\n",
      "930:\tlearn: 0.5760150\ttotal: 2.92s\tremaining: 217ms\n",
      "931:\tlearn: 0.5760091\ttotal: 2.93s\tremaining: 214ms\n",
      "932:\tlearn: 0.5760073\ttotal: 2.93s\tremaining: 210ms\n",
      "933:\tlearn: 0.5760033\ttotal: 2.93s\tremaining: 207ms\n",
      "934:\tlearn: 0.5759938\ttotal: 2.94s\tremaining: 204ms\n",
      "935:\tlearn: 0.5759888\ttotal: 2.94s\tremaining: 201ms\n",
      "936:\tlearn: 0.5759797\ttotal: 2.94s\tremaining: 198ms\n",
      "937:\tlearn: 0.5759699\ttotal: 2.95s\tremaining: 195ms\n",
      "938:\tlearn: 0.5759666\ttotal: 2.95s\tremaining: 192ms\n",
      "939:\tlearn: 0.5759583\ttotal: 2.95s\tremaining: 188ms\n",
      "940:\tlearn: 0.5759569\ttotal: 2.96s\tremaining: 185ms\n",
      "941:\tlearn: 0.5759530\ttotal: 2.96s\tremaining: 182ms\n",
      "942:\tlearn: 0.5759388\ttotal: 2.96s\tremaining: 179ms\n",
      "943:\tlearn: 0.5759317\ttotal: 2.96s\tremaining: 176ms\n",
      "944:\tlearn: 0.5759273\ttotal: 2.97s\tremaining: 173ms\n",
      "945:\tlearn: 0.5759214\ttotal: 2.97s\tremaining: 170ms\n",
      "946:\tlearn: 0.5759188\ttotal: 2.97s\tremaining: 166ms\n",
      "947:\tlearn: 0.5759127\ttotal: 2.98s\tremaining: 163ms\n",
      "948:\tlearn: 0.5759064\ttotal: 2.98s\tremaining: 160ms\n",
      "949:\tlearn: 0.5758972\ttotal: 2.98s\tremaining: 157ms\n",
      "950:\tlearn: 0.5758962\ttotal: 2.99s\tremaining: 154ms\n",
      "951:\tlearn: 0.5758896\ttotal: 2.99s\tremaining: 151ms\n",
      "952:\tlearn: 0.5758860\ttotal: 2.99s\tremaining: 148ms\n",
      "953:\tlearn: 0.5758815\ttotal: 3s\tremaining: 144ms\n",
      "954:\tlearn: 0.5758639\ttotal: 3s\tremaining: 141ms\n",
      "955:\tlearn: 0.5758544\ttotal: 3s\tremaining: 138ms\n",
      "956:\tlearn: 0.5758470\ttotal: 3s\tremaining: 135ms\n",
      "957:\tlearn: 0.5758451\ttotal: 3.01s\tremaining: 132ms\n",
      "958:\tlearn: 0.5758393\ttotal: 3.01s\tremaining: 129ms\n",
      "959:\tlearn: 0.5758313\ttotal: 3.01s\tremaining: 126ms\n",
      "960:\tlearn: 0.5758249\ttotal: 3.02s\tremaining: 122ms\n",
      "961:\tlearn: 0.5758198\ttotal: 3.02s\tremaining: 119ms\n",
      "962:\tlearn: 0.5758178\ttotal: 3.02s\tremaining: 116ms\n",
      "963:\tlearn: 0.5758127\ttotal: 3.03s\tremaining: 113ms\n",
      "964:\tlearn: 0.5758058\ttotal: 3.03s\tremaining: 110ms\n",
      "965:\tlearn: 0.5757982\ttotal: 3.03s\tremaining: 107ms\n",
      "966:\tlearn: 0.5757944\ttotal: 3.04s\tremaining: 104ms\n",
      "967:\tlearn: 0.5757927\ttotal: 3.04s\tremaining: 100ms\n",
      "968:\tlearn: 0.5757887\ttotal: 3.04s\tremaining: 97.3ms\n",
      "969:\tlearn: 0.5757798\ttotal: 3.04s\tremaining: 94.2ms\n",
      "970:\tlearn: 0.5757699\ttotal: 3.05s\tremaining: 91ms\n",
      "971:\tlearn: 0.5757615\ttotal: 3.05s\tremaining: 87.9ms\n",
      "972:\tlearn: 0.5757550\ttotal: 3.05s\tremaining: 84.8ms\n",
      "973:\tlearn: 0.5757523\ttotal: 3.06s\tremaining: 81.6ms\n",
      "974:\tlearn: 0.5757477\ttotal: 3.06s\tremaining: 78.5ms\n",
      "975:\tlearn: 0.5757441\ttotal: 3.06s\tremaining: 75.3ms\n",
      "976:\tlearn: 0.5757340\ttotal: 3.07s\tremaining: 72.2ms\n",
      "977:\tlearn: 0.5757305\ttotal: 3.07s\tremaining: 69.1ms\n",
      "978:\tlearn: 0.5757219\ttotal: 3.07s\tremaining: 65.9ms\n",
      "979:\tlearn: 0.5757204\ttotal: 3.08s\tremaining: 62.8ms\n",
      "980:\tlearn: 0.5757129\ttotal: 3.08s\tremaining: 59.6ms\n",
      "981:\tlearn: 0.5757102\ttotal: 3.08s\tremaining: 56.5ms\n",
      "982:\tlearn: 0.5757080\ttotal: 3.08s\tremaining: 53.4ms\n",
      "983:\tlearn: 0.5757008\ttotal: 3.09s\tremaining: 50.2ms\n",
      "984:\tlearn: 0.5756890\ttotal: 3.09s\tremaining: 47.1ms\n",
      "985:\tlearn: 0.5756863\ttotal: 3.1s\tremaining: 43.9ms\n",
      "986:\tlearn: 0.5756828\ttotal: 3.1s\tremaining: 40.8ms\n",
      "987:\tlearn: 0.5756747\ttotal: 3.1s\tremaining: 37.7ms\n",
      "988:\tlearn: 0.5756713\ttotal: 3.1s\tremaining: 34.5ms\n",
      "989:\tlearn: 0.5756609\ttotal: 3.11s\tremaining: 31.4ms\n",
      "990:\tlearn: 0.5756589\ttotal: 3.11s\tremaining: 28.3ms\n",
      "991:\tlearn: 0.5756542\ttotal: 3.11s\tremaining: 25.1ms\n",
      "992:\tlearn: 0.5756516\ttotal: 3.12s\tremaining: 22ms\n",
      "993:\tlearn: 0.5756473\ttotal: 3.12s\tremaining: 18.8ms\n",
      "994:\tlearn: 0.5756447\ttotal: 3.12s\tremaining: 15.7ms\n",
      "995:\tlearn: 0.5756400\ttotal: 3.13s\tremaining: 12.6ms\n",
      "996:\tlearn: 0.5756376\ttotal: 3.13s\tremaining: 9.42ms\n",
      "997:\tlearn: 0.5756352\ttotal: 3.13s\tremaining: 6.28ms\n",
      "998:\tlearn: 0.5756328\ttotal: 3.13s\tremaining: 3.14ms\n",
      "999:\tlearn: 0.5756274\ttotal: 3.14s\tremaining: 0us\n",
      "CPU times: user 8.33 s, sys: 2.12 s, total: 10.5 s\n",
      "Wall time: 3.45 s\n"
     ]
    },
    {
     "data": {
      "text/plain": "<catboost.core.CatBoostClassifier at 0x7b5fd830b880>"
     },
     "execution_count": 45,
     "metadata": {},
     "output_type": "execute_result"
    }
   ],
   "source": [
    "%%time\n",
    "# задаём имена колонок признаков и таргета\n",
    "features = ['score',\n",
    "            'tracks_total', 'hearing_days', 'tracks_per_day',\n",
    "            'nusers']\n",
    "target = 'target'\n",
    "\n",
    "# создаём Pool\n",
    "train_data = Pool(\n",
    "    data=candidates_for_train[features],\n",
    "    label=candidates_for_train[target])\n",
    "\n",
    "# инициализируем модель CatBoostClassifier\n",
    "cb_model = CatBoostClassifier(\n",
    "    iterations=1000,\n",
    "    learning_rate=0.1,\n",
    "    depth=6,\n",
    "    loss_function='Logloss',\n",
    "    verbose=True,\n",
    "    random_seed=0,\n",
    "    task_type='GPU'\n",
    ")\n",
    "\n",
    "# тренируем модель\n",
    "cb_model.fit(train_data)\n",
    "\n"
   ],
   "metadata": {
    "collapsed": false
   }
  },
  {
   "cell_type": "code",
   "execution_count": 46,
   "outputs": [
    {
     "name": "stdout",
     "output_type": "stream",
     "text": [
      "75136500\n"
     ]
    }
   ],
   "source": [
    "candidates_to_rank = als_recommendations[als_recommendations[\"user_id\"].isin(events_test[\"user_id\"].drop_duplicates())]\n",
    "print(len(candidates_to_rank))\n",
    "candidates_to_rank = candidates_to_rank.merge(user_features_for_train, on=\"user_id\", how=\"left\")\n",
    "candidates_to_rank = candidates_to_rank.merge(item_features_for_train, on=\"item_id\", how=\"left\")"
   ],
   "metadata": {
    "collapsed": false
   }
  },
  {
   "cell_type": "code",
   "execution_count": 47,
   "outputs": [
    {
     "name": "stdout",
     "output_type": "stream",
     "text": [
      "75136500 75136500\n",
      "CPU times: user 1min 45s, sys: 5.4 s, total: 1min 51s\n",
      "Wall time: 1min 1s\n"
     ]
    },
    {
     "data": {
      "text/plain": "          user_id   item_id     score  tracks_total  hearing_days  \\\n29441647   538168  77267347  0.453286           362            53   \n56786220  1039361  41249159  0.195300             9           112   \n12819394   234194  63208015  0.247680            13           238   \n22535876   412125  72737514  0.223510            13           239   \n69300536  1267882  25062866  0.216446            82           266   \n\n          tracks_per_day  nusers  rank  \n29441647        6.830189   14793    16  \n56786220        0.080357   42166    59  \n12819394        0.054622   12290     6  \n22535876        0.054393   21884    20  \n69300536        0.308271   35729    51  ",
      "text/html": "<div>\n<style scoped>\n    .dataframe tbody tr th:only-of-type {\n        vertical-align: middle;\n    }\n\n    .dataframe tbody tr th {\n        vertical-align: top;\n    }\n\n    .dataframe thead th {\n        text-align: right;\n    }\n</style>\n<table border=\"1\" class=\"dataframe\">\n  <thead>\n    <tr style=\"text-align: right;\">\n      <th></th>\n      <th>user_id</th>\n      <th>item_id</th>\n      <th>score</th>\n      <th>tracks_total</th>\n      <th>hearing_days</th>\n      <th>tracks_per_day</th>\n      <th>nusers</th>\n      <th>rank</th>\n    </tr>\n  </thead>\n  <tbody>\n    <tr>\n      <th>29441647</th>\n      <td>538168</td>\n      <td>77267347</td>\n      <td>0.453286</td>\n      <td>362</td>\n      <td>53</td>\n      <td>6.830189</td>\n      <td>14793</td>\n      <td>16</td>\n    </tr>\n    <tr>\n      <th>56786220</th>\n      <td>1039361</td>\n      <td>41249159</td>\n      <td>0.195300</td>\n      <td>9</td>\n      <td>112</td>\n      <td>0.080357</td>\n      <td>42166</td>\n      <td>59</td>\n    </tr>\n    <tr>\n      <th>12819394</th>\n      <td>234194</td>\n      <td>63208015</td>\n      <td>0.247680</td>\n      <td>13</td>\n      <td>238</td>\n      <td>0.054622</td>\n      <td>12290</td>\n      <td>6</td>\n    </tr>\n    <tr>\n      <th>22535876</th>\n      <td>412125</td>\n      <td>72737514</td>\n      <td>0.223510</td>\n      <td>13</td>\n      <td>239</td>\n      <td>0.054393</td>\n      <td>21884</td>\n      <td>20</td>\n    </tr>\n    <tr>\n      <th>69300536</th>\n      <td>1267882</td>\n      <td>25062866</td>\n      <td>0.216446</td>\n      <td>82</td>\n      <td>266</td>\n      <td>0.308271</td>\n      <td>35729</td>\n      <td>51</td>\n    </tr>\n  </tbody>\n</table>\n</div>"
     },
     "execution_count": 47,
     "metadata": {},
     "output_type": "execute_result"
    }
   ],
   "source": [
    "%%time\n",
    "inference_data = Pool(data=candidates_to_rank[features])\n",
    "predictions = cb_model.predict_proba(inference_data)\n",
    "\n",
    "candidates_to_rank[\"score\"] = predictions[:,1]\n",
    "\n",
    "# для каждого пользователя проставим rank, начиная с 1 — это максимальный cb_score\n",
    "candidates_to_rank = candidates_to_rank.sort_values([\"user_id\", \"score\"], ascending=[True, False])\n",
    "candidates_to_rank[\"rank\"] = candidates_to_rank.groupby('user_id').cumcount() + 1\n",
    "\n",
    "max_recommendations_per_user = 100\n",
    "# final_recommendations = candidates_to_rank.query(\"rank >= @max_recommendations_per_user\")\n",
    "final_recommendations = candidates_to_rank\n",
    "\n",
    "final_recommendations.to_parquet('recommendations.parquet')\n",
    "print(len(final_recommendations), len(candidates_to_rank))\n",
    "final_recommendations.sample(5)\n"
   ],
   "metadata": {
    "collapsed": false
   }
  },
  {
   "cell_type": "code",
   "execution_count": 48,
   "outputs": [],
   "source": [
    "def process_events_recs_for_binary_metrics(events_train, events_test, recs, top_k=None):\n",
    "\n",
    "    \"\"\"\n",
    "    размечает пары <user_id, item_id> для общего множества пользователей признаками\n",
    "    - gt (ground truth)\n",
    "    - pr (prediction)\n",
    "    top_k: расчёт ведётся только для top k-рекомендаций\n",
    "    \"\"\"\n",
    "\n",
    "    events_test[\"gt\"] = True\n",
    "    common_users = set(events_test[\"user_id\"]) & set(recs[\"user_id\"])\n",
    "\n",
    "    print(f\"Common users: {len(common_users)}\")\n",
    "\n",
    "    events_for_common_users = events_test[events_test[\"user_id\"].isin(common_users)].copy()\n",
    "    recs_for_common_users = recs[recs[\"user_id\"].isin(common_users)].copy()\n",
    "\n",
    "    recs_for_common_users = recs_for_common_users.sort_values([\"user_id\", \"score\"], ascending=[True, False])\n",
    "\n",
    "    # оставляет только те item_id, которые были в events_train,\n",
    "    # т. к. модель не имела никакой возможности давать рекомендации для новых айтемов\n",
    "    events_for_common_users = events_for_common_users[events_for_common_users[\"item_id\"].isin(events_train[\"item_id\"].unique())]\n",
    "\n",
    "    if top_k is not None:\n",
    "        recs_for_common_users = recs_for_common_users.groupby(\"user_id\").head(top_k)\n",
    "\n",
    "    events_recs_common = events_for_common_users[[\"user_id\", \"item_id\", \"gt\"]].merge(\n",
    "        recs_for_common_users[[\"user_id\", \"item_id\", \"score\"]],\n",
    "        on=[\"user_id\", \"item_id\"], how=\"outer\")\n",
    "\n",
    "    events_recs_common[\"gt\"] = events_recs_common[\"gt\"].fillna(False)\n",
    "    events_recs_common[\"pr\"] = ~events_recs_common[\"score\"].isnull()\n",
    "\n",
    "    events_recs_common[\"tp\"] = events_recs_common[\"gt\"] & events_recs_common[\"pr\"]\n",
    "    events_recs_common[\"fp\"] = ~events_recs_common[\"gt\"] & events_recs_common[\"pr\"]\n",
    "    events_recs_common[\"fn\"] = events_recs_common[\"gt\"] & ~events_recs_common[\"pr\"]\n",
    "\n",
    "    return events_recs_common\n",
    "\n",
    "\n",
    "def compute_cls_metrics(events_recs_for_binary_metric):\n",
    "\n",
    "    groupper = events_recs_for_binary_metric.groupby(\"user_id\")\n",
    "\n",
    "    # precision = tp / (tp + fp)\n",
    "    precision = groupper[\"tp\"].sum()/(groupper[\"tp\"].sum()+groupper[\"fp\"].sum())\n",
    "    precision = precision.fillna(0).mean()\n",
    "\n",
    "    # recall = tp / (tp + fn)\n",
    "    recall = groupper[\"tp\"].sum()/(groupper[\"tp\"].sum()+groupper[\"fn\"].sum())\n",
    "    recall = recall.fillna(0).mean()\n",
    "\n",
    "    return precision, recall\n"
   ],
   "metadata": {
    "collapsed": false
   }
  },
  {
   "cell_type": "markdown",
   "id": "b3c84071-45b5-4a15-a683-e0ab034a3128",
   "metadata": {},
   "source": [
    "# Оценка качества"
   ]
  },
  {
   "cell_type": "markdown",
   "id": "1b107fe4-554e-42b1-87d9-c435a52bb77a",
   "metadata": {},
   "source": [
    "Проверим оценку качества трёх типов рекомендаций: \n",
    "\n",
    "- топ популярных,\n",
    "- персональных, полученных при помощи ALS,\n",
    "- итоговых\n",
    "  \n",
    "по четырем метрикам: recall, precision, coverage, novelty."
   ]
  },
  {
   "cell_type": "code",
   "execution_count": 49,
   "outputs": [
    {
     "name": "stdout",
     "output_type": "stream",
     "text": [
      "Common users: 540276\n"
     ]
    },
    {
     "name": "stderr",
     "output_type": "stream",
     "text": [
      "/tmp/ipykernel_277730/2491400055.py:31: FutureWarning: Downcasting object dtype arrays on .fillna, .ffill, .bfill is deprecated and will change in a future version. Call result.infer_objects(copy=False) instead. To opt-in to the future behavior, set `pd.set_option('future.no_silent_downcasting', True)`\n",
      "  events_recs_common[\"gt\"] = events_recs_common[\"gt\"].fillna(False)\n"
     ]
    },
    {
     "name": "stdout",
     "output_type": "stream",
     "text": [
      "precision: 0.002, recall: 0.004\n",
      "CPU times: user 39.9 s, sys: 3.29 s, total: 43.2 s\n",
      "Wall time: 43.2 s\n"
     ]
    }
   ],
   "source": [
    "%%time\n",
    "#  проверка метрик рекомендаций алгоритма als\n",
    "events_inference = pd.concat([events_train, events_labels])\n",
    "events_inference.target = events_inference.target.fillna(0).astype(int)\n",
    "\n",
    "cb_events_recs_for_binary_metrics_5 = process_events_recs_for_binary_metrics(\n",
    "    events_inference,\n",
    "    events_test_2,\n",
    "    als_recommendations,\n",
    "    top_k=5)\n",
    "cb_events_recs_for_binary_metrics_5.score = cb_events_recs_for_binary_metrics_5.score.fillna(0).astype(int)\n",
    "cb_precision_5, cb_recall_5 = compute_cls_metrics(cb_events_recs_for_binary_metrics_5)\n",
    "\n",
    "print(f\"precision: {cb_precision_5:.3f}, recall: {cb_recall_5:.3f}\")"
   ],
   "metadata": {
    "collapsed": false
   }
  },
  {
   "cell_type": "code",
   "execution_count": 50,
   "outputs": [
    {
     "name": "stdout",
     "output_type": "stream",
     "text": [
      "Common users: 540276\n"
     ]
    },
    {
     "name": "stderr",
     "output_type": "stream",
     "text": [
      "/tmp/ipykernel_277730/2491400055.py:31: FutureWarning: Downcasting object dtype arrays on .fillna, .ffill, .bfill is deprecated and will change in a future version. Call result.infer_objects(copy=False) instead. To opt-in to the future behavior, set `pd.set_option('future.no_silent_downcasting', True)`\n",
      "  events_recs_common[\"gt\"] = events_recs_common[\"gt\"].fillna(False)\n"
     ]
    },
    {
     "name": "stdout",
     "output_type": "stream",
     "text": [
      "precision: 0.006, recall: 0.009\n",
      "CPU times: user 42.9 s, sys: 3.69 s, total: 46.6 s\n",
      "Wall time: 46.6 s\n"
     ]
    }
   ],
   "source": [
    "%%time\n",
    "#  проверка метрик финальных рекомендаций (als + добавленные признаки)\n",
    "events_inference = pd.concat([events_train, events_labels])\n",
    "events_inference.target = events_inference.target.fillna(0).astype(int)\n",
    "\n",
    "cb_events_recs_for_binary_metrics_5 = process_events_recs_for_binary_metrics(\n",
    "    events_inference,\n",
    "    events_test_2,\n",
    "    final_recommendations,\n",
    "    top_k=5)\n",
    "cb_events_recs_for_binary_metrics_5.score = cb_events_recs_for_binary_metrics_5.score.fillna(0).astype(int)\n",
    "cb_precision_5, cb_recall_5 = compute_cls_metrics(cb_events_recs_for_binary_metrics_5)\n",
    "\n",
    "print(f\"precision: {cb_precision_5:.3f}, recall: {cb_recall_5:.3f}\")"
   ],
   "metadata": {
    "collapsed": false
   }
  },
  {
   "cell_type": "code",
   "execution_count": 51,
   "id": "94d6f388-aecb-443e-8647-14014e932d4d",
   "metadata": {},
   "outputs": [
    {
     "data": {
      "text/plain": "100"
     },
     "execution_count": 51,
     "metadata": {},
     "output_type": "execute_result"
    }
   ],
   "source": [
    "top100tracks_train = tracks[tracks.track_id.isin(events_train.item_id.value_counts()[:100].index)]\n",
    "cold_users_events = events_test[events_test[\"user_id\"].isin(cold_users)]\n",
    "cold_users_events[cold_users_events.item_id.isin(top100tracks_train.track_id)].item_id.nunique()\n",
    "# все 100 из top100 трэков слушали \"холодные\" пользователи"
   ]
  },
  {
   "cell_type": "code",
   "execution_count": 52,
   "outputs": [
    {
     "name": "stdout",
     "output_type": "stream",
     "text": [
      "ALS:    0.010321416557081256\n",
      "Final:  0.010072683160545175\n"
     ]
    }
   ],
   "source": [
    "# покрытие\n",
    "print('ALS:   ', als_recommendations.item_id.nunique() / items.track_id.nunique())\n",
    "print('Final: ', final_recommendations.item_id.nunique() / items.track_id.nunique())"
   ],
   "metadata": {
    "collapsed": false
   }
  },
  {
   "cell_type": "markdown",
   "id": "f1c8d38c-32b0-46a4-96f0-cd01dac708bc",
   "metadata": {},
   "source": []
  },
  {
   "cell_type": "code",
   "execution_count": 53,
   "id": "6403097d-db36-46d9-8952-613c9bd51b05",
   "metadata": {},
   "outputs": [
    {
     "name": "stderr",
     "output_type": "stream",
     "text": [
      "/tmp/ipykernel_277730/3556757069.py:4: FutureWarning: Downcasting object dtype arrays on .fillna, .ffill, .bfill is deprecated and will change in a future version. Call result.infer_objects(copy=False) instead. To opt-in to the future behavior, set `pd.set_option('future.no_silent_downcasting', True)`\n",
      "  als_recommendations[\"heard\"] = als_recommendations[\"heard\"].fillna(False).astype(\"bool\")\n"
     ]
    },
    {
     "data": {
      "text/plain": "0.6234245108623976"
     },
     "execution_count": 53,
     "metadata": {},
     "output_type": "execute_result"
    }
   ],
   "source": [
    "#разметим каждую рекомендацию признаком heard\n",
    "events_train[\"heard\"] = True\n",
    "als_recommendations = als_recommendations.merge(events_train, on=[\"user_id\", \"item_id\"], how=\"left\")\n",
    "als_recommendations[\"heard\"] = als_recommendations[\"heard\"].fillna(False).astype(\"bool\")\n",
    "\n",
    "# проставим ранги\n",
    "als_recommendations = als_recommendations.sort_values(by='score', ascending=False)\n",
    "als_recommendations[\"rank\"] = als_recommendations.groupby(\"user_id\").cumcount() + 1\n",
    "\n",
    "# посчитаем novelty по пользователям\n",
    "novelty_5 = (1-als_recommendations.query(\"rank <= 5\").groupby(\"user_id\")[\"heard\"].mean())\n",
    "#\n",
    "# посчитаем средний novelty\n",
    "novelty_5 = novelty_5.mean()\n",
    "novelty_5"
   ]
  },
  {
   "cell_type": "code",
   "execution_count": 54,
   "outputs": [
    {
     "name": "stderr",
     "output_type": "stream",
     "text": [
      "/tmp/ipykernel_277730/1261424542.py:4: FutureWarning: Downcasting object dtype arrays on .fillna, .ffill, .bfill is deprecated and will change in a future version. Call result.infer_objects(copy=False) instead. To opt-in to the future behavior, set `pd.set_option('future.no_silent_downcasting', True)`\n",
      "  final_recommendations[\"heard\"] = final_recommendations[\"heard\"].fillna(False).astype(\"bool\")\n"
     ]
    },
    {
     "data": {
      "text/plain": "0.8097145861199285"
     },
     "execution_count": 54,
     "metadata": {},
     "output_type": "execute_result"
    }
   ],
   "source": [
    "#разметим каждую рекомендацию признаком heard\n",
    "events_train[\"heard\"] = True\n",
    "final_recommendations = final_recommendations.merge(events_train, on=[\"user_id\", \"item_id\"], how=\"left\")\n",
    "final_recommendations[\"heard\"] = final_recommendations[\"heard\"].fillna(False).astype(\"bool\")\n",
    "\n",
    "# проставим ранги\n",
    "final_recommendations = final_recommendations.sort_values(by='score', ascending=False)\n",
    "final_recommendations[\"rank\"] = final_recommendations.groupby(\"user_id\").cumcount() + 1\n",
    "\n",
    "# посчитаем novelty по пользователям\n",
    "novelty_5 = (1-final_recommendations.query(\"rank <= 5\").groupby(\"user_id\")[\"heard\"].mean())\n",
    "#\n",
    "# посчитаем средний novelty\n",
    "novelty_5 = novelty_5.mean()\n",
    "novelty_5"
   ],
   "metadata": {
    "collapsed": false
   }
  },
  {
   "cell_type": "code",
   "execution_count": 61,
   "outputs": [
    {
     "name": "stdout",
     "output_type": "stream",
     "text": [
      "0.4204353174502416\n"
     ]
    },
    {
     "name": "stderr",
     "output_type": "stream",
     "text": [
      "/tmp/ipykernel_277730/1184943834.py:9: DeprecationWarning: DataFrameGroupBy.apply operated on the grouping columns. This behavior is deprecated, and in a future version of pandas the grouping columns will be excluded from the operation. Either pass `include_groups=False` to exclude the groupings or explicitly select the grouping columns after groupby to silence this warning.\n",
      "  ndcg_at_5_scores = als_recommendations[rating_test_idx].groupby('user_id').apply(lambda x: compute_ndcg(x['rating'], x['score'], k=5))\n"
     ]
    }
   ],
   "source": [
    "def compute_ndcg(rating: pd.Series, score: pd.Series, k):\n",
    "    if len(rating) < 2:\n",
    "        return np.nan\n",
    "    ndcg = sklearn.metrics.ndcg_score(np.asarray([rating.to_numpy()]), np.asarray([score.to_numpy()]), k=k)\n",
    "    return ndcg\n",
    "\n",
    "rating_test_idx = ~als_recommendations['score'].isnull()\n",
    "als_recommendations['rating'] = als_recommendations.heard.apply(lambda val: max_als_score if val else 0)\n",
    "ndcg_at_5_scores = als_recommendations[rating_test_idx].groupby('user_id').apply(lambda x: compute_ndcg(x['rating'], x['score'], k=5))\n",
    "print(ndcg_at_5_scores.mean())\n"
   ],
   "metadata": {
    "collapsed": false
   }
  },
  {
   "cell_type": "code",
   "execution_count": 62,
   "outputs": [
    {
     "name": "stdout",
     "output_type": "stream",
     "text": [
      "0.9768117349839414\n",
      "0.19620857080510654\n"
     ]
    },
    {
     "name": "stderr",
     "output_type": "stream",
     "text": [
      "/tmp/ipykernel_277730/2256149172.py:5: DeprecationWarning: DataFrameGroupBy.apply operated on the grouping columns. This behavior is deprecated, and in a future version of pandas the grouping columns will be excluded from the operation. Either pass `include_groups=False` to exclude the groupings or explicitly select the grouping columns after groupby to silence this warning.\n",
      "  ndcg_at_5_scores = final_recommendations[rating_test_idx].groupby('user_id').apply(lambda x: compute_ndcg(x['rating'], x['score'], k=5))\n"
     ]
    }
   ],
   "source": [
    "max_final_score = max(final_recommendations.score)\n",
    "print(max_final_score)\n",
    "rating_test_idx = ~final_recommendations['score'].isnull()\n",
    "final_recommendations['rating'] = final_recommendations.heard.apply(lambda val: max_final_score if val else 0)\n",
    "ndcg_at_5_scores = final_recommendations[rating_test_idx].groupby('user_id').apply(lambda x: compute_ndcg(x['rating'], x['score'], k=5))\n",
    "print(ndcg_at_5_scores.mean())\n"
   ],
   "metadata": {
    "collapsed": false
   }
  },
  {
   "cell_type": "code",
   "execution_count": 55,
   "outputs": [],
   "source": [],
   "metadata": {
    "collapsed": false
   }
  },
  {
   "cell_type": "code",
   "execution_count": 56,
   "id": "986cfdd5-6f2e-4de6-8666-85804c87d04b",
   "metadata": {},
   "outputs": [
    {
     "name": "stdout",
     "output_type": "stream",
     "text": [
      "                       fi\n",
      "nusers          55.606052\n",
      "score           20.781993\n",
      "hearing_days    11.542478\n",
      "tracks_total     7.986961\n",
      "tracks_per_day   4.082517\n"
     ]
    }
   ],
   "source": [
    "# важность признаков\n",
    "feature_importance = pd.DataFrame(cb_model.get_feature_importance(), index=features, columns=[\"fi\"])\n",
    "feature_importance = feature_importance.sort_values(by='fi', ascending=False)\n",
    "print(feature_importance )\n"
   ]
  },
  {
   "cell_type": "markdown",
   "source": [
    " # === Выводы, метрики ===\n"
   ],
   "metadata": {
    "collapsed": false
   }
  },
  {
   "cell_type": "markdown",
   "source": [
    "Основные выводы при работе над расчётом рекомендаций, рассчитанные метрики.\n"
   ],
   "metadata": {
    "collapsed": false
   }
  },
  {
   "cell_type": "markdown",
   "source": [
    "TOP-100 трэков, для холодных пользователей - все оказались в истории холодных пользователей.\n"
   ],
   "metadata": {
    "collapsed": false
   }
  },
  {
   "cell_type": "markdown",
   "source": [
    "Рекомендации ALS:\n",
    "  - Точность@5: 0.002;\n",
    "  - Полнота@5: 0.004;\n",
    "  - Новизна@5:  0.62;\n",
    "  - Покрытие: 0.0103;\n",
    "  - nDCG@5: 0.42"
   ],
   "metadata": {
    "collapsed": false
   }
  },
  {
   "cell_type": "markdown",
   "source": [
    "Итоговая модель:\n",
    "  - Точность@5: 0.006;\n",
    "  - Полнота@5: 0.009;\n",
    "  - Новизна@5: 0.81;\n",
    "  - Покрытие: 0.0101;\n",
    "  - nDCG@5: 0.20"
   ],
   "metadata": {
    "collapsed": false
   }
  },
  {
   "cell_type": "markdown",
   "source": [
    "##### Выводы:\n",
    "\n",
    "Получены персональные рекомендации алгоритмом alternating less squares.\n",
    "Затем были добавлены четыре признака - три для пользователя и один для трэка;\n",
    "далее обучена модель градиентного бустинга на рекомендациях от ALS и этих признаках;\n",
    "затем получены финальные рекомендации от этой модели.\n",
    "\n",
    "У финальных рекомендаций незначительно уменьшилось покрытие,\n",
    "но существенно выше оказались значения по всем остальным метрикам, кроме nDCG.\n",
    "\n"
   ],
   "metadata": {
    "collapsed": false
   }
  }
 ],
 "metadata": {
  "kernelspec": {
   "display_name": "Python 3 (ipykernel)",
   "language": "python",
   "name": "python3"
  },
  "language_info": {
   "codemirror_mode": {
    "name": "ipython",
    "version": 3
   },
   "file_extension": ".py",
   "mimetype": "text/x-python",
   "name": "python",
   "nbconvert_exporter": "python",
   "pygments_lexer": "ipython3",
   "version": "3.9.13"
  }
 },
 "nbformat": 4,
 "nbformat_minor": 5
}
